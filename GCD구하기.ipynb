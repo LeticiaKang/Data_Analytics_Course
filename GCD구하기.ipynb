{
 "cells": [
  {
   "cell_type": "code",
   "execution_count": 6,
   "id": "1509693b",
   "metadata": {},
   "outputs": [
    {
     "data": {
      "text/plain": [
       "int"
      ]
     },
     "execution_count": 6,
     "metadata": {},
     "output_type": "execute_result"
    }
   ],
   "source": [
    "divmod(10,3)\n",
    "type(divmod(10,3)[0])"
   ]
  },
  {
   "cell_type": "code",
   "execution_count": 20,
   "id": "bc6c60e8",
   "metadata": {},
   "outputs": [
    {
     "name": "stdout",
     "output_type": "stream",
     "text": [
      "100,24\n",
      "4\n"
     ]
    }
   ],
   "source": [
    "# a, b = map(int, input().split(\",\"))\n",
    "\n",
    "def GCD():\n",
    "    a, b = map(int, input().split(\",\"))\n",
    "    r_list = []\n",
    "    \n",
    "    if a > b :\n",
    "        (a, b) = (a, b)\n",
    "    else:\n",
    "        (a, b) = (b, a)\n",
    "    \n",
    "    while b != 0:\n",
    "        (a, b) = (b, a % b)\n",
    "        \n",
    "    print(a)\n",
    "\n",
    "GCD()\n",
    "        \n",
    "        \n",
    "        \n",
    "     "
   ]
  },
  {
   "cell_type": "code",
   "execution_count": null,
   "id": "e7071b1b",
   "metadata": {},
   "outputs": [],
   "source": []
  }
 ],
 "metadata": {
  "kernelspec": {
   "display_name": "Python 3 (ipykernel)",
   "language": "python",
   "name": "python3"
  },
  "language_info": {
   "codemirror_mode": {
    "name": "ipython",
    "version": 3
   },
   "file_extension": ".py",
   "mimetype": "text/x-python",
   "name": "python",
   "nbconvert_exporter": "python",
   "pygments_lexer": "ipython3",
   "version": "3.9.12"
  }
 },
 "nbformat": 4,
 "nbformat_minor": 5
}
