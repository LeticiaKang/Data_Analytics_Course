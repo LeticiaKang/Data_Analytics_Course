{
 "cells": [
  {
   "cell_type": "code",
   "execution_count": 103,
   "metadata": {},
   "outputs": [],
   "source": [
    "from selenium import webdriver\n",
    "from webdriver_manager.chrome import ChromeDriverManager\n",
    "from selenium.webdriver.common.action_chains import ActionChains\n",
    "import pandas as pd #엑셀화 판다스\n",
    "import time\n",
    "from selenium.webdriver.common.keys import Keys #키보드\n",
    "from bs4 import BeautifulSoup as bs"
   ]
  },
  {
   "cell_type": "markdown",
   "metadata": {},
   "source": [
    "soup객체화해서 페이지 소스 가져오기"
   ]
  },
  {
   "cell_type": "markdown",
   "metadata": {},
   "source": [
    "기존 방법 대로 soup select하기"
   ]
  },
  {
   "cell_type": "code",
   "execution_count": 104,
   "metadata": {},
   "outputs": [],
   "source": [
    "\n",
    "# for i in news:\n",
    "#     print('https://news.sbs.co.kr/' + i['href'])"
   ]
  },
  {
   "cell_type": "code",
   "execution_count": null,
   "metadata": {},
   "outputs": [],
   "source": []
  },
  {
   "cell_type": "code",
   "execution_count": 105,
   "metadata": {},
   "outputs": [],
   "source": [
    "title_list = []\n",
    "person_list = []\n",
    "\n",
    "url_list = []\n",
    "\n",
    "driver = webdriver.Chrome(ChromeDriverManager().install())\n",
    "driver.get(\"https://news.sbs.co.kr/news/newsflash.do?plink=NEW&cooper=SBSNEWSMAIN\")\n",
    "# 창 최대화 하기\n",
    "driver.maximize_window()\n",
    "\n",
    "try:\n",
    "    for y in range(3,13):\n",
    "        page = driver.find_element_by_xpath(f'//*[@id=\"container\"]/div/div[3]/div/a[{y}]')    \n",
    "        page.click()\n",
    "\n",
    "        soup = bs(driver.page_source, \"lxml\")\n",
    "        news = soup.select('a.news') # 뉴스페이지 가져오기\n",
    "\n",
    "        for x in news:\n",
    "            news_url = 'https://news.sbs.co.kr/' + x['href']\n",
    "            url_list.append(news_url)\n",
    "\n",
    "except:\n",
    "    print(\"더 이상 기사가 없어서 크롤링을 중단합니다.\")\n"
   ]
  },
  {
   "cell_type": "code",
   "execution_count": 106,
   "metadata": {},
   "outputs": [
    {
     "data": {
      "text/plain": [
       "100"
      ]
     },
     "execution_count": 106,
     "metadata": {},
     "output_type": "execute_result"
    }
   ],
   "source": [
    "len(url_list)"
   ]
  },
  {
   "cell_type": "code",
   "execution_count": 117,
   "metadata": {},
   "outputs": [
    {
     "name": "stdout",
     "output_type": "stream",
     "text": [
      "0번째 기자 없음.\n",
      "0번째 기자 없음.\n",
      "0번째 기자 없음.\n",
      "0번째 기자 없음.\n",
      "0번째 기자 없음.\n",
      "0번째 기자 없음.\n"
     ]
    }
   ],
   "source": [
    "url_list = list(url_list)\n",
    "\n",
    "for x in url_list[0:30]:\n",
    "    driver.get(x)\n",
    "    time.sleep(1)\n",
    "    news_soup = bs(driver.page_source, \"lxml\")\n",
    "    driver.back()     \n",
    "    time.sleep(1)\n",
    "\n",
    "    title = news_soup.select('h2.blind.ir') # 제목 가져오기\n",
    "    person = news_soup.select('a.name') # 기자 가져오기\n",
    "    content = news_soup.select('div.text_area')\n",
    "\n",
    "\n",
    "    for i in range(len(title)):\n",
    "        try:\n",
    "            title_list.append(title[i].text)\n",
    "            person_list.append(person[i].text)\n",
    "            content_list.append(content[i].text)\n",
    "        except:\n",
    "            person_list.append(\"\")\n",
    "            print(f\"{i}번째 기자 없음.\")\n",
    "        \n",
    "        \n",
    "    # 페이지 넘기기(1~10) # 다음 버튼 누르기(>)(i = 12)\n",
    "\n",
    "\n"
   ]
  },
  {
   "cell_type": "code",
   "execution_count": 118,
   "metadata": {},
   "outputs": [],
   "source": [
    "import pickle\n",
    "\n",
    "with open(\"news_data_title_2.pkl\", \"wb\") as f: #as f : 파일로 저장한다\n",
    "    pickle.dump(title_list, f)\n",
    "    \n",
    "with open(\"news_data_content_2.pkl\", \"wb\") as f: #as f : 파일로 저장한다\n",
    "    pickle.dump(content_list, f)\n",
    "    \n",
    "with open(\"news_data_person_2.pkl\", \"wb\") as f: #as f : 파일로 저장한다\n",
    "    pickle.dump(person_list, f)"
   ]
  },
  {
   "cell_type": "code",
   "execution_count": 113,
   "metadata": {},
   "outputs": [
    {
     "data": {
      "text/plain": [
       "([\"[영상] 뉴질랜드 '가방 속 아이 시신' 친모 추정 용의자, 혐의 부인\",\n",
       "  '정진석 \"한일 \\'윈윈\\'하는 관계로 거듭나야\"',\n",
       "  \"[영상] 뉴질랜드 '가방 속 아이 시신' 친모 추정 용의자, 혐의 부인\",\n",
       "  '정진석 \"한일 \\'윈윈\\'하는 관계로 거듭나야\"',\n",
       "  '교육부 \"복지 시스템 장애, 대입 영향 없도록 대응\"'],\n",
       " 5)"
      ]
     },
     "execution_count": 113,
     "metadata": {},
     "output_type": "execute_result"
    }
   ],
   "source": [
    "title_list, len(title_list)"
   ]
  },
  {
   "cell_type": "code",
   "execution_count": 114,
   "metadata": {},
   "outputs": [
    {
     "data": {
      "text/plain": [
       "(['송인호 기자', '엄민재 기자', '송인호 기자', '엄민재 기자', '김경희 기자'], 5)"
      ]
     },
     "execution_count": 114,
     "metadata": {},
     "output_type": "execute_result"
    }
   ],
   "source": [
    "person_list, len(person_list)"
   ]
  },
  {
   "cell_type": "code",
   "execution_count": 115,
   "metadata": {},
   "outputs": [
    {
     "data": {
      "text/plain": [
       "(['\\n  뉴질랜드 \\'가방 속 어린이 시신 사건\\'의 용의자인 현지 국적 여성이 울산에서 검거된 후 취재진 질문에 혐의를 부인했습니다.\\n  \\n 검거 직후 울산 중부서에서 대기하다가 오늘(15일) 낮 12시쯤 서울중앙지검으로 인계된 A씨는 혐의 인정 여부와 범행 이유 등을 묻는 취재진에게 \"안 했어요.\"라고 답하며 혐의를 부인했습니다.\\n  \\n 앞서 울산 중부경찰서는 오늘 오전 0시 45분쯤 울산의 한 아파트에서 해당 사건 용의자인 40대 여성 A씨를 붙잡았습니다.\\n  \\n A씨는 2018년께 뉴질랜드 오클랜드에서 각각 7살과 10살의 친자녀 2명을 살해한 혐의를 받고 있습니다.\\n  \\n 이 사건은 올해 8월 11일 뉴질랜드 현지에서 창고 경매로 판매된 여행 가방 속에 아동 2명의 시신이 발견되면서 드러났습니다.\\n  \\n 현지 경찰은 죽은 아동들의 친모이자 한국에서 뉴질랜드에 이민 와 국적을 취득한 A씨를 용의자로 보고 수사를 해왔습니다.\\n  \\n 경찰은 \\'A씨가 용의자와 비슷하다\\'는 첩보를 받고 조사하던 중 A씨가 뉴질랜드에서 한국으로 온 시기와 가족 관련 특이사항 등을 확인하고 잠복근무 끝에 검거했습니다.\\n  \\n 검거 당시 A씨는 별다른 저항 없이 자신의 신원을 말한 것으로 알려졌습니다.\\n  \\n A씨는 입국 후 서울 등지에서 생활하다가 올해 초 울산에 왔으며, 지인 집에서 살고 있던 것으로 추정됩니다.\\n ',\n",
       "  '\\n  국민의힘 정진석 비상대책위원장은 오늘(15일) \"한일 양국이 올바른 미래지향적 관계로 발전해 나가야 한다\"며 \"양국이 처한 엄중한 상황에 대해 성찰하고 \\'윈윈\\'하는 관계로 거듭나야 한다\"고 말했습니다.\\n  \\n 정 위원장은 제주국제컨벤션센터에서 열린 제17회 \\'평화와 번영을 위한 제주포럼\\'에서 한일의원연맹 회장 자격으로 한 한일의원특별세션 개회사를 통해 이같이 밝혔습니다.\\n  \\n 정 위원장은 동북아를 비롯한 국제 정세와 관련해 \"미·중 간의 대립과 러시아-우크라이나 간 전쟁 등으로 국제정세가 꽁꽁 얼어붙고 전 세계적 물가상승 압력 등 경제 불황이 지속되고 있으며, 강대국들은 저마다 내셔널리즘(국가주의)과 자국 실리추구에 여념이 없다\"고 전했습니다.\\n  \\n 특히 \"이런 가운데 북한의 핵과 미사일 위협은 이제 한반도뿐만 아니라 국제적 불안 요소로 다가오고 있는 게 엄연한 현실이다. 북한 김정은은 며칠 전 핵보유국을 법제화했고, 무슨 일이 있어도 핵을 포기하지 않겠다면서 핵 선제공격을 공언했다\"며 \"한일 양국 안보의 큰 틀이 흔들리고 있다\"고 말했습니다.\\n  \\n 정 위원장은 개회사를 시작하면서 \"양국의 국회의원과 전문가들이 머리를 맞대는 장이 마련된 것만으로도 고무적이다. 불과 1년 전만 해도 상상하기 어려운 광경\"이라고 언급, 전임 정부 시절 양국관계를 에둘러 비판하기도 했습니다.\\n ',\n",
       "  '\\n  뉴질랜드 \\'가방 속 어린이 시신 사건\\'의 용의자인 현지 국적 여성이 울산에서 검거된 후 취재진 질문에 혐의를 부인했습니다.\\n  \\n 검거 직후 울산 중부서에서 대기하다가 오늘(15일) 낮 12시쯤 서울중앙지검으로 인계된 A씨는 혐의 인정 여부와 범행 이유 등을 묻는 취재진에게 \"안 했어요.\"라고 답하며 혐의를 부인했습니다.\\n  \\n 앞서 울산 중부경찰서는 오늘 오전 0시 45분쯤 울산의 한 아파트에서 해당 사건 용의자인 40대 여성 A씨를 붙잡았습니다.\\n  \\n A씨는 2018년께 뉴질랜드 오클랜드에서 각각 7살과 10살의 친자녀 2명을 살해한 혐의를 받고 있습니다.\\n  \\n 이 사건은 올해 8월 11일 뉴질랜드 현지에서 창고 경매로 판매된 여행 가방 속에 아동 2명의 시신이 발견되면서 드러났습니다.\\n  \\n 현지 경찰은 죽은 아동들의 친모이자 한국에서 뉴질랜드에 이민 와 국적을 취득한 A씨를 용의자로 보고 수사를 해왔습니다.\\n  \\n 경찰은 \\'A씨가 용의자와 비슷하다\\'는 첩보를 받고 조사하던 중 A씨가 뉴질랜드에서 한국으로 온 시기와 가족 관련 특이사항 등을 확인하고 잠복근무 끝에 검거했습니다.\\n  \\n 검거 당시 A씨는 별다른 저항 없이 자신의 신원을 말한 것으로 알려졌습니다.\\n  \\n A씨는 입국 후 서울 등지에서 생활하다가 올해 초 울산에 왔으며, 지인 집에서 살고 있던 것으로 추정됩니다.\\n ',\n",
       "  '\\n  국민의힘 정진석 비상대책위원장은 오늘(15일) \"한일 양국이 올바른 미래지향적 관계로 발전해 나가야 한다\"며 \"양국이 처한 엄중한 상황에 대해 성찰하고 \\'윈윈\\'하는 관계로 거듭나야 한다\"고 말했습니다.\\n  \\n 정 위원장은 제주국제컨벤션센터에서 열린 제17회 \\'평화와 번영을 위한 제주포럼\\'에서 한일의원연맹 회장 자격으로 한 한일의원특별세션 개회사를 통해 이같이 밝혔습니다.\\n  \\n 정 위원장은 동북아를 비롯한 국제 정세와 관련해 \"미·중 간의 대립과 러시아-우크라이나 간 전쟁 등으로 국제정세가 꽁꽁 얼어붙고 전 세계적 물가상승 압력 등 경제 불황이 지속되고 있으며, 강대국들은 저마다 내셔널리즘(국가주의)과 자국 실리추구에 여념이 없다\"고 전했습니다.\\n  \\n 특히 \"이런 가운데 북한의 핵과 미사일 위협은 이제 한반도뿐만 아니라 국제적 불안 요소로 다가오고 있는 게 엄연한 현실이다. 북한 김정은은 며칠 전 핵보유국을 법제화했고, 무슨 일이 있어도 핵을 포기하지 않겠다면서 핵 선제공격을 공언했다\"며 \"한일 양국 안보의 큰 틀이 흔들리고 있다\"고 말했습니다.\\n  \\n 정 위원장은 개회사를 시작하면서 \"양국의 국회의원과 전문가들이 머리를 맞대는 장이 마련된 것만으로도 고무적이다. 불과 1년 전만 해도 상상하기 어려운 광경\"이라고 언급, 전임 정부 시절 양국관계를 에둘러 비판하기도 했습니다.\\n ',\n",
       "  '\\n  차세대 사회보장정보시스템이 장애를 일으킨 가운데 교육부가 2023학년도 대학입학 수시 모집 지원에 문제가 없도록 대학 등과 함께 대응하고 있다고 밝혔습니다.\\n  \\n 지난 13일부터 모레까지 진행되는 2023학년도 대입 수시모집에서 기회균형 전형에 필요한 기초생활수급자증명서, 한부모가족증명서, 장애인증명서 등은 사회보장정보시스템과 연계돼 있기 때문입니다.\\n  \\n 교육부는 한국대학교육협의회에 차세대 사회보장정보시스템 장애로 인해 각종 민원서류가 원활하게 발급되지 않고 있는 상황을 공문으로 안내했다고 밝혔습니다.\\n  \\n 또 각 대학에 시스템 장애로 인해 수급자증명서 발급이 불가능한 경우에는 제출서류 접수 기한 연장을 검토해줄 것을 요청했다고 설명했습니다.\\n  \\n 교육부는 \"각 대학에서 서류 접수 일정에 참고할 수 있도록 보건복지부에 구체적인 조치 일정 공유를 요청했으며 일정을 전달받는 즉시 각 대학에도 전파할 예정\"이라고 밝혔습니다.\\n  \\n (사진=연합뉴스)\\n '],\n",
       " 5)"
      ]
     },
     "execution_count": 115,
     "metadata": {},
     "output_type": "execute_result"
    }
   ],
   "source": [
    "content_list, len(content_list)"
   ]
  },
  {
   "cell_type": "markdown",
   "metadata": {},
   "source": [
    "Find_all 사용"
   ]
  },
  {
   "cell_type": "code",
   "execution_count": 110,
   "metadata": {},
   "outputs": [],
   "source": [
    "# news_2 = soup.find_all('a', class_ = 'news')\n",
    "# for i in news_2:\n",
    "#     print('https://news.sbs.co.kr/' + i['href'])"
   ]
  },
  {
   "cell_type": "code",
   "execution_count": null,
   "metadata": {},
   "outputs": [],
   "source": []
  }
 ],
 "metadata": {
  "kernelspec": {
   "display_name": "Python 3.9.12 ('base')",
   "language": "python",
   "name": "python3"
  },
  "language_info": {
   "codemirror_mode": {
    "name": "ipython",
    "version": 3
   },
   "file_extension": ".py",
   "mimetype": "text/x-python",
   "name": "python",
   "nbconvert_exporter": "python",
   "pygments_lexer": "ipython3",
   "version": "3.9.12"
  },
  "orig_nbformat": 4,
  "vscode": {
   "interpreter": {
    "hash": "49e04899c6e094c3b61dd8509fde2649571811ca1eef12c1c216e72ad0930740"
   }
  }
 },
 "nbformat": 4,
 "nbformat_minor": 2
}
