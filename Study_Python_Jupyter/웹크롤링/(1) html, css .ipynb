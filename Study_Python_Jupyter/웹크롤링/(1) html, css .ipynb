{
 "cells": [
  {
   "cell_type": "code",
   "execution_count": 706,
   "id": "f9457713",
   "metadata": {},
   "outputs": [],
   "source": [
    "from tqdm import tqdm_notebook as tqdm"
   ]
  },
  {
   "cell_type": "code",
   "execution_count": 707,
   "id": "465a22b9",
   "metadata": {},
   "outputs": [],
   "source": [
    "import requests as req"
   ]
  },
  {
   "cell_type": "markdown",
   "id": "b89f8c44",
   "metadata": {},
   "source": [
    "200 : 성공"
   ]
  },
  {
   "cell_type": "code",
   "execution_count": 708,
   "id": "f57a1ae8",
   "metadata": {},
   "outputs": [
    {
     "data": {
      "text/plain": [
       "<Response [200]>"
      ]
     },
     "execution_count": 708,
     "metadata": {},
     "output_type": "execute_result"
    }
   ],
   "source": [
    "res = req.get('http://naver.com')\n",
    "res"
   ]
  },
  {
   "cell_type": "markdown",
   "id": "67d19a60",
   "metadata": {},
   "source": [
    "html을 text로 받아오기"
   ]
  },
  {
   "cell_type": "markdown",
   "id": "f02e9b9a",
   "metadata": {},
   "source": [
    "requets라이브러리를 활용하여 melon사이트 데이터 요청하기\n",
    "- 406오류 : 허가되지 않은 접근"
   ]
  },
  {
   "cell_type": "code",
   "execution_count": 709,
   "id": "ac15661b",
   "metadata": {},
   "outputs": [
    {
     "data": {
      "text/plain": [
       "<Response [406]>"
      ]
     },
     "execution_count": 709,
     "metadata": {},
     "output_type": "execute_result"
    }
   ],
   "source": [
    "res = req.get('https://www.melon.com/')\n",
    "res"
   ]
  },
  {
   "cell_type": "code",
   "execution_count": 710,
   "id": "f11607ae",
   "metadata": {},
   "outputs": [],
   "source": [
    "header = {'User-Agent' : 'Mozilla/5.0 (Windows NT 10.0; Win64; x64) AppleWebKit/537.36 (KHTML, like Gecko) Chrome/105.0.0.0 Safari/537.36'}"
   ]
  },
  {
   "cell_type": "code",
   "execution_count": 711,
   "id": "c0367d32",
   "metadata": {},
   "outputs": [],
   "source": [
    "res = req.get(\"https://www.melon.com/\", headers = header)"
   ]
  },
  {
   "cell_type": "markdown",
   "id": "8c1e4a8a",
   "metadata": {},
   "source": [
    "header의 속성에 변수를 선언해줌"
   ]
  },
  {
   "cell_type": "code",
   "execution_count": 712,
   "id": "1ca66dbe",
   "metadata": {},
   "outputs": [
    {
     "data": {
      "text/plain": [
       "<Response [200]>"
      ]
     },
     "execution_count": 712,
     "metadata": {},
     "output_type": "execute_result"
    }
   ],
   "source": [
    "res\n",
    "# res.text"
   ]
  },
  {
   "cell_type": "code",
   "execution_count": 713,
   "id": "b6ff37c1",
   "metadata": {},
   "outputs": [],
   "source": [
    "from bs4 import BeautifulSoup as bs"
   ]
  },
  {
   "cell_type": "code",
   "execution_count": 714,
   "id": "47af491e",
   "metadata": {},
   "outputs": [
    {
     "name": "stdout",
     "output_type": "stream",
     "text": [
      "1위 After LIKE / ['IVE (아이브)'] / After LIKE\n",
      "2위 Attention / ['NewJeans'] / NewJeans 1st EP 'New Jeans'\n",
      "3위 Pink Venom / ['BLACKPINK'] / Pink Venom\n",
      "4위 Hype boy / ['NewJeans'] / NewJeans 1st EP 'New Jeans'\n",
      "5위 LOVE DIVE / ['IVE (아이브)'] / LOVE DIVE\n",
      "6위 FOREVER 1 / [\"소녀시대 (GIRLS' GENERATION)\"] / FOREVER 1 - The 7th Album\n",
      "7위 그때 그 순간 그대로 (그그그) / ['WSG워너비 (가야G)'] / WSG워너비 1집\n",
      "8위 Cookie / ['NewJeans'] / NewJeans 1st EP 'New Jeans'\n",
      "9위 새삥 (Prod. ZICO) (Feat. 호미들) / ['지코 (ZICO)'] / 스트릿 맨 파이터(SMF) Original Vol.3 (계급미션)\n",
      "10위 보고싶었어 / ['WSG워너비 (4FIRE)'] / WSG워너비 1집\n",
      "11위 사랑은 늘 도망가 / ['임영웅'] / 신사와 아가씨 OST Part.2\n",
      "12위 SNEAKERS / ['ITZY (있지)'] / CHECKMATE\n",
      "13위 우리들의 블루스 / ['임영웅'] / IM HERO\n",
      "14위 그라데이션 / ['10CM'] / 5.3\n",
      "15위 TOMBOY / ['(여자)아이들'] / I NEVER DIE\n",
      "16위 정이라고 하자 (Feat. 10CM) / ['BIG Naughty (서동현)'] / 정이라고 하자\n",
      "17위 POP! / ['나연 (TWICE)'] / IM NAYEON\n",
      "18위 사랑인가 봐 / ['멜로망스'] / 사랑인가 봐 (사내맞선 OST 스페셜 트랙)\n",
      "19위 다시 만날 수 있을까 / ['임영웅'] / IM HERO\n",
      "20위 나의 X에게 / ['경서'] / 나의 X에게\n",
      "21위 도깨비불 (Illusion) / ['aespa'] / Girls - The 2nd Mini Album\n",
      "22위 That That (prod. & feat. SUGA of BTS) / ['싸이 (PSY)'] / 싸다9\n",
      "23위 내가 아니라도 / ['주호'] / 내가 아니라도\n",
      "24위 이제 나만 믿어요 / ['임영웅'] / 내일은 미스터트롯 우승자 특전곡\n",
      "25위 ELEVEN / ['IVE (아이브)'] / ELEVEN\n",
      "26위 무지개 / ['임영웅'] / IM HERO\n",
      "27위 FEARLESS / ['LE SSERAFIM (르세라핌)'] / FEARLESS\n",
      "28위 내 기쁨은 너가 벤틀리를 끄는 거야 / ['김승민'] / PROTOTYPE RESEARCH #0063\n",
      "29위 아버지 / ['임영웅'] / IM HERO\n",
      "30위 해요 (2022) / ['#안녕'] / 해요 (2022)\n",
      "31위 Talk that Talk / ['TWICE (트와이스)'] / BETWEEN 1&2\n",
      "32위 Love story / ['볼빨간사춘기'] / Seoul\n",
      "33위 A bientot / ['임영웅'] / IM HERO\n",
      "34위 Girls / ['aespa'] / Girls - The 2nd Mini Album\n",
      "35위 손이 참 곱던 그대 / ['임영웅'] / IM HERO\n",
      "36위 LAW (Prod. Czaer) / ['윤미래', '비비 (BIBI)'] / 스트릿 맨 파이터(SMF) Original Vol.3 (계급미션)\n",
      "37위 LOVE me / [\"BE'O (비오)\"] / LOVE me\n",
      "38위 사랑해 진짜 / ['임영웅'] / IM HERO\n",
      "39위 인생찬가 / ['임영웅'] / IM HERO\n",
      "40위 취중고백 / ['김민석 (멜로망스)'] / 취중고백\n",
      "41위 사랑한다고 말해줘 / ['탑현'] / 사랑한다고 말해줘\n",
      "42위 통화연결음 / ['보라미유', 'MJ (써니사이드)'] / 통화연결음\n",
      "43위 That's Hilarious / ['Charlie Puth'] / Smells Like Me\n",
      "44위 연애편지 / ['임영웅'] / IM HERO\n",
      "45위 봄여름가을겨울 (Still Life) / ['BIGBANG (빅뱅)'] / 봄여름가을겨울 (Still Life)\n",
      "46위 너의 모든 순간 / ['성시경'] / 별에서 온 그대 OST Part.7\n",
      "47위 다정히 내 이름을 부르면 / ['경서예지', '전건호'] / 다정히 내 이름을 부르면 (경서예지 x 전건호)\n",
      "48위 사랑역 / ['임영웅'] / IM HERO\n",
      "49위 보금자리 / ['임영웅'] / IM HERO\n",
      "50위 사랑해요 그대를 / ['임영웅'] / IM HERO\n"
     ]
    }
   ],
   "source": [
    "header = {'User-Agent' : 'Mozilla/5.0 (Windows NT 10.0; Win64; x64) AppleWebKit/537.36 (KHTML, like Gecko) Chrome/105.0.0.0 Safari/537.36'}\n",
    " \n",
    "url = \"https://www.melon.com/chart/index.htm\"\n",
    "res = req.get(url, headers=header).text\n",
    "# get함수로 raw데이터 가져오기\n",
    "soup = bs(res, \"lxml\")\n",
    "# request로 가져온 데이터를 분석할 수 있게 객체화 시킴, \n",
    "# BeautifulSoup(html, 'html.parser') -> 해당 문자열의 종류 : html 등 , 파서의 종류 지정 : html.parser or lxml \n",
    "\n",
    "# < CSS selector를 통해 tag 객체를 찾아 반환, hrml.parser를 통해 객체화 선행 후 진행>\n",
    "song_name = soup.select(\"#lst50 > td > div > div > div.ellipsis.rank01 > span > a\")\n",
    "artist_name = soup.select(\"#frm > div > table > tbody > tr > td > div > div > div.ellipsis.rank02 > a\")\n",
    "album_name = soup.select(\"#lst50 > td > div > div > div.ellipsis.rank03 > a\")\n",
    "# 태그를 찾아오는 명령어\n",
    "# 특정tag의 하위tag를 \" > \"를 통해 명시함\n",
    "# 특정tag와 class, 온점을 통해 태그와 클래스 이름 분리 ex) div.ellipsis.rank01\n",
    "\n",
    "artist_name = soup.select(\"#frm > div > table > tbody > tr > td > div > div > div.ellipsis.rank02\")\n",
    " \n",
    "for i in range(len(artist_name)):\n",
    "    artist_name[i] = artist_name[i].select(\"div > a\")\n",
    "    for j in range(len(artist_name[i])):\n",
    "        artist_name[i][j] = artist_name[i][j].text\n",
    "\n",
    "for i in range(len(song_name)):\n",
    "    song_name[i] = song_name[i].text\n",
    "    \n",
    "for i in range(len(album_name)):\n",
    "    album_name[i] = album_name[i].text\n",
    "    \n",
    "for i in range(len(album_name)):\n",
    "    print(f'{i+1}위 {song_name[i]} / {artist_name[i]} / {album_name[i]}')"
   ]
  },
  {
   "cell_type": "markdown",
   "id": "1a532b17",
   "metadata": {},
   "source": [
    "실습"
   ]
  },
  {
   "cell_type": "code",
   "execution_count": 715,
   "id": "513c73c8",
   "metadata": {},
   "outputs": [
    {
     "name": "stdout",
     "output_type": "stream",
     "text": [
      "메일\n",
      "카페\n",
      "블로그\n",
      "지식iN\n",
      "쇼핑\n",
      "쇼핑LIVE\n",
      "Pay\n",
      "TV\n",
      "사전\n",
      "뉴스\n",
      "증권\n",
      "부동산\n",
      "지도\n",
      "VIBE\n",
      "도서\n",
      "웹툰\n"
     ]
    }
   ],
   "source": [
    "res = req.get(\"http://www.naver.com\")\n",
    "soup = bs(res.text, \"html.parser\")\n",
    "\n",
    "soup_naver = soup.select(\"a.nav\")\n",
    "for soup_naver_element in soup_naver:\n",
    "    print(soup_naver_element.text)\n"
   ]
  },
  {
   "cell_type": "code",
   "execution_count": 716,
   "id": "376cf399",
   "metadata": {},
   "outputs": [
    {
     "name": "stdout",
     "output_type": "stream",
     "text": [
      "1위 : KODEX 200선물인버스2X\n",
      "2위 : 삼성 인버스 2X WTI원유 선물 ETN\n",
      "3위 : KODEX 인버스\n",
      "4위 : KODEX 코스닥150선물인버스\n",
      "5위 : KODEX 레버리지\n",
      "6위 : 삼성전자\n",
      "7위 : 신한 인버스 2X 천연가스 선물 ETN\n",
      "8위 : KODEX 코스닥150레버리지\n",
      "9위 : 금양\n",
      "10위 : 세원이앤씨\n",
      "11위 : 신한 인버스 2X 천연가스 선물 ETN(H)\n",
      "12위 : 신한 인버스 2X WTI원유 선물 ETN(H)\n",
      "13위 : 대창\n",
      "14위 : 대한전선\n",
      "15위 : HLB글로벌\n",
      "16위 : 현대로템\n",
      "17위 : 혜인\n",
      "18위 : 팬오션\n",
      "19위 : TRUE 인버스 2X 천연가스 선물 ETN(H)\n",
      "20위 : 에스엠벡셀\n",
      "21위 : 신성이엔지\n",
      "22위 : 두산에너빌리티\n",
      "23위 : 한국항공우주\n",
      "24위 : 한화솔루션\n",
      "25위 : 조일알미늄\n",
      "26위 : 쌍방울\n",
      "27위 : 이수화학\n",
      "28위 : 동국제강\n",
      "29위 : 대원화성\n",
      "30위 : KODEX 200\n",
      "31위 : HMM\n",
      "32위 : 동양\n",
      "33위 : 한화에어로스페이스\n",
      "34위 : 코스모화학\n",
      "35위 : TIGER 200선물인버스2X\n",
      "36위 : 다스코\n",
      "37위 : SK하이닉스\n",
      "38위 : 삼성 레버리지 WTI원유 선물 ETN\n",
      "39위 : 카카오뱅크\n",
      "40위 : TIGER 차이나전기차SOLACTIVE\n",
      "41위 : TIGER 원유선물인버스(H)\n",
      "42위 : 삼성중공업\n",
      "43위 : 우리금융지주\n",
      "44위 : 하이스틸\n",
      "45위 : 수산중공업\n",
      "46위 : 한화생명\n",
      "47위 : 현대제철\n",
      "48위 : KODEX 코스닥150\n",
      "49위 : QV 인버스 레버리지 WTI원유 선물 ETN(H)\n",
      "50위 : KODEX WTI원유선물인버스(H)\n",
      "51위 : 이스타코\n",
      "52위 : 에이프로젠\n",
      "53위 : KEC\n",
      "54위 : KODEX 2차전지산업\n",
      "55위 : 카카오\n",
      "56위 : KODEX 미국나스닥100레버리지(합성 H)\n",
      "57위 : 미래아이앤지\n",
      "58위 : 베트남개발1\n",
      "59위 : 한미글로벌\n",
      "60위 : 현대두산인프라코어\n",
      "61위 : 이구산업\n",
      "62위 : BNK금융지주\n",
      "63위 : 하나금융지주\n",
      "64위 : 제이알글로벌리츠\n",
      "65위 : 후성\n",
      "66위 : 대한해운\n",
      "67위 : 삼부토건\n",
      "68위 : KG스틸\n",
      "69위 : 대우건설\n",
      "70위 : 삼성엔지니어링\n",
      "71위 : 신한지주\n",
      "72위 : TYM\n",
      "73위 : SH에너지화학\n",
      "74위 : KODEX 미국달러선물인버스2X\n",
      "75위 : 한창\n",
      "76위 : GS글로벌\n",
      "77위 : 대한항공\n",
      "78위 : TIGER 단기통안채\n",
      "79위 : KB금융\n",
      "80위 : 신한 레버리지 WTI원유 선물 ETN(H)\n",
      "81위 : TRUE 인버스 2X 나스닥 100 ETN\n",
      "82위 : TIGER 미국필라델피아반도체나스닥\n",
      "83위 : 기아\n",
      "84위 : 신원\n",
      "85위 : 사조동아원\n",
      "86위 : 휴스틸\n",
      "87위 : NI스틸\n",
      "88위 : TIGER 미국S&P500\n",
      "89위 : 도화엔지니어링\n",
      "90위 : TIGER 인버스\n",
      "91위 : 진원생명과학\n",
      "92위 : 미래에셋증권\n",
      "93위 : 서울식품\n",
      "94위 : 보령\n",
      "95위 : 삼성전자우\n",
      "96위 : 제주은행\n",
      "97위 : 포스코케미칼\n",
      "98위 : 동양철관\n",
      "99위 : 기업은행\n",
      "100위 : LG디스플레이\n"
     ]
    }
   ],
   "source": [
    "res = req.get(\"https://finance.naver.com/sise/sise_quant.naver\")\n",
    "soup = bs(res.text, \"html.parser\")\n",
    "\n",
    "sotck_name_list = soup.select(\"a.tltle\")\n",
    "\n",
    "num = 0\n",
    "stock_list = []\n",
    "for sotck_name in sotck_name_list:\n",
    "    num += 1\n",
    "    stock_list.append(sotck_name.text)\n",
    "    print(f\"{num}위 : {sotck_name.text}\")"
   ]
  },
  {
   "cell_type": "code",
   "execution_count": 717,
   "id": "1c59cf99",
   "metadata": {},
   "outputs": [
    {
     "name": "stdout",
     "output_type": "stream",
     "text": [
      "1위 KODEX 200선물인버스2X - 현재가 : 3,050\n",
      "2위 삼성 인버스 2X WTI원유 선물 ETN - 현재가 : \n",
      "\n",
      "\t\t\t\t205\n",
      "\t\t\t\t\n",
      "\n",
      "3위 KODEX 인버스 - 현재가 : \n",
      "\n",
      "\t\t\t\t-6.30%\n",
      "\t\t\t\t\n",
      "\n",
      "4위 KODEX 코스닥150선물인버스 - 현재가 : 183,240,781\n",
      "5위 KODEX 레버리지 - 현재가 : 565,314\n",
      "6위 삼성전자 - 현재가 : 3,045\n",
      "7위 신한 인버스 2X 천연가스 선물 ETN - 현재가 : 3,050\n",
      "8위 KODEX 코스닥150레버리지 - 현재가 : 20,469\n",
      "9위 금양 - 현재가 : N/A\n",
      "10위 세원이앤씨 - 현재가 : N/A\n",
      "11위 신한 인버스 2X 천연가스 선물 ETN(H) - 현재가 : 140\n",
      "12위 신한 인버스 2X WTI원유 선물 ETN(H) - 현재가 : \n",
      "\n",
      "\t\t\t\t15\n",
      "\t\t\t\t\n",
      "\n",
      "13위 대창 - 현재가 : \n",
      "\n",
      "\t\t\t\t-9.68%\n",
      "\t\t\t\t\n",
      "\n",
      "14위 대한전선 - 현재가 : 42,593,661\n",
      "15위 HLB글로벌 - 현재가 : 5,966\n",
      "16위 현대로템 - 현재가 : 135\n",
      "17위 혜인 - 현재가 : 140\n",
      "18위 팬오션 - 현재가 : 2,096\n",
      "19위 TRUE 인버스 2X 천연가스 선물 ETN(H) - 현재가 : N/A\n",
      "20위 에스엠벡셀 - 현재가 : N/A\n",
      "21위 신성이엔지 - 현재가 : 4,830\n",
      "22위 두산에너빌리티 - 현재가 : \n",
      "\n",
      "\t\t\t\t155\n",
      "\t\t\t\t\n",
      "\n",
      "23위 한국항공우주 - 현재가 : \n",
      "\n",
      "\t\t\t\t-3.11%\n",
      "\t\t\t\t\n",
      "\n",
      "24위 한화솔루션 - 현재가 : 27,782,240\n",
      "25위 조일알미늄 - 현재가 : 134,809\n",
      "26위 쌍방울 - 현재가 : 4,825\n",
      "27위 이수화학 - 현재가 : 4,830\n",
      "28위 동국제강 - 현재가 : 8,588\n",
      "29위 대원화성 - 현재가 : N/A\n",
      "30위 KODEX 200 - 현재가 : N/A\n",
      "31위 HMM - 현재가 : 4,835\n",
      "32위 동양 - 현재가 : \n",
      "\n",
      "\t\t\t\t145\n",
      "\t\t\t\t\n",
      "\n",
      "33위 한화에어로스페이스 - 현재가 : \n",
      "\n",
      "\t\t\t\t-2.91%\n",
      "\t\t\t\t\n",
      "\n",
      "34위 코스모화학 - 현재가 : 27,369,622\n",
      "35위 TIGER 200선물인버스2X - 현재가 : 132,546\n",
      "36위 다스코 - 현재가 : 4,835\n",
      "37위 SK하이닉스 - 현재가 : 4,840\n",
      "38위 삼성 레버리지 WTI원유 선물 ETN - 현재가 : 4,646\n",
      "39위 카카오뱅크 - 현재가 : N/A\n",
      "40위 TIGER 차이나전기차SOLACTIVE - 현재가 : N/A\n",
      "41위 TIGER 원유선물인버스(H) - 현재가 : 15,170\n",
      "42위 삼성중공업 - 현재가 : \n",
      "\n",
      "\t\t\t\t890\n",
      "\t\t\t\t\n",
      "\n",
      "43위 우리금융지주 - 현재가 : \n",
      "\n",
      "\t\t\t\t+6.23%\n",
      "\t\t\t\t\n",
      "\n",
      "44위 하이스틸 - 현재가 : 23,802,454\n",
      "45위 수산중공업 - 현재가 : 357,348\n",
      "46위 한화생명 - 현재가 : 15,180\n",
      "47위 현대제철 - 현재가 : 15,185\n",
      "48위 KODEX 코스닥150 - 현재가 : 21,837\n",
      "49위 QV 인버스 레버리지 WTI원유 선물 ETN(H) - 현재가 : N/A\n",
      "50위 KODEX WTI원유선물인버스(H) - 현재가 : N/A\n",
      "51위 이스타코 - 현재가 : 58,100\n",
      "52위 에이프로젠 - 현재가 : \n",
      "\n",
      "\t\t\t\t2,500\n",
      "\t\t\t\t\n",
      "\n",
      "53위 KEC - 현재가 : \n",
      "\n",
      "\t\t\t\t+4.50%\n",
      "\t\t\t\t\n",
      "\n",
      "54위 KODEX 2차전지산업 - 현재가 : 16,889,084\n",
      "55위 카카오 - 현재가 : 975,130\n",
      "56위 KODEX 미국나스닥100레버리지(합성 H) - 현재가 : 58,400\n",
      "57위 미래아이앤지 - 현재가 : 58,500\n",
      "58위 베트남개발1 - 현재가 : 3,468,444\n",
      "59위 한미글로벌 - 현재가 : 8.81\n",
      "60위 현대두산인프라코어 - 현재가 : 13.92\n",
      "61위 이구산업 - 현재가 : 165\n",
      "62위 BNK금융지주 - 현재가 : \n",
      "\n",
      "\t\t\t\t25\n",
      "\t\t\t\t\n",
      "\n",
      "63위 하나금융지주 - 현재가 : \n",
      "\n",
      "\t\t\t\t-13.16%\n",
      "\t\t\t\t\n",
      "\n",
      "64위 제이알글로벌리츠 - 현재가 : 13,987,215\n",
      "65위 후성 - 현재가 : 2,290\n",
      "66위 대한해운 - 현재가 : 160\n",
      "67위 삼부토건 - 현재가 : 165\n",
      "68위 KG스틸 - 현재가 : 569\n",
      "69위 대우건설 - 현재가 : N/A\n",
      "70위 삼성엔지니어링 - 현재가 : N/A\n",
      "71위 신한지주 - 현재가 : 8,860\n",
      "72위 TYM - 현재가 : \n",
      "\n",
      "\t\t\t\t500\n",
      "\t\t\t\t\n",
      "\n",
      "73위 SH에너지화학 - 현재가 : \n",
      "\n",
      "\t\t\t\t+5.98%\n",
      "\t\t\t\t\n",
      "\n",
      "74위 KODEX 미국달러선물인버스2X - 현재가 : 13,117,002\n",
      "75위 한창 - 현재가 : 116,030\n",
      "76위 GS글로벌 - 현재가 : 8,835\n",
      "77위 대한항공 - 현재가 : 8,840\n",
      "78위 TIGER 단기통안채 - 현재가 : 9,073\n",
      "79위 KB금융 - 현재가 : N/A\n",
      "80위 신한 레버리지 WTI원유 선물 ETN(H) - 현재가 : N/A\n",
      "81위 TRUE 인버스 2X 나스닥 100 ETN - 현재가 : 17,700\n",
      "82위 TIGER 미국필라델피아반도체나스닥 - 현재가 : \n",
      "\n",
      "\t\t\t\t250\n",
      "\t\t\t\t\n",
      "\n",
      "83위 기아 - 현재가 : \n",
      "\n",
      "\t\t\t\t+1.43%\n",
      "\t\t\t\t\n",
      "\n",
      "84위 신원 - 현재가 : 11,576,349\n",
      "85위 사조동아원 - 현재가 : 197,687\n",
      "86위 휴스틸 - 현재가 : 17,650\n",
      "87위 NI스틸 - 현재가 : 17,700\n",
      "88위 TIGER 미국S&P500 - 현재가 : 10,192\n",
      "89위 도화엔지니어링 - 현재가 : 57.10\n",
      "90위 TIGER 인버스 - 현재가 : 13.57\n",
      "91위 진원생명과학 - 현재가 : 796\n",
      "92위 미래에셋증권 - 현재가 : \n",
      "\n",
      "\t\t\t\t22\n",
      "\t\t\t\t\n",
      "\n",
      "93위 서울식품 - 현재가 : \n",
      "\n",
      "\t\t\t\t+2.84%\n",
      "\t\t\t\t\n",
      "\n",
      "94위 보령 - 현재가 : 10,797,752\n",
      "95위 삼성전자우 - 현재가 : 8,655\n",
      "96위 제주은행 - 현재가 : 795\n",
      "97위 포스코케미칼 - 현재가 : 796\n",
      "98위 동양철관 - 현재가 : 1,413\n",
      "99위 기업은행 - 현재가 : -13.49\n",
      "100위 LG디스플레이 - 현재가 : -1.44\n"
     ]
    }
   ],
   "source": [
    "stock_price_selector = soup.select(\"td.number\")\n",
    "stock_price_text = []\n",
    "for i in stock_price_selector:\n",
    "    stock_price_text.append(i.text)\n",
    "\n",
    "num = 0\n",
    "stock_price_list = []\n",
    "while num < 1000:\n",
    "    stock_price_list.append(stock_price_text[num])\n",
    "    num+=10\n",
    "\n",
    "for x in range(100):\n",
    "    stock_name = stock_list[x]\n",
    "    stock_price = stock_price_text[x]\n",
    "    print(f\"{x+1}위 {stock_name} - 현재가 : {stock_price}\")"
   ]
  },
  {
   "cell_type": "code",
   "execution_count": 718,
   "id": "6835b5ad",
   "metadata": {
    "scrolled": false
   },
   "outputs": [],
   "source": [
    "import pandas as pd"
   ]
  },
  {
   "cell_type": "code",
   "execution_count": 719,
   "id": "31909805",
   "metadata": {},
   "outputs": [
    {
     "name": "stdout",
     "output_type": "stream",
     "text": [
      "100\n",
      "100\n"
     ]
    }
   ],
   "source": [
    "print(len(stock_price_list)) \n",
    "print(len(stock_list))"
   ]
  },
  {
   "cell_type": "code",
   "execution_count": 720,
   "id": "1a75c649",
   "metadata": {},
   "outputs": [
    {
     "data": {
      "text/html": [
       "<div>\n",
       "<style scoped>\n",
       "    .dataframe tbody tr th:only-of-type {\n",
       "        vertical-align: middle;\n",
       "    }\n",
       "\n",
       "    .dataframe tbody tr th {\n",
       "        vertical-align: top;\n",
       "    }\n",
       "\n",
       "    .dataframe thead th {\n",
       "        text-align: right;\n",
       "    }\n",
       "</style>\n",
       "<table border=\"1\" class=\"dataframe\">\n",
       "  <thead>\n",
       "    <tr style=\"text-align: right;\">\n",
       "      <th></th>\n",
       "      <th>종목명</th>\n",
       "      <th>현재가</th>\n",
       "    </tr>\n",
       "  </thead>\n",
       "  <tbody>\n",
       "    <tr>\n",
       "      <th>0</th>\n",
       "      <td>KODEX 200선물인버스2X</td>\n",
       "      <td>3,050</td>\n",
       "    </tr>\n",
       "    <tr>\n",
       "      <th>1</th>\n",
       "      <td>삼성 인버스 2X WTI원유 선물 ETN</td>\n",
       "      <td>140</td>\n",
       "    </tr>\n",
       "    <tr>\n",
       "      <th>2</th>\n",
       "      <td>KODEX 인버스</td>\n",
       "      <td>4,830</td>\n",
       "    </tr>\n",
       "    <tr>\n",
       "      <th>3</th>\n",
       "      <td>KODEX 코스닥150선물인버스</td>\n",
       "      <td>4,835</td>\n",
       "    </tr>\n",
       "    <tr>\n",
       "      <th>4</th>\n",
       "      <td>KODEX 레버리지</td>\n",
       "      <td>15,170</td>\n",
       "    </tr>\n",
       "    <tr>\n",
       "      <th>...</th>\n",
       "      <td>...</td>\n",
       "      <td>...</td>\n",
       "    </tr>\n",
       "    <tr>\n",
       "      <th>95</th>\n",
       "      <td>제주은행</td>\n",
       "      <td>6,810</td>\n",
       "    </tr>\n",
       "    <tr>\n",
       "      <th>96</th>\n",
       "      <td>포스코케미칼</td>\n",
       "      <td>179,500</td>\n",
       "    </tr>\n",
       "    <tr>\n",
       "      <th>97</th>\n",
       "      <td>동양철관</td>\n",
       "      <td>1,135</td>\n",
       "    </tr>\n",
       "    <tr>\n",
       "      <th>98</th>\n",
       "      <td>기업은행</td>\n",
       "      <td>9,710</td>\n",
       "    </tr>\n",
       "    <tr>\n",
       "      <th>99</th>\n",
       "      <td>LG디스플레이</td>\n",
       "      <td>15,800</td>\n",
       "    </tr>\n",
       "  </tbody>\n",
       "</table>\n",
       "<p>100 rows × 2 columns</p>\n",
       "</div>"
      ],
      "text/plain": [
       "                       종목명      현재가\n",
       "0         KODEX 200선물인버스2X    3,050\n",
       "1   삼성 인버스 2X WTI원유 선물 ETN      140\n",
       "2                KODEX 인버스    4,830\n",
       "3        KODEX 코스닥150선물인버스    4,835\n",
       "4               KODEX 레버리지   15,170\n",
       "..                     ...      ...\n",
       "95                    제주은행    6,810\n",
       "96                  포스코케미칼  179,500\n",
       "97                    동양철관    1,135\n",
       "98                    기업은행    9,710\n",
       "99                 LG디스플레이   15,800\n",
       "\n",
       "[100 rows x 2 columns]"
      ]
     },
     "execution_count": 720,
     "metadata": {},
     "output_type": "execute_result"
    }
   ],
   "source": [
    "data = {\"종목명\" : stock_list, \"현재가\" : stock_price_list}\n",
    "kospi = pd.DataFrame(data)\n",
    "kospi"
   ]
  },
  {
   "cell_type": "code",
   "execution_count": 721,
   "id": "5863e292",
   "metadata": {},
   "outputs": [],
   "source": [
    "# kospi.to_excel(\"코스피지수.xlsx\", encoding = \"utf-8\")/"
   ]
  },
  {
   "cell_type": "code",
   "execution_count": 722,
   "id": "f126ca5b",
   "metadata": {},
   "outputs": [],
   "source": [
    "header = {'User-Agent' : 'Mozilla/5.0 (Windows NT 10.0; Win64; x64) AppleWebKit/537.36 (KHTML, like Gecko) Chrome/105.0.0.0 Safari/537.36'}\n",
    " \n",
    "url = \"https://music.bugs.co.kr/chart\"\n",
    "res = req.get(url, headers=header).text\n",
    "# get함수로 raw데이터 가져오기\n",
    "soup = bs(res, \"lxml\")\n",
    "\n",
    "song_rank_select = soup.select(\"div.ranking > strong\")\n",
    "song_name_select = soup.select(\"p.title > a\")\n",
    "artist_name_select = soup.select(\"p.artist > a\")\n",
    "artist_name_select2 = soup.select(\"p.artist > a\")\n",
    "album_name_select = soup.select(\"td.left > a\")\n",
    "\n",
    "song_rank_list = []\n",
    "song_name_list = []\n",
    "artist_name_list = []\n",
    "album_name_list = []\n",
    "for x in range(100):\n",
    "    song_rank_list.append(song_rank_select[x].text)\n",
    "    song_name_list.append(song_name_select[x].text)\n",
    "    artist_name_list.append(artist_name_select[x].text)\n",
    "    album_name_list.append(album_name_select[x].text)\n"
   ]
  },
  {
   "cell_type": "code",
   "execution_count": 723,
   "id": "58599598",
   "metadata": {},
   "outputs": [
    {
     "data": {
      "text/plain": [
       "9"
      ]
     },
     "execution_count": 723,
     "metadata": {},
     "output_type": "execute_result"
    }
   ],
   "source": [
    "artist_name_check = soup.select(\"a.more\")\n",
    "len(artist_name_check)"
   ]
  },
  {
   "cell_type": "code",
   "execution_count": 724,
   "id": "7aedb45a",
   "metadata": {},
   "outputs": [],
   "source": [
    "for i in artist_name_check:\n",
    "    artist_name_select.remove(i)\n"
   ]
  },
  {
   "cell_type": "code",
   "execution_count": 725,
   "id": "aa329e10",
   "metadata": {},
   "outputs": [],
   "source": [
    "artist_name_test = []\n",
    "for x in range(100):\n",
    "    artist_name_test.append(artist_name_select[x].text)\n",
    "\n"
   ]
  },
  {
   "cell_type": "code",
   "execution_count": 726,
   "id": "f8119a75",
   "metadata": {},
   "outputs": [
    {
     "data": {
      "text/html": [
       "<div>\n",
       "<style scoped>\n",
       "    .dataframe tbody tr th:only-of-type {\n",
       "        vertical-align: middle;\n",
       "    }\n",
       "\n",
       "    .dataframe tbody tr th {\n",
       "        vertical-align: top;\n",
       "    }\n",
       "\n",
       "    .dataframe thead th {\n",
       "        text-align: right;\n",
       "    }\n",
       "</style>\n",
       "<table border=\"1\" class=\"dataframe\">\n",
       "  <thead>\n",
       "    <tr style=\"text-align: right;\">\n",
       "      <th></th>\n",
       "      <th>곡</th>\n",
       "      <th>아티스트</th>\n",
       "      <th>앨범</th>\n",
       "    </tr>\n",
       "    <tr>\n",
       "      <th>순위</th>\n",
       "      <th></th>\n",
       "      <th></th>\n",
       "      <th></th>\n",
       "    </tr>\n",
       "  </thead>\n",
       "  <tbody>\n",
       "    <tr>\n",
       "      <th>1</th>\n",
       "      <td>After LIKE</td>\n",
       "      <td>IVE (아이브)</td>\n",
       "      <td>After LIKE</td>\n",
       "    </tr>\n",
       "    <tr>\n",
       "      <th>2</th>\n",
       "      <td>Attention</td>\n",
       "      <td>NewJeans</td>\n",
       "      <td>NewJeans 1st EP 'New Jeans'</td>\n",
       "    </tr>\n",
       "    <tr>\n",
       "      <th>3</th>\n",
       "      <td>새삥 (Prod. ZICO) (Feat. 호미들)</td>\n",
       "      <td>지코</td>\n",
       "      <td>스트릿 맨 파이터(SMF) Original Vol.3 (계급미션)</td>\n",
       "    </tr>\n",
       "    <tr>\n",
       "      <th>4</th>\n",
       "      <td>Hype Boy</td>\n",
       "      <td>NewJeans</td>\n",
       "      <td>NewJeans 1st EP 'New Jeans'</td>\n",
       "    </tr>\n",
       "    <tr>\n",
       "      <th>5</th>\n",
       "      <td>Pink Venom</td>\n",
       "      <td>BLACKPINK</td>\n",
       "      <td>Pink Venom</td>\n",
       "    </tr>\n",
       "    <tr>\n",
       "      <th>...</th>\n",
       "      <td>...</td>\n",
       "      <td>...</td>\n",
       "      <td>...</td>\n",
       "    </tr>\n",
       "    <tr>\n",
       "      <th>96</th>\n",
       "      <td>만약에</td>\n",
       "      <td>태연 (TAEYEON)</td>\n",
       "      <td>쾌도 홍길동 (KBS 수목드라마)</td>\n",
       "    </tr>\n",
       "    <tr>\n",
       "      <th>97</th>\n",
       "      <td>Dynamite</td>\n",
       "      <td>방탄소년단</td>\n",
       "      <td>Dynamite (DayTime Version)</td>\n",
       "    </tr>\n",
       "    <tr>\n",
       "      <th>98</th>\n",
       "      <td>스토커</td>\n",
       "      <td>10CM</td>\n",
       "      <td>3.0</td>\n",
       "    </tr>\n",
       "    <tr>\n",
       "      <th>99</th>\n",
       "      <td>한 밤의 꿈처럼</td>\n",
       "      <td>이보람 (씨야)</td>\n",
       "      <td>한 밤의 꿈처럼</td>\n",
       "    </tr>\n",
       "    <tr>\n",
       "      <th>100</th>\n",
       "      <td>봄 to 러브</td>\n",
       "      <td>10CM</td>\n",
       "      <td>우리들의 블루스 OST Part 3</td>\n",
       "    </tr>\n",
       "  </tbody>\n",
       "</table>\n",
       "<p>100 rows × 3 columns</p>\n",
       "</div>"
      ],
      "text/plain": [
       "                               곡          아티스트  \\\n",
       "순위                                               \n",
       "1                     After LIKE     IVE (아이브)   \n",
       "2                      Attention      NewJeans   \n",
       "3    새삥 (Prod. ZICO) (Feat. 호미들)            지코   \n",
       "4                       Hype Boy      NewJeans   \n",
       "5                     Pink Venom     BLACKPINK   \n",
       "..                           ...           ...   \n",
       "96                           만약에  태연 (TAEYEON)   \n",
       "97                      Dynamite         방탄소년단   \n",
       "98                           스토커          10CM   \n",
       "99                      한 밤의 꿈처럼      이보람 (씨야)   \n",
       "100                      봄 to 러브          10CM   \n",
       "\n",
       "                                       앨범  \n",
       "순위                                         \n",
       "1                              After LIKE  \n",
       "2             NewJeans 1st EP 'New Jeans'  \n",
       "3    스트릿 맨 파이터(SMF) Original Vol.3 (계급미션)  \n",
       "4             NewJeans 1st EP 'New Jeans'  \n",
       "5                              Pink Venom  \n",
       "..                                    ...  \n",
       "96                     쾌도 홍길동 (KBS 수목드라마)  \n",
       "97             Dynamite (DayTime Version)  \n",
       "98                                    3.0  \n",
       "99                               한 밤의 꿈처럼  \n",
       "100                   우리들의 블루스 OST Part 3  \n",
       "\n",
       "[100 rows x 3 columns]"
      ]
     },
     "execution_count": 726,
     "metadata": {},
     "output_type": "execute_result"
    }
   ],
   "source": [
    "data = {\"순위\" : song_rank_list, \"곡\" : song_name_list,  \"아티스트\" : artist_name_test, \"앨범\" : album_name_list}\n",
    "songs_rank = pd.DataFrame(data)\n",
    "songs_rank.set_index(\"순위\")"
   ]
  },
  {
   "cell_type": "code",
   "execution_count": 727,
   "id": "c904cda5",
   "metadata": {},
   "outputs": [],
   "source": [
    "artist_name_check2 = soup.select(\"a.artistTitle\")\n",
    "for i in artist_name_check2:\n",
    "    artist_name_select2.remove(i)"
   ]
  },
  {
   "cell_type": "code",
   "execution_count": 728,
   "id": "3f9b0f7e",
   "metadata": {},
   "outputs": [],
   "source": [
    "artist_name_list2 = []\n",
    "for i in artist_name_select2:\n",
    "    artist_name_list2.append(i.text)\n",
    "artist_name_list2\n",
    "\n",
    "for i in artist_name_list2:\n",
    "    if \"\\n\" or \"\\r\" in i:\n",
    "        i.replace(\"\\r\\n\",\"\")\n",
    "    else:\n",
    "        pass"
   ]
  },
  {
   "cell_type": "code",
   "execution_count": 729,
   "id": "8116c965",
   "metadata": {},
   "outputs": [
    {
     "data": {
      "text/plain": [
       "['IVE (아이브)',\n",
       " 'NewJeans',\n",
       " '지코',\n",
       " 'NewJeans',\n",
       " 'BLACKPINK',\n",
       " '\\r\\n윤미래\\r\\n',\n",
       " \"소녀시대 (GIRLS' GENERATION)\",\n",
       " 'NewJeans',\n",
       " 'IVE (아이브)',\n",
       " 'TWICE (트와이스)',\n",
       " '원어스 (ONEUS)',\n",
       " '츄 (이달의 소녀)',\n",
       " '펀치 (Punch)',\n",
       " 'ITZY (있지)',\n",
       " '\\r\\n지아(Zia)\\r\\n',\n",
       " '멜로망스(MeloMance)',\n",
       " 'aespa',\n",
       " 'OneRepublic(원리퍼블릭)',\n",
       " '원어스 (ONEUS)',\n",
       " '\\r\\n로꼬\\r\\n',\n",
       " 'LE SSERAFIM (르세라핌)',\n",
       " 'IVE (아이브)',\n",
       " 'WSG워너비 (가야G)',\n",
       " '경서',\n",
       " '한동근',\n",
       " 'BIGBANG (빅뱅)',\n",
       " '(여자)아이들',\n",
       " '10CM',\n",
       " 'WSG워너비 (4FIRE)',\n",
       " '김승민',\n",
       " 'WINNER',\n",
       " 'Charlie Puth(찰리 푸스)',\n",
       " '원어스 (ONEUS)',\n",
       " '\\r\\n경서예지\\r\\n',\n",
       " '#안녕',\n",
       " '원어스 (ONEUS)',\n",
       " 'aespa',\n",
       " 'Charlie Puth(찰리 푸스)',\n",
       " 'BIG Naughty (서동현)',\n",
       " '21학번',\n",
       " '나연 (TWICE)',\n",
       " '멜로망스(MeloMance)',\n",
       " '\\r\\nThe Kid LAROI\\r\\n',\n",
       " 'YENA (최예나)',\n",
       " '청하',\n",
       " 'aespa',\n",
       " '주호',\n",
       " '선미',\n",
       " '이무진',\n",
       " '김민석 (멜로망스)',\n",
       " '싸이 (PSY)',\n",
       " '전상근',\n",
       " \"BE'O (비오)\",\n",
       " '\\r\\n우원재\\r\\n',\n",
       " '원어스 (ONEUS)',\n",
       " 'NewJeans',\n",
       " '탑현',\n",
       " '이선희',\n",
       " '아이유(IU)',\n",
       " '아이유(IU)',\n",
       " 'STAYC(스테이씨)',\n",
       " '(여자)아이들',\n",
       " '성시경',\n",
       " '원어스 (ONEUS)',\n",
       " '원어스 (ONEUS)',\n",
       " '볼빨간사춘기',\n",
       " 'Red Velvet (레드벨벳)',\n",
       " '태연 (TAEYEON)',\n",
       " '지코',\n",
       " '\\r\\nCharlie Puth(찰리 푸스)\\r\\n',\n",
       " '\\r\\n보라미유\\r\\n',\n",
       " '다비치',\n",
       " '태연 (TAEYEON)',\n",
       " 'IVE (아이브)',\n",
       " '그루비룸 (GroovyRoom)',\n",
       " '기리보이',\n",
       " '선우정아(Sunwoojunga)',\n",
       " 'Justin Bieber(저스틴 비버)',\n",
       " '\\r\\nGRAY (그레이)\\r\\n',\n",
       " '케이시',\n",
       " '아이유(IU)',\n",
       " '이석훈',\n",
       " '폴킴(Paul Kim)',\n",
       " '이영지',\n",
       " 'MSG워너비(M.O.M)',\n",
       " '케이시',\n",
       " '박재범',\n",
       " '릴러말즈 (Leellamarz)',\n",
       " '프로미스나인',\n",
       " '김필(Kim Feel)',\n",
       " '임영웅',\n",
       " '정승환',\n",
       " '아이유(IU)',\n",
       " 'Pink Sweat$',\n",
       " 'WSG워너비',\n",
       " '태연 (TAEYEON)',\n",
       " '방탄소년단',\n",
       " '10CM',\n",
       " '이보람 (씨야)',\n",
       " '10CM']"
      ]
     },
     "execution_count": 729,
     "metadata": {},
     "output_type": "execute_result"
    }
   ],
   "source": [
    "artist_name_list2"
   ]
  },
  {
   "cell_type": "code",
   "execution_count": 730,
   "id": "56b63e2e",
   "metadata": {},
   "outputs": [
    {
     "data": {
      "text/plain": [
       "'\\n한여름밤의 재즈\\n\\n별점 - 총 10점 중7\\n\\n평소에 음악 페스티벌을 많이 가는데 그 현장에 있는것 같은 느낌이였음. 그 당시 관객들의 자유로움도 느껴져서 좋았고 노래들도 너무 좋았음. 로큰롤 장르인 척베리가 젤 신났다는 아이러니함이 있지만...ㅎㅎㅎ \\n\\t\\t\\t\\n\\t\\t\\t\\n\\t\\t\\t\\n\\t\\t\\t\\t\\n\\t\\t\\t\\t\\n\\t\\t\\t\\t\\n\\t\\t\\t\\t신고\\n'"
      ]
     },
     "execution_count": 730,
     "metadata": {},
     "output_type": "execute_result"
    }
   ],
   "source": [
    "header = {'User-Agent' : 'Mozilla/5.0 (Windows NT 10.0; Win64; x64) AppleWebKit/537.36 (KHTML, like Gecko) Chrome/105.0.0.0 Safari/537.36'}\n",
    " \n",
    "url = \"https://movie.naver.com/movie/point/af/list.naver\"\n",
    "res = req.get(url, headers=header).text\n",
    "# get함수로 raw데이터 가져오기\n",
    "soup = bs(res, \"lxml\")\n",
    "\n",
    "movie_name_select = soup.select(\"td.title > a.movie.color_b\")\n",
    "movie_score_select = soup.select(\"div.list_netizen_score > em\")\n",
    "movie_review_select = soup.select(\"td.title\")\n",
    "\n",
    "movie_score_list = []\n",
    "movie_name_list = []\n",
    "for i in movie_score_select:\n",
    "    movie_score_list.append(i.text)\n",
    "for i in movie_name_select:\n",
    "    movie_name_list.append(i.text)\n",
    "\n",
    "movie_review_list[0]"
   ]
  },
  {
   "cell_type": "code",
   "execution_count": 731,
   "metadata": {},
   "outputs": [
    {
     "data": {
      "text/plain": [
       "['개노잼 대사도 잘안들리고 중간에 나옴 ',\n",
       " '노잼.. 간만에 시간 아까웠음. 리클라이너가 불편하긴 처음. ',\n",
       " '이런영화는 아무생각없이봐야합니다. 아무생각없이봐서 무난했어요 명작들처럼집중할필요없이가볍게 재밋게봣어요 ',\n",
       " '완전 재밌어요 평점 왜 낮은지 모르게씀 ',\n",
       " '밸런스 조절 실패 ',\n",
       " '',\n",
       " '그때는 너와 나의 헛소리가 너무 즐거워서 의미있었어. 그랬다면 그건 헛소리일까? 지금 돌아보면 헛되지 않았어. ',\n",
       " '진심  재미 없어요..    평이 왜 높은지 알수 없네요비상선언  수준 ',\n",
       " '데드풀과의 조우를 이런식으로 찍어야했냐! 둘 다 모양빠진다. ',\n",
       " '영화가 귀엽다 미묘하게 따뜻하고 치사한 여자아이들 이야기 ']"
      ]
     },
     "execution_count": 731,
     "metadata": {},
     "output_type": "execute_result"
    }
   ],
   "source": [
    "movie_review_final = []\n",
    "for i in movie_review_select:\n",
    "    a = i.text.split(\"\\n\\n\")[2]\n",
    "    a = a.replace(\"\\n\", \"\").replace(\"\\t\", \"\").replace(\"신고\", \"\")\n",
    "    movie_review_final.append(a)\n",
    "\n",
    "movie_review_final"
   ]
  },
  {
   "cell_type": "code",
   "execution_count": 732,
   "id": "72466b0e",
   "metadata": {},
   "outputs": [
    {
     "data": {
      "text/plain": [
       "(10, 10, 10)"
      ]
     },
     "execution_count": 732,
     "metadata": {},
     "output_type": "execute_result"
    }
   ],
   "source": [
    "len(movie_review_final), len(movie_score_list), len(movie_name_list)"
   ]
  },
  {
   "cell_type": "markdown",
   "id": "f88c8d88",
   "metadata": {},
   "source": [
    "# 10페이지까지 크롤링\n"
   ]
  },
  {
   "cell_type": "code",
   "execution_count": 733,
   "id": "4e0ebc55",
   "metadata": {},
   "outputs": [],
   "source": [
    "page = range(1, 11)"
   ]
  },
  {
   "cell_type": "code",
   "execution_count": 736,
   "id": "36bf2c64",
   "metadata": {},
   "outputs": [
    {
     "name": "stdout",
     "output_type": "stream",
     "text": [
      "https://movie.naver.com/movie/point/af/list.naver?page1\n",
      "https://movie.naver.com/movie/point/af/list.naver?page2\n",
      "https://movie.naver.com/movie/point/af/list.naver?page3\n",
      "https://movie.naver.com/movie/point/af/list.naver?page4\n",
      "https://movie.naver.com/movie/point/af/list.naver?page5\n",
      "https://movie.naver.com/movie/point/af/list.naver?page6\n",
      "https://movie.naver.com/movie/point/af/list.naver?page7\n",
      "https://movie.naver.com/movie/point/af/list.naver?page8\n",
      "https://movie.naver.com/movie/point/af/list.naver?page9\n",
      "https://movie.naver.com/movie/point/af/list.naver?page10\n"
     ]
    }
   ],
   "source": [
    "page = range(1, 11) \n",
    "\n",
    "for i in page:\n",
    "    url = f\"https://movie.naver.com/movie/point/af/list.naver?page{i}\"\n",
    "    print(url)\n",
    "\n",
    "total_title_list = []\n",
    "total_review_list = []\n",
    "total_score_list = []\n",
    "\n"
   ]
  }
 ],
 "metadata": {
  "kernelspec": {
   "display_name": "Python 3.9.13 64-bit",
   "language": "python",
   "name": "python3"
  },
  "language_info": {
   "codemirror_mode": {
    "name": "ipython",
    "version": 3
   },
   "file_extension": ".py",
   "mimetype": "text/x-python",
   "name": "python",
   "nbconvert_exporter": "python",
   "pygments_lexer": "ipython3",
   "version": "3.9.13"
  },
  "vscode": {
   "interpreter": {
    "hash": "82ed002fa2d4956f5c6aec99bcefe0f73a9f79882f3c9e2319b14958a5896ac5"
   }
  }
 },
 "nbformat": 4,
 "nbformat_minor": 5
}
