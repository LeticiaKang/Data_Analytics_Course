{
 "cells": [
  {
   "cell_type": "markdown",
   "id": "d5719038",
   "metadata": {},
   "source": [
    "### [복습] 10,000보다 큰 57과 83의 공배수 중 가장 작은 수 구하기"
   ]
  },
  {
   "cell_type": "code",
   "execution_count": 18,
   "id": "c86801ca",
   "metadata": {
    "scrolled": false
   },
   "outputs": [
    {
     "name": "stdout",
     "output_type": "stream",
     "text": [
      "14193\n"
     ]
    }
   ],
   "source": [
    "num = 9999\n",
    "while True:\n",
    "    num += 1\n",
    "    if (num % 57 == 0) & (num % 83 == 0) :\n",
    "        print(num)\n",
    "        break;\n"
   ]
  },
  {
   "cell_type": "code",
   "execution_count": 20,
   "id": "de2a96c4",
   "metadata": {},
   "outputs": [
    {
     "name": "stdout",
     "output_type": "stream",
     "text": [
      "14193\n"
     ]
    }
   ],
   "source": [
    "num = 9999\n",
    "while (num % 57 != 0) or (num % 83 != 0):\n",
    "    num += 1\n",
    "print(num)"
   ]
  },
  {
   "cell_type": "markdown",
   "id": "4fa3b142",
   "metadata": {},
   "source": [
    "### for문을 사용해서 나이, 키, 발사이즈 평균 구하고 \"평균들\"key로 추가"
   ]
  },
  {
   "cell_type": "markdown",
   "id": "195cab6d",
   "metadata": {},
   "source": [
    "try-except 사용하지 않고 푼 풀이"
   ]
  },
  {
   "cell_type": "code",
   "execution_count": 65,
   "id": "3fd4b8ae",
   "metadata": {},
   "outputs": [
    {
     "data": {
      "text/plain": [
       "{'이름': ['홍길동', '임꺽정', '장길산'],\n",
       " '나이': [20, 35, 53],\n",
       " '키': [160, 200, 180],\n",
       " '발사이즈': [260, 290, 270],\n",
       " '평균들': [36.0, 180.0, 273.3]}"
      ]
     },
     "execution_count": 65,
     "metadata": {},
     "output_type": "execute_result"
    }
   ],
   "source": [
    "csb = {\"이름\" : [\"홍길동\", \"임꺽정\", \"장길산\"],\n",
    "       \"나이\" : [20, 35, 53],\n",
    "       \"키\" : [160, 200, 180],\n",
    "       \"발사이즈\" : [260, 290, 270]}\n",
    "\n",
    "avg_range = list(csb.keys())[1:]\n",
    "avg_get = []\n",
    "\n",
    "for key in avg_range:\n",
    "    sum_v = 0\n",
    "    for v in csb[key]:\n",
    "        sum_v += v\n",
    "    avg_v = round(sum_v / len(csb[key]), 1)\n",
    "    avg_get.append(avg_v)\n",
    "\n",
    "csb[\"평균들\"] = avg_get\n",
    "csb"
   ]
  },
  {
   "cell_type": "markdown",
   "id": "4cbf7080",
   "metadata": {},
   "source": [
    "try-except 사용"
   ]
  },
  {
   "cell_type": "code",
   "execution_count": 64,
   "id": "bac04918",
   "metadata": {},
   "outputs": [
    {
     "data": {
      "text/plain": [
       "{'이름': ['홍길동', '임꺽정', '장길산'],\n",
       " '나이': [20, 35, 53],\n",
       " '키': [160, 200, 180],\n",
       " '발사이즈': [260, 290, 270],\n",
       " '평균들': [36.0, 180.0, 273.3]}"
      ]
     },
     "execution_count": 64,
     "metadata": {},
     "output_type": "execute_result"
    }
   ],
   "source": [
    "info = {\"이름\" : [\"홍길동\", \"임꺽정\", \"장길산\"],\n",
    "       \"나이\" : [20, 35, 53],\n",
    "       \"키\" : [160, 200, 180],\n",
    "       \"발사이즈\" : [260, 290, 270]}\n",
    "\n",
    "avg_get = []\n",
    "\n",
    "for key in info:\n",
    "    try:\n",
    "        sum_values = 0\n",
    "        for value in info[key]:\n",
    "            sum_values += value\n",
    "        avg_values = round(sum_values / len(info[key]), 1)\n",
    "        avg_get.append(avg_values)\n",
    "    except:\n",
    "        pass\n",
    "\n",
    "info[\"평균들\"] = avg_get\n",
    "info"
   ]
  }
 ],
 "metadata": {
  "kernelspec": {
   "display_name": "Python 3 (ipykernel)",
   "language": "python",
   "name": "python3"
  },
  "language_info": {
   "codemirror_mode": {
    "name": "ipython",
    "version": 3
   },
   "file_extension": ".py",
   "mimetype": "text/x-python",
   "name": "python",
   "nbconvert_exporter": "python",
   "pygments_lexer": "ipython3",
   "version": "3.9.12"
  }
 },
 "nbformat": 4,
 "nbformat_minor": 5
}
