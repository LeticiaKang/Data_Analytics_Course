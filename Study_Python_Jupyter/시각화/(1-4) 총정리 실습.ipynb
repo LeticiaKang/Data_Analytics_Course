{
 "cells": [
  {
   "cell_type": "code",
   "execution_count": 183,
   "metadata": {},
   "outputs": [],
   "source": [
    "import numpy as np "
   ]
  },
  {
   "cell_type": "code",
   "execution_count": 184,
   "metadata": {},
   "outputs": [
    {
     "data": {
      "text/plain": [
       "array([0., 0., 0., 0., 0., 0., 0., 0., 0., 0.])"
      ]
     },
     "execution_count": 184,
     "metadata": {},
     "output_type": "execute_result"
    }
   ],
   "source": [
    "#0이 10개 들어가 있는 array를 만들어 주세요\n",
    "arr = np.zeros(10)\n",
    "arr"
   ]
  },
  {
   "cell_type": "code",
   "execution_count": 185,
   "metadata": {},
   "outputs": [
    {
     "data": {
      "text/plain": [
       "array([0., 0., 0., 0., 1., 0., 0., 0., 0., 0.])"
      ]
     },
     "execution_count": 185,
     "metadata": {},
     "output_type": "execute_result"
    }
   ],
   "source": [
    "#5번째를 1로 바꿔주세요\n",
    "arr[4] =1\n",
    "arr"
   ]
  },
  {
   "cell_type": "code",
   "execution_count": 186,
   "metadata": {},
   "outputs": [
    {
     "name": "stdout",
     "output_type": "stream",
     "text": [
      "[10 11 12 13 14 15 16 17 18 19 20 21 22 23 24 25 26 27 28 29 30 31 32 33\n",
      " 34 35 36 37 38 39 40 41 42 43 44 45 46 47 48 49]\n"
     ]
    }
   ],
   "source": [
    "# 10이상 50미만의 정수가 들어가 있는 배열을 만드세여\n",
    "arr = np.arange(10,50)\n",
    "print(arr)\n"
   ]
  },
  {
   "cell_type": "code",
   "execution_count": 187,
   "metadata": {},
   "outputs": [
    {
     "name": "stdout",
     "output_type": "stream",
     "text": [
      "[[0 1 2]\n",
      " [3 4 5]\n",
      " [6 7 8]]\n",
      "2\n"
     ]
    }
   ],
   "source": [
    "# 0부터 8까지 들어간 \n",
    "arr = np.arange(0,9).reshape(3,3)\n",
    "print(arr)\n",
    "print(np.linalg.matrix_rank(arr))"
   ]
  },
  {
   "cell_type": "code",
   "execution_count": 188,
   "metadata": {},
   "outputs": [
    {
     "data": {
      "text/plain": [
       "array([[[10, 70, 13],\n",
       "        [21, 71, 83],\n",
       "        [10, 77, 97]],\n",
       "\n",
       "       [[77, 73, 40],\n",
       "        [75, 85,  6],\n",
       "        [34, 70, 82]],\n",
       "\n",
       "       [[10, 49,  3],\n",
       "        [16, 63, 39],\n",
       "        [19, 53, 64]]])"
      ]
     },
     "execution_count": 188,
     "metadata": {},
     "output_type": "execute_result"
    }
   ],
   "source": [
    "arr = np.random.randint(1, 100, size=(3,3,3))\n",
    "arr"
   ]
  },
  {
   "cell_type": "code",
   "execution_count": 189,
   "metadata": {},
   "outputs": [
    {
     "data": {
      "text/plain": [
       "array([[[0.34942075, 0.31895987, 0.97547893],\n",
       "        [0.88681911, 0.97610778, 0.52384338],\n",
       "        [0.95061646, 0.89675318, 0.31133889]],\n",
       "\n",
       "       [[0.8951739 , 0.68298872, 0.63809099],\n",
       "        [0.78662704, 0.18124837, 0.06724625],\n",
       "        [0.14225674, 0.62965722, 0.81124759]],\n",
       "\n",
       "       [[0.68608944, 0.20504689, 0.84605037],\n",
       "        [0.6630732 , 0.29624285, 0.15106874],\n",
       "        [0.62712383, 0.07273933, 0.759068  ]]])"
      ]
     },
     "execution_count": 189,
     "metadata": {},
     "output_type": "execute_result"
    }
   ],
   "source": [
    "arr = np.random.random((3,3,3))\n",
    "arr"
   ]
  },
  {
   "cell_type": "code",
   "execution_count": 190,
   "metadata": {},
   "outputs": [
    {
     "name": "stdout",
     "output_type": "stream",
     "text": [
      "[[216 735 614 884 631 539 263 539  47 571]\n",
      " [693 576 228   3  12 865 662 818 878 777]\n",
      " [237 174 176 549 553 525 429 127  76 918]]\n",
      "평균 : 477.1666666666667\n",
      "\n",
      "[0.31895187 0.02265346 0.11767725 0.50410824 0.8590952  0.83824462\n",
      " 0.80430418 0.79239186 0.54592742 0.95786509 0.36417832 0.40439772\n",
      " 0.60803024 0.41617164 0.44028984 0.74917096 0.96484409 0.40742248\n",
      " 0.85360923 0.53211305 0.01810434 0.62065948 0.42417449 0.14299528\n",
      " 0.32182803 0.61379358 0.67995333 0.37417655 0.05545673 0.06082893]\n",
      "요소의 개수 : 30\n",
      "평균 : 0.493780583354547\n"
     ]
    }
   ],
   "source": [
    "#전체 요소가 총 30개, 그 배열의 평균값 구하기\n",
    "arr = np.random.randint(1, 1000,size=(3, 10))\n",
    "print(arr)\n",
    "arr2 = np.random.random(30)\n",
    "print(\"평균 :\", np.mean(arr))\n",
    "print(\"\")\n",
    "print(arr2)\n",
    "print(\"요소의 개수 :\", arr2.size)\n",
    "print(\"평균 :\",np.mean(arr2))"
   ]
  },
  {
   "cell_type": "markdown",
   "metadata": {},
   "source": [
    "리스트인 경우"
   ]
  },
  {
   "cell_type": "code",
   "execution_count": 191,
   "metadata": {},
   "outputs": [
    {
     "name": "stdout",
     "output_type": "stream",
     "text": [
      "[10, 20, 30, 70, 80, 90]\n"
     ]
    }
   ],
   "source": [
    "mid_score = [10, 20, 30]\n",
    "final_score = [70, 80, 90]\n",
    "total = mid_score + final_score\n",
    "print(total)"
   ]
  },
  {
   "cell_type": "markdown",
   "metadata": {},
   "source": [
    "배열일 경우"
   ]
  },
  {
   "cell_type": "code",
   "execution_count": 192,
   "metadata": {},
   "outputs": [
    {
     "name": "stdout",
     "output_type": "stream",
     "text": [
      "[ 80 100 120]\n",
      "시험 성적의 합계 : [ 80 100 120]\n",
      "시험 성적의 평균 : [40. 50. 60.]\n"
     ]
    }
   ],
   "source": [
    "mid_score = np.array([10,20,30])\n",
    "final_score = np.array([70,80,90])\n",
    "total = np.array(mid_score + final_score)\n",
    "print(total)\n",
    "print(\"시험 성적의 합계 :\", total)\n",
    "print(\"시험 성적의 평균 :\", total/2)"
   ]
  },
  {
   "cell_type": "code",
   "execution_count": 193,
   "metadata": {},
   "outputs": [
    {
     "name": "stdout",
     "output_type": "stream",
     "text": [
      "============array_c================\n",
      "[0 2 4 6 8]\n",
      "array_c의 shape : (5,)\n",
      "array_c의 ndim : 1\n",
      "array_c의 size : 5\n"
     ]
    }
   ],
   "source": [
    "array_a = np.arange(10)\n",
    "array_b = np.arange(10)\n",
    "array_c = np.array(range(0,10,2))\n",
    "\n",
    "print(\"============array_c================\")\n",
    "print(array_c)\n",
    "print(f\"array_c의 shape : {array_c.shape}\")\n",
    "print(f\"array_c의 ndim : {array_c.ndim}\")\n",
    "print(f\"array_c의 size : {array_c.size}\")\n"
   ]
  },
  {
   "cell_type": "code",
   "execution_count": 194,
   "metadata": {},
   "outputs": [
    {
     "data": {
      "text/plain": [
       "dtype('int32')"
      ]
     },
     "execution_count": 194,
     "metadata": {},
     "output_type": "execute_result"
    }
   ],
   "source": [
    "array_c.dtype"
   ]
  },
  {
   "cell_type": "code",
   "execution_count": 195,
   "metadata": {},
   "outputs": [
    {
     "data": {
      "text/plain": [
       "4"
      ]
     },
     "execution_count": 195,
     "metadata": {},
     "output_type": "execute_result"
    }
   ],
   "source": [
    "#배열안에 byte크기\n",
    "array_c.itemsize"
   ]
  },
  {
   "cell_type": "code",
   "execution_count": 196,
   "metadata": {},
   "outputs": [
    {
     "data": {
      "text/plain": [
       "array([440, 500, 460])"
      ]
     },
     "execution_count": 196,
     "metadata": {},
     "output_type": "execute_result"
    }
   ],
   "source": [
    "salary = np.array([220, 250, 230])\n",
    "salary + 100\n",
    "salary * 2"
   ]
  },
  {
   "cell_type": "code",
   "execution_count": 197,
   "metadata": {},
   "outputs": [
    {
     "name": "stdout",
     "output_type": "stream",
     "text": [
      "[[170.   76.4]\n",
      " [183.   86.2]\n",
      " [171.   73.5]\n",
      " [176.   80.1]]\n",
      "========= 몸무게 80 이상 ===========\n",
      "[False  True False  True]\n",
      "[[183.   86.2]\n",
      " [176.   80.1]]\n",
      "[[183.   86.2]\n",
      " [176.   80.1]]\n",
      "========= 키 180 이상 ===========\n",
      "[[183.   86.2]]\n"
     ]
    }
   ],
   "source": [
    "players = [[170, 76.4], [183, 86.2], [171, 73.5], [176, 80.1]]\n",
    "players = np.array(players)\n",
    "print(players)\n",
    "print(\"========= 몸무게 80 이상 ===========\")\n",
    "# bol = np.array([False, True, False, True])\n",
    "# players[bol]\n",
    "s = players[:, 1] >= 80\n",
    "print(s)\n",
    "print(players[s])\n",
    "print(players[players[:, 1] >= 80])\n",
    "\n",
    "print(\"========= 키 180 이상 ===========\")\n",
    "print(players[players[:, 0] >= 180])"
   ]
  },
  {
   "cell_type": "code",
   "execution_count": 198,
   "metadata": {},
   "outputs": [
    {
     "data": {
      "text/plain": [
       "array([5300., 8100., 1700., 6100., 3900., 4200., 8600., 1000., 3900.,\n",
       "       9200., 4600., 7500., 6600., 6500., 5200., 7100., 9600., 9100.,\n",
       "       5700., 9500., 4000., 3500., 1500., 9500., 3500., 2100., 2700.,\n",
       "       3700., 8800., 1000.])"
      ]
     },
     "execution_count": 198,
     "metadata": {},
     "output_type": "execute_result"
    }
   ],
   "source": [
    "revenue_in_yen = np.random.randint(1000, 10000, size=30)\n",
    "revenue_in_yen = np.floor(revenue_in_yen*0.01)*100\n",
    "revenue_in_yen"
   ]
  },
  {
   "cell_type": "code",
   "execution_count": 199,
   "metadata": {},
   "outputs": [
    {
     "data": {
      "text/plain": [
       "array([51410., 78570., 16490., 59170., 37830., 40740., 83420.,  9700.,\n",
       "       37830., 89240., 44620., 72750., 64020., 63050., 50440., 68870.,\n",
       "       93120., 88270., 55290., 92150., 38800., 33950., 14550., 92150.,\n",
       "       33950., 20370., 26190., 35890., 85360.,  9700.])"
      ]
     },
     "execution_count": 199,
     "metadata": {},
     "output_type": "execute_result"
    }
   ],
   "source": [
    "revenue_in_won = revenue_in_yen*9.7\n",
    "revenue_in_won"
   ]
  },
  {
   "cell_type": "code",
   "execution_count": 200,
   "metadata": {},
   "outputs": [
    {
     "name": "stdout",
     "output_type": "stream",
     "text": [
      "[36. 56. 11. 42. 27. 29. 59.  6. 27. 64. 32. 52. 46. 45. 36. 49. 66. 63.\n",
      " 39. 66. 27. 24. 10. 66. 24. 14. 18. 25. 61.  6.]\n",
      "월 매출(US)) : 1126.0\n",
      "월 매출(KR)) : 1587890.0\n"
     ]
    },
    {
     "data": {
      "text/plain": [
       "array([51409, 78570, 16490, 59169, 37830, 40740, 83420,  9700, 37830,\n",
       "       89240, 44620, 72750, 64019, 63049, 50439, 68870, 93120, 88270,\n",
       "       55289, 92150, 38800, 33950, 14549, 92150, 33950, 20370, 26189,\n",
       "       35890, 85360,  9700], dtype=int64)"
      ]
     },
     "execution_count": 200,
     "metadata": {},
     "output_type": "execute_result"
    }
   ],
   "source": [
    "revenue_in_dollar = revenue_in_won / 1391.34\n",
    "revenue_in_dollar = np.floor(revenue_in_dollar)\n",
    "print(revenue_in_dollar)\n",
    "print(\"월 매출(US)) :\", np.sum(revenue_in_dollar))\n",
    "print(\"월 매출(KR)) :\", np.sum(revenue_in_won))\n",
    "revenue_in_won = revenue_in_won.astype(\"int64\")\n",
    "revenue_in_won"
   ]
  },
  {
   "cell_type": "code",
   "execution_count": 209,
   "metadata": {},
   "outputs": [
    {
     "data": {
      "text/plain": [
       "array([16490, 37830, 40740,  9700, 37830, 44620, 38800, 33950, 14549,\n",
       "       33950, 20370, 26189, 35890,  9700], dtype=int64)"
      ]
     },
     "execution_count": 209,
     "metadata": {},
     "output_type": "execute_result"
    }
   ],
   "source": [
    "low = revenue_in_won[revenue_in_won <= 50000]\n",
    "low"
   ]
  },
  {
   "cell_type": "code",
   "execution_count": null,
   "metadata": {},
   "outputs": [],
   "source": [
    "for z in low:\n",
    "    print(np.where(revenue_in_won == z), z)"
   ]
  },
  {
   "cell_type": "code",
   "execution_count": 202,
   "metadata": {},
   "outputs": [
    {
     "name": "stdout",
     "output_type": "stream",
     "text": [
      "[[1 2]\n",
      " [3 4]\n",
      " [5 6]] \n",
      "\n",
      "[[1 2 5]\n",
      " [3 4 6]]\n"
     ]
    }
   ],
   "source": [
    "a = np.array([[1, 2], [3, 4]])\n",
    "b = np.array([[5, 6]])\n",
    "print(np.concatenate((a, b), axis=0),\"\\n\")\n",
    "print(np.concatenate((a, b.T), axis=1))"
   ]
  }
 ],
 "metadata": {
  "kernelspec": {
   "display_name": "Python 3.9.12 ('base')",
   "language": "python",
   "name": "python3"
  },
  "language_info": {
   "codemirror_mode": {
    "name": "ipython",
    "version": 3
   },
   "file_extension": ".py",
   "mimetype": "text/x-python",
   "name": "python",
   "nbconvert_exporter": "python",
   "pygments_lexer": "ipython3",
   "version": "3.9.12"
  },
  "orig_nbformat": 4,
  "vscode": {
   "interpreter": {
    "hash": "49e04899c6e094c3b61dd8509fde2649571811ca1eef12c1c216e72ad0930740"
   }
  }
 },
 "nbformat": 4,
 "nbformat_minor": 2
}
