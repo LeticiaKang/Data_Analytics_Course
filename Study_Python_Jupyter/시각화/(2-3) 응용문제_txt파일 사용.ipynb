{
 "cells": [
  {
   "cell_type": "code",
   "execution_count": 47,
   "metadata": {},
   "outputs": [],
   "source": [
    "import numpy as np"
   ]
  },
  {
   "cell_type": "markdown",
   "metadata": {},
   "source": [
    "##### #1. BMI구하기  \n",
    "1. 텍스트 불러오기  \n",
    ": np.loadtxt(\"height_weight.txt\", delimiter = \",\")  \n",
    "    구분기호 : delimiter = \"원하는 기호\""
   ]
  },
  {
   "cell_type": "code",
   "execution_count": 48,
   "metadata": {},
   "outputs": [
    {
     "data": {
      "text/plain": [
       "array([[175.2, 180.3, 175. , 169.2, 185.2, 188. , 177.6, 178.2, 177. ,\n",
       "        179. ],\n",
       "       [ 65.6,  88. ,  79.2,  69.3,  55. ,  71.2,  73. ,  68.9,  74. ,\n",
       "         82. ]])"
      ]
     },
     "execution_count": 48,
     "metadata": {},
     "output_type": "execute_result"
    }
   ],
   "source": [
    "#1. 텍스트 파일 불러오기\n",
    "data = np.loadtxt(\"height_weight.txt\", delimiter = \",\")\n",
    "data"
   ]
  },
  {
   "cell_type": "code",
   "execution_count": 49,
   "metadata": {},
   "outputs": [
    {
     "data": {
      "text/plain": [
       "(2, 10)"
      ]
     },
     "execution_count": 49,
     "metadata": {},
     "output_type": "execute_result"
    }
   ],
   "source": [
    "#2. shape을 통해 총 10명의 정보라는 것을 알 수 있음\n",
    "data.shape\n"
   ]
  },
  {
   "cell_type": "code",
   "execution_count": 50,
   "metadata": {},
   "outputs": [
    {
     "name": "stdout",
     "output_type": "stream",
     "text": [
      "\n",
      "height_cm\n",
      "[175.2 180.3 175.  169.2 185.2 188.  177.6 178.2 177.  179. ]\n",
      "\n",
      "height_m\n",
      "[1.752 1.803 1.75  1.692 1.852 1.88  1.776 1.782 1.77  1.79 ]\n",
      "\n",
      "weight_kg\n",
      "[65.6 88.  79.2 69.3 55.  71.2 73.  68.9 74.  82. ]\n",
      "\n",
      "BMI\n",
      "[21.37153104 27.07018468 25.86122449 24.20652885 16.03543423 20.14486193\n",
      " 23.14392095 21.69720651 23.62028791 25.59220998]\n",
      "\n"
     ]
    }
   ],
   "source": [
    "#3. 테이터를 키와 몸무게로 나누기\n",
    "height_cm = data[0]\n",
    "weight_kg = data[1]\n",
    "height_m = height_cm/100\n",
    "BMI = weight_kg/(height_m * height_m)\n",
    "\n",
    "print(f\"\"\"\n",
    "height_cm\n",
    "{height_cm}\n",
    "\n",
    "height_m\n",
    "{height_m}\n",
    "\n",
    "weight_kg\n",
    "{weight_kg}\n",
    "\n",
    "BMI\n",
    "{BMI}\n",
    "\"\"\")"
   ]
  },
  {
   "cell_type": "markdown",
   "metadata": {},
   "source": [
    "##### #2.   \n",
    "1. 텍스트 불러오기  \n",
    ": np.loadtxt(\"ratings.txt\", delimiter = \"::\", dtype = \"int\") \n",
    "    - 정수로 못 불러올 수도 있으니까 dtype = \"int\" "
   ]
  },
  {
   "cell_type": "code",
   "execution_count": 51,
   "metadata": {},
   "outputs": [
    {
     "data": {
      "text/plain": [
       "1000209"
      ]
     },
     "execution_count": 51,
     "metadata": {},
     "output_type": "execute_result"
    }
   ],
   "source": [
    "ratings = np.loadtxt(\"ratings.txt\", delimiter = \"::\", dtype=\"int\") \n",
    "len(ratings)"
   ]
  },
  {
   "cell_type": "code",
   "execution_count": 52,
   "metadata": {},
   "outputs": [
    {
     "name": "stdout",
     "output_type": "stream",
     "text": [
      "\n",
      "#2-1. 크기 확인 : (1000209, 4)\n",
      "#2-2. 차원 확인 : 2\n",
      "#2-3. 원소개수 확인 : 4000836\n",
      "#2-4. 1번 유저의 정보\n",
      "[[        1      1193         5 978300760]\n",
      " [        1       661         3 978302109]\n",
      " [        1       914         3 978301968]\n",
      " [        1      3408         4 978300275]\n",
      " [        1      2355         5 978824291]\n",
      " [        1      1197         3 978302268]\n",
      " [        1      1287         5 978302039]\n",
      " [        1      2804         5 978300719]\n",
      " [        1       594         4 978302268]\n",
      " [        1       919         4 978301368]\n",
      " [        1       595         5 978824268]\n",
      " [        1       938         4 978301752]\n",
      " [        1      2398         4 978302281]\n",
      " [        1      2918         4 978302124]\n",
      " [        1      1035         5 978301753]\n",
      " [        1      2791         4 978302188]\n",
      " [        1      2687         3 978824268]\n",
      " [        1      2018         4 978301777]\n",
      " [        1      3105         5 978301713]\n",
      " [        1      2797         4 978302039]\n",
      " [        1      2321         3 978302205]\n",
      " [        1       720         3 978300760]\n",
      " [        1      1270         5 978300055]\n",
      " [        1       527         5 978824195]\n",
      " [        1      2340         3 978300103]\n",
      " [        1        48         5 978824351]\n",
      " [        1      1097         4 978301953]\n",
      " [        1      1721         4 978300055]\n",
      " [        1      1545         4 978824139]\n",
      " [        1       745         3 978824268]\n",
      " [        1      2294         4 978824291]\n",
      " [        1      3186         4 978300019]\n",
      " [        1      1566         4 978824330]\n",
      " [        1       588         4 978824268]\n",
      " [        1      1907         4 978824330]\n",
      " [        1       783         4 978824291]\n",
      " [        1      1836         5 978300172]\n",
      " [        1      1022         5 978300055]\n",
      " [        1      2762         4 978302091]\n",
      " [        1       150         5 978301777]\n",
      " [        1         1         5 978824268]\n",
      " [        1      1961         5 978301590]\n",
      " [        1      1962         4 978301753]\n",
      " [        1      2692         4 978301570]\n",
      " [        1       260         4 978300760]\n",
      " [        1      1028         5 978301777]\n",
      " [        1      1029         5 978302205]\n",
      " [        1      1207         4 978300719]\n",
      " [        1      2028         5 978301619]\n",
      " [        1       531         4 978302149]\n",
      " [        1      3114         4 978302174]\n",
      " [        1       608         4 978301398]\n",
      " [        1      1246         4 978302091]]\n",
      "\n"
     ]
    }
   ],
   "source": [
    "#2. 정보 확인\n",
    "user_1 = ratings[ratings[:, 0]==1]\n",
    "\n",
    "print(f\"\"\"\n",
    "#2-1. 크기 확인 : {ratings.shape}\n",
    "#2-2. 차원 확인 : {ratings.ndim}\n",
    "#2-3. 원소개수 확인 : {ratings.size}\n",
    "#2-4. 1번 유저의 정보\n",
    "{ratings[ratings[:, 0]==1]}\n",
    "\"\"\")"
   ]
  },
  {
   "cell_type": "code",
   "execution_count": 69,
   "metadata": {},
   "outputs": [
    {
     "name": "stdout",
     "output_type": "stream",
     "text": [
      "\n",
      "아이디 정보 가져오기\n",
      "[   1    1    1 ... 6040 6040 6040]\n",
      "전체사용자의 평균 평점\n",
      "3.582\n",
      "1번사용자의 평균 평점\n",
      "4.189\n",
      "\n"
     ]
    }
   ],
   "source": [
    "print(f\"\"\"\n",
    "아이디 정보 가져오기\n",
    "{ratings[:, 0]}\n",
    "전체사용자의 평균 평점\n",
    "{np.ceil((np.mean(ratings[:, 2])*1000))/1000}\n",
    "1번사용자의 평균 평점\n",
    "{np.ceil((np.mean(user_1[:, 2])*1000))/1000}\n",
    "\"\"\")"
   ]
  },
  {
   "cell_type": "code",
   "execution_count": null,
   "metadata": {},
   "outputs": [],
   "source": []
  },
  {
   "cell_type": "code",
   "execution_count": null,
   "metadata": {},
   "outputs": [],
   "source": []
  },
  {
   "cell_type": "code",
   "execution_count": null,
   "metadata": {},
   "outputs": [],
   "source": []
  }
 ],
 "metadata": {
  "kernelspec": {
   "display_name": "Python 3.9.12 ('base')",
   "language": "python",
   "name": "python3"
  },
  "language_info": {
   "codemirror_mode": {
    "name": "ipython",
    "version": 3
   },
   "file_extension": ".py",
   "mimetype": "text/x-python",
   "name": "python",
   "nbconvert_exporter": "python",
   "pygments_lexer": "ipython3",
   "version": "3.9.12"
  },
  "orig_nbformat": 4,
  "vscode": {
   "interpreter": {
    "hash": "49e04899c6e094c3b61dd8509fde2649571811ca1eef12c1c216e72ad0930740"
   }
  }
 },
 "nbformat": 4,
 "nbformat_minor": 2
}
