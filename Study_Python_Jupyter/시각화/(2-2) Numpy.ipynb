{
 "cells": [
  {
   "cell_type": "code",
   "execution_count": 2,
   "metadata": {},
   "outputs": [],
   "source": [
    "import numpy as np"
   ]
  },
  {
   "cell_type": "markdown",
   "metadata": {},
   "source": [
    "####  Sort : 정렬하기\n",
    "    - 원본이 바뀌지 않아 변수를 할당해줘야 함"
   ]
  },
  {
   "cell_type": "markdown",
   "metadata": {},
   "source": [
    "1차원"
   ]
  },
  {
   "cell_type": "code",
   "execution_count": 8,
   "metadata": {},
   "outputs": [
    {
     "name": "stdout",
     "output_type": "stream",
     "text": [
      "1. 오름차순 np.sort(배열변수)\n",
      "[ 1  2  3  4  5  6  7  8  8  9 10]\n",
      "\n",
      "2. 내림차순 [::-1]\n",
      "[10  9  8  8  7  6  5  4  3  2  1]\n"
     ]
    }
   ],
   "source": [
    "arr = np.array([1, 10, 5,8,2,4,3,6,8,7,9])\n",
    "print(\"1. 오름차순 np.sort(배열변수)\")\n",
    "print(np.sort(arr))\n",
    "print(\"\")\n",
    "print(\"2. 내림차순 [::-1]\")\n",
    "print(np.sort(arr)[::-1])"
   ]
  },
  {
   "cell_type": "markdown",
   "metadata": {},
   "source": [
    "2차원"
   ]
  },
  {
   "cell_type": "code",
   "execution_count": 11,
   "metadata": {},
   "outputs": [
    {
     "data": {
      "text/plain": [
       "(3, 4)"
      ]
     },
     "execution_count": 11,
     "metadata": {},
     "output_type": "execute_result"
    }
   ],
   "source": [
    "arr2d=np.array([[5,6,7,8],\n",
    "              [4,3,2,1],\n",
    "              [10,9,12,11]])\n",
    "#1. shape 확인해서 몇행 몇열인지 알기\n",
    "arr2d.shape"
   ]
  },
  {
   "cell_type": "code",
   "execution_count": 17,
   "metadata": {},
   "outputs": [
    {
     "name": "stdout",
     "output_type": "stream",
     "text": [
      "\n",
      "#2. 열 정렬(왼쪽에서 오른쪽으로) : np.sort(arr2d, axis=1)\n",
      "[[ 5  6  7  8]\n",
      " [ 1  2  3  4]\n",
      " [ 9 10 11 12]]\n",
      "\n",
      "#3. 행 정렬(위에서 아래로) : np.sort(arr2d, axis = 0)\n",
      "[[ 4  3  2  1]\n",
      " [ 5  6  7  8]\n",
      " [10  9 12 11]]\n",
      "\n"
     ]
    }
   ],
   "source": [
    "print(f\"\"\"\n",
    "#2. 열 정렬(왼쪽에서 오른쪽으로) : np.sort(arr2d, axis=1)\n",
    "{np.sort(arr2d, axis=1)}\n",
    "\n",
    "#3. 행 정렬(위에서 아래로) : np.sort(arr2d, axis = 0)\n",
    "{np.sort(arr2d, axis = 0)}\n",
    "\"\"\")"
   ]
  },
  {
   "cell_type": "markdown",
   "metadata": {},
   "source": [
    "#### 최대, 최소값, 분산(var), 중앙값(median), 표준편차(std) "
   ]
  },
  {
   "cell_type": "code",
   "execution_count": 19,
   "metadata": {},
   "outputs": [
    {
     "name": "stdout",
     "output_type": "stream",
     "text": [
      "[[29 65 59 53 67]\n",
      " [42 41  3 54 77]\n",
      " [92 48 75 80 78]]\n"
     ]
    }
   ],
   "source": [
    "y = np.random.randint(100, size = (3,5))\n",
    "print(y)"
   ]
  },
  {
   "cell_type": "code",
   "execution_count": 24,
   "metadata": {},
   "outputs": [
    {
     "name": "stdout",
     "output_type": "stream",
     "text": [
      "\n",
      "#1. 평균 : np.mean(y) = 57.53333333333333\n",
      "#2. 합 : np.sum(y) = 863\n",
      "#3. 최대값 : np.max(y) = 92\n",
      "#4. 최소값 : np.min(y) = 3\n",
      "#5. 분산 : np.var(y) = 491.31555555555565\n",
      "#6. 중앙값 : np.median(y) = 59.0\n",
      "#7. 표준편차 : np.std(y) = 22.165639073926013\n",
      "\n"
     ]
    }
   ],
   "source": [
    "print(f\"\"\"\n",
    "#1. 평균 : np.mean(y) = {np.mean(y)}\n",
    "#2. 합 : np.sum(y) = {np.sum(y)}\n",
    "#3. 최대값 : np.max(y) = {np.max(y)}\n",
    "#4. 최소값 : np.min(y) = {np.min(y)}\n",
    "#5. 분산 : np.var(y) = {np.var(y)}\n",
    "#6. 중앙값 : np.median(y) = {np.median(y)}\n",
    "#7. 표준편차 : np.std(y) = {np.std(y)}\n",
    "\"\"\")"
   ]
  },
  {
   "cell_type": "code",
   "execution_count": null,
   "metadata": {},
   "outputs": [],
   "source": []
  },
  {
   "cell_type": "code",
   "execution_count": null,
   "metadata": {},
   "outputs": [],
   "source": []
  },
  {
   "cell_type": "code",
   "execution_count": null,
   "metadata": {},
   "outputs": [],
   "source": []
  }
 ],
 "metadata": {
  "kernelspec": {
   "display_name": "Python 3.9.12 ('base')",
   "language": "python",
   "name": "python3"
  },
  "language_info": {
   "codemirror_mode": {
    "name": "ipython",
    "version": 3
   },
   "file_extension": ".py",
   "mimetype": "text/x-python",
   "name": "python",
   "nbconvert_exporter": "python",
   "pygments_lexer": "ipython3",
   "version": "3.9.12"
  },
  "orig_nbformat": 4,
  "vscode": {
   "interpreter": {
    "hash": "49e04899c6e094c3b61dd8509fde2649571811ca1eef12c1c216e72ad0930740"
   }
  }
 },
 "nbformat": 4,
 "nbformat_minor": 2
}
