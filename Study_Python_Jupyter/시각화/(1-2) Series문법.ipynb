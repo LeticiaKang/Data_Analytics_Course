{
 "cells": [
  {
   "cell_type": "markdown",
   "metadata": {},
   "source": [
    "행과 열로 표현"
   ]
  },
  {
   "cell_type": "markdown",
   "metadata": {},
   "source": [
    "Series : 인덱스와 value로 구성된 Series"
   ]
  },
  {
   "cell_type": "code",
   "execution_count": 2,
   "metadata": {},
   "outputs": [],
   "source": [
    "#1. 라이브러이 불러오기\n",
    "import pandas as pd"
   ]
  },
  {
   "cell_type": "code",
   "execution_count": 3,
   "metadata": {},
   "outputs": [
    {
     "data": {
      "text/plain": [
       "0    9668465\n",
       "1    3391946\n",
       "2    2932828\n",
       "3    1450062\n",
       "dtype: int64"
      ]
     },
     "execution_count": 3,
     "metadata": {},
     "output_type": "execute_result"
    }
   ],
   "source": [
    "#2. 시리즈 생성하기\n",
    "population = pd.Series([9668465, 3391946, 2932828, 1450062])\n",
    "population"
   ]
  },
  {
   "cell_type": "markdown",
   "metadata": {},
   "source": [
    "# 3. 시리즈 인덱스 지정하기"
   ]
  },
  {
   "cell_type": "code",
   "execution_count": 4,
   "metadata": {},
   "outputs": [
    {
     "data": {
      "text/plain": [
       "서울    9668465\n",
       "부산    3391946\n",
       "인천    2932828\n",
       "광주    1450062\n",
       "dtype: int64"
      ]
     },
     "execution_count": 4,
     "metadata": {},
     "output_type": "execute_result"
    }
   ],
   "source": [
    "\n",
    "population = pd.Series([9668465, 3391946, 2932828, 1450062],\n",
    "                       index = [\"서울\", \"부산\", \"인천\", \"광주\"])\n",
    "population\n"
   ]
  },
  {
   "cell_type": "markdown",
   "metadata": {},
   "source": [
    "# 4.  Series값 확인\n",
    "# 5.  Series인덱스 확인\n",
    "# 6.  Series타입 확인"
   ]
  },
  {
   "cell_type": "code",
   "execution_count": 5,
   "metadata": {},
   "outputs": [
    {
     "name": "stdout",
     "output_type": "stream",
     "text": [
      "[9668465 3391946 2932828 1450062]\n",
      "Index(['서울', '부산', '인천', '광주'], dtype='object')\n",
      "int64\n"
     ]
    }
   ],
   "source": [
    "\n",
    "print(population.values)\n",
    "\n",
    "print(population.index)\n",
    "\n",
    "print(population.dtype)"
   ]
  },
  {
   "cell_type": "markdown",
   "metadata": {},
   "source": [
    "# 7. Series에 이름 지정 / 인덱스 명 지정"
   ]
  },
  {
   "cell_type": "code",
   "execution_count": 6,
   "metadata": {},
   "outputs": [
    {
     "data": {
      "text/plain": [
       "도시\n",
       "서울    9668465\n",
       "부산    3391946\n",
       "인천    2932828\n",
       "광주    1450062\n",
       "Name: 인구, dtype: int64"
      ]
     },
     "execution_count": 6,
     "metadata": {},
     "output_type": "execute_result"
    }
   ],
   "source": [
    "\n",
    "population.name = '인구'   #데이터프레임의 이름 설정\n",
    "population.index.name = \"도시\"  #인덱스의 이름 바꾸기\n",
    "population\n",
    "\n",
    "# * series.index = [\"name1\", \"name2\", \"name1\" ···]"
   ]
  },
  {
   "cell_type": "markdown",
   "metadata": {},
   "source": [
    "# 8. 연산"
   ]
  },
  {
   "cell_type": "code",
   "execution_count": 7,
   "metadata": {},
   "outputs": [
    {
     "data": {
      "text/plain": [
       "도시\n",
       "서울    9.668465\n",
       "부산    3.391946\n",
       "인천    2.932828\n",
       "광주    1.450062\n",
       "Name: 인구, dtype: float64"
      ]
     },
     "execution_count": 7,
     "metadata": {},
     "output_type": "execute_result"
    }
   ],
   "source": [
    "\n",
    "population_div = population/1000000\n",
    "population_div"
   ]
  },
  {
   "cell_type": "markdown",
   "metadata": {},
   "source": [
    "# 9. 인덱싱 - '번호'와 '이름'으로 지정해서 출력 가능"
   ]
  },
  {
   "cell_type": "code",
   "execution_count": 8,
   "metadata": {},
   "outputs": [
    {
     "name": "stdout",
     "output_type": "stream",
     "text": [
      "3391946 3391946\n",
      "1450062 1450062\n"
     ]
    },
    {
     "data": {
      "text/plain": [
       "4"
      ]
     },
     "execution_count": 8,
     "metadata": {},
     "output_type": "execute_result"
    }
   ],
   "source": [
    "\n",
    "print(population[1],population[\"부산\"])\n",
    "print(population[3],population[\"광주\"])\n",
    "len(population)"
   ]
  },
  {
   "cell_type": "markdown",
   "metadata": {},
   "source": [
    "# 10. 인덱싱 - 원하는 행을 출력하고 싶을 땐 리스트안에 원하는 번호나 문자를 넣어서 인덱싱"
   ]
  },
  {
   "cell_type": "code",
   "execution_count": 9,
   "metadata": {},
   "outputs": [
    {
     "name": "stdout",
     "output_type": "stream",
     "text": [
      "도시\n",
      "서울    9668465\n",
      "광주    1450062\n",
      "부산    3391946\n",
      "Name: 인구, dtype: int64 \n",
      "\n",
      "도시\n",
      "서울    9668465\n",
      "광주    1450062\n",
      "부산    3391946\n",
      "Name: 인구, dtype: int64\n"
     ]
    }
   ],
   "source": [
    "\n",
    "print(population[[0, 3, 1]], \"\\n\")\n",
    "print(population[[\"서울\", \"광주\", \"부산\"]])"
   ]
  },
  {
   "cell_type": "markdown",
   "metadata": {},
   "source": [
    "# 11. 조건문, Boolean 인덱싱으로 원하는 데이터 가져오기"
   ]
  },
  {
   "cell_type": "code",
   "execution_count": 10,
   "metadata": {},
   "outputs": [
    {
     "name": "stdout",
     "output_type": "stream",
     "text": [
      "도시\n",
      "서울     True\n",
      "부산     True\n",
      "인천     True\n",
      "광주    False\n",
      "Name: 인구, dtype: bool \n",
      "\n",
      "250만 이상 도시\n",
      "서울    9668465\n",
      "부산    3391946\n",
      "인천    2932828\n",
      "Name: 인구, dtype: int64 \n",
      "\n",
      "300만 이상 도시\n",
      "서울    9668465\n",
      "부산    3391946\n",
      "Name: 인구, dtype: int64 \n",
      "\n",
      "250이상 500이하 도시\n",
      "부산    3391946\n",
      "인천    2932828\n",
      "Name: 인구, dtype: int64 \n",
      "\n",
      "250이상 500이하 도시\n",
      "부산    3391946\n",
      "인천    2932828\n",
      "Name: 인구, dtype: int64\n"
     ]
    }
   ],
   "source": [
    "\n",
    "print(population >= 2500000, \"\\n\")\n",
    "print(\"250만 이상\",population[population >= 2500000], \"\\n\")\n",
    "print(\"300만 이상\",population[population >= 3000000], \"\\n\")\n",
    "print(\"250이상 500이하\", population[population >= 2500000][population <= 5000000 ], \"\\n\")\n",
    "print(\"250이상 500이하\", population[(population >= 2500000) & (population <= 5000000)])"
   ]
  },
  {
   "cell_type": "markdown",
   "metadata": {},
   "source": [
    "# 12. 슬라이싱(시리즈) : 숫자, 문자 가능"
   ]
  },
  {
   "cell_type": "code",
   "execution_count": 11,
   "metadata": {},
   "outputs": [
    {
     "name": "stdout",
     "output_type": "stream",
     "text": [
      "도시\n",
      "부산    3391946\n",
      "인천    2932828\n",
      "Name: 인구, dtype: int64 \n",
      "\n",
      "도시\n",
      "부산    3391946\n",
      "인천    2932828\n",
      "Name: 인구, dtype: int64 \n",
      "\n"
     ]
    }
   ],
   "source": [
    "\n",
    "print(population[1:3], \"\\n\")\n",
    "# population\n",
    "print(population[\"부산\" : \"인천\"], \"\\n\")"
   ]
  },
  {
   "cell_type": "markdown",
   "metadata": {},
   "source": [
    "# 13. Dictionary객체로 Series생성하기\n",
    "- key는 인덱스로, value는 데이터로 들어감"
   ]
  },
  {
   "cell_type": "code",
   "execution_count": 12,
   "metadata": {},
   "outputs": [
    {
     "name": "stdout",
     "output_type": "stream",
     "text": [
      "피카츄     9631\n",
      "꼬부기     3393\n",
      "파이리     1490\n",
      "이상해씨    2632\n",
      "dtype: int64 \n",
      "\n",
      "피카츄    9904\n",
      "꼬부기    3448\n",
      "이브이    2466\n",
      "뮤      2890\n",
      "dtype: int64\n"
     ]
    }
   ],
   "source": [
    "\n",
    "data = {\"피카츄\" : 9631, \"꼬부기\" : 3393,\n",
    "        \"파이리\" : 1490, \"이상해씨\" : 2632}\n",
    "pokemon = pd.Series(data)\n",
    "data2= {\"피카츄\" : 9904, \"꼬부기\" : 3448,\n",
    "        \"이브이\" : 2466, \"뮤\" : 2890}\n",
    "pokemon_up = pd.Series(data2)\n",
    "print(pokemon, \"\\n\")\n",
    "print(pokemon_up)"
   ]
  },
  {
   "cell_type": "markdown",
   "metadata": {},
   "source": [
    "- #numpy는 연산자체가 안되는데, pandas는 가능함. \n",
    "- #딕셔너리에서는 연산이 어렵기때문에 Pandas로 변형시켜서 하는 경우가 많음."
   ]
  },
  {
   "cell_type": "code",
   "execution_count": 13,
   "metadata": {},
   "outputs": [
    {
     "name": "stdout",
     "output_type": "stream",
     "text": [
      "꼬부기      55.0\n",
      "뮤         NaN\n",
      "이브이       NaN\n",
      "이상해씨      NaN\n",
      "파이리       NaN\n",
      "피카츄     273.0\n",
      "dtype: float64 \n",
      "\n"
     ]
    }
   ],
   "source": [
    "#레벨업해서 올라간 공격력을 계산하시오\n",
    "attack = pokemon_up - pokemon\n",
    "print(attack, \"\\n\")"
   ]
  },
  {
   "cell_type": "markdown",
   "metadata": {},
   "source": [
    "# 14. 데이터가 있는 값만 출력하기\n",
    "    - attack[attack.notnull()]"
   ]
  },
  {
   "cell_type": "code",
   "execution_count": 14,
   "metadata": {},
   "outputs": [
    {
     "name": "stdout",
     "output_type": "stream",
     "text": [
      "꼬부기      True\n",
      "뮤       False\n",
      "이브이     False\n",
      "이상해씨    False\n",
      "파이리     False\n",
      "피카츄      True\n",
      "dtype: bool \n",
      "\n",
      "꼬부기     55.0\n",
      "피카츄    273.0\n",
      "dtype: float64 \n",
      "\n"
     ]
    }
   ],
   "source": [
    "print(attack.notnull(), \"\\n\") #notnull은 boolean으로 변형함\n",
    "print(attack[attack.notnull()], \"\\n\") "
   ]
  },
  {
   "cell_type": "code",
   "execution_count": 15,
   "metadata": {},
   "outputs": [
    {
     "name": "stdout",
     "output_type": "stream",
     "text": [
      "꼬부기     1.595128\n",
      "뮤            NaN\n",
      "이브이          NaN\n",
      "이상해씨         NaN\n",
      "파이리          NaN\n",
      "피카츄     2.756462\n",
      "dtype: float64 \n",
      "\n",
      "꼬부기    1.595128\n",
      "피카츄    2.756462\n",
      "dtype: float64 \n",
      "\n"
     ]
    }
   ],
   "source": [
    "#14. 레벨업해서 올라간 공격력의 증가율(%)을 계산\n",
    "rp = ((pokemon_up - pokemon) / pokemon_up)*100 \n",
    "print(rp, \"\\n\") \n",
    "print(rp[rp.notnull()], \"\\n\") \n"
   ]
  },
  {
   "cell_type": "code",
   "execution_count": 21,
   "metadata": {},
   "outputs": [
    {
     "data": {
      "text/plain": [
       "꼬부기      55.0\n",
       "피카츄     273.0\n",
       "파이리    1616.0\n",
       "리자몽    8888.0\n",
       "dtype: float64"
      ]
     },
     "execution_count": 21,
     "metadata": {},
     "output_type": "execute_result"
    }
   ],
   "source": [
    "#15. 데이터 갱신, 추가, 삭제하기\n",
    "attack_notnull = attack[attack.notnull()]\n",
    "attack_notnull[\"파이리\"] = 1616\n",
    "attack_notnull[\"리자몽\"] = 8888\n",
    "attack_notnull\n",
    "# attack_del = attack[attack.notnull()]\n",
    "# attack_del\n"
   ]
  }
 ],
 "metadata": {
  "kernelspec": {
   "display_name": "Python 3.9.12 ('base')",
   "language": "python",
   "name": "python3"
  },
  "language_info": {
   "codemirror_mode": {
    "name": "ipython",
    "version": 3
   },
   "file_extension": ".py",
   "mimetype": "text/x-python",
   "name": "python",
   "nbconvert_exporter": "python",
   "pygments_lexer": "ipython3",
   "version": "3.9.12"
  },
  "orig_nbformat": 4,
  "vscode": {
   "interpreter": {
    "hash": "49e04899c6e094c3b61dd8509fde2649571811ca1eef12c1c216e72ad0930740"
   }
  }
 },
 "nbformat": 4,
 "nbformat_minor": 2
}
