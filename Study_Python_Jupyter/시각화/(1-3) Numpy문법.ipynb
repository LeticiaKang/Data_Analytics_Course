{
 "cells": [
  {
   "cell_type": "code",
   "execution_count": 222,
   "metadata": {},
   "outputs": [],
   "source": [
    "import numpy as np"
   ]
  },
  {
   "cell_type": "markdown",
   "metadata": {},
   "source": [
    "## 1. 배열 생성 : np.array(리스트)"
   ]
  },
  {
   "cell_type": "markdown",
   "metadata": {},
   "source": [
    "### 1-1. NPARRAY생성하기 : 1차원"
   ]
  },
  {
   "cell_type": "code",
   "execution_count": 223,
   "metadata": {},
   "outputs": [
    {
     "name": "stdout",
     "output_type": "stream",
     "text": [
      "list_1 : [1, 2, 3, 4, 5]\n",
      "arr : [1 2 3 4 5]\n",
      "arr_1 : [1 2 3 4 5]\n"
     ]
    }
   ],
   "source": [
    "list_1 = [1,2,3,4,5]\n",
    "print(\"list_1 :\", list_1)\n",
    "\n",
    "arr = np.array(list1)\n",
    "print(\"arr :\", arr)\n",
    "\n",
    "arr_1 = np.array([1,2,3,4,5])\n",
    "print(\"arr_1 :\", arr_1)"
   ]
  },
  {
   "cell_type": "markdown",
   "metadata": {},
   "source": [
    "### 1-2.NPARRAY생성하기 : 2차원"
   ]
  },
  {
   "cell_type": "code",
   "execution_count": 224,
   "metadata": {},
   "outputs": [
    {
     "name": "stdout",
     "output_type": "stream",
     "text": [
      "arr_2 :\n",
      " [[1 2 3]\n",
      " [4 5 6]]\n",
      "  ※ 동일한 열의 개수를 가지고 있어야 함\n"
     ]
    }
   ],
   "source": [
    "arr_2 = np.array([[1,2,3], [4,5,6]])\n",
    "print(\"arr_2 :\\n\", arr_2)\n",
    "print(\"  ※ 동일한 열의 개수를 가지고 있어야 함\")"
   ]
  },
  {
   "cell_type": "markdown",
   "metadata": {},
   "source": [
    "### 1-3. 3차원 행렬 만들기"
   ]
  },
  {
   "cell_type": "code",
   "execution_count": 229,
   "metadata": {},
   "outputs": [
    {
     "name": "stdout",
     "output_type": "stream",
     "text": [
      "[[[1 2]\n",
      "  [4 5]]\n",
      "\n",
      " [[7 8]\n",
      "  [6 9]]]\n",
      "arr_3.shape : (2, 2, 2)\n",
      "arr_3.ndim : 3\n",
      "arr_3.size : 8\n"
     ]
    }
   ],
   "source": [
    "arr_3 = np.array([[[1,2], \n",
    "                  [4,5]], \n",
    "                  [[7,8], [6,9]]])\n",
    "\n",
    "print(arr_3)\n",
    "print(f\"arr_3.shape : {arr_3.shape}\")\n",
    "print(f\"arr_3.ndim : {arr_3.ndim}\")\n",
    "print(f\"arr_3.size : {arr_3.size}\")"
   ]
  },
  {
   "cell_type": "markdown",
   "metadata": {},
   "source": [
    "## 2. 배열의 형태 확인하기 : shpae  \n",
    "→ output : (n,), (n,m), (n,m,k)"
   ]
  },
  {
   "cell_type": "code",
   "execution_count": 225,
   "metadata": {},
   "outputs": [
    {
     "name": "stdout",
     "output_type": "stream",
     "text": [
      "[1 2 3 4 5]\n",
      "arr_1.shape : (5,)\n",
      "\n",
      "[[1 2 3]\n",
      " [4 5 6]]\n",
      "arr_2.shape : (2, 3)\n",
      "  → 2행의 3열을 가진 행렬을 뜻함\n"
     ]
    }
   ],
   "source": [
    "print(arr_1)\n",
    "print(f\"arr_1.shape : {arr_1.shape}\\n\")\n",
    "\n",
    "print(arr_2)\n",
    "print(f\"\"\"arr_2.shape : {arr_2.shape}\n",
    "  → 2행의 3열을 가진 행렬을 뜻함\"\"\")"
   ]
  },
  {
   "cell_type": "markdown",
   "metadata": {},
   "source": [
    "## 3. 배열의 요소 개수 : size  \n",
    "→ output : (n,), (n,m), (n,m,k)의 모든 값의 곱"
   ]
  },
  {
   "cell_type": "code",
   "execution_count": 226,
   "metadata": {},
   "outputs": [
    {
     "name": "stdout",
     "output_type": "stream",
     "text": [
      "[1 2 3 4 5]\n",
      "arr_1.size : 5\n",
      "[[1 2 3]\n",
      " [4 5 6]]\n",
      "arr_2.size : 6\n"
     ]
    }
   ],
   "source": [
    "print(arr_1)\n",
    "print(f\"\"\"arr_1f.size : {arr_1.size}\"\"\")\n",
    "\n",
    "print(arr_2)\n",
    "print(f\"\"\"arr_2.size : {arr_2.size}\"\"\")"
   ]
  },
  {
   "cell_type": "markdown",
   "metadata": {},
   "source": []
  },
  {
   "cell_type": "markdown",
   "metadata": {},
   "source": [
    "## 4. 배열의 타입 확인 : dtype"
   ]
  },
  {
   "cell_type": "code",
   "execution_count": 227,
   "metadata": {},
   "outputs": [
    {
     "name": "stdout",
     "output_type": "stream",
     "text": [
      "[1 2 3 4 5]\n",
      "arr_1.dtype : int32\n"
     ]
    }
   ],
   "source": [
    "print(arr_1)\n",
    "print(f\"\"\"arr_1.dtype : {arr_1.dtype}\"\"\")"
   ]
  },
  {
   "cell_type": "markdown",
   "metadata": {},
   "source": [
    "## 5. 배열의 차원(Dimension) 확인 : ndim "
   ]
  },
  {
   "cell_type": "code",
   "execution_count": 228,
   "metadata": {},
   "outputs": [
    {
     "name": "stdout",
     "output_type": "stream",
     "text": [
      "[1 2 3 4 5]\n",
      "arr_1.ndim : 1\n"
     ]
    }
   ],
   "source": [
    "print(arr_1)\n",
    "print(f\"\"\"arr_1.ndim : {arr_1.ndim}\"\"\")"
   ]
  },
  {
   "cell_type": "code",
   "execution_count": 230,
   "metadata": {},
   "outputs": [],
   "source": [
    "# arr_3_1 = np.append(arr_2, np.array([7,8,9]))\n",
    "# arr_3_1"
   ]
  },
  {
   "cell_type": "markdown",
   "metadata": {},
   "source": [
    "## 6. 특정한 값으로 배열 생성하기\n",
    "- arr_ones = np.ones((3,4))\n",
    "- arr_full = np.full((3,4), 8)"
   ]
  },
  {
   "cell_type": "code",
   "execution_count": 231,
   "metadata": {},
   "outputs": [
    {
     "name": "stdout",
     "output_type": "stream",
     "text": [
      "arr_zeros\n",
      " [[0. 0. 0. 0.]\n",
      " [0. 0. 0. 0.]\n",
      " [0. 0. 0. 0.]]\n",
      "arr_ones\n",
      " [[1. 1. 1. 1.]\n",
      " [1. 1. 1. 1.]\n",
      " [1. 1. 1. 1.]]\n",
      "arr_full\n",
      " [[8 8 8 8]\n",
      " [8 8 8 8]\n",
      " [8 8 8 8]]\n"
     ]
    }
   ],
   "source": [
    "arr_zeros = np.zeros((3,4))\n",
    "print(\"arr_zeros\\n\", arr_zeros)\n",
    "# 실수로 이루어짐\n",
    "arr_ones = np.ones((3,4))\n",
    "print(\"arr_ones\\n\", arr_ones)\n",
    "\n",
    "arr_full = np.full((3,4), 8)\n",
    "print(\"arr_full\\n\", arr_full)"
   ]
  },
  {
   "cell_type": "code",
   "execution_count": 232,
   "metadata": {},
   "outputs": [
    {
     "name": "stdout",
     "output_type": "stream",
     "text": [
      "< oneTofifty >\n",
      " [1, 2, 3, 4, 5, 6, 7, 8, 9, 10, 11, 12, 13, 14, 15, 16, 17, 18, 19, 20, 21, 22, 23, 24, 25, 26, 27, 28, 29, 30, 31, 32, 33, 34, 35, 36, 37, 38, 39, 40, 41, 42, 43, 44, 45, 46, 47, 48, 49, 50]\n",
      "< arr >\n",
      "[ 1  2  3  4  5  6  7  8  9 10 11 12 13 14 15 16 17 18 19 20 21 22 23 24\n",
      " 25 26 27 28 29 30 31 32 33 34 35 36 37 38 39 40 41 42 43 44 45 46 47 48\n",
      " 49 50]\n"
     ]
    }
   ],
   "source": [
    "oneTofifty = []\n",
    "for i in range(1,51):\n",
    "    oneTofifty.append(i)\n",
    "print(\"< oneTofifty >\\n\", oneTofifty)\n",
    "arr = np.array(oneTofifty)\n",
    "print(\"< arr >\")\n",
    "print(arr)"
   ]
  },
  {
   "cell_type": "markdown",
   "metadata": {},
   "source": [
    "### 6-1. 1~50까지 10간격으로 넣기"
   ]
  },
  {
   "cell_type": "code",
   "execution_count": 233,
   "metadata": {},
   "outputs": [
    {
     "name": "stdout",
     "output_type": "stream",
     "text": [
      "< arr >\n",
      "[ 1  2  3  4  5  6  7  8  9 10 11 12 13 14 15 16 17 18 19 20 21 22 23 24\n",
      " 25 26 27 28 29 30 31 32 33 34 35 36 37 38 39 40 41 42 43 44 45 46 47 48\n",
      " 49 50]\n",
      "\n",
      "< arr >\n",
      "[ 1 11 21 31 41]\n"
     ]
    }
   ],
   "source": [
    "arr = np.arange(1,51)\n",
    "print(f\"< arr >\\n{arr}\\n\")\n",
    "#10씩 차이나게 넣고 싶을 때\n",
    "arr = np.arange(1,51,10)\n",
    "print(f\"< arr >\\n{arr}\")"
   ]
  },
  {
   "cell_type": "markdown",
   "metadata": {},
   "source": [
    "랜덤 값 배열 생성하기 : np.random.rand(n,m)  \n",
    "→ 0에서 1사이에 n행, m열 행렬을 만들어줘"
   ]
  },
  {
   "cell_type": "code",
   "execution_count": 234,
   "metadata": {},
   "outputs": [
    {
     "name": "stdout",
     "output_type": "stream",
     "text": [
      "< arr >\n",
      "[[0.57362656 0.85005858 0.93328812]\n",
      " [0.00518853 0.13216473 0.86858672]]\n"
     ]
    }
   ],
   "source": [
    "arr = np.random.rand(2,3)\n",
    "print(f\"< arr >\\n{arr}\")"
   ]
  },
  {
   "cell_type": "markdown",
   "metadata": {},
   "source": [
    "## 7. 랜덤 값 배열 생성하기 : np.random.randint(n,m, size = (2,4))  \n",
    "→ n에서 m사이의 숫자들로 구성된 (2,3)행렬 만들어줘"
   ]
  },
  {
   "cell_type": "code",
   "execution_count": 236,
   "metadata": {},
   "outputs": [
    {
     "name": "stdout",
     "output_type": "stream",
     "text": [
      "< arr >\n",
      "[[16 18 15  8 13]\n",
      " [ 3  4  4  4  7]\n",
      " [ 0 15  5 11  8]]\n"
     ]
    }
   ],
   "source": [
    "arr = np.random.randint(0,20, size = (3, 5))\n",
    "print(f\"< arr >\\n{arr}\")"
   ]
  },
  {
   "cell_type": "markdown",
   "metadata": {},
   "source": [
    "### 7-1. 랜덤 값 배열 생성하기 : np.random.randint(n,m)  \n",
    "→ n에서 m사이에서 숫자 \"하나\" 선택"
   ]
  },
  {
   "cell_type": "code",
   "execution_count": 235,
   "metadata": {},
   "outputs": [
    {
     "name": "stdout",
     "output_type": "stream",
     "text": [
      "< arr >\n",
      "10\n"
     ]
    }
   ],
   "source": [
    "arr = np.random.randint(0,20)\n",
    "print(f\"< arr >\\n{arr}\")"
   ]
  },
  {
   "cell_type": "markdown",
   "metadata": {},
   "source": [
    "## 8. 타입 지정하여 배열 생성하기 : np.array([~], dtype = np.int64)  \n",
    "→ [~]안에 있는 요소를 지정한 dtype으로 바꿔줌"
   ]
  },
  {
   "cell_type": "code",
   "execution_count": 237,
   "metadata": {},
   "outputs": [
    {
     "name": "stdout",
     "output_type": "stream",
     "text": [
      "< arr_type >\n",
      "[1 2 4]\n"
     ]
    }
   ],
   "source": [
    "arr_type = np.array([1.2, 2.3, 4.1], dtype = np.int64)\n",
    "print(f\"< arr_type >\\n{arr_type}\")"
   ]
  },
  {
   "cell_type": "markdown",
   "metadata": {},
   "source": [
    "## 9. 지정된 타입 변경하기 : astype"
   ]
  },
  {
   "cell_type": "code",
   "execution_count": 238,
   "metadata": {},
   "outputs": [
    {
     "name": "stdout",
     "output_type": "stream",
     "text": [
      "< arr_type > \n",
      " [1. 2. 4.]\n",
      "확인작업 arr_type.dtype : float64\n"
     ]
    }
   ],
   "source": [
    "arr_type = arr_type.astype(\"float64\")\n",
    "print(f\"< arr_type > \\n {arr_type}\")\n",
    "print(f\"확인작업 arr_type.dtype : {arr_type.dtype}\")"
   ]
  },
  {
   "cell_type": "markdown",
   "metadata": {},
   "source": [
    "수치해석"
   ]
  },
  {
   "cell_type": "code",
   "execution_count": 239,
   "metadata": {},
   "outputs": [
    {
     "name": "stdout",
     "output_type": "stream",
     "text": [
      "arr\n",
      " [1 2 3]\n",
      "\n",
      "arr + arr\n",
      " [2 4 6]\n",
      "\n",
      "arr * arr\n",
      " [1 4 9]\n",
      "\n",
      "각 요소별로 연산이 되는 것을 알 수 있음\n"
     ]
    }
   ],
   "source": [
    "arr = np.array([1,2,3])\n",
    "print(f\"arr\\n {arr}\\n\")\n",
    "print(f\"arr + arr\\n {arr+arr}\\n\")\n",
    "print(f\"arr * arr\\n {arr*arr}\\n\")\n",
    "print(\"각 요소별로 연산이 되는 것을 알 수 있음\")"
   ]
  },
  {
   "cell_type": "code",
   "execution_count": 240,
   "metadata": {},
   "outputs": [
    {
     "name": "stdout",
     "output_type": "stream",
     "text": [
      "arr_a\n",
      " [1 2 3]\n",
      "arr_b\n",
      " [4 5 6]\n",
      "\n",
      "arr_a + arr_b\n",
      " [5 7 9]\n",
      "\n",
      "열의 개수가 같아야 됨\n"
     ]
    }
   ],
   "source": [
    "arr_a = np.array([1,2,3])\n",
    "arr_b = np.array([4,5,6])\n",
    "print(f\"arr_a\\n {arr_a}\")\n",
    "print(f\"arr_b\\n {arr_b}\\n\")\n",
    "print(f\"arr_a + arr_b\\n {arr_a+arr_b}\\n\")\n",
    "print(\"열의 개수가 같아야 됨\")"
   ]
  },
  {
   "cell_type": "code",
   "execution_count": 241,
   "metadata": {},
   "outputs": [
    {
     "name": "stdout",
     "output_type": "stream",
     "text": [
      "arr_a\n",
      " [[1 2 3]\n",
      " [5 6 7]]\n",
      "arr_b\n",
      " [[ 4  5  6]\n",
      " [11 14 16]]\n",
      "\n",
      "arr_a + arr_b\n",
      " [[ 5  7  9]\n",
      " [16 20 23]]\n",
      "\n",
      "arr_a - arr_b\n",
      " [[-3 -3 -3]\n",
      " [-6 -8 -9]]\n",
      "\n"
     ]
    }
   ],
   "source": [
    "arr_a = np.array([[1,2,3], [5,6,7]])\n",
    "arr_b = np.array([[4,5,6], [11,14,16]])\n",
    "print(f\"arr_a\\n {arr_a}\")\n",
    "print(f\"arr_b\\n {arr_b}\\n\")\n",
    "print(f\"arr_a + arr_b\\n {arr_a+arr_b}\\n\")\n",
    "print(f\"arr_a - arr_b\\n {arr_a-arr_b}\\n\")"
   ]
  },
  {
   "cell_type": "code",
   "execution_count": 242,
   "metadata": {},
   "outputs": [
    {
     "name": "stdout",
     "output_type": "stream",
     "text": [
      "arr_a\n",
      " [[1 2 3]\n",
      " [5 6 7]]\n",
      "\n",
      "arr_a + 3\n",
      " [[ 4  5  6]\n",
      " [ 8  9 10]]\n",
      "각 요소에 숫자를 더함\n"
     ]
    }
   ],
   "source": [
    "print(f'arr_a\\n {arr_a}\\n')\n",
    "print(f'arr_a + 3\\n {arr_a + 3}')\n",
    "print(\"각 요소에 숫자를 더함\")"
   ]
  },
  {
   "cell_type": "markdown",
   "metadata": {},
   "source": [
    "## 10. Indexing 과 Slicing  \n",
    "-- 손쉽게(빠르게) 자료를 찾아가기 위해 사용"
   ]
  },
  {
   "cell_type": "code",
   "execution_count": 243,
   "metadata": {},
   "outputs": [
    {
     "name": "stdout",
     "output_type": "stream",
     "text": [
      "arr_1 \n",
      "[0 1 2 3 4 5]\n",
      "인덱싱 arr_1[2]  : 2\n",
      "슬라이싱 arr_1[0:3]  : [0 1 2]\n"
     ]
    }
   ],
   "source": [
    "arr_1 = np.array([0,1,2,3,4,5])\n",
    "print(f'arr_1 \\n{arr_1}')\n",
    "print(f'인덱싱 arr_1[2]  : {arr_1[2]}')\n",
    "print(f'슬라이싱 arr_1[0:3]  : {arr_1[0:3]}')"
   ]
  },
  {
   "cell_type": "code",
   "execution_count": 244,
   "metadata": {},
   "outputs": [
    {
     "name": "stdout",
     "output_type": "stream",
     "text": [
      "arr \n",
      "[[1 2 3]\n",
      " [4 5 6]]\n",
      "인덱싱 arr[0]  : [1 2 3]\n",
      "인덱싱 arr[0][0]  : 2\n",
      "인덱싱 arr[0][0::]  : [1 2 3]\n",
      "인덱싱 arr[0,0]  : 1\n"
     ]
    }
   ],
   "source": [
    "arr = np.array([[1,2,3], [4,5,6]])\n",
    "print(f'arr \\n{arr}')\n",
    "print(f'인덱싱 arr[0]  : {arr[0]}')\n",
    "print(f'인덱싱 arr[0][0]  : {arr[0][1]}')\n",
    "print(f'인덱싱 arr[0][0::]  : {arr[0][0::]}')\n",
    "print(f'인덱싱 arr[0,0]  : {arr[0,0]}')"
   ]
  },
  {
   "cell_type": "code",
   "execution_count": 245,
   "metadata": {},
   "outputs": [
    {
     "name": "stdout",
     "output_type": "stream",
     "text": [
      "arr[1][0] : 4\n",
      "arr[1,0] : 4\n",
      "--------------------------\n",
      "arr[1][2] : 6\n",
      "arr[1,2] : 6\n",
      "--------------------------\n",
      "arr[1][0::] : [4 5 6]\n",
      "arr[1] : [4 5 6]\n"
     ]
    }
   ],
   "source": [
    "print(f\"\"\"arr[1][0] : {arr[1][0]}\n",
    "arr[1,0] : {arr[1,0]}\n",
    "--------------------------\"\"\")\n",
    "print(f\"\"\"arr[1][2] : {arr[1][2]}\n",
    "arr[1,2] : {arr[1,2]}\n",
    "--------------------------\"\"\")\n",
    "print(f\"\"\"arr[1][0::] : {arr[1][0::]}\n",
    "arr[1] : {arr[1]}\"\"\")"
   ]
  },
  {
   "cell_type": "code",
   "execution_count": 246,
   "metadata": {},
   "outputs": [
    {
     "name": "stdout",
     "output_type": "stream",
     "text": [
      "arr1 \n",
      "[0 1 2 3 4 5 6 7 8 9]\n",
      "슬라이싱(1에서 3번까지) arr1[1:4]  : [1 2 3]\n",
      "슬라이싱(간격 2) arr1[::2]  : [0 2 4 6 8]\n",
      "슬라이싱(0에서 7까지) arr1[:8]  : [0 1 2 3 4 5 6 7]\n"
     ]
    }
   ],
   "source": [
    "arr1 = np.arange(10)\n",
    "print(f'arr1 \\n{arr1}')\n",
    "print(f'슬라이싱(1에서 3번까지) arr1[1:4]  : {arr1[1:4]}')\n",
    "print(f'슬라이싱(간격 2) arr1[::2]  : {arr1[::2]}')\n",
    "print(f'슬라이싱(0에서 7까지) arr1[:8]  : {arr1[:8]}')"
   ]
  },
  {
   "cell_type": "code",
   "execution_count": 247,
   "metadata": {},
   "outputs": [
    {
     "data": {
      "text/plain": [
       "array([ 0,  1,  2, 12, 12, 12, 12, 12,  8,  9])"
      ]
     },
     "execution_count": 247,
     "metadata": {},
     "output_type": "execute_result"
    }
   ],
   "source": [
    "# 슬라이싱한 곳에 한번에 데이터 넣기\n",
    "arr1[3:8] =12\n",
    "#3에서 7까지 12를 넣어줘\n",
    "arr1"
   ]
  },
  {
   "cell_type": "markdown",
   "metadata": {},
   "source": [
    "### 10-1. 이차원 슬라이싱\n",
    "arr2 = np.arange(0,50).reshape(5,10)\n",
    "\n",
    "reshape(n,m) => n행 m열로 다시 만들어줘"
   ]
  },
  {
   "cell_type": "code",
   "execution_count": 248,
   "metadata": {},
   "outputs": [
    {
     "data": {
      "text/plain": [
       "array([[ 0,  1,  2,  3,  4,  5,  6,  7,  8,  9],\n",
       "       [10, 11, 12, 13, 14, 15, 16, 17, 18, 19],\n",
       "       [20, 21, 22, 23, 24, 25, 26, 27, 28, 29],\n",
       "       [30, 31, 32, 33, 34, 35, 36, 37, 38, 39],\n",
       "       [40, 41, 42, 43, 44, 45, 46, 47, 48, 49]])"
      ]
     },
     "execution_count": 248,
     "metadata": {},
     "output_type": "execute_result"
    }
   ],
   "source": [
    "# 이차원 슬라이싱\n",
    "arr2 = np.arange(0,50).reshape(5,10)\n",
    "arr2"
   ]
  },
  {
   "cell_type": "code",
   "execution_count": 249,
   "metadata": {},
   "outputs": [
    {
     "data": {
      "text/plain": [
       "array([[ 0,  1,  2,  3,  4,  5,  6,  7,  8,  9],\n",
       "       [10, 11, 12, 13, 14, 15, 16, 17, 18, 19]])"
      ]
     },
     "execution_count": 249,
     "metadata": {},
     "output_type": "execute_result"
    }
   ],
   "source": [
    "arr2[:2]"
   ]
  },
  {
   "cell_type": "code",
   "execution_count": 250,
   "metadata": {},
   "outputs": [
    {
     "data": {
      "text/plain": [
       "array([[ 0,  1,  2,  3,  4,  5,  6,  7,  8,  9],\n",
       "       [10, 11, 12, 13, 14, 15, 16, 17, 18, 19]])"
      ]
     },
     "execution_count": 250,
     "metadata": {},
     "output_type": "execute_result"
    }
   ],
   "source": [
    "arr2[:2, :]"
   ]
  },
  {
   "cell_type": "code",
   "execution_count": 251,
   "metadata": {},
   "outputs": [
    {
     "data": {
      "text/plain": [
       "array([[ 0,  1,  2],\n",
       "       [10, 11, 12]])"
      ]
     },
     "execution_count": 251,
     "metadata": {},
     "output_type": "execute_result"
    }
   ],
   "source": [
    "arr2[:2, :3]"
   ]
  },
  {
   "cell_type": "code",
   "execution_count": 252,
   "metadata": {},
   "outputs": [
    {
     "data": {
      "text/plain": [
       "array([ 0, 10, 20, 30, 40])"
      ]
     },
     "execution_count": 252,
     "metadata": {},
     "output_type": "execute_result"
    }
   ],
   "source": [
    "arr2[:,0]"
   ]
  },
  {
   "cell_type": "code",
   "execution_count": 253,
   "metadata": {},
   "outputs": [
    {
     "data": {
      "text/plain": [
       "array([[ 0,  1,  2,  3,  4],\n",
       "       [10, 11, 12, 13, 14],\n",
       "       [20, 21, 22, 23, 24],\n",
       "       [30, 31, 32, 33, 34]])"
      ]
     },
     "execution_count": 253,
     "metadata": {},
     "output_type": "execute_result"
    }
   ],
   "source": [
    "arr2[:4,:5]"
   ]
  },
  {
   "cell_type": "code",
   "execution_count": 254,
   "metadata": {},
   "outputs": [
    {
     "name": "stdout",
     "output_type": "stream",
     "text": [
      "arr2[2, 1] : 21\n",
      "arr2[4,8] : 48\n",
      "arr2[2,9] : 29\n",
      "arr2[1,2] : 12\n"
     ]
    }
   ],
   "source": [
    "print(\"arr2[2, 1] :\",arr2[2, 1])\n",
    "print(\"arr2[4,8] :\",arr2[4,8])\n",
    "print(\"arr2[2,9] :\",arr2[2,9])\n",
    "print(\"arr2[1,2] :\",arr2[1,2])"
   ]
  },
  {
   "cell_type": "code",
   "execution_count": 255,
   "metadata": {},
   "outputs": [
    {
     "name": "stdout",
     "output_type": "stream",
     "text": [
      "[[1 2 3]\n",
      " [4 5 6]]\n",
      "a.ndim : 2\n",
      "====선형 종속인 경우=====\n",
      "[[1 2 3]\n",
      " [2 4 6]]\n",
      "b.ndim : 2\n",
      "====선형 종속인 경우 Rank구하기=====\n",
      "[[1 2 3]\n",
      " [2 4 6]]\n",
      "b.linalg.matrix_rank : 1\n"
     ]
    }
   ],
   "source": [
    "a = [[1,2,3], [4,5,6]]\n",
    "a = np.array(a)\n",
    "print(a)\n",
    "print(f\"a.ndim : {a.ndim}\")\n",
    "print('====선형 종속인 경우=====')\n",
    "b = [[1,2,3], [2,4,6]]\n",
    "b = np.array(b)\n",
    "print(b)\n",
    "print(f\"b.ndim : {b.ndim}\")\n",
    "print('====선형 종속인 경우 Rank구하기=====')\n",
    "b = [[1,2,3], [2,4,6]]\n",
    "b = np.array(b)\n",
    "print(b)\n",
    "print(f\"b.linalg.matrix_rank : {np.linalg.matrix_rank(b)}\")"
   ]
  },
  {
   "cell_type": "code",
   "execution_count": null,
   "metadata": {},
   "outputs": [],
   "source": []
  },
  {
   "cell_type": "markdown",
   "metadata": {},
   "source": [
    "Boolean 색인 : 배열 안에서 조건에 맞는 요소 추출"
   ]
  },
  {
   "cell_type": "code",
   "execution_count": 256,
   "metadata": {},
   "outputs": [
    {
     "name": "stdout",
     "output_type": "stream",
     "text": [
      "score \n",
      " [80 75 55 96 30]\n",
      "점수가 80이상인 요소들은 boolean으로 바꿔서 출력 → score >= 80\n",
      " [ True False False  True False]\n",
      "점수가 80이상인 것들로 이루어진 array → 생성 score[score >= 80 ]\n",
      " [80 96]\n"
     ]
    }
   ],
   "source": [
    "score = np.array([80, 75, 55, 96, 30])\n",
    "print(\"score \\n\", score)\n",
    "print(\"점수가 80이상인 요소들은 boolean으로 바꿔서 출력 → score >= 80\\n\", score >= 80 )\n",
    "print(\"점수가 80이상인 것들로 이루어진 array → 생성 score[score >= 80 ]\\n\", score[score >= 80 ])\n"
   ]
  },
  {
   "cell_type": "code",
   "execution_count": 257,
   "metadata": {},
   "outputs": [
    {
     "name": "stdout",
     "output_type": "stream",
     "text": [
      "name \n",
      " ['영화' '동원' '성우' '수민']\n",
      "bol \n",
      " [False  True False  True]\n",
      "name[bol] \n",
      " ['동원' '수민']\n",
      "<U2 : 문자형(Unicode)\n"
     ]
    },
    {
     "data": {
      "text/plain": [
       "array(['동원', '수민'], dtype='<U2')"
      ]
     },
     "execution_count": 257,
     "metadata": {},
     "output_type": "execute_result"
    }
   ],
   "source": [
    "# 문자인 경우\n",
    "name = np.array([\"영화\", \"동원\", \"성우\", \"수민\"])\n",
    "print(\"name \\n\", name)\n",
    "bol = np.array([False, True, False, True])\n",
    "print(\"bol \\n\", bol)\n",
    "print(\"name[bol] \\n\",name[bol])\n",
    "print(\"<U2 : 문자형(Unicode)\")\n",
    "name[bol]"
   ]
  },
  {
   "cell_type": "code",
   "execution_count": 258,
   "metadata": {},
   "outputs": [
    {
     "name": "stdout",
     "output_type": "stream",
     "text": [
      "['영화' '동원' '성우' '수민']\n",
      "name == '운비' : [False False False False]\n",
      "name == '영화' : [ True False False False]\n"
     ]
    }
   ],
   "source": [
    "print(name)\n",
    "print(f\"name == '운비' : {name == '운비'}\")\n",
    "print(f\"name == '영화' : {name == '영화'}\")"
   ]
  },
  {
   "cell_type": "code",
   "execution_count": 259,
   "metadata": {},
   "outputs": [
    {
     "ename": "TypeError",
     "evalue": "array() takes from 1 to 2 positional arguments but 4 were given",
     "output_type": "error",
     "traceback": [
      "\u001b[1;31m---------------------------------------------------------------------------\u001b[0m",
      "\u001b[1;31mTypeError\u001b[0m                                 Traceback (most recent call last)",
      "Cell \u001b[1;32mIn [259], line 1\u001b[0m\n\u001b[1;32m----> 1\u001b[0m score \u001b[38;5;241m=\u001b[39m \u001b[43mnp\u001b[49m\u001b[38;5;241;43m.\u001b[39;49m\u001b[43marray\u001b[49m\u001b[43m(\u001b[49m\u001b[43m[\u001b[49m\u001b[38;5;241;43m60\u001b[39;49m\u001b[43m,\u001b[49m\u001b[38;5;241;43m60\u001b[39;49m\u001b[43m]\u001b[49m\u001b[43m,\u001b[49m\u001b[43m \u001b[49m\u001b[43m[\u001b[49m\u001b[38;5;241;43m70\u001b[39;49m\u001b[43m,\u001b[49m\u001b[38;5;241;43m70\u001b[39;49m\u001b[43m]\u001b[49m\u001b[43m,\u001b[49m\u001b[43m \u001b[49m\u001b[43m[\u001b[49m\u001b[38;5;241;43m80\u001b[39;49m\u001b[43m,\u001b[49m\u001b[38;5;241;43m80\u001b[39;49m\u001b[43m]\u001b[49m\u001b[43m,\u001b[49m\u001b[43m \u001b[49m\u001b[43m[\u001b[49m\u001b[38;5;241;43m90\u001b[39;49m\u001b[43m,\u001b[49m\u001b[38;5;241;43m90\u001b[39;49m\u001b[43m]\u001b[49m\u001b[43m)\u001b[49m\n\u001b[0;32m      2\u001b[0m score[name \u001b[38;5;241m==\u001b[39m\u001b[38;5;124m'\u001b[39m\u001b[38;5;124m영화\u001b[39m\u001b[38;5;124m'\u001b[39m]\n",
      "\u001b[1;31mTypeError\u001b[0m: array() takes from 1 to 2 positional arguments but 4 were given"
     ]
    }
   ],
   "source": [
    "score = np.array([60,60], [70,70], [80,80], [90,90])\n",
    "score[name =='영화']"
   ]
  },
  {
   "cell_type": "markdown",
   "metadata": {},
   "source": [
    "## 11. 배열의 합, 평균 구하기"
   ]
  },
  {
   "cell_type": "code",
   "execution_count": 260,
   "metadata": {},
   "outputs": [
    {
     "name": "stdout",
     "output_type": "stream",
     "text": [
      "arr \n",
      "[[8 1 6 1 7]\n",
      " [8 4 1 2 8]]\n",
      "========요소들의 합========\n",
      "- arr.sum() : 46\n",
      "- np.sum(arr) : 46\n",
      "========요소들의 평균========\n",
      "- arr.mean() : 4.6\n",
      "- np.bmean(arr) : 4.6\n"
     ]
    }
   ],
   "source": [
    "arr = np.random.randint(1,10, size=(2,5))\n",
    "print(f\"arr \\n{arr}\")\n",
    "print(\"========요소들의 합========\")\n",
    "print(f\"- arr.sum() : {arr.sum()}\")\n",
    "print(f\"- np.sum(arr) : {np.sum(arr)}\")\n",
    "print(\"========요소들의 평균========\")\n",
    "print(f\"- arr.mean() : {arr.mean()}\")\n",
    "print(f\"- np.bmean(arr) : {np.mean(arr)}\")"
   ]
  },
  {
   "cell_type": "markdown",
   "metadata": {},
   "source": [
    "## 12. 배열 제곱근, 절대값 사용하기"
   ]
  },
  {
   "cell_type": "code",
   "execution_count": 262,
   "metadata": {},
   "outputs": [
    {
     "name": "stdout",
     "output_type": "stream",
     "text": [
      "========요소들의 제곱근sqrt========\n",
      "arr2 \n",
      "[1 2 3 4 5]\n",
      "-np.sqrt(arr) : [nan nan nan nan nan]\n",
      "\n",
      "========요소들의 절대값abs========\n",
      "arr \n",
      "[-5 -4 -3 -2 -1]\n",
      "np.abs(arr) : [5 4 3 2 1]\n"
     ]
    },
    {
     "name": "stderr",
     "output_type": "stream",
     "text": [
      "C:\\Users\\user\\AppData\\Local\\Temp\\ipykernel_16108\\4284762925.py:4: RuntimeWarning: invalid value encountered in sqrt\n",
      "  print(f\"-np.sqrt(arr) : {np.sqrt(arr)}\")\n"
     ]
    }
   ],
   "source": [
    "print(\"========요소들의 제곱근sqrt========\")\n",
    "arr2 = np.arange(1,6)\n",
    "print(f\"arr2 \\n{arr2}\")\n",
    "print(f\"-np.sqrt(arr) : {np.sqrt(arr)}\")\n",
    "print(\"\")\n",
    "print(\"========요소들의 절대값abs========\")\n",
    "arr = np.arange(-5,0)\n",
    "print(f\"arr \\n{arr}\")\n",
    "print(f\"np.abs(arr) : {np.abs(arr)}\")"
   ]
  },
  {
   "cell_type": "markdown",
   "metadata": {},
   "source": [
    "## 13. 동영상 및 이미지 가져오기"
   ]
  },
  {
   "cell_type": "code",
   "execution_count": 263,
   "metadata": {},
   "outputs": [],
   "source": [
    "from IPython.display import Image"
   ]
  },
  {
   "cell_type": "code",
   "execution_count": 264,
   "metadata": {},
   "outputs": [
    {
     "data": {
      "text/html": [
       "<img src=\"https://d2u3dcdbebyaiu.cloudfront.net/uploads/atch_img/576/9ee90049803c2060f0dc8fed91a2d0ee_res.png\"/>"
      ],
      "text/plain": [
       "<IPython.core.display.Image object>"
      ]
     },
     "execution_count": 264,
     "metadata": {},
     "output_type": "execute_result"
    }
   ],
   "source": [
    "Image(url=\"\"\"https://d2u3dcdbebyaiu.cloudfront.net/uploads/atch_img/576/9ee90049803c2060f0dc8fed91a2d0ee_res.png\"\"\")"
   ]
  },
  {
   "cell_type": "code",
   "execution_count": 265,
   "metadata": {},
   "outputs": [],
   "source": [
    "from IPython.lib.display import YouTubeVideo"
   ]
  },
  {
   "cell_type": "code",
   "execution_count": 271,
   "metadata": {},
   "outputs": [
    {
     "data": {
      "image/jpeg": "[encoded data removed]",
      "text/html": [
       "\n",
       "        <iframe\n",
       "            width=\"400\"\n",
       "            height=\"300\"\n",
       "            src=\"https://www.youtube.com/embed/eZExMa_ioAY\"\n",
       "            frameborder=\"0\"\n",
       "            allowfullscreen\n",
       "            \n",
       "        ></iframe>\n",
       "        "
      ],
      "text/plain": [
       "<IPython.lib.display.YouTubeVideo at 0x2934f366fa0>"
      ]
     },
     "execution_count": 271,
     "metadata": {},
     "output_type": "execute_result"
    }
   ],
   "source": [
    "# https://www.youtube.com/watch?v=q7IH_JuysAk\n",
    "# 모두 가져오는 것이 아니라 고유 번호만\n",
    "YouTubeVideo('eZExMa_ioAY')\n",
    "# 크기랑 높이도 조절 가능함"
   ]
  }
 ],
 "metadata": {
  "kernelspec": {
   "display_name": "Python 3.9.12 ('base')",
   "language": "python",
   "name": "python3"
  },
  "language_info": {
   "codemirror_mode": {
    "name": "ipython",
    "version": 3
   },
   "file_extension": ".py",
   "mimetype": "text/x-python",
   "name": "python",
   "nbconvert_exporter": "python",
   "pygments_lexer": "ipython3",
   "version": "3.9.12"
  },
  "orig_nbformat": 4,
  "vscode": {
   "interpreter": {
    "hash": "49e04899c6e094c3b61dd8509fde2649571811ca1eef12c1c216e72ad0930740"
   }
  }
 },
 "nbformat": 4,
 "nbformat_minor": 2
}
