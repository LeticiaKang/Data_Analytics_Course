{
 "cells": [
  {
   "cell_type": "code",
   "execution_count": 25,
   "metadata": {},
   "outputs": [
    {
     "data": {
      "text/plain": [
       "['윤석열', '문재인', '박근혜', '노무현', '김대중']"
      ]
     },
     "execution_count": 25,
     "metadata": {},
     "output_type": "execute_result"
    }
   ],
   "source": [
    "korean_presidents = ['윤석열' , '문재인' , '박근혜', '노무현', '김대중']\n",
    "korean_presidents"
   ]
  },
  {
   "cell_type": "code",
   "execution_count": 26,
   "metadata": {},
   "outputs": [],
   "source": [
    "korean_presidents.append('이명박')"
   ]
  },
  {
   "cell_type": "code",
   "execution_count": 27,
   "metadata": {},
   "outputs": [
    {
     "data": {
      "text/plain": [
       "['윤석열', '문재인', '박근혜', '노무현', '김대중', '이명박']"
      ]
     },
     "execution_count": 27,
     "metadata": {},
     "output_type": "execute_result"
    }
   ],
   "source": [
    "korean_presidents"
   ]
  },
  {
   "cell_type": "code",
   "execution_count": 28,
   "metadata": {},
   "outputs": [],
   "source": [
    "korean_presidents.remove(\"이명박\")"
   ]
  },
  {
   "cell_type": "code",
   "execution_count": 29,
   "metadata": {},
   "outputs": [
    {
     "data": {
      "text/plain": [
       "['윤석열', '문재인', '박근혜', '노무현', '김대중']"
      ]
     },
     "execution_count": 29,
     "metadata": {},
     "output_type": "execute_result"
    }
   ],
   "source": [
    "korean_presidents"
   ]
  },
  {
   "cell_type": "code",
   "execution_count": 30,
   "metadata": {},
   "outputs": [],
   "source": [
    "from random import randint"
   ]
  },
  {
   "cell_type": "code",
   "execution_count": 31,
   "metadata": {},
   "outputs": [
    {
     "data": {
      "text/plain": [
       "10"
      ]
     },
     "execution_count": 31,
     "metadata": {},
     "output_type": "execute_result"
    }
   ],
   "source": [
    " randint(0,10)  #0<= ?? <= 10 사이에 있는 정수"
   ]
  },
  {
   "cell_type": "code",
   "execution_count": 32,
   "metadata": {},
   "outputs": [
    {
     "data": {
      "text/plain": [
       "'문재인'"
      ]
     },
     "execution_count": 32,
     "metadata": {},
     "output_type": "execute_result"
    }
   ],
   "source": [
    "num = randint(0,len(korean_presidents)-1)\n",
    "korean_presidents[num]"
   ]
  },
  {
   "cell_type": "code",
   "execution_count": 33,
   "metadata": {},
   "outputs": [
    {
     "data": {
      "text/plain": [
       "['윤석열', '문재인', '박근혜', '이명박', '노무현', '김대중']"
      ]
     },
     "execution_count": 33,
     "metadata": {},
     "output_type": "execute_result"
    }
   ],
   "source": [
    "korean_presidents.insert(3, '이명박')\n",
    "korean_presidents"
   ]
  },
  {
   "cell_type": "code",
   "execution_count": 34,
   "metadata": {},
   "outputs": [
    {
     "name": "stdout",
     "output_type": "stream",
     "text": [
      "A은 바나나 5개와 사과 6개를 7일 동안 먹었다.\n",
      "A은 바나나 5개와 사과 6개를 7일 동안 먹었다.\n",
      "A은 바나나 5개와 사과 6개를 7일 동안 먹었다.\n"
     ]
    }
   ],
   "source": [
    "name = \"A\"\n",
    "bananas = 5\n",
    "apples = 6\n",
    "days = 7\n",
    "print(f\"{name}은 바나나 {bananas}개와 사과 {apples}개를 {days}일 동안 먹었다.\")\n",
    "\n",
    "print(\"%s은 바나나 %d개와 사과 %d개를 %d일 동안 먹었다.\"%(name, bananas, apples, days))\n",
    "\n",
    "print(\"{0}은 바나나 {1}개와 사과 {2}개를 {3}일 동안 먹었다.\".format(name, bananas, apples, days))\n"
   ]
  },
  {
   "cell_type": "markdown",
   "metadata": {},
   "source": [
    "논리형"
   ]
  },
  {
   "cell_type": "code",
   "execution_count": 35,
   "metadata": {},
   "outputs": [],
   "source": [
    "a = True\n",
    "b = False"
   ]
  },
  {
   "cell_type": "code",
   "execution_count": 36,
   "metadata": {},
   "outputs": [
    {
     "data": {
      "text/plain": [
       "1"
      ]
     },
     "execution_count": 36,
     "metadata": {},
     "output_type": "execute_result"
    }
   ],
   "source": [
    "a + b"
   ]
  },
  {
   "cell_type": "code",
   "execution_count": 37,
   "metadata": {},
   "outputs": [
    {
     "name": "stdout",
     "output_type": "stream",
     "text": [
      "\n",
      "< a = Treu / b = Flase >\n",
      "a and b : False\n",
      "a or b : True\n",
      "not a : False\n",
      "a == b : False\n",
      "a != b : True\n",
      "\n"
     ]
    }
   ],
   "source": [
    "print(f\"\"\"\n",
    "< a = Treu / b = Flase >\n",
    "a and b : {a and b}\n",
    "a or b : {a or b}\n",
    "not a : {not a}\n",
    "a == b : {a == b}\n",
    "a != b : {a != b}\n",
    "\"\"\")\n"
   ]
  },
  {
   "cell_type": "markdown",
   "metadata": {},
   "source": [
    "반복문"
   ]
  },
  {
   "cell_type": "markdown",
   "metadata": {},
   "source": [
    "< 원하는 결과 >  \n",
    "현재 i 값은 0 입니다  \n",
    "현재 i 값은 1 입니다  \n",
    "...  \n",
    "현재 i 값은 9 입니다  "
   ]
  },
  {
   "cell_type": "code",
   "execution_count": 39,
   "metadata": {},
   "outputs": [
    {
     "name": "stdout",
     "output_type": "stream",
     "text": [
      "=========== for문 ===========\n",
      "현재 i값은 0입니다\n",
      "현재 i값은 1입니다\n",
      "현재 i값은 2입니다\n",
      "현재 i값은 3입니다\n",
      "현재 i값은 4입니다\n",
      "현재 i값은 5입니다\n",
      "현재 i값은 6입니다\n",
      "현재 i값은 7입니다\n",
      "현재 i값은 8입니다\n",
      "현재 i값은 9입니다\n",
      "========== while문 ==========\n",
      "현재 i값은 0입니다\n",
      "현재 i값은 1입니다\n",
      "현재 i값은 2입니다\n",
      "현재 i값은 3입니다\n",
      "현재 i값은 4입니다\n",
      "현재 i값은 5입니다\n",
      "현재 i값은 6입니다\n",
      "현재 i값은 7입니다\n",
      "현재 i값은 8입니다\n",
      "현재 i값은 9입니다\n"
     ]
    }
   ],
   "source": [
    "print(\"=========== for문 ===========\")\n",
    "for num in range(10):\n",
    "    print(f\"현재 i값은 {num}입니다\")\n",
    "\n",
    "print(\"========== while문 ==========\")\n",
    "i = 0\n",
    "while i<10:\n",
    "    print(f\"현재 i값은 {i}입니다\")\n",
    "    i+=1\n",
    "    "
   ]
  },
  {
   "cell_type": "markdown",
   "metadata": {},
   "source": [
    "\n",
    "< 원하는 결과 >  \n",
    "대통령의 이름은 윤석열입니다  \n",
    "대통령의 이름은 문재인입니다  \n",
    "···    \n",
    "대통령의 이름은 김대중입니다  "
   ]
  },
  {
   "cell_type": "code",
   "execution_count": 41,
   "metadata": {},
   "outputs": [
    {
     "name": "stdout",
     "output_type": "stream",
     "text": [
      "대통령의 이름은 윤석열입니다\n",
      "대통령의 이름은 문재인입니다\n",
      "대통령의 이름은 박근혜입니다\n",
      "대통령의 이름은 이명박입니다\n",
      "대통령의 이름은 노무현입니다\n",
      "대통령의 이름은 김대중입니다\n"
     ]
    }
   ],
   "source": [
    "for kp in korean_presidents:\n",
    "    print(f\"대통령의 이름은 {kp}입니다\")"
   ]
  },
  {
   "cell_type": "code",
   "execution_count": 45,
   "metadata": {},
   "outputs": [
    {
     "name": "stdout",
     "output_type": "stream",
     "text": [
      "=======3단을 시작합니다========\n",
      "3 X 1 = 3\n",
      "3 X 2 = 6\n",
      "3 X 3 = 9\n",
      "3 X 4 = 12\n",
      "3 X 5 = 15\n",
      "3 X 6 = 18\n",
      "3 X 7 = 21\n",
      "3 X 8 = 24\n",
      "3 X 9 = 27\n",
      "=======4단을 시작합니다========\n",
      "4 X 1 = 4\n",
      "4 X 2 = 8\n",
      "4 X 3 = 12\n",
      "4 X 4 = 16\n",
      "4 X 5 = 20\n",
      "4 X 6 = 24\n",
      "4 X 7 = 28\n",
      "4 X 8 = 32\n",
      "4 X 9 = 36\n"
     ]
    }
   ],
   "source": [
    "for num in range(3,5):\n",
    "    print(f\"======={num}단을 시작합니다========\")\n",
    "    for mul in range(1,10):\n",
    "        print(f\"{num} X {mul} = {num*mul}\")"
   ]
  },
  {
   "cell_type": "markdown",
   "metadata": {},
   "source": [
    "모듈 만들기"
   ]
  },
  {
   "cell_type": "code",
   "execution_count": 48,
   "metadata": {},
   "outputs": [],
   "source": [
    "import module_test"
   ]
  },
  {
   "cell_type": "code",
   "execution_count": 52,
   "metadata": {},
   "outputs": [
    {
     "name": "stdout",
     "output_type": "stream",
     "text": [
      "module_test.add(1,2) : 3\n"
     ]
    }
   ],
   "source": [
    "print(\"module_test.add(1,2) :\", module_test.add(1,2))"
   ]
  },
  {
   "cell_type": "code",
   "execution_count": 53,
   "metadata": {},
   "outputs": [],
   "source": [
    "from module_test import add\n",
    "#add하는 함수 1개만 가져온 것"
   ]
  },
  {
   "cell_type": "code",
   "execution_count": 55,
   "metadata": {},
   "outputs": [
    {
     "name": "stdout",
     "output_type": "stream",
     "text": [
      "add(1,2) : 3\n"
     ]
    }
   ],
   "source": [
    "print(\"add(1,2) :\", add(1,2))"
   ]
  }
 ],
 "metadata": {
  "kernelspec": {
   "display_name": "Python 3.9.12 ('base')",
   "language": "python",
   "name": "python3"
  },
  "language_info": {
   "codemirror_mode": {
    "name": "ipython",
    "version": 3
   },
   "file_extension": ".py",
   "mimetype": "text/x-python",
   "name": "python",
   "nbconvert_exporter": "python",
   "pygments_lexer": "ipython3",
   "version": "3.9.12"
  },
  "orig_nbformat": 4,
  "vscode": {
   "interpreter": {
    "hash": "49e04899c6e094c3b61dd8509fde2649571811ca1eef12c1c216e72ad0930740"
   }
  }
 },
 "nbformat": 4,
 "nbformat_minor": 2
}
