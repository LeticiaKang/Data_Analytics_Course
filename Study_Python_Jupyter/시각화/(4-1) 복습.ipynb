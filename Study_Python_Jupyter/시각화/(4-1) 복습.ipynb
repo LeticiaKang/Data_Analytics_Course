{
 "cells": [
  {
   "cell_type": "code",
   "execution_count": 1,
   "metadata": {},
   "outputs": [],
   "source": [
    "import pandas as pd\n",
    "import numpy as numpy\n",
    "import matplotlib.pyplot as plt\n",
    "from matplotlib import  font_manager, rc"
   ]
  },
  {
   "cell_type": "code",
   "execution_count": 2,
   "metadata": {},
   "outputs": [
    {
     "data": {
      "text/html": [
       "<div>\n",
       "<style scoped>\n",
       "    .dataframe tbody tr th:only-of-type {\n",
       "        vertical-align: middle;\n",
       "    }\n",
       "\n",
       "    .dataframe tbody tr th {\n",
       "        vertical-align: top;\n",
       "    }\n",
       "\n",
       "    .dataframe thead th {\n",
       "        text-align: right;\n",
       "    }\n",
       "</style>\n",
       "<table border=\"1\" class=\"dataframe\">\n",
       "  <thead>\n",
       "    <tr style=\"text-align: right;\">\n",
       "      <th></th>\n",
       "      <th>발생년월일시</th>\n",
       "      <th>발생분</th>\n",
       "      <th>주야</th>\n",
       "      <th>요일</th>\n",
       "      <th>사망자수</th>\n",
       "      <th>사상자수</th>\n",
       "      <th>중상자수</th>\n",
       "      <th>경상자수</th>\n",
       "      <th>부상신고자수</th>\n",
       "      <th>발생지시도</th>\n",
       "      <th>...</th>\n",
       "      <th>도로형태_대분류</th>\n",
       "      <th>도로형태</th>\n",
       "      <th>당사자종별_1당_대분류</th>\n",
       "      <th>당사자종별_1당</th>\n",
       "      <th>당사자종별_2당_대분류</th>\n",
       "      <th>당사자종별_2당</th>\n",
       "      <th>발생위치X_UTMK</th>\n",
       "      <th>발생위치Y_UTMK</th>\n",
       "      <th>경도</th>\n",
       "      <th>위도</th>\n",
       "    </tr>\n",
       "    <tr>\n",
       "      <th>발생년</th>\n",
       "      <th></th>\n",
       "      <th></th>\n",
       "      <th></th>\n",
       "      <th></th>\n",
       "      <th></th>\n",
       "      <th></th>\n",
       "      <th></th>\n",
       "      <th></th>\n",
       "      <th></th>\n",
       "      <th></th>\n",
       "      <th></th>\n",
       "      <th></th>\n",
       "      <th></th>\n",
       "      <th></th>\n",
       "      <th></th>\n",
       "      <th></th>\n",
       "      <th></th>\n",
       "      <th></th>\n",
       "      <th></th>\n",
       "      <th></th>\n",
       "      <th></th>\n",
       "    </tr>\n",
       "  </thead>\n",
       "  <tbody>\n",
       "    <tr>\n",
       "      <th>2017</th>\n",
       "      <td>2017010101</td>\n",
       "      <td>15</td>\n",
       "      <td>야간</td>\n",
       "      <td>일</td>\n",
       "      <td>1</td>\n",
       "      <td>2</td>\n",
       "      <td>1</td>\n",
       "      <td>0</td>\n",
       "      <td>0</td>\n",
       "      <td>전남</td>\n",
       "      <td>...</td>\n",
       "      <td>단일로</td>\n",
       "      <td>기타단일로</td>\n",
       "      <td>승용차</td>\n",
       "      <td>승용차</td>\n",
       "      <td>승용차</td>\n",
       "      <td>승용차</td>\n",
       "      <td>933501</td>\n",
       "      <td>1700129</td>\n",
       "      <td>126.768634</td>\n",
       "      <td>35.294464</td>\n",
       "    </tr>\n",
       "    <tr>\n",
       "      <th>2017</th>\n",
       "      <td>2017010102</td>\n",
       "      <td>28</td>\n",
       "      <td>야간</td>\n",
       "      <td>일</td>\n",
       "      <td>1</td>\n",
       "      <td>1</td>\n",
       "      <td>0</td>\n",
       "      <td>0</td>\n",
       "      <td>0</td>\n",
       "      <td>서울</td>\n",
       "      <td>...</td>\n",
       "      <td>교차로</td>\n",
       "      <td>교차로부근</td>\n",
       "      <td>승용차</td>\n",
       "      <td>승용차</td>\n",
       "      <td>보행자</td>\n",
       "      <td>보행자</td>\n",
       "      <td>967570</td>\n",
       "      <td>1944453</td>\n",
       "      <td>127.133107</td>\n",
       "      <td>37.498741</td>\n",
       "    </tr>\n",
       "    <tr>\n",
       "      <th>2017</th>\n",
       "      <td>2017010102</td>\n",
       "      <td>43</td>\n",
       "      <td>야간</td>\n",
       "      <td>일</td>\n",
       "      <td>1</td>\n",
       "      <td>2</td>\n",
       "      <td>0</td>\n",
       "      <td>1</td>\n",
       "      <td>0</td>\n",
       "      <td>충남</td>\n",
       "      <td>...</td>\n",
       "      <td>단일로</td>\n",
       "      <td>기타단일로</td>\n",
       "      <td>승용차</td>\n",
       "      <td>승용차</td>\n",
       "      <td>승용차</td>\n",
       "      <td>승용차</td>\n",
       "      <td>916497</td>\n",
       "      <td>1842880</td>\n",
       "      <td>126.566631</td>\n",
       "      <td>36.580069</td>\n",
       "    </tr>\n",
       "    <tr>\n",
       "      <th>2017</th>\n",
       "      <td>2017010102</td>\n",
       "      <td>22</td>\n",
       "      <td>야간</td>\n",
       "      <td>일</td>\n",
       "      <td>1</td>\n",
       "      <td>1</td>\n",
       "      <td>0</td>\n",
       "      <td>0</td>\n",
       "      <td>0</td>\n",
       "      <td>충남</td>\n",
       "      <td>...</td>\n",
       "      <td>단일로</td>\n",
       "      <td>기타단일로</td>\n",
       "      <td>승용차</td>\n",
       "      <td>승용차</td>\n",
       "      <td>없음</td>\n",
       "      <td>없음</td>\n",
       "      <td>961608</td>\n",
       "      <td>1864573</td>\n",
       "      <td>127.069759</td>\n",
       "      <td>36.778505</td>\n",
       "    </tr>\n",
       "    <tr>\n",
       "      <th>2017</th>\n",
       "      <td>2017010104</td>\n",
       "      <td>37</td>\n",
       "      <td>야간</td>\n",
       "      <td>일</td>\n",
       "      <td>1</td>\n",
       "      <td>1</td>\n",
       "      <td>0</td>\n",
       "      <td>0</td>\n",
       "      <td>0</td>\n",
       "      <td>서울</td>\n",
       "      <td>...</td>\n",
       "      <td>단일로</td>\n",
       "      <td>기타단일로</td>\n",
       "      <td>승용차</td>\n",
       "      <td>승용차</td>\n",
       "      <td>보행자</td>\n",
       "      <td>보행자</td>\n",
       "      <td>946778</td>\n",
       "      <td>1941695</td>\n",
       "      <td>126.898094</td>\n",
       "      <td>37.472946</td>\n",
       "    </tr>\n",
       "  </tbody>\n",
       "</table>\n",
       "<p>5 rows × 26 columns</p>\n",
       "</div>"
      ],
      "text/plain": [
       "          발생년월일시  발생분  주야 요일  사망자수  사상자수  중상자수  경상자수  부상신고자수 발생지시도  ...  \\\n",
       "발생년                                                                 ...   \n",
       "2017  2017010101   15  야간  일     1     2     1     0       0    전남  ...   \n",
       "2017  2017010102   28  야간  일     1     1     0     0       0    서울  ...   \n",
       "2017  2017010102   43  야간  일     1     2     0     1       0    충남  ...   \n",
       "2017  2017010102   22  야간  일     1     1     0     0       0    충남  ...   \n",
       "2017  2017010104   37  야간  일     1     1     0     0       0    서울  ...   \n",
       "\n",
       "     도로형태_대분류   도로형태 당사자종별_1당_대분류 당사자종별_1당 당사자종별_2당_대분류 당사자종별_2당 발생위치X_UTMK  \\\n",
       "발생년                                                                           \n",
       "2017      단일로  기타단일로          승용차      승용차          승용차      승용차     933501   \n",
       "2017      교차로  교차로부근          승용차      승용차          보행자      보행자     967570   \n",
       "2017      단일로  기타단일로          승용차      승용차          승용차      승용차     916497   \n",
       "2017      단일로  기타단일로          승용차      승용차           없음       없음     961608   \n",
       "2017      단일로  기타단일로          승용차      승용차          보행자      보행자     946778   \n",
       "\n",
       "     발생위치Y_UTMK          경도         위도  \n",
       "발생년                                     \n",
       "2017    1700129  126.768634  35.294464  \n",
       "2017    1944453  127.133107  37.498741  \n",
       "2017    1842880  126.566631  36.580069  \n",
       "2017    1864573  127.069759  36.778505  \n",
       "2017    1941695  126.898094  37.472946  \n",
       "\n",
       "[5 rows x 26 columns]"
      ]
     },
     "execution_count": 2,
     "metadata": {},
     "output_type": "execute_result"
    }
   ],
   "source": [
    "df = pd.read_csv(\"Traffic_Accident_2017.csv\", encoding = \"EUC-KR\", index_col=\"발생년\")\n",
    "df.head(5)"
   ]
  },
  {
   "cell_type": "code",
   "execution_count": null,
   "metadata": {},
   "outputs": [],
   "source": []
  },
  {
   "cell_type": "code",
   "execution_count": 45,
   "metadata": {},
   "outputs": [
    {
     "data": {
      "text/plain": [
       "발생년\n",
       "2017     1\n",
       "2017     2\n",
       "2017     2\n",
       "2017     2\n",
       "2017     4\n",
       "        ..\n",
       "2017    18\n",
       "2017    18\n",
       "2017    19\n",
       "2017    20\n",
       "2017    23\n",
       "Name: 발생년월일시, Length: 4065, dtype: int64"
      ]
     },
     "execution_count": 45,
     "metadata": {},
     "output_type": "execute_result"
    }
   ],
   "source": [
    "time = df.발생년월일시\n",
    "time = time%100\n",
    "time"
   ]
  },
  {
   "cell_type": "markdown",
   "metadata": {},
   "source": [
    "카테고리 만들기"
   ]
  },
  {
   "cell_type": "code",
   "execution_count": 49,
   "metadata": {},
   "outputs": [
    {
     "data": {
      "text/plain": [
       "발생년\n",
       "2017      0~2\n",
       "2017      0~2\n",
       "2017      0~2\n",
       "2017      0~2\n",
       "2017      3~5\n",
       "        ...  \n",
       "2017    18~20\n",
       "2017    18~20\n",
       "2017    18~20\n",
       "2017    18~20\n",
       "2017    21~23\n",
       "Name: 발생년월일시, Length: 4065, dtype: category\n",
       "Categories (8, object): ['0~2' < '3~5' < '6~8' < '9~11' < '12~14' < '15~17' < '18~20' < '21~23']"
      ]
     },
     "execution_count": 49,
     "metadata": {},
     "output_type": "execute_result"
    }
   ],
   "source": [
    "time = time # 내가 구분하고 싶은 데이터\n",
    "bins = [-1,2,5,8,11,14,17,20,23] #간격설정 : 구간 시작점은 1 작게 설정\n",
    "labels = [\"0~2\", \"3~5\", '6~8', '9~11', '12~14', \"15~17\", \"18~20\", \"21~23\"]\n",
    "accident_view = pd.cut(time, bins, labels=labels)\n",
    "accident_view"
   ]
  },
  {
   "cell_type": "code",
   "execution_count": 72,
   "metadata": {},
   "outputs": [
    {
     "data": {
      "text/plain": [
       "0~2      421\n",
       "3~5      444\n",
       "6~8      466\n",
       "9~11     526\n",
       "12~14    472\n",
       "15~17    550\n",
       "18~20    692\n",
       "21~23    494\n",
       "Name: 발생년월일시, dtype: int64"
      ]
     },
     "execution_count": 72,
     "metadata": {},
     "output_type": "execute_result"
    }
   ],
   "source": [
    "times_sum = accident_view.value_counts().sort_index()\n",
    "times_sum"
   ]
  },
  {
   "cell_type": "code",
   "execution_count": 124,
   "metadata": {},
   "outputs": [
    {
     "data": {
      "image/png": "[encoded data removed]",
      "text/plain": [
       "<Figure size 500x500 with 1 Axes>"
      ]
     },
     "metadata": {},
     "output_type": "display_data"
    }
   ],
   "source": [
    "font_name = font_manager.FontProperties(fname = \"C:/Windows/Fonts/malgun.ttf\").get_name()\n",
    "rc(\"font\", family = font_name)\n",
    "\n",
    "explode = [0, 0.10, 0, 0.10, 0, 0.10, 0, 0.10]\n",
    "# colors = ['#4F6272', '#B7C3F3', '#DD7596', '#8EB897']\n",
    "\n",
    "plt.figure(figsize = (5,5)).patch.set_facecolor(\"pink\")\n",
    "plt.pie(times_sum  #넣고 싶은 데이터\n",
    "                #레이블 설정\n",
    "\t\t\t\t, labels=labels #각 그래프에 파이부분\n",
    "                , labeldistance=1.2  #레이블이 그래프레어 얼마나 멀리 위치하냐(기본은 1.1정도)\n",
    "\t\t\t\t, counterclock=False #counterclock = False는 반시계방향\n",
    "                #그래프 안에 내용 설정\n",
    "\t\t\t\t, autopct=\"%1.1f%%\"  #소수점 1번째까지 실수로 표현해줘\n",
    "                # , colors=colors #그래프안 색 변경\n",
    "                #그래프 설정\n",
    "                , explode=explode #중심에서 벗어나기\n",
    "                , wedgeprops = { 'linewidth' : 1, 'edgecolor' : 'white' }\n",
    "                , shadow = True #음영넣기\n",
    "                ) \n",
    "\n",
    "plt.title(\"시간대별 교통사고 발생률\")\n",
    "\n",
    "plt.rcParams[\"figure.figsize\"] = (10,10)\n",
    "\n",
    "plt.show()"
   ]
  },
  {
   "cell_type": "markdown",
   "metadata": {},
   "source": [
    "GDP실습"
   ]
  },
  {
   "cell_type": "code",
   "execution_count": 125,
   "metadata": {},
   "outputs": [],
   "source": [
    "years = [1950,1960,1970,1980,1990,2000,2010]\n",
    "gdp = [67.0,80.0,257.0,1686.0,6505,11865.3,22105.3]\n",
    "\n"
   ]
  },
  {
   "cell_type": "code",
   "execution_count": 211,
   "metadata": {},
   "outputs": [
    {
     "name": "stderr",
     "output_type": "stream",
     "text": [
      "C:\\Users\\user\\AppData\\Local\\Temp\\ipykernel_8320\\1702811931.py:50: UserWarning: Glyph 50672 (\\N{HANGUL SYLLABLE YEON}) missing from current font.\n",
      "  plt.savefig(\"gdp_per_captita.png\", dpi = 600)\n",
      "C:\\Users\\user\\AppData\\Local\\Temp\\ipykernel_8320\\1702811931.py:50: UserWarning: Glyph 46020 (\\N{HANGUL SYLLABLE DO}) missing from current font.\n",
      "  plt.savefig(\"gdp_per_captita.png\", dpi = 600)\n"
     ]
    },
    {
     "data": {
      "image/png": "[encoded data removed]",
      "text/plain": [
       "<Figure size 500x500 with 1 Axes>"
      ]
     },
     "metadata": {},
     "output_type": "display_data"
    }
   ],
   "source": [
    "font_name = font_manager.FontProperties(fname = \"C:/Windows/Fonts/HANBatang.ttf\").get_name()\n",
    "rc(\"font\", family = font_name)\n",
    "\n",
    "font1 = {'family': 'fantasy',\n",
    "         'color': 'b',\n",
    "         'weight': 'bold',\n",
    "         'size': 14\n",
    "         }\n",
    "\n",
    "font2 = {'family': 'fantasy',\n",
    "         'color': 'deeppink',\n",
    "         'weight': 'normal',\n",
    "         'size': 'xx-large'\n",
    "         }\n",
    "\n",
    "#그래프 내부 크키\n",
    "plt.figure(figsize = (5,5)).patch.set_facecolor(\"y\")\n",
    "\n",
    "plt.plot(\n",
    "        #넣고 싶은 데이터\n",
    "            years, gdp\n",
    "        #범례 lable 문자열 설정\n",
    "            , label = \"x와 y의 관계\"\n",
    "        )\n",
    "plt.plot([1, 2, 3, 4], [3, 5, 9, 7], label='Demand (#)')\n",
    "\n",
    "#범례 표시 함수 호출\n",
    "# plt.legend()\n",
    "# plt.legend(loc=(0.0, 0.0))\n",
    "# plt.legend(loc=(0.5, 0.5))\n",
    "# plt.legend(loc=(1.0, 1.0))\n",
    "plt.legend(loc='best', ncol=3)\n",
    "\n",
    "#축 레이블(이름) 설정하기 : plt.x(y)label(\"이름\")\n",
    "plt.xlabel(\"연도\"       #x축 이름\n",
    "           , labelpad=20    #그래프에서 레이블이 떨어지는 정도 \n",
    "           , fontdict=font1     #레이블 폰트 설정하기\n",
    "           , loc='center'       #레이블 위치 설정하기 => {‘left’, ‘center’, ‘right’} 中 택1\n",
    "           )   \n",
    "plt.ylabel(\"GDP\"     #y축 이름\n",
    "           , labelpad=20    #그래프에서 레이블이 떨어지는 정도\n",
    "           , fontdict=font2     #레이블 폰트 설정하기\n",
    "           , loc = \"center\"       #레이블 위치 설정하기 => {‘bottom’, ‘center’, ‘top’}\n",
    "           ).set_rotation(360)       \n",
    "\n",
    "#그래프 이름 설정하기\n",
    "plt.title(\"연도별 GDP\")\n",
    "\n",
    "#저장할 때 이름 설정\n",
    "plt.savefig(\"gdp_per_captita.png\", dpi = 600)\n",
    "\n",
    "plt.show()"
   ]
  },
  {
   "cell_type": "code",
   "execution_count": 157,
   "metadata": {},
   "outputs": [
    {
     "ename": "AttributeError",
     "evalue": "'Line2D' object has no property 'labels'",
     "output_type": "error",
     "traceback": [
      "\u001b[1;31m---------------------------------------------------------------------------\u001b[0m",
      "\u001b[1;31mAttributeError\u001b[0m                            Traceback (most recent call last)",
      "Cell \u001b[1;32mIn [157], line 18\u001b[0m\n\u001b[0;32m      9\u001b[0m plt\u001b[38;5;241m.\u001b[39mfigure(figsize \u001b[38;5;241m=\u001b[39m (\u001b[38;5;241m5\u001b[39m,\u001b[38;5;241m5\u001b[39m))\u001b[38;5;241m.\u001b[39mpatch\u001b[38;5;241m.\u001b[39mset_facecolor(\u001b[38;5;124m\"\u001b[39m\u001b[38;5;124my\u001b[39m\u001b[38;5;124m\"\u001b[39m)\n\u001b[0;32m     11\u001b[0m \u001b[38;5;66;03m# plt.plot(\u001b[39;00m\n\u001b[0;32m     12\u001b[0m \u001b[38;5;66;03m#         #넣고 싶은 데이터\u001b[39;00m\n\u001b[0;32m     13\u001b[0m \u001b[38;5;66;03m#             x, y\u001b[39;00m\n\u001b[1;32m   (...)\u001b[0m\n\u001b[0;32m     16\u001b[0m \u001b[38;5;66;03m#         )\u001b[39;00m\n\u001b[0;32m     17\u001b[0m \u001b[38;5;66;03m# plt.plot(x,z, labels = \"x와z\")\u001b[39;00m\n\u001b[1;32m---> 18\u001b[0m \u001b[43mplt\u001b[49m\u001b[38;5;241;43m.\u001b[39;49m\u001b[43mplot\u001b[49m\u001b[43m(\u001b[49m\u001b[43mx\u001b[49m\u001b[43m,\u001b[49m\u001b[43mz\u001b[49m\u001b[43m,\u001b[49m\u001b[43m \u001b[49m\u001b[43mlabels\u001b[49m\u001b[43m \u001b[49m\u001b[38;5;241;43m=\u001b[39;49m\u001b[43m \u001b[49m\u001b[38;5;124;43m\"\u001b[39;49m\u001b[38;5;124;43mx와y\u001b[39;49m\u001b[38;5;124;43m\"\u001b[39;49m\u001b[43m)\u001b[49m\n\u001b[0;32m     19\u001b[0m plt\u001b[38;5;241m.\u001b[39mplot(y,z, labels \u001b[38;5;241m=\u001b[39m \u001b[38;5;124m\"\u001b[39m\u001b[38;5;124my와z\u001b[39m\u001b[38;5;124m\"\u001b[39m)\n\u001b[0;32m     21\u001b[0m \u001b[38;5;66;03m# plt.plot(a, b)\u001b[39;00m\n\u001b[0;32m     22\u001b[0m \n\u001b[0;32m     23\u001b[0m \n\u001b[0;32m     24\u001b[0m \u001b[38;5;66;03m#축 레이블(이름) 설정하기 : plt.x(y)label(\"이름\")\u001b[39;00m\n",
      "File \u001b[1;32mc:\\Users\\user\\anaconda3_\\lib\\site-packages\\matplotlib\\pyplot.py:2757\u001b[0m, in \u001b[0;36mplot\u001b[1;34m(scalex, scaley, data, *args, **kwargs)\u001b[0m\n\u001b[0;32m   2755\u001b[0m \u001b[39m@_copy_docstring_and_deprecators\u001b[39m(Axes\u001b[39m.\u001b[39mplot)\n\u001b[0;32m   2756\u001b[0m \u001b[39mdef\u001b[39;00m \u001b[39mplot\u001b[39m(\u001b[39m*\u001b[39margs, scalex\u001b[39m=\u001b[39m\u001b[39mTrue\u001b[39;00m, scaley\u001b[39m=\u001b[39m\u001b[39mTrue\u001b[39;00m, data\u001b[39m=\u001b[39m\u001b[39mNone\u001b[39;00m, \u001b[39m*\u001b[39m\u001b[39m*\u001b[39mkwargs):\n\u001b[1;32m-> 2757\u001b[0m     \u001b[39mreturn\u001b[39;00m gca()\u001b[39m.\u001b[39mplot(\n\u001b[0;32m   2758\u001b[0m         \u001b[39m*\u001b[39margs, scalex\u001b[39m=\u001b[39mscalex, scaley\u001b[39m=\u001b[39mscaley,\n\u001b[0;32m   2759\u001b[0m         \u001b[39m*\u001b[39m\u001b[39m*\u001b[39m({\u001b[39m\"\u001b[39m\u001b[39mdata\u001b[39m\u001b[39m\"\u001b[39m: data} \u001b[39mif\u001b[39;00m data \u001b[39mis\u001b[39;00m \u001b[39mnot\u001b[39;00m \u001b[39mNone\u001b[39;00m \u001b[39melse\u001b[39;00m {}), \u001b[39m*\u001b[39m\u001b[39m*\u001b[39mkwargs)\n",
      "File \u001b[1;32mc:\\Users\\user\\anaconda3_\\lib\\site-packages\\matplotlib\\axes\\_axes.py:1632\u001b[0m, in \u001b[0;36mAxes.plot\u001b[1;34m(self, scalex, scaley, data, *args, **kwargs)\u001b[0m\n\u001b[0;32m   1390\u001b[0m \u001b[39m\"\"\"\u001b[39;00m\n\u001b[0;32m   1391\u001b[0m \u001b[39mPlot y versus x as lines and/or markers.\u001b[39;00m\n\u001b[0;32m   1392\u001b[0m \n\u001b[1;32m   (...)\u001b[0m\n\u001b[0;32m   1629\u001b[0m \u001b[39m(``'green'``) or hex strings (``'#008000'``).\u001b[39;00m\n\u001b[0;32m   1630\u001b[0m \u001b[39m\"\"\"\u001b[39;00m\n\u001b[0;32m   1631\u001b[0m kwargs \u001b[39m=\u001b[39m cbook\u001b[39m.\u001b[39mnormalize_kwargs(kwargs, mlines\u001b[39m.\u001b[39mLine2D)\n\u001b[1;32m-> 1632\u001b[0m lines \u001b[39m=\u001b[39m [\u001b[39m*\u001b[39m\u001b[39mself\u001b[39m\u001b[39m.\u001b[39m_get_lines(\u001b[39m*\u001b[39margs, data\u001b[39m=\u001b[39mdata, \u001b[39m*\u001b[39m\u001b[39m*\u001b[39mkwargs)]\n\u001b[0;32m   1633\u001b[0m \u001b[39mfor\u001b[39;00m line \u001b[39min\u001b[39;00m lines:\n\u001b[0;32m   1634\u001b[0m     \u001b[39mself\u001b[39m\u001b[39m.\u001b[39madd_line(line)\n",
      "File \u001b[1;32mc:\\Users\\user\\anaconda3_\\lib\\site-packages\\matplotlib\\axes\\_base.py:312\u001b[0m, in \u001b[0;36m_process_plot_var_args.__call__\u001b[1;34m(self, data, *args, **kwargs)\u001b[0m\n\u001b[0;32m    310\u001b[0m     this \u001b[39m+\u001b[39m\u001b[39m=\u001b[39m args[\u001b[39m0\u001b[39m],\n\u001b[0;32m    311\u001b[0m     args \u001b[39m=\u001b[39m args[\u001b[39m1\u001b[39m:]\n\u001b[1;32m--> 312\u001b[0m \u001b[39myield from\u001b[39;00m \u001b[39mself\u001b[39;49m\u001b[39m.\u001b[39;49m_plot_args(this, kwargs)\n",
      "File \u001b[1;32mc:\\Users\\user\\anaconda3_\\lib\\site-packages\\matplotlib\\axes\\_base.py:538\u001b[0m, in \u001b[0;36m_process_plot_var_args._plot_args\u001b[1;34m(self, tup, kwargs, return_kwargs)\u001b[0m\n\u001b[0;32m    536\u001b[0m     \u001b[39mreturn\u001b[39;00m \u001b[39mlist\u001b[39m(result)\n\u001b[0;32m    537\u001b[0m \u001b[39melse\u001b[39;00m:\n\u001b[1;32m--> 538\u001b[0m     \u001b[39mreturn\u001b[39;00m [l[\u001b[39m0\u001b[39m] \u001b[39mfor\u001b[39;00m l \u001b[39min\u001b[39;00m result]\n",
      "File \u001b[1;32mc:\\Users\\user\\anaconda3_\\lib\\site-packages\\matplotlib\\axes\\_base.py:538\u001b[0m, in \u001b[0;36m<listcomp>\u001b[1;34m(.0)\u001b[0m\n\u001b[0;32m    536\u001b[0m     \u001b[39mreturn\u001b[39;00m \u001b[39mlist\u001b[39m(result)\n\u001b[0;32m    537\u001b[0m \u001b[39melse\u001b[39;00m:\n\u001b[1;32m--> 538\u001b[0m     \u001b[39mreturn\u001b[39;00m [l[\u001b[39m0\u001b[39m] \u001b[39mfor\u001b[39;00m l \u001b[39min\u001b[39;00m result]\n",
      "File \u001b[1;32mc:\\Users\\user\\anaconda3_\\lib\\site-packages\\matplotlib\\axes\\_base.py:531\u001b[0m, in \u001b[0;36m<genexpr>\u001b[1;34m(.0)\u001b[0m\n\u001b[0;32m    528\u001b[0m \u001b[39melse\u001b[39;00m:\n\u001b[0;32m    529\u001b[0m     labels \u001b[39m=\u001b[39m [label] \u001b[39m*\u001b[39m n_datasets\n\u001b[1;32m--> 531\u001b[0m result \u001b[39m=\u001b[39m (make_artist(x[:, j \u001b[39m%\u001b[39;49m ncx], y[:, j \u001b[39m%\u001b[39;49m ncy], kw,\n\u001b[0;32m    532\u001b[0m                       {\u001b[39m*\u001b[39;49m\u001b[39m*\u001b[39;49mkwargs, \u001b[39m'\u001b[39;49m\u001b[39mlabel\u001b[39;49m\u001b[39m'\u001b[39;49m: label})\n\u001b[0;32m    533\u001b[0m           \u001b[39mfor\u001b[39;00m j, label \u001b[39min\u001b[39;00m \u001b[39menumerate\u001b[39m(labels))\n\u001b[0;32m    535\u001b[0m \u001b[39mif\u001b[39;00m return_kwargs:\n\u001b[0;32m    536\u001b[0m     \u001b[39mreturn\u001b[39;00m \u001b[39mlist\u001b[39m(result)\n",
      "File \u001b[1;32mc:\\Users\\user\\anaconda3_\\lib\\site-packages\\matplotlib\\axes\\_base.py:351\u001b[0m, in \u001b[0;36m_process_plot_var_args._makeline\u001b[1;34m(self, x, y, kw, kwargs)\u001b[0m\n\u001b[0;32m    349\u001b[0m default_dict \u001b[39m=\u001b[39m \u001b[39mself\u001b[39m\u001b[39m.\u001b[39m_getdefaults(\u001b[39mset\u001b[39m(), kw)\n\u001b[0;32m    350\u001b[0m \u001b[39mself\u001b[39m\u001b[39m.\u001b[39m_setdefaults(default_dict, kw)\n\u001b[1;32m--> 351\u001b[0m seg \u001b[39m=\u001b[39m mlines\u001b[39m.\u001b[39mLine2D(x, y, \u001b[39m*\u001b[39m\u001b[39m*\u001b[39mkw)\n\u001b[0;32m    352\u001b[0m \u001b[39mreturn\u001b[39;00m seg, kw\n",
      "File \u001b[1;32mc:\\Users\\user\\anaconda3_\\lib\\site-packages\\matplotlib\\lines.py:393\u001b[0m, in \u001b[0;36mLine2D.__init__\u001b[1;34m(self, xdata, ydata, linewidth, linestyle, color, marker, markersize, markeredgewidth, markeredgecolor, markerfacecolor, markerfacecoloralt, fillstyle, antialiased, dash_capstyle, solid_capstyle, dash_joinstyle, solid_joinstyle, pickradius, drawstyle, markevery, **kwargs)\u001b[0m\n\u001b[0;32m    389\u001b[0m \u001b[39mself\u001b[39m\u001b[39m.\u001b[39mset_markeredgewidth(markeredgewidth)\n\u001b[0;32m    391\u001b[0m \u001b[39m# update kwargs before updating data to give the caller a\u001b[39;00m\n\u001b[0;32m    392\u001b[0m \u001b[39m# chance to init axes (and hence unit support)\u001b[39;00m\n\u001b[1;32m--> 393\u001b[0m \u001b[39mself\u001b[39;49m\u001b[39m.\u001b[39;49mupdate(kwargs)\n\u001b[0;32m    394\u001b[0m \u001b[39mself\u001b[39m\u001b[39m.\u001b[39mpickradius \u001b[39m=\u001b[39m pickradius\n\u001b[0;32m    395\u001b[0m \u001b[39mself\u001b[39m\u001b[39m.\u001b[39mind_offset \u001b[39m=\u001b[39m \u001b[39m0\u001b[39m\n",
      "File \u001b[1;32mc:\\Users\\user\\anaconda3_\\lib\\site-packages\\matplotlib\\artist.py:1064\u001b[0m, in \u001b[0;36mArtist.update\u001b[1;34m(self, props)\u001b[0m\n\u001b[0;32m   1062\u001b[0m             func \u001b[39m=\u001b[39m \u001b[39mgetattr\u001b[39m(\u001b[39mself\u001b[39m, \u001b[39mf\u001b[39m\u001b[39m\"\u001b[39m\u001b[39mset_\u001b[39m\u001b[39m{\u001b[39;00mk\u001b[39m}\u001b[39;00m\u001b[39m\"\u001b[39m, \u001b[39mNone\u001b[39;00m)\n\u001b[0;32m   1063\u001b[0m             \u001b[39mif\u001b[39;00m \u001b[39mnot\u001b[39;00m callable(func):\n\u001b[1;32m-> 1064\u001b[0m                 \u001b[39mraise\u001b[39;00m \u001b[39mAttributeError\u001b[39;00m(\u001b[39mf\u001b[39m\u001b[39m\"\u001b[39m\u001b[39m{\u001b[39;00m\u001b[39mtype\u001b[39m(\u001b[39mself\u001b[39m)\u001b[39m.\u001b[39m\u001b[39m__name__\u001b[39m\u001b[39m!r}\u001b[39;00m\u001b[39m object \u001b[39m\u001b[39m\"\u001b[39m\n\u001b[0;32m   1065\u001b[0m                                      \u001b[39mf\u001b[39m\u001b[39m\"\u001b[39m\u001b[39mhas no property \u001b[39m\u001b[39m{\u001b[39;00mk\u001b[39m!r}\u001b[39;00m\u001b[39m\"\u001b[39m)\n\u001b[0;32m   1066\u001b[0m             ret\u001b[39m.\u001b[39mappend(func(v))\n\u001b[0;32m   1067\u001b[0m \u001b[39mif\u001b[39;00m ret:\n",
      "\u001b[1;31mAttributeError\u001b[0m: 'Line2D' object has no property 'labels'"
     ]
    },
    {
     "data": {
      "image/png": "[encoded data removed]",
      "text/plain": [
       "<Figure size 500x500 with 1 Axes>"
      ]
     },
     "metadata": {},
     "output_type": "display_data"
    }
   ],
   "source": [
    "font_name = font_manager.FontProperties(fname = \"C:/Windows/Fonts/Hancom Gothic Bold.ttf\").get_name()\n",
    "rc(\"font\", family = font_name)\n",
    "\n",
    "x = [x for x in range(20)]\n",
    "y = [y*2 for y in x]\n",
    "z = [p*3 for p in x]\n",
    "\n",
    "#그래프 내부 크키\n",
    "plt.figure(figsize = (5,5)).patch.set_facecolor(\"y\")\n",
    "\n",
    "# plt.plot(\n",
    "#         #넣고 싶은 데이터\n",
    "#             x, y\n",
    "#         #marker(점)의 설정 변경\n",
    "#             ,marker = \"o\" #점의 모양\n",
    "#         )\n",
    "# plt.plot(x,z, labels = \"x와z\")\n",
    "plt.plot(x,z, labels = \"x와y\")\n",
    "plt.plot(y,z, labels = \"y와z\")\n",
    "\n",
    "# plt.plot(a, b)\n",
    "\n",
    "\n",
    "#축 레이블(이름) 설정하기 : plt.x(y)label(\"이름\")\n",
    "plt.xlabel(\"X축\") #x축 이름\n",
    "plt.ylabel(\"Z축\").set_rotation(360) #y축 이름 \n",
    "\n",
    "#그래프 title(제목) 설정\n",
    "plt.title(\"그래프 그리기 연습\")\n",
    "\n",
    "#저장할 때 이름 설정\n",
    "plt.savefig(\"그래프 그리기 연습.png\", dpi = 600)\n",
    "\n",
    "plt.show()"
   ]
  },
  {
   "cell_type": "code",
   "execution_count": 232,
   "metadata": {},
   "outputs": [
    {
     "data": {
      "text/plain": [
       "철수    90\n",
       "영희    90\n",
       "민영    55\n",
       "민수    78\n",
       "은희    67\n",
       "동현    26\n",
       "윤정    24\n",
       "민정    97\n",
       "Name: 영어점수, dtype: int64"
      ]
     },
     "execution_count": 232,
     "metadata": {},
     "output_type": "execute_result"
    }
   ],
   "source": [
    "sr = pd.Series([90,90,55,78,67,26,24,97], name=\"영어점수\")\n",
    "sr.index = [\"철수\", \"영희\", \"민영\", \"민수\", \"은희\", \"동현\", \"윤정\", \"민정\"]\n",
    "sr"
   ]
  },
  {
   "cell_type": "markdown",
   "metadata": {},
   "source": [
    "<u>시리즈.nlargest(n, keep='first')</u>\n",
    "  \n",
    "n : 상위 몇개까지 나타낼 것인가\n",
    "keep='first' : 동등한 값이 있다면 제일 먼저 나온 값을 보여준다.  \n",
    "  \n",
    "시리즈의 경우엔 컬럼을 명시할 필요 없다.  \n",
    "  \n",
    "데이터프레임.nlargest(n, columns, keep='first')  \n",
    "  \n",
    "데이터프레임의 경우 우선 순위에 따라 컬럼을 명시해 줄 수 있다."
   ]
  },
  {
   "cell_type": "code",
   "execution_count": 233,
   "metadata": {},
   "outputs": [
    {
     "data": {
      "text/plain": [
       "민정    97\n",
       "철수    90\n",
       "Name: 영어점수, dtype: int64"
      ]
     },
     "execution_count": 233,
     "metadata": {},
     "output_type": "execute_result"
    }
   ],
   "source": [
    "#높은 점수 순으로 원하는 개수만큼 가져오기\n",
    "sr.nlargest(2, keep = \"all\")\n",
    "sr.nlargest(2, keep = \"first\")"
   ]
  },
  {
   "cell_type": "code",
   "execution_count": 234,
   "metadata": {},
   "outputs": [
    {
     "data": {
      "text/plain": [
       "철수    90\n",
       "영희    90\n",
       "민정    97\n",
       "Name: 영어점수, dtype: int64"
      ]
     },
     "execution_count": 234,
     "metadata": {},
     "output_type": "execute_result"
    }
   ],
   "source": [
    "#80점 이상\n",
    "sr[sr >= 80]"
   ]
  },
  {
   "cell_type": "code",
   "execution_count": 235,
   "metadata": {},
   "outputs": [
    {
     "data": {
      "text/plain": [
       "민영    55\n",
       "Name: 영어점수, dtype: int64"
      ]
     },
     "execution_count": 235,
     "metadata": {},
     "output_type": "execute_result"
    }
   ],
   "source": [
    "#50점 이상 60점 이하\n",
    "sr[(sr >= 50) & (sr <= 60)]"
   ]
  },
  {
   "cell_type": "code",
   "execution_count": 236,
   "metadata": {},
   "outputs": [
    {
     "data": {
      "text/plain": [
       "65.875"
      ]
     },
     "execution_count": 236,
     "metadata": {},
     "output_type": "execute_result"
    }
   ],
   "source": [
    "#영어 점수의 평균\n",
    "sr.mean()"
   ]
  },
  {
   "cell_type": "code",
   "execution_count": 237,
   "metadata": {},
   "outputs": [
    {
     "data": {
      "text/plain": [
       "<AxesSubplot:>"
      ]
     },
     "execution_count": 237,
     "metadata": {},
     "output_type": "execute_result"
    },
    {
     "data": {
      "image/png": "[encoded data removed]",
      "text/plain": [
       "<Figure size 2000x500 with 1 Axes>"
      ]
     },
     "metadata": {},
     "output_type": "display_data"
    }
   ],
   "source": [
    "#50점이상인 데이터로 바차트\n",
    "up_50 = sr[(sr >= 50)]\n",
    "\n",
    "font_name = font_manager.FontProperties(fname = \"C:/Windows/Fonts/malgun.ttf\").get_name()\n",
    "rc(\"font\", family = font_name)\n",
    "\n",
    "up_50.plot(kind = \"bar\")\n",
    "# plt.xlabel().set_rotation(360)"
   ]
  },
  {
   "cell_type": "code",
   "execution_count": null,
   "metadata": {},
   "outputs": [],
   "source": [
    "#이름을 입력받아 점수 출력하기"
   ]
  },
  {
   "cell_type": "code",
   "execution_count": 246,
   "metadata": {},
   "outputs": [
    {
     "name": "stdout",
     "output_type": "stream",
     "text": [
      "학생이 없습니다. 확인 후 다시 입력하세요\n"
     ]
    }
   ],
   "source": [
    "a = input(\"이름을 입력하세요. >> \")\n",
    "\n",
    "if a not in sr.index:\n",
    "    print(\"학생이 없습니다. 확인 후 다시 입력하세요\")\n",
    "else:\n",
    "    for name in sr.index:\n",
    "        if a == name:\n",
    "            print(f\"{a}의 영어점수는\",sr[f\"{name}\"], \"입니다\")\n",
    "        else:\n",
    "            pass\n"
   ]
  },
  {
   "cell_type": "markdown",
   "metadata": {},
   "source": [
    "#영어점수 등급 매기기  \n",
    "#A:90-100 / B:80-89 / C:70-79 / D:60:-69 / F : 0-59  \n",
    "![KakaoTalk_20220923_111142463](https://user-images.githubusercontent.com/87592790/191880643-0929e5a0-a496-44e8-8079-80d4b279d0ae.png)"
   ]
  },
  {
   "cell_type": "code",
   "execution_count": 274,
   "metadata": {},
   "outputs": [
    {
     "data": {
      "text/html": [
       "<div>\n",
       "<style scoped>\n",
       "    .dataframe tbody tr th:only-of-type {\n",
       "        vertical-align: middle;\n",
       "    }\n",
       "\n",
       "    .dataframe tbody tr th {\n",
       "        vertical-align: top;\n",
       "    }\n",
       "\n",
       "    .dataframe thead th {\n",
       "        text-align: right;\n",
       "    }\n",
       "</style>\n",
       "<table border=\"1\" class=\"dataframe\">\n",
       "  <thead>\n",
       "    <tr style=\"text-align: right;\">\n",
       "      <th></th>\n",
       "      <th>영어점수</th>\n",
       "      <th>학점</th>\n",
       "    </tr>\n",
       "  </thead>\n",
       "  <tbody>\n",
       "    <tr>\n",
       "      <th>철수</th>\n",
       "      <td>90</td>\n",
       "      <td>A</td>\n",
       "    </tr>\n",
       "    <tr>\n",
       "      <th>영희</th>\n",
       "      <td>90</td>\n",
       "      <td>A</td>\n",
       "    </tr>\n",
       "    <tr>\n",
       "      <th>민영</th>\n",
       "      <td>55</td>\n",
       "      <td>F</td>\n",
       "    </tr>\n",
       "    <tr>\n",
       "      <th>민수</th>\n",
       "      <td>78</td>\n",
       "      <td>C</td>\n",
       "    </tr>\n",
       "    <tr>\n",
       "      <th>은희</th>\n",
       "      <td>67</td>\n",
       "      <td>D</td>\n",
       "    </tr>\n",
       "    <tr>\n",
       "      <th>동현</th>\n",
       "      <td>26</td>\n",
       "      <td>F</td>\n",
       "    </tr>\n",
       "    <tr>\n",
       "      <th>윤정</th>\n",
       "      <td>24</td>\n",
       "      <td>F</td>\n",
       "    </tr>\n",
       "    <tr>\n",
       "      <th>민정</th>\n",
       "      <td>97</td>\n",
       "      <td>A</td>\n",
       "    </tr>\n",
       "  </tbody>\n",
       "</table>\n",
       "</div>"
      ],
      "text/plain": [
       "    영어점수 학점\n",
       "철수    90  A\n",
       "영희    90  A\n",
       "민영    55  F\n",
       "민수    78  C\n",
       "은희    67  D\n",
       "동현    26  F\n",
       "윤정    24  F\n",
       "민정    97  A"
      ]
     },
     "execution_count": 274,
     "metadata": {},
     "output_type": "execute_result"
    }
   ],
   "source": [
    "bins = [-1, 59,69,79,89,100] #간격설정 : 구간 시작점은 1 작게 설정\n",
    "labels = [\"F\", \"D\", 'C', 'B', 'A']\n",
    "grade = pd.cut(sr, bins, labels=labels)\n",
    "score = pd.DataFrame(sr)\n",
    "score[\"학점\"] = grade\n",
    "score"
   ]
  },
  {
   "cell_type": "code",
   "execution_count": 291,
   "metadata": {},
   "outputs": [
    {
     "name": "stdout",
     "output_type": "stream",
     "text": [
      "--------------------\n",
      "이름\t영어\t등급\n",
      "--------------------\n",
      "철수\t 90\t A\n",
      "영희\t 90\t A\n",
      "민영\t 55\t F\n",
      "민수\t 78\t C\n",
      "은희\t 67\t D\n",
      "동현\t 26\t F\n",
      "윤정\t 24\t F\n",
      "민정\t 97\t A\n"
     ]
    }
   ],
   "source": [
    "print(\"-\"*20)\n",
    "print(\"이름\", \"영어\", \"등급\", sep = \"\\t\")\n",
    "print(\"-\"*20)\n",
    "for name in sr.index:\n",
    "    print(f\"{name}\\t {sr[f'{name}']}\\t {grade[f'{name}']}\")\n",
    "    \n",
    "# pd.merge(sr, grade)\n"
   ]
  },
  {
   "cell_type": "code",
   "execution_count": 279,
   "metadata": {},
   "outputs": [
    {
     "data": {
      "text/plain": [
       "0.1    25.4\n",
       "0.5    72.5\n",
       "0.9    92.1\n",
       "Name: 영어점수, dtype: float64"
      ]
     },
     "execution_count": 279,
     "metadata": {},
     "output_type": "execute_result"
    }
   ],
   "source": [
    "sr.quantile([0.1, 0.5, 0.9])\n",
    "#하위 10%, 하위 50, 하위90%(상위10%)"
   ]
  },
  {
   "cell_type": "markdown",
   "metadata": {},
   "source": [
    "#과일 데이터로 파이차트 만들기"
   ]
  },
  {
   "cell_type": "code",
   "execution_count": 317,
   "metadata": {},
   "outputs": [
    {
     "data": {
      "image/png": "[encoded data removed]",
      "text/plain": [
       "<Figure size 500x500 with 1 Axes>"
      ]
     },
     "metadata": {},
     "output_type": "display_data"
    }
   ],
   "source": [
    "fruit = pd.Series([10,20,30,50]\n",
    "                  , index=[\"딸기\", \"귤\", \"수박\", \"사과\"]\n",
    "                  , name = \"과일\"\n",
    "                  )\n",
    "fruit\n",
    "#================================ 파이 차트 그리기 ========================================\n",
    "font_name = font_manager.FontProperties(fname = \"C:/Windows/Fonts/malgun.ttf\").get_name()\n",
    "rc(\"font\", family = font_name)\n",
    "\n",
    "colors = ['#4F6272', '#B7C3F3', '#DD7596', '#8EB897']\n",
    "\n",
    "plt.figure(figsize = (5, 5)).patch.set_facecolor(\"w\")\n",
    "plt.pie(\n",
    "        #넣고 싶은 데이터\n",
    "            fruit #데이터프레임  \n",
    "            \n",
    "        #레이블 설정\n",
    "            , labels=[\"딸기\", \"귤\", \"수박\", \"사과\"] #각 그래프에 파이부분\n",
    "            , labeldistance=1.1  #레이블이 그래프레어 얼마나 멀리 위치하냐(기본은 1.1정도)\n",
    "            # , counterclock=False #counterclock = False는 반시계방향\n",
    "        #그래프 안에 내용 설정\n",
    "            , autopct=\"%1.1f%%\"  #소수점 1번째까지 실수로 표현해줘\n",
    "            , colors=colors #그래프안 색 변경\n",
    "        #그래프 설정\n",
    "            , explode=[0.02, 0.02, 0.02, 0.08] #중심에서 벗어나기\n",
    "            , wedgeprops = { 'linewidth' : 1, 'edgecolor' : 'white' }\n",
    "            , shadow = True #음영넣기\n",
    "        ) \n",
    "\n",
    "plt.title(\"과일의 비중\")\n",
    "\n",
    "# plt.rcParams[\"fruit.figsize\"] = (10,10)\n",
    "\n",
    "plt.show()"
   ]
  }
 ],
 "metadata": {
  "kernelspec": {
   "display_name": "Python 3.9.12 ('base')",
   "language": "python",
   "name": "python3"
  },
  "language_info": {
   "codemirror_mode": {
    "name": "ipython",
    "version": 3
   },
   "file_extension": ".py",
   "mimetype": "text/x-python",
   "name": "python",
   "nbconvert_exporter": "python",
   "pygments_lexer": "ipython3",
   "version": "3.9.12"
  },
  "orig_nbformat": 4,
  "vscode": {
   "interpreter": {
    "hash": "49e04899c6e094c3b61dd8509fde2649571811ca1eef12c1c216e72ad0930740"
   }
  }
 },
 "nbformat": 4,
 "nbformat_minor": 2
}
