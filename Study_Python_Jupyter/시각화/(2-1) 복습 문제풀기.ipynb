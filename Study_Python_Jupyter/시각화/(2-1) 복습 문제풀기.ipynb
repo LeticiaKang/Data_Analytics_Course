{
 "cells": [
  {
   "cell_type": "code",
   "execution_count": 106,
   "metadata": {},
   "outputs": [],
   "source": [
    "import numpy as np"
   ]
  },
  {
   "cell_type": "markdown",
   "metadata": {},
   "source": [
    "##### 몸풀기 문제"
   ]
  },
  {
   "cell_type": "markdown",
   "metadata": {},
   "source": [
    "#1. 1m부터 50까지 짝수만 원소로 갖는 넘파이 배열 생성하기"
   ]
  },
  {
   "cell_type": "code",
   "execution_count": 107,
   "metadata": {},
   "outputs": [
    {
     "name": "stdout",
     "output_type": "stream",
     "text": [
      "1부터 50까지 짝수만 원소로 갖는 넘파이 배열\n",
      "[ 1  3  5  7  9 11 13 15 17 19 21 23 25 27 29 31 33 35 37 39 41 43 45 47\n",
      " 49]\n"
     ]
    }
   ],
   "source": [
    "arr = np.arange(1,51,2)\n",
    "print(f\"\"\"1부터 50까지 짝수만 원소로 갖는 넘파이 배열\n",
    "{arr}\"\"\")"
   ]
  },
  {
   "cell_type": "markdown",
   "metadata": {},
   "source": [
    " #2.  \n",
    "  0을 원소를 갖는 4x4 배열 생성  \n",
    "  1을 원소를 갖는 10x10 배열 생성  \n",
    "  원하는 숫자를 원소로 갖는 7x4 배열 생성  "
   ]
  },
  {
   "cell_type": "code",
   "execution_count": 108,
   "metadata": {},
   "outputs": [
    {
     "name": "stdout",
     "output_type": "stream",
     "text": [
      "\n",
      "arr_0\n",
      "[[0. 0. 0. 0.]\n",
      " [0. 0. 0. 0.]\n",
      " [0. 0. 0. 0.]\n",
      " [0. 0. 0. 0.]]\n",
      "\n",
      "arr_1\n",
      "[[1. 1. 1. 1. 1. 1. 1. 1. 1. 1.]\n",
      " [1. 1. 1. 1. 1. 1. 1. 1. 1. 1.]\n",
      " [1. 1. 1. 1. 1. 1. 1. 1. 1. 1.]\n",
      " [1. 1. 1. 1. 1. 1. 1. 1. 1. 1.]\n",
      " [1. 1. 1. 1. 1. 1. 1. 1. 1. 1.]\n",
      " [1. 1. 1. 1. 1. 1. 1. 1. 1. 1.]\n",
      " [1. 1. 1. 1. 1. 1. 1. 1. 1. 1.]\n",
      " [1. 1. 1. 1. 1. 1. 1. 1. 1. 1.]\n",
      " [1. 1. 1. 1. 1. 1. 1. 1. 1. 1.]\n",
      " [1. 1. 1. 1. 1. 1. 1. 1. 1. 1.]]\n",
      "\n",
      "arr_like\n",
      "[[7 7 7 7]\n",
      " [7 7 7 7]\n",
      " [7 7 7 7]\n",
      " [7 7 7 7]\n",
      " [7 7 7 7]\n",
      " [7 7 7 7]\n",
      " [7 7 7 7]]\n"
     ]
    }
   ],
   "source": [
    "arr_0 = np.zeros(16).reshape(4,4)\n",
    "# arr_0 = np.zeros((4,4))\n",
    "arr_1 = np.ones(100).reshape(10,10)\n",
    "# arr_0 = np.ones((10,10))\n",
    "arr_like = np.full((7,4),7)\n",
    "print(f\"\"\"\n",
    "arr_0\n",
    "{arr_0}\n",
    "\n",
    "arr_1\n",
    "{arr_1}\n",
    "\n",
    "arr_like\n",
    "{arr_like}\"\"\")"
   ]
  },
  {
   "cell_type": "markdown",
   "metadata": {},
   "source": [
    "#4. 1부터 100까지 원소 중 3의 배수를 원소로 갖는 배열 생성하기"
   ]
  },
  {
   "cell_type": "code",
   "execution_count": 109,
   "metadata": {},
   "outputs": [
    {
     "name": "stdout",
     "output_type": "stream",
     "text": [
      "\n",
      "arr_3\n",
      "[ 3  6  9 12 15 18 21 24 27 30 33 36 39 42 45 48 51 54 57 60 63 66 69 72\n",
      " 75 78 81 84 87 90 93 96 99]\n"
     ]
    }
   ],
   "source": [
    "arr_3 = np.arange(3,101,3)\n",
    "print(f\"\"\"\n",
    "arr_3\n",
    "{arr_3}\"\"\")"
   ]
  },
  {
   "cell_type": "markdown",
   "metadata": {},
   "source": [
    "#5. \n",
    "1. 문제4의 배열의 요소 개수(size)\n",
    "2.  2차원 배열 생성\n",
    "3. 생성된 배열의 크기(shape)"
   ]
  },
  {
   "cell_type": "code",
   "execution_count": 110,
   "metadata": {},
   "outputs": [
    {
     "name": "stdout",
     "output_type": "stream",
     "text": [
      "\n",
      "arr_3.size : 33\n",
      "\n",
      "arr_3_2\n",
      "[[ 3  6  9 12 15 18 21 24 27 30 33]\n",
      " [36 39 42 45 48 51 54 57 60 63 66]\n",
      " [69 72 75 78 81 84 87 90 93 96 99]]\n",
      "\n",
      "arr_3_2.shape : (3, 11)\n"
     ]
    }
   ],
   "source": [
    "arr_3_2 = arr_3.reshape((3,11))\n",
    "print(f\"\"\"\n",
    "arr_3.size : {arr_3.size}\n",
    "\n",
    "arr_3_2\n",
    "{arr_3_2}\n",
    "\n",
    "arr_3_2.shape : {arr_3_2.shape}\"\"\")"
   ]
  },
  {
   "cell_type": "code",
   "execution_count": 111,
   "metadata": {},
   "outputs": [
    {
     "data": {
      "text/plain": [
       "array([[ 3,  6,  9, 12, 15, 18, 21, 24, 27, 30, 33],\n",
       "       [36, 39, 42, 45, 48, 51, 54, 57, 60, 63, 66],\n",
       "       [69, 72, 75, 78, 81, 84, 87, 90, 93, 96, 99]])"
      ]
     },
     "execution_count": 111,
     "metadata": {},
     "output_type": "execute_result"
    }
   ],
   "source": [
    "arr_3_2"
   ]
  },
  {
   "cell_type": "markdown",
   "metadata": {},
   "source": [
    "#6. \n",
    "1. 0~1사이의 값을 랜덤하게 갖는 6*4 배열 생성   \n",
    "    - random.rand(m,n) : m*n배열\n",
    "2. 1~100사이의 값을 랜덤하게 갖는 5*5 배열 생성\n",
    "3. astype을 사용하여 2번 배열을 실수형태의 원소로 갖는 배열 생성"
   ]
  },
  {
   "cell_type": "code",
   "execution_count": 112,
   "metadata": {},
   "outputs": [],
   "source": [
    "import random"
   ]
  },
  {
   "cell_type": "code",
   "execution_count": 113,
   "metadata": {},
   "outputs": [
    {
     "name": "stdout",
     "output_type": "stream",
     "text": [
      "\n",
      "arr_1\n",
      "[[0.50811645 0.17720448 0.08371004 0.02855674]\n",
      " [0.89311358 0.02851163 0.85626797 0.6828373 ]\n",
      " [0.53440807 0.06429935 0.57812752 0.55232884]\n",
      " [0.12292307 0.12921667 0.33473865 0.32296774]\n",
      " [0.8061307  0.61281477 0.96853913 0.41055936]\n",
      " [0.99874853 0.88784258 0.51710909 0.49382564]]\n",
      "\n",
      "arr_2\n",
      "[[41 88  1 25 69]\n",
      " [97 89 65 75 11]\n",
      " [57 39  9 47 91]\n",
      " [27 99 25 46 80]\n",
      " [93 19 99 58 59]]\n",
      "\n",
      "arr_2_float\n",
      "[[41. 88.  1. 25. 69.]\n",
      " [97. 89. 65. 75. 11.]\n",
      " [57. 39.  9. 47. 91.]\n",
      " [27. 99. 25. 46. 80.]\n",
      " [93. 19. 99. 58. 59.]]\n"
     ]
    }
   ],
   "source": [
    "arr_1 =  np.random.rand(6,4)\n",
    "arr_2 = np.random.randint(1,100, size=(5,5))\n",
    "arr_2_float = arr_2.astype(\"float32\")\n",
    "\n",
    "print(f\"\"\"\n",
    "arr_1\n",
    "{arr_1}\n",
    "\n",
    "arr_2\n",
    "{arr_2}\n",
    "\n",
    "arr_2_float\n",
    "{arr_2_float}\"\"\")"
   ]
  },
  {
   "cell_type": "markdown",
   "metadata": {},
   "source": [
    "#7\n",
    "1. 주어진 배열에서 3,4,8,9만 가져오기\n",
    "2. 주어진 배열에서 6,7,8만 가져오기"
   ]
  },
  {
   "cell_type": "code",
   "execution_count": 114,
   "metadata": {},
   "outputs": [
    {
     "name": "stdout",
     "output_type": "stream",
     "text": [
      "\n",
      "주어진 배열\n",
      "[[0 1 2 3 4]\n",
      " [5 6 7 8 9]]\n",
      "      \n",
      "3,4,8,9만 가져오기\n",
      "[[3 4]\n",
      " [8 9]]\n",
      "\n",
      "6,7,8만 가져오기\n",
      "[[6 7 8]]\n",
      "→ 0번째 행, 1번째 행\n",
      "→ 1번째 열 ~ 4번째 열\n"
     ]
    }
   ],
   "source": [
    "x = np.arange(10).reshape(2,5)\n",
    "print(f\"\"\"\n",
    "주어진 배열\n",
    "{x}\n",
    "      \n",
    "3,4,8,9만 가져오기\n",
    "{x[:, 3:]}\n",
    "\n",
    "6,7,8만 가져오기\n",
    "{x[1:, 1:4]}\n",
    "→ 0번째 행, 1번째 행\n",
    "→ 1번째 열 ~ 4번째 열\"\"\")\n",
    "\n"
   ]
  },
  {
   "cell_type": "markdown",
   "metadata": {},
   "source": [
    "#8\n",
    "1. 3,8,13을 원소로 가져오기\n",
    "2. 5,6,7,8,9를 원소로 가져오기\n",
    "3. 1,2,3/ 6,7,8을 원소로 가져오기"
   ]
  },
  {
   "cell_type": "code",
   "execution_count": 115,
   "metadata": {},
   "outputs": [
    {
     "name": "stdout",
     "output_type": "stream",
     "text": [
      "\n",
      "주어진 배열\n",
      "[[ 0  1  2  3  4]\n",
      " [ 5  6  7  8  9]\n",
      " [10 11 12 13 14]]\n",
      "\n",
      "3,8,13을 원소로 가져오기\n",
      "#방법1\n",
      "[ 3  8 13]\n",
      "#방법2\n",
      "[[ 3]\n",
      " [ 8]\n",
      " [13]]\n",
      "\n",
      "5,6,7,8,9를 원소로 가져오기\n",
      "[5 6 7 8 9]\n",
      "\n",
      "1,2,3/ 6,7,8을 원소로 가져오기\n",
      "[[1 2 3]\n",
      " [6 7 8]]\n"
     ]
    }
   ],
   "source": [
    "y = np.arange(15).reshape(3,5)\n",
    "print(f\"\"\"\n",
    "주어진 배열\n",
    "{y}\n",
    "\n",
    "3,8,13을 원소로 가져오기\n",
    "#방법1\n",
    "{y[:, 3]}\n",
    "#방법2\n",
    "{y[:, 3:4]}\n",
    "\n",
    "5,6,7,8,9를 원소로 가져오기\n",
    "{y[1, :]}\n",
    "\n",
    "1,2,3/ 6,7,8을 원소로 가져오기\n",
    "{y[0:2, 1:4]}\"\"\")"
   ]
  },
  {
   "cell_type": "markdown",
   "metadata": {},
   "source": [
    "#9  \n",
    "1. 주어진 배열에서 5보다 작은 값만 추출\n",
    "2. 주어진 배열에서 3의 배수 추출"
   ]
  },
  {
   "cell_type": "code",
   "execution_count": 116,
   "metadata": {},
   "outputs": [
    {
     "name": "stdout",
     "output_type": "stream",
     "text": [
      "\n",
      "주어진 배열\n",
      "[[ 1  2  3  4]\n",
      " [ 5  6  7  8]\n",
      " [ 9 10 11 12]]\n",
      "\n",
      "5보다 작은 값만 추출\n",
      "[1 2 3 4 5]\n",
      "\n",
      "3의 배수만 추출\n",
      "[ 3  6  9 12]\n",
      "[ 3  6  9 12]\n"
     ]
    }
   ],
   "source": [
    "arr2 = np.arange(1,13).reshape(3,4)\n",
    "arr_2_3 = arr2%3\n",
    "print(f\"\"\"\n",
    "주어진 배열\n",
    "{arr2}\n",
    "\n",
    "5보다 작은 값만 추출\n",
    "{arr2[arr2 <= 5]}\n",
    "\n",
    "3의 배수만 추출\n",
    "{arr2[arr_2_3.astype(\"int64\") == 0]}\n",
    "{arr2[arr2%3 == 0]}\"\"\")"
   ]
  },
  {
   "cell_type": "markdown",
   "metadata": {},
   "source": [
    "#10-1  \n",
    "1. 주어진 배열에서 2의 배수 추출\n",
    "2. 주어진 배열에서 60이상인 수만 추출"
   ]
  },
  {
   "cell_type": "code",
   "execution_count": 120,
   "metadata": {},
   "outputs": [
    {
     "name": "stdout",
     "output_type": "stream",
     "text": [
      "\n",
      "주어진 배열\n",
      "[ 7 24 33 65 31 33 72 81 12 17]\n",
      "\n",
      "2의 배수 추출\n",
      "[24 72 12]\n",
      "\n",
      "60이상인 수 추출\n",
      "[65 72 81]\n"
     ]
    }
   ],
   "source": [
    "x = np.random.randint(1,100, (10,))\n",
    "print(f\"\"\"\n",
    "주어진 배열\n",
    "{x}\n",
    "\n",
    "2의 배수 추출\n",
    "{x[x % 2 == 0]}\n",
    "\n",
    "60이상인 수 추출\n",
    "{x[x >= 60]}\"\"\")"
   ]
  },
  {
   "cell_type": "markdown",
   "metadata": {},
   "source": [
    "#10-2  \n",
    "1. 30이상 , 70미만인 수 추출  \n",
    "2. 60보다 크더나 홀수인 수 추출   \n",
    "###### ** 소괄호()를 하지 않으면 오류가 날 수 있음"
   ]
  },
  {
   "cell_type": "code",
   "execution_count": 122,
   "metadata": {},
   "outputs": [
    {
     "name": "stdout",
     "output_type": "stream",
     "text": [
      "\n",
      "30이상 , 70미만인 수 추출\n",
      "[33 65 31 33]\n",
      "\n",
      "60보다 크더나 홀수인 수 추출\n",
      "[ 7 33 65 31 33 72 81 17]\n"
     ]
    }
   ],
   "source": [
    "print(f\"\"\"\n",
    "30이상 , 70미만인 수 추출\n",
    "{x[(x >= 30) & (x < 70)]}\n",
    "\n",
    "60보다 크더나 홀수인 수 추출\n",
    "{x[(x > 60) | (x % 2 != 0)]}\"\"\")"
   ]
  },
  {
   "cell_type": "markdown",
   "metadata": {},
   "source": [
    "#11  \n",
    "1.  \n",
    "2.  "
   ]
  },
  {
   "cell_type": "code",
   "execution_count": 124,
   "metadata": {},
   "outputs": [
    {
     "data": {
      "text/plain": [
       "31"
      ]
     },
     "execution_count": 124,
     "metadata": {},
     "output_type": "execute_result"
    }
   ],
   "source": [
    "temp = np.array(\n",
    "        [23.9, 24.4, 24.1, 25.4, 27.6, 29.7,\n",
    "         26.7, 25.1, 25.0, 22.7, 21.9, 23.6, \n",
    "         24.9, 25.9, 23.8, 24.7, 25.6, 26.9, \n",
    "         28.6, 28.0, 25.1, 26.7, 28.1, 26.5, \n",
    "         26.3, 25.9, 28.4, 26.1, 27.5, 28.1, 25.8])\n",
    "len(temp)"
   ]
  },
  {
   "cell_type": "code",
   "execution_count": 142,
   "metadata": {},
   "outputs": [
    {
     "name": "stdout",
     "output_type": "stream",
     "text": [
      "\n",
      "기온이 25도를 넘는 날의 수 : 21일\n",
      "# 방법2 : np.sum(temp > 25) \n",
      "# → True, False로 바꿔서 그 합을 구해주는 거임\n",
      "기온이 25도를 넘는 날의 평균 기온은? : 26.86도\n"
     ]
    }
   ],
   "source": [
    "temp_25 = temp[temp > 25.0]\n",
    "print(f\"\"\"\n",
    "기온이 25도를 넘는 날의 수 : {len(temp_25)}일\n",
    "# 방법2 : np.sum(temp > 25) \n",
    "# → True, False로 바꿔서 그 합을 구해주는 거임\n",
    "기온이 25도를 넘는 날의 평균 기온은? : {np.ceil((np.mean(temp_25)*100))/100}도\"\"\")\n"
   ]
  }
 ],
 "metadata": {
  "kernelspec": {
   "display_name": "Python 3.9.12 ('base')",
   "language": "python",
   "name": "python3"
  },
  "language_info": {
   "codemirror_mode": {
    "name": "ipython",
    "version": 3
   },
   "file_extension": ".py",
   "mimetype": "text/x-python",
   "name": "python",
   "nbconvert_exporter": "python",
   "pygments_lexer": "ipython3",
   "version": "3.9.12"
  },
  "orig_nbformat": 4,
  "vscode": {
   "interpreter": {
    "hash": "49e04899c6e094c3b61dd8509fde2649571811ca1eef12c1c216e72ad0930740"
   }
  }
 },
 "nbformat": 4,
 "nbformat_minor": 2
}
