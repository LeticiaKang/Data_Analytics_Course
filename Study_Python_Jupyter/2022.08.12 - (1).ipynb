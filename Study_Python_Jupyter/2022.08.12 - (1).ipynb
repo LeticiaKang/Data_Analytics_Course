{
 "cells": [
  {
   "cell_type": "code",
   "execution_count": 8,
   "id": "aa1583a6",
   "metadata": {},
   "outputs": [
    {
     "ename": "MemoryError",
     "evalue": "",
     "output_type": "error",
     "traceback": [
      "\u001b[1;31m---------------------------------------------------------------------------\u001b[0m",
      "\u001b[1;31mMemoryError\u001b[0m                               Traceback (most recent call last)",
      "Input \u001b[1;32mIn [8]\u001b[0m, in \u001b[0;36m<cell line: 7>\u001b[1;34m()\u001b[0m\n\u001b[0;32m      7\u001b[0m \u001b[38;5;28;01mwhile\u001b[39;00m share \u001b[38;5;241m!=\u001b[39m \u001b[38;5;241m0\u001b[39m:\n\u001b[0;32m      8\u001b[0m     share, remain \u001b[38;5;241m=\u001b[39m \u001b[38;5;28mdivmod\u001b[39m(n, k)[\u001b[38;5;241m0\u001b[39m], \u001b[38;5;28mdivmod\u001b[39m(n, k)[\u001b[38;5;241m1\u001b[39m] \u001b[38;5;66;03m# 20 // 3 = 6\u001b[39;00m\n\u001b[1;32m----> 9\u001b[0m     \u001b[43mremain_list\u001b[49m\u001b[38;5;241;43m.\u001b[39;49m\u001b[43mappend\u001b[49m\u001b[43m(\u001b[49m\u001b[43mremain\u001b[49m\u001b[43m)\u001b[49m      \u001b[38;5;66;03m# share_list = [2, 0, 2]\u001b[39;00m\n\u001b[0;32m     10\u001b[0m     number \u001b[38;5;241m=\u001b[39m share\n\u001b[0;32m     12\u001b[0m remain_list \u001b[38;5;241m=\u001b[39m remain_list[::\u001b[38;5;241m-\u001b[39m\u001b[38;5;241m1\u001b[39m]\n",
      "\u001b[1;31mMemoryError\u001b[0m: "
     ]
    }
   ],
   "source": [
    "n, k = 20, 3\n",
    "\n",
    "share = 1\n",
    "remain_list = []\n",
    "\n",
    "\n",
    "while share != 0:\n",
    "    share, remain = divmod(n, k)[0], divmod(n, k)[1] # 20 // 3 = 6\n",
    "    remain_list.append(remain)      # share_list = [2, 0, 2]\n",
    "    number = share\n",
    "\n",
    "remain_list = remain_list[::-1]\n"
   ]
  },
  {
   "cell_type": "code",
   "execution_count": 6,
   "id": "1509693b",
   "metadata": {},
   "outputs": [
    {
     "data": {
      "text/plain": [
       "int"
      ]
     },
     "execution_count": 6,
     "metadata": {},
     "output_type": "execute_result"
    }
   ],
   "source": [
    "divmod(10,3)\n",
    "type(divmod(10,3)[0])"
   ]
  },
  {
   "cell_type": "code",
   "execution_count": 20,
   "id": "bc6c60e8",
   "metadata": {},
   "outputs": [
    {
     "name": "stdout",
     "output_type": "stream",
     "text": [
      "100,24\n",
      "4\n"
     ]
    }
   ],
   "source": [
    "# a, b = map(int, input().split(\",\"))\n",
    "\n",
    "def GCD():\n",
    "    a, b = map(int, input().split(\",\"))\n",
    "    r_list = []\n",
    "    \n",
    "    if a > b :\n",
    "        (a, b) = (a, b)\n",
    "    else:\n",
    "        (a, b) = (b, a)\n",
    "    \n",
    "    while b != 0:\n",
    "        (a, b) = (b, a % b)\n",
    "        \n",
    "    print(a)\n",
    "\n",
    "GCD()\n",
    "        \n",
    "        \n",
    "        \n",
    "     "
   ]
  },
  {
   "cell_type": "code",
   "execution_count": null,
   "id": "e7071b1b",
   "metadata": {},
   "outputs": [],
   "source": []
  }
 ],
 "metadata": {
  "kernelspec": {
   "display_name": "Python 3 (ipykernel)",
   "language": "python",
   "name": "python3"
  },
  "language_info": {
   "codemirror_mode": {
    "name": "ipython",
    "version": 3
   },
   "file_extension": ".py",
   "mimetype": "text/x-python",
   "name": "python",
   "nbconvert_exporter": "python",
   "pygments_lexer": "ipython3",
   "version": "3.9.12"
  }
 },
 "nbformat": 4,
 "nbformat_minor": 5
}
