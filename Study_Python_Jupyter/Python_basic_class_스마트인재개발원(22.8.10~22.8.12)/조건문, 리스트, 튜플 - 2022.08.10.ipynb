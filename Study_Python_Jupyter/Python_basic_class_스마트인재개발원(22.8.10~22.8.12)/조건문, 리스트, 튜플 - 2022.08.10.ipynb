{
 "cells": [
  {
   "cell_type": "code",
   "execution_count": 1,
   "id": "1e8449c6",
   "metadata": {},
   "outputs": [],
   "source": [
    "# number = int(input())\n",
    "\n",
    "# if number == 3:\n",
    "#     print(\"3의 배수입니다.\")\n",
    "    \n",
    "# else:\n",
    "#     print(\"3의 배수가 아닙니다..\")"
   ]
  },
  {
   "cell_type": "code",
   "execution_count": null,
   "id": "6b853338",
   "metadata": {},
   "outputs": [],
   "source": [
    "while True:\n",
    "    price = 10000\n",
    "    set_number = int(input(\"몇 개 샀나용? \"))\n",
    "\n",
    "#     if set_number:\n",
    "#         except:\n",
    "#             print(\"0 이상 숫자만 입력해 주세요.\")\n",
    "#             exit()\n",
    "            \n",
    "    if set_number > 0 and set_number < 11:\n",
    "        result = set_number * price\n",
    "        print(f\"{result}원\")\n",
    "        break\n",
    "\n",
    "    elif set_number >= 11:\n",
    "        result = int(100000 + ((set_number - 10) * price * 0.9))\n",
    "        print(f\"{result}원\")\n",
    "        break\n"
   ]
  },
  {
   "cell_type": "code",
   "execution_count": null,
   "id": "73a97ffa",
   "metadata": {},
   "outputs": [],
   "source": [
    "while True:\n",
    "    try:\n",
    "        price = 10000\n",
    "        set_number = int(input(\"몇 개 샀나용? \"))\n",
    "\n",
    "        if set_number > 0 and set_number < 11:\n",
    "            result = set_number * price\n",
    "            print(f\"{result}원\\n\")\n",
    "            break\n",
    "\n",
    "        elif set_number >= 11:\n",
    "            result = int(100000 + ((set_number - 10) * price * 0.9))\n",
    "            print(f\"{result}원\\n\")\n",
    "            break\n",
    "\n",
    "    except:\n",
    "        print(\"잘못입력했어요.\\n\")"
   ]
  },
  {
   "cell_type": "markdown",
   "id": "7c23b6f5",
   "metadata": {},
   "source": [
    "# 리스트"
   ]
  },
  {
   "cell_type": "code",
   "execution_count": null,
   "id": "eafbf451",
   "metadata": {},
   "outputs": [],
   "source": [
    "c = [[\"b\", \"c\"],2]\n",
    "print(c[0][1])"
   ]
  },
  {
   "cell_type": "markdown",
   "id": "8483ecd8",
   "metadata": {},
   "source": [
    "## 원하는 자리에 원하는 문자 넣기 : insert\n",
    "\n",
    "### 사용형태 : 리스트이름.insert(원하는 위치 인덱스, \"원하는 문자열\")\n",
    "\n",
    "### a.append(\"2\") = a.insert( len(a), \"2\")"
   ]
  },
  {
   "cell_type": "code",
   "execution_count": null,
   "id": "d17d8660",
   "metadata": {},
   "outputs": [],
   "source": [
    "a = [1, 2, 3, 4]\n",
    "b = [1, 2, 3, 4]\n",
    "\n",
    "a.insert(len(a), \"2\")\n",
    "b.append(\"2\")\n",
    "\n",
    "print(a, \"insert\")\n",
    "print(b, \"append\")"
   ]
  },
  {
   "cell_type": "markdown",
   "id": "5c3bcb41",
   "metadata": {},
   "source": [
    "## 원소 지우기 : remove , del\n",
    "\n",
    "\n",
    "### del : 지우고 싶은 원소의 위치를 아는 경우\n",
    "#### 사용형태 : del 리스트이름[인덱스]\n",
    "\n",
    "### remove : 원하는 요소를 아는 경우\n",
    "#### 사용형태 : 리스트이름.remove(원하는 요소)"
   ]
  },
  {
   "cell_type": "code",
   "execution_count": null,
   "id": "578101ab",
   "metadata": {},
   "outputs": [],
   "source": [
    "del b[0]\n",
    "b"
   ]
  },
  {
   "cell_type": "code",
   "execution_count": null,
   "id": "29c1de42",
   "metadata": {},
   "outputs": [],
   "source": [
    "b.remove(3)\n",
    "b"
   ]
  },
  {
   "cell_type": "code",
   "execution_count": null,
   "id": "3ac717ac",
   "metadata": {},
   "outputs": [],
   "source": [
    "b[0] = \"바꿈\""
   ]
  },
  {
   "cell_type": "code",
   "execution_count": null,
   "id": "56130a95",
   "metadata": {},
   "outputs": [],
   "source": [
    "b"
   ]
  },
  {
   "cell_type": "markdown",
   "id": "224ff3c1",
   "metadata": {},
   "source": [
    "## 오름차순, 내림차순 : 리스트.sort()"
   ]
  },
  {
   "cell_type": "code",
   "execution_count": null,
   "id": "32f4ca47",
   "metadata": {},
   "outputs": [],
   "source": [
    "a = [2, 9, 3, 4, 5, 11]\n",
    "a.sort()\n",
    "a"
   ]
  },
  {
   "cell_type": "code",
   "execution_count": null,
   "id": "849ad5ed",
   "metadata": {},
   "outputs": [],
   "source": [
    "a = [2, 9, 3, 4, 5, 11]\n",
    "a.sort(reverse = -1)\n",
    "a"
   ]
  },
  {
   "cell_type": "code",
   "execution_count": null,
   "id": "3adcc7b2",
   "metadata": {},
   "outputs": [],
   "source": [
    "a = [2, 9, 3, 4, 5, 11]\n",
    "a.reverse()\n",
    "a"
   ]
  },
  {
   "cell_type": "markdown",
   "id": "adf7591b",
   "metadata": {},
   "source": [
    "## 매서드 형태 : aaa.bbb(매개변수(파라미터))\n",
    "###    - 끝없이 이어붙일 수 있음\n",
    "## 함수\n",
    "###    - "
   ]
  },
  {
   "cell_type": "code",
   "execution_count": null,
   "id": "d8a8faf2",
   "metadata": {},
   "outputs": [],
   "source": [
    "like = \"나는 콜라가 좋아\"\n",
    "\"콜라\" in like"
   ]
  },
  {
   "cell_type": "code",
   "execution_count": null,
   "id": "ac604faf",
   "metadata": {},
   "outputs": [],
   "source": [
    "import random\n",
    "\n",
    "# 0에서 1사이 무작위 수가 출력\n",
    "random.random()"
   ]
  },
  {
   "cell_type": "code",
   "execution_count": null,
   "id": "a47236af",
   "metadata": {},
   "outputs": [],
   "source": [
    "I = [ 1, 2, 3, 4, 5]\n",
    "\n",
    "# 리스트 안에 수를 무작위로 출력\n",
    "random.choice(I)"
   ]
  },
  {
   "cell_type": "markdown",
   "id": "228eced1",
   "metadata": {},
   "source": [
    "## 가위바위보 게임\n",
    "- 플레이어가 하나 입력\n",
    "- 다른 것을 낸 경우 \n",
    "- 컴퓨터는 동일한 확률로 하나를 냄\n",
    "- 플레이어의 입력과 컴퓨터의 입력을 비교하여 승부 결정\n",
    "- 출력문은 \"당신은 가위를 냈고, 컴퓨터는 보를 냈습니다. 당신이 이겼습니다.\" 와 같은 형식으로 출력"
   ]
  },
  {
   "cell_type": "code",
   "execution_count": null,
   "id": "5fef4c0e",
   "metadata": {},
   "outputs": [],
   "source": [
    "# # 가위 = 0, 바위 = 1, 보 = 2\n",
    "# # 플레이어 입력받기\n",
    "# import random\n",
    "# GAME = [ \"가위\", \"바위\", \"보\"]\n",
    "\n",
    "# while True:\n",
    "#     player = input(\"가위, 바위, 보 중 원하는 것을 내세요! : \")\n",
    "#     computer = random.choice(GAME)\n",
    "    \n",
    "#     if player not in GAME:\n",
    "#         print(\"잘못 냈습니다. 다시 입력하세요\")\n",
    "    \n",
    "#     elif player == computer:\n",
    "#         print(f\"당신은 {player}를 냈고, 컴퓨터는 {computer}를 냈습니다. 무승부입니다.\")\n",
    "        \n",
    "#     elif player == \"가위\":\n",
    "#         if computer == \"바위\":\n",
    "#             print(f\"당신은 {player}를 냈고, 컴퓨터는 {computer}를 냈습니다. 당신이 졌습니다..\")\n",
    "#         else:\n",
    "#             print(f\"당신은 {player}를 냈고, 컴퓨터는 {computer}를 냈습니다. 당신이 이겼습니다..\")\n",
    "\n",
    "#     elif player == \"바위\":\n",
    "#         if computer == \"보\":\n",
    "#             print(f\"당신은 {player}를 냈고, 컴퓨터는 {computer}를 냈습니다. 당신이 졌습니다..\")\n",
    "#         else:\n",
    "#             print(f\"당신은 {player}를 냈고, 컴퓨터는 {computer}를 냈습니다. 당신이 이겼습니다..\")\n",
    "\n",
    "#     elif player == \"보\":\n",
    "#         if computer == \"가위\":\n",
    "#             print(f\"당신은 {player}를 냈고, 컴퓨터는 {computer}를 냈습니다. 당신이 졌습니다..\")\n",
    "#         else:\n",
    "#             print(f\"당신은 {player}를 냈고, 컴퓨터는 {computer}를 냈습니다. 당신이 이겼습니다..\")\n",
    "\n"
   ]
  },
  {
   "cell_type": "code",
   "execution_count": null,
   "id": "f1ec7f47",
   "metadata": {},
   "outputs": [],
   "source": [
    "# # 가위 = 0, 바위 = 1, 보 = 2\n",
    "# # 플레이어 입력받기\n",
    "# import random\n",
    "# GAME = [ \"가위\", \"바위\", \"보\"]\n",
    "\n",
    "# while True:\n",
    "#     player = input(\"가위, 바위, 보 중 원하는 것을 내세요! : \")\n",
    "#     computer = random.choice(GAME)\n",
    "    \n",
    "#     if player not in GAME:\n",
    "#         print(\"잘못 냈습니다. 다시 입력하세요\")\n",
    "    \n",
    "#     else:\n",
    "#         if player == computer:\n",
    "#             print(f\"당신은 {player}를 냈고, 컴퓨터는 {computer}를 냈습니다. 무승부입니다.\")\n",
    "\n",
    "#         elif (computer == \"바위\" and player == \"가위\") or (computer == \"보\" and player == \"바위\") or (computer == \"가위\" and player == \"보\"):\n",
    "#             print(f\"당신은 {player}를 냈고, 컴퓨터는 {computer}를 냈습니다. 당신이 졌습니다..\")\n",
    "\n",
    "#         elif(computer == \"가위\" and player == \"바위\") or (computer == \"바위\" and player == \"보\") or (computer == \"보\" and player == \"가위\"):\n",
    "#             print(f\"당신은 {player}를 냈고, 컴퓨터는 {computer}를 냈습니다. 당신이 이겼습니다..\")\n"
   ]
  },
  {
   "cell_type": "code",
   "execution_count": null,
   "id": "a7c462cd",
   "metadata": {},
   "outputs": [],
   "source": []
  },
  {
   "cell_type": "code",
   "execution_count": null,
   "id": "11aa49bf",
   "metadata": {},
   "outputs": [],
   "source": []
  }
 ],
 "metadata": {
  "kernelspec": {
   "display_name": "Python 3 (ipykernel)",
   "language": "python",
   "name": "python3"
  },
  "language_info": {
   "codemirror_mode": {
    "name": "ipython",
    "version": 3
   },
   "file_extension": ".py",
   "mimetype": "text/x-python",
   "name": "python",
   "nbconvert_exporter": "python",
   "pygments_lexer": "ipython3",
   "version": "3.9.12"
  }
 },
 "nbformat": 4,
 "nbformat_minor": 5
}
