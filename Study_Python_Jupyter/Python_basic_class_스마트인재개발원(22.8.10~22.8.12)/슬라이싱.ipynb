{
 "cells": [
  {
   "cell_type": "markdown",
   "id": "cf36735a",
   "metadata": {},
   "source": [
    "# Heading\n",
    "## Heading\n",
    "### Heading\n",
    "#### Heading\n",
    "- AAAAA\n",
    "    - CCCCCC\n",
    "    \n",
    "1. DDDDD\n",
    "2. #####\n",
    "\n",
    "** 볼드로 입력 됨\n"
   ]
  },
  {
   "cell_type": "code",
   "execution_count": 27,
   "id": "ae9d6e1a",
   "metadata": {},
   "outputs": [
    {
     "data": {
      "text/plain": [
       "2"
      ]
     },
     "execution_count": 27,
     "metadata": {},
     "output_type": "execute_result"
    }
   ],
   "source": [
    "1+1"
   ]
  },
  {
   "cell_type": "code",
   "execution_count": 29,
   "id": "99cfbbcc",
   "metadata": {},
   "outputs": [],
   "source": [
    "from IPython.display import Image"
   ]
  },
  {
   "cell_type": "code",
   "execution_count": 28,
   "id": "376aa340",
   "metadata": {},
   "outputs": [
    {
     "data": {
      "text/plain": [
       "2"
      ]
     },
     "execution_count": 28,
     "metadata": {},
     "output_type": "execute_result"
    }
   ],
   "source": [
    "1+1"
   ]
  },
  {
   "cell_type": "code",
   "execution_count": 33,
   "id": "2457bce6",
   "metadata": {},
   "outputs": [
    {
     "data": {
      "text/html": [
       "<img src=\"http://t1.daumcdn.net/friends/prod/editor/dc8b3d02-a15a-4afa-a88b-989cf2a50476.jpg\" width=\"300\" height=\"300\"/>"
      ],
      "text/plain": [
       "<IPython.core.display.Image object>"
      ]
     },
     "execution_count": 33,
     "metadata": {},
     "output_type": "execute_result"
    }
   ],
   "source": [
    "Image(url = \"http://t1.daumcdn.net/friends/prod/editor/dc8b3d02-a15a-4afa-a88b-989cf2a50476.jpg\", \n",
    "      width = 300, height = 300)"
   ]
  },
  {
   "cell_type": "code",
   "execution_count": 35,
   "id": "7e44cf02",
   "metadata": {},
   "outputs": [
    {
     "data": {
      "image/jpeg": "[encoded data removed]",
      "text/html": [
       "\n",
       "        <iframe\n",
       "            width=\"400\"\n",
       "            height=\"200\"\n",
       "            src=\"https://www.youtube.com/embed/I5cq54MFQCo\"\n",
       "            frameborder=\"0\"\n",
       "            allowfullscreen\n",
       "            \n",
       "        ></iframe>\n",
       "        "
      ],
      "text/plain": [
       "<IPython.lib.display.YouTubeVideo at 0x1eb7f7b0340>"
      ]
     },
     "execution_count": 35,
     "metadata": {},
     "output_type": "execute_result"
    }
   ],
   "source": [
    "from IPython.display import YouTubeVideo\n",
    "\n",
    "YouTubeVideo(\"I5cq54MFQCo\", width = 400, height = 200)"
   ]
  },
  {
   "cell_type": "code",
   "execution_count": null,
   "id": "4e67da7e",
   "metadata": {},
   "outputs": [],
   "source": [
    "num = \"16\"\n",
    "type(num)"
   ]
  },
  {
   "cell_type": "code",
   "execution_count": null,
   "id": "fc0e0448",
   "metadata": {},
   "outputs": [],
   "source": []
  },
  {
   "cell_type": "code",
   "execution_count": 9,
   "id": "ee92aaff",
   "metadata": {},
   "outputs": [
    {
     "name": "stdout",
     "output_type": "stream",
     "text": [
      "원하는 글귀: ㅁㄴ언ㅁ악ㄴ읆ㅇㄴ습니다, 습니다. 습니다.\n",
      "3\n"
     ]
    }
   ],
   "source": [
    "sentence = input(\"원하는 글귀: \")\n",
    "\n",
    "with open(\"생성.txt\", \"a\", encoding = \"UTF-8\") as file:\n",
    "    file.write(f\"{sentence}\")\n",
    "\n",
    "def count_word(sentence, word):\n",
    "    result = sentence.count(f\"{word}\")\n",
    "    return result\n",
    "\n",
    "print(count_word(sentence, \"습니다\"))"
   ]
  },
  {
   "cell_type": "code",
   "execution_count": 3,
   "id": "6b0163e5",
   "metadata": {},
   "outputs": [
    {
     "name": "stdout",
     "output_type": "stream",
     "text": [
      "추가내용: 추가가ㅏ가ㅏㅏㅏ\n"
     ]
    }
   ],
   "source": [
    "a = input(\"추가내용: \")\n",
    "\n",
    "EX = open(\"실험.txt\", \"w\")\n",
    "\n",
    "\n",
    "EX.write(a)\n",
    "EX.close()"
   ]
  },
  {
   "cell_type": "code",
   "execution_count": 14,
   "id": "fa4a3787",
   "metadata": {},
   "outputs": [
    {
     "name": "stdout",
     "output_type": "stream",
     "text": [
      "25\n"
     ]
    }
   ],
   "source": [
    "a, b = 10, 15\n",
    "c = a + b\n",
    "print(c)"
   ]
  },
  {
   "cell_type": "code",
   "execution_count": 23,
   "id": "da277ed1",
   "metadata": {},
   "outputs": [
    {
     "name": "stdout",
     "output_type": "stream",
     "text": [
      "hello python hello python\n"
     ]
    }
   ],
   "source": [
    "str1 = str2 = \"hello python\"\n",
    "print(str1, str2)"
   ]
  },
  {
   "cell_type": "code",
   "execution_count": 31,
   "id": "1de3d047",
   "metadata": {},
   "outputs": [
    {
     "name": "stdout",
     "output_type": "stream",
     "text": [
      "가나아라\"6시\"날ㅇ머ㅏ\n",
      "가나아라\"7시\"날ㅇ머ㅏ\n"
     ]
    }
   ],
   "source": [
    "a = \"가나아라\\\"6시\\\"날ㅇ머ㅏ\"\n",
    "print(a)\n",
    "\n",
    "b = '가나아라\\\"7시\\\"날ㅇ머ㅏ'\n",
    "print(b)"
   ]
  },
  {
   "cell_type": "code",
   "execution_count": 62,
   "id": "cd41e471",
   "metadata": {},
   "outputs": [
    {
     "name": "stdout",
     "output_type": "stream",
     "text": [
      "a\n",
      "name\n",
      "HY si eman yM\n",
      "My name is Y\n",
      "My name is Y\n",
      "M aei H\n",
      "My name is YH\n",
      "M\n"
     ]
    }
   ],
   "source": [
    "sentence1 =  \"My name is YH\"\n",
    "print(sentence1[4])\n",
    "print(sentence1[3:7])\n",
    "print(sentence1[::-1])\n",
    "print(sentence1[:-1])\n",
    "print(sentence1[:12])\n",
    "print(sentence1[::2])\n",
    "print(sentence1[-13:])\n",
    "print(sentence1[-13])"
   ]
  },
  {
   "cell_type": "markdown",
   "id": "bb9d41a9",
   "metadata": {},
   "source": [
    "1. 20220809Sunny\n",
    "2. 20220810Cloudy\n",
    "3. 20220811Fog\n",
    "\n",
    "이 정보를 년도/월/일/ 날씨 변수로 쪼개서 저장"
   ]
  },
  {
   "cell_type": "code",
   "execution_count": 73,
   "id": "1e26a2b2",
   "metadata": {},
   "outputs": [
    {
     "name": "stdout",
     "output_type": "stream",
     "text": [
      "20220810   Cloudy\n",
      "year: 2022, month: 08, day: 10, weather: Cloudy\n"
     ]
    }
   ],
   "source": [
    "weather_info = input()\n",
    "\n",
    "weather_info = weather_info.replace(\" \", \"\")\n",
    "\n",
    "\n",
    "year = weather_info[0:4]\n",
    "month = weather_info[4:6]\n",
    "day = weather_info[6:8]\n",
    "weather = weather_info[8:]\n",
    "\n",
    "print(f\"year: {year}, month: {month}, day: {day}, weather: {weather}\")"
   ]
  },
  {
   "cell_type": "code",
   "execution_count": null,
   "id": "bec32742",
   "metadata": {},
   "outputs": [],
   "source": []
  },
  {
   "cell_type": "code",
   "execution_count": null,
   "id": "f0e5d9f3",
   "metadata": {},
   "outputs": [],
   "source": []
  },
  {
   "cell_type": "code",
   "execution_count": null,
   "id": "8f1256ee",
   "metadata": {},
   "outputs": [],
   "source": []
  },
  {
   "cell_type": "code",
   "execution_count": null,
   "id": "e50bc9d5",
   "metadata": {},
   "outputs": [],
   "source": []
  },
  {
   "cell_type": "code",
   "execution_count": null,
   "id": "56bed1e7",
   "metadata": {},
   "outputs": [],
   "source": []
  },
  {
   "cell_type": "code",
   "execution_count": 2,
   "id": "150c3981",
   "metadata": {},
   "outputs": [],
   "source": [
    "\n"
   ]
  }
 ],
 "metadata": {
  "kernelspec": {
   "display_name": "Python 3 (ipykernel)",
   "language": "python",
   "name": "python3"
  },
  "language_info": {
   "codemirror_mode": {
    "name": "ipython",
    "version": 3
   },
   "file_extension": ".py",
   "mimetype": "text/x-python",
   "name": "python",
   "nbconvert_exporter": "python",
   "pygments_lexer": "ipython3",
   "version": "3.9.12"
  }
 },
 "nbformat": 4,
 "nbformat_minor": 5
}
