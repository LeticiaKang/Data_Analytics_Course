{
 "cells": [
  {
   "cell_type": "code",
   "execution_count": 30,
   "metadata": {},
   "outputs": [],
   "source": [
    "import pandas as pd\n",
    "import numpy as np\n",
    "import numpy as np\n",
    "import mglearn\n",
    "from matplotlib import rc\n",
    "import matplotlib.pyplot as plt\n",
    "from sklearn.model_selection import train_test_split\n",
    "from sklearn.metrics import accuracy_score\n",
    "\n",
    "from sklearn.linear_model import LinearRegression\n",
    "from sklearn.neighbors import KNeighborsRegressor\n",
    "from sklearn.tree import DecisionTreeRegressor\n",
    "from sklearn.ensemble import RandomForestRegressor\n",
    "from sklearn.metrics import r2_score\n",
    "import xgboost as xgb\n",
    "from lightgbm import LGBMRegressor\n",
    "\n",
    "import warnings\n",
    "warnings.simplefilter(action='ignore', category=FutureWarning)\n",
    "\n",
    "# 나눔 폰트를 사용합니다.\n",
    "rc('font', family='Malgun Gothic')\n",
    "plt.rcParams['axes.unicode_minus'] = False"
   ]
  },
  {
   "cell_type": "code",
   "execution_count": 19,
   "metadata": {},
   "outputs": [],
   "source": [
    "train = pd.read_excel(\"221021_아버지아들키.xlsx\", sheet_name='train')\n",
    "test = pd.read_excel(\"221021_아버지아들키.xlsx\", sheet_name='test')"
   ]
  },
  {
   "cell_type": "code",
   "execution_count": 20,
   "metadata": {},
   "outputs": [
    {
     "data": {
      "text/plain": [
       "<matplotlib.collections.PathCollection at 0x1c32684bf70>"
      ]
     },
     "execution_count": 20,
     "metadata": {},
     "output_type": "execute_result"
    },
    {
     "data": {
      "image/png": "[encoded data removed]",
      "text/plain": [
       "<Figure size 500x400 with 1 Axes>"
      ]
     },
     "metadata": {},
     "output_type": "display_data"
    }
   ],
   "source": [
    "# 1.훈련셋, 테스트셋 나누기\n",
    "X_train = train['Father'].to_numpy().reshape(-1,1)\n",
    "# X_train = train['Father'].to_numpy()[:, np.newaxis]\n",
    "y_train = train['Son'].to_numpy()\n",
    "X_test = test['Father'].to_numpy().reshape(-1,1)\n",
    "X_test = test['Father'].to_numpy()[:, np.newaxis]\n",
    "y_test = test['Son'].to_numpy()\n",
    "\n",
    "# 2.데이터 분포 보기 - 약한 선형성을 띈다\n",
    "plt.figure(figsize=(5,4))\n",
    "plt.scatter(X_train, y_train)"
   ]
  },
  {
   "cell_type": "code",
   "execution_count": 21,
   "metadata": {},
   "outputs": [
    {
     "name": "stdout",
     "output_type": "stream",
     "text": [
      "===== 모델평가 =====\n",
      "선형모델 :  0.2519977905846619\n",
      "KNN모델 :  0.2434867959852367\n",
      "DT모델 :  0.07133438875422093\n",
      "RF모델 :  0.11936181651585598\n",
      "GBR모델 :  0.09088520188892446 \n",
      "\n"
     ]
    }
   ],
   "source": [
    "# 3.모델 선언\n",
    "LR = LinearRegression()\n",
    "KNN = KNeighborsRegressor(n_neighbors=50)\n",
    "# KNN = KNeighborsRegressor()\n",
    "DT = DecisionTreeRegressor()\n",
    "RF = RandomForestRegressor(n_estimators=500)\n",
    "GBR = GradientBoostingRegressor(n_estimators=500)\n",
    "\n",
    "# 4.모델 학습\n",
    "LR.fit(X_train, y_train)\n",
    "KNN.fit(X_train, y_train)\n",
    "DT.fit(X_train, y_train)\n",
    "RF.fit(X_train, y_train)\n",
    "GBR.fit(X_train, y_train)\n",
    "\n",
    "# 5.테스트셋 넣기\n",
    "predictLR = LR.predict(X_test)\n",
    "predictKNN = KNN.predict(X_test)\n",
    "predictDT = DT.predict(X_test)\n",
    "predictRF = RF.predict(X_test)\n",
    "predictGBR = GBR.predict(X_test)\n",
    "\n",
    "\n",
    "# 6.모델 평가\n",
    "print(\"===== 모델평가 =====\")\n",
    "print(\"선형모델 : \", r2_score(y_test, predictLR))\n",
    "print(\"KNN모델 : \", r2_score(y_test, predictKNN))\n",
    "print(\"DT모델 : \", r2_score(y_test, predictDT))\n",
    "print(\"RF모델 : \", r2_score(y_test, predictRF))\n",
    "print(\"GBR모델 : \", r2_score(y_test, predictGBR), \"\\n\")\n",
    "\n",
    "\n",
    "# # train으로 한 번 해봄\n",
    "# predictLR = LR.predict(X_train)\n",
    "# predictKNN = KNN.predict(X_train)\n",
    "# predictDT = DT.predict(X_train)\n",
    "\n",
    "# print(\"선형모델 : \", r2_score(y_train, predictLR))\n",
    "# print(\"KNN모델 : \", r2_score(y_train, predictKNN))\n",
    "# print(\"DT모델 : \", r2_score(y_train, predictDT))\n"
   ]
  },
  {
   "cell_type": "markdown",
   "metadata": {},
   "source": [
    "### Voting"
   ]
  },
  {
   "cell_type": "code",
   "execution_count": 22,
   "metadata": {},
   "outputs": [
    {
     "name": "stdout",
     "output_type": "stream",
     "text": [
      "======== 예측값 r2_score의 평균 ========\n",
      "그냥 평균 성능 :  0.22896318302324248\n",
      "가중치 :  0.24710058485557873 \n",
      "\n",
      "\n",
      " <Random Forest 추가>\n",
      "그냥 평균 성능 :  0.2106255820335189\n",
      "가중치 :  0.2384969459883275 \n",
      "\n",
      "======== 분산 ========\n",
      "LR :  13.020016090787738\n",
      "KNN :  11.681305648013176\n",
      "DT :  18.70637762177803\n",
      "12.537009926618786\n",
      "12.09708088056144\n",
      "\n",
      " <Random Forest 추가>\n",
      "LR :  13.020016090787738\n",
      "KNN :  11.681305648013176\n",
      "DT :  18.70637762177803\n",
      "RF :  16.86594936773861\n",
      "13.180833722636487\n",
      "12.281852921696201\n"
     ]
    }
   ],
   "source": [
    "# # 7.의사결정시 방법 : Voting으로 결정\n",
    "\n",
    "print(\"======== 예측값 r2_score의 평균 ========\")\n",
    "# # 방법1. 평균\n",
    "avg_predict1 = (predictLR + predictKNN + predictDT) / 3\n",
    "print(\"그냥 평균 성능 : \", r2_score(y_test, avg_predict1))\n",
    "\n",
    "# # 방법2. 가중평균 - 비율로 가중치 부여\n",
    "avg_predict2 = (predictLR*24 + predictKNN*25 + predictDT*7) / 56\n",
    "print(\"가중치 : \", r2_score(y_test, avg_predict2), \"\\n\")\n",
    "\n",
    "# # Random Forest 추가\n",
    "# # 방법1. 평균\n",
    "print(\"\\n\", \"<Random Forest 추가>\")\n",
    "avg_predict3 = (predictLR + predictKNN + predictDT + predictRF) / 4\n",
    "print(\"그냥 평균 성능 : \", r2_score(y_test, avg_predict3))\n",
    "\n",
    "# # 방법2. 가중평균 - 비율로 가중치 부여\n",
    "avg_predict4 = (predictLR*24 + predictKNN*25 + predictDT*7 + predictRF*11) / 67\n",
    "print(\"가중치 : \", r2_score(y_test, avg_predict4), \"\\n\")\n",
    "\n",
    "# # 8.분산 확인해보기 \n",
    "# # (분산은 평균에서 어느 정도 떻어져 있나, 클수록 넓은 분포를 가지고 있다.)\n",
    "# # 표본이 모집단에 가깝게 크기가 커질수록 평균은 모집단의 평균에 수렴한다.\n",
    "\n",
    "print(\"======== 분산 ========\")\n",
    "print(\"LR : \" , np.cov(predictLR))\n",
    "print(\"KNN : \" , np.cov(predictKNN))\n",
    "print(\"DT : \" , np.cov(predictDT))\n",
    "print(np.cov(avg_predict1))\n",
    "print(np.cov(avg_predict2))\n",
    "\n",
    "print(\"\\n\", \"<Random Forest 추가>\")\n",
    "# # Random Forest 추가\n",
    "print(\"LR : \" , np.cov(predictLR))\n",
    "print(\"KNN : \" , np.cov(predictKNN))\n",
    "print(\"DT : \" , np.cov(predictDT))\n",
    "print(\"RF : \" , np.cov(predictRF))\n",
    "print(np.cov(avg_predict3))\n",
    "print(np.cov(avg_predict4))"
   ]
  },
  {
   "cell_type": "code",
   "execution_count": 23,
   "metadata": {},
   "outputs": [
    {
     "name": "stdout",
     "output_type": "stream",
     "text": [
      "LR :  13.020016090787738\n",
      "KNN :  11.681305648013176\n",
      "DT :  18.70637762177803\n",
      "12.537009926618786\n",
      "12.09708088056144\n",
      "\n",
      " <Random Forest 추가>\n",
      "LR :  13.020016090787738\n",
      "KNN :  11.681305648013176\n",
      "DT :  18.70637762177803\n",
      "RF :  16.86594936773861\n",
      "13.180833722636487\n",
      "12.281852921696201\n"
     ]
    }
   ],
   "source": [
    "# # 8.분산 확인해보기 \n",
    "# # (분산은 평균에서 어느 정도 떻어져 있나, 클수록 넓은 분포를 가지고 있다.)\n",
    "# # 표본이 모집단에 가깝게 크기가 커질수록 평균은 모집단의 평균에 수렴한다.\n",
    "\n",
    "print(\"LR : \" , np.cov(predictLR))\n",
    "print(\"KNN : \" , np.cov(predictKNN))\n",
    "print(\"DT : \" , np.cov(predictDT))\n",
    "print(np.cov(avg_predict1))\n",
    "print(np.cov(avg_predict2))\n",
    "\n",
    "print(\"\\n\", \"<Random Forest 추가>\")\n",
    "# # Random Forest 추가\n",
    "print(\"LR : \" , np.cov(predictLR))\n",
    "print(\"KNN : \" , np.cov(predictKNN))\n",
    "print(\"DT : \" , np.cov(predictDT))\n",
    "print(\"RF : \" , np.cov(predictRF))\n",
    "print(np.cov(avg_predict3))\n",
    "print(np.cov(avg_predict4))"
   ]
  },
  {
   "cell_type": "markdown",
   "metadata": {},
   "source": [
    "### Boosting"
   ]
  },
  {
   "cell_type": "code",
   "execution_count": 25,
   "metadata": {},
   "outputs": [
    {
     "name": "stdout",
     "output_type": "stream",
     "text": [
      "======== 예측값 r2_score의 평균 ========\n",
      "그냥 평균 성능 :  0.19313821753990934\n",
      "가중치 :  0.22681194361656187 \n",
      "\n",
      "======== 분산 ========\n",
      "LR :  13.020016090787738\n",
      "KNN :  11.681305648013176\n",
      "DT :  18.70637762177803\n",
      "RF :  16.86594936773861\n",
      "GBR :  17.79056830323543\n",
      "평균 :  13.79038322763009\n",
      "가중치 :  12.599511517444048\n"
     ]
    }
   ],
   "source": [
    "from sklearn.ensemble import GradientBoostingRegressor\n",
    "\n",
    "# # 7.의사결정시 방법 : Boosting으로 결정\n",
    "print(\"======== 예측값 r2_score의 평균 ========\")\n",
    "# # 방법1. 평균\n",
    "avg_predict3 = (predictLR + predictKNN + predictDT + predictRF + predictGBR) / 5\n",
    "print(\"그냥 평균 성능 : \", r2_score(y_test, avg_predict3))\n",
    "\n",
    "# # 방법2. 가중평균 - 비율로 가중치 부여\n",
    "avg_predict4 = (predictLR*24 + predictKNN*25 + predictDT*7 + predictRF*11 + predictGBR*12) / 79\n",
    "print(\"가중치 : \", r2_score(y_test, avg_predict4), \"\\n\")\n",
    "\n",
    "# # 8.분산 확인해보기 \n",
    "print(\"======== 분산 ========\")\n",
    "print(\"LR : \" , np.cov(predictLR))\n",
    "print(\"KNN : \" , np.cov(predictKNN))\n",
    "print(\"DT : \" , np.cov(predictDT))\n",
    "print(\"RF : \" , np.cov(predictRF))\n",
    "print(\"GBR : \" , np.cov(predictGBR)) #Boosting\n",
    "print(\"평균 : \" , np.cov(avg_predict3))\n",
    "print(\"가중치 : \", np.cov(avg_predict4))"
   ]
  },
  {
   "cell_type": "markdown",
   "metadata": {},
   "source": [
    "### XGBoost 추가해서 비교"
   ]
  },
  {
   "cell_type": "code",
   "execution_count": 38,
   "metadata": {},
   "outputs": [
    {
     "name": "stdout",
     "output_type": "stream",
     "text": [
      "===== 모델평가 =====\n",
      "선형모델 :  0.2519977905846619\n",
      "KNN모델 :  0.2434867959852367\n",
      "DT모델 :  0.07133438875422093\n",
      "RF모델 :  0.11827543746757507\n",
      "GBR모델 :  0.09088520188892446\n",
      "XGB모델 :  0.07841681998519068\n",
      "LGB모델 :  0.18113480901854329\n"
     ]
    }
   ],
   "source": [
    "# 3.모델 선언\n",
    "LR = LinearRegression()\n",
    "KNN = KNeighborsRegressor(n_neighbors=50)\n",
    "# KNN = KNeighborsRegressor()\n",
    "DT = DecisionTreeRegressor()\n",
    "RF = RandomForestRegressor(n_estimators=500)\n",
    "GBR = GradientBoostingRegressor(n_estimators=500)\n",
    "XGB = xgb.XGBRegressor()\n",
    "LGB = LGBMRegressor()\n",
    "\n",
    "# 4.모델 학습\n",
    "LR.fit(X_train, y_train)\n",
    "KNN.fit(X_train, y_train)\n",
    "DT.fit(X_train, y_train)\n",
    "RF.fit(X_train, y_train)\n",
    "GBR.fit(X_train, y_train)\n",
    "XGB.fit(X_train, y_train)\n",
    "LGB.fit(X_train, y_train)\n",
    "\n",
    "# 5.테스트셋 넣기\n",
    "predictLR = LR.predict(X_test)\n",
    "predictKNN = KNN.predict(X_test)\n",
    "predictDT = DT.predict(X_test)\n",
    "predictRF = RF.predict(X_test)\n",
    "predictGBR = GBR.predict(X_test)\n",
    "predictXGB = XGB.predict(X_test)\n",
    "predictLGB = LGB.predict(X_test)\n",
    "\n",
    "\n",
    "# 6.모델 평가\n",
    "\n",
    "print(\"===== 모델평가 =====\")\n",
    "\n",
    "scoreLR = r2_score(y_test, predictLR)\n",
    "scoreKNN = r2_score(y_test, predictKNN)\n",
    "scoreDT = r2_score(y_test, predictDT)\n",
    "scoreRF = r2_score(y_test, predictRF)\n",
    "scoreGBR = r2_score(y_test, predictGBR)\n",
    "scoreXGB = r2_score(y_test, predictXGB)\n",
    "scoreLGB = r2_score(y_test, predictLGB)\n",
    "\n",
    "print(\"선형모델 : \", scoreLR)\n",
    "print(\"KNN모델 : \", scoreKNN)\n",
    "print(\"DT모델 : \", scoreDT)\n",
    "print(\"RF모델 : \", scoreRF)\n",
    "print(\"GBR모델 : \", scoreGBR)\n",
    "print(\"XGB모델 : \", scoreXGB)\n",
    "print(\"LGB모델 : \", scoreLGB)\n"
   ]
  },
  {
   "cell_type": "markdown",
   "metadata": {},
   "source": [
    "### XGBoost 추가해서 비교"
   ]
  },
  {
   "cell_type": "code",
   "execution_count": 44,
   "metadata": {},
   "outputs": [
    {
     "data": {
      "text/plain": [
       "<BarContainer object of 7 artists>"
      ]
     },
     "execution_count": 44,
     "metadata": {},
     "output_type": "execute_result"
    },
    {
     "data": {
      "image/png": "[encoded data removed]",
      "text/plain": [
       "<Figure size 640x480 with 1 Axes>"
      ]
     },
     "metadata": {},
     "output_type": "display_data"
    }
   ],
   "source": [
    "axisY = ['linear', 'KNN', 'DecisionTree', 'RandomForest',\n",
    "         'GradientBoost', 'xsboost', 'LGB']\n",
    "axisX = [scoreLR, scoreKNN, scoreDT, scoreRF, scoreGBR, scoreXGB, scoreLGB]\n",
    "plt.barh(axisY, axisX)"
   ]
  },
  {
   "cell_type": "code",
   "execution_count": null,
   "metadata": {},
   "outputs": [],
   "source": []
  },
  {
   "cell_type": "code",
   "execution_count": null,
   "metadata": {},
   "outputs": [],
   "source": []
  },
  {
   "cell_type": "code",
   "execution_count": null,
   "metadata": {},
   "outputs": [],
   "source": []
  },
  {
   "cell_type": "code",
   "execution_count": null,
   "metadata": {},
   "outputs": [],
   "source": []
  },
  {
   "cell_type": "code",
   "execution_count": null,
   "metadata": {},
   "outputs": [],
   "source": []
  },
  {
   "cell_type": "code",
   "execution_count": null,
   "metadata": {},
   "outputs": [],
   "source": []
  }
 ],
 "metadata": {
  "kernelspec": {
   "display_name": "Python 3.9.12 ('base')",
   "language": "python",
   "name": "python3"
  },
  "language_info": {
   "codemirror_mode": {
    "name": "ipython",
    "version": 3
   },
   "file_extension": ".py",
   "mimetype": "text/x-python",
   "name": "python",
   "nbconvert_exporter": "python",
   "pygments_lexer": "ipython3",
   "version": "3.9.12"
  },
  "orig_nbformat": 4,
  "vscode": {
   "interpreter": {
    "hash": "a077222d77dfe082b8f1dd562ad70e458ac2ab76993a0b248ab0476e32e9e8dd"
   }
  }
 },
 "nbformat": 4,
 "nbformat_minor": 2
}
