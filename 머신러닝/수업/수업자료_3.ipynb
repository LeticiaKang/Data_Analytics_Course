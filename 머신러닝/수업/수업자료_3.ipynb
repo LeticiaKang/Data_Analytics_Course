{
 "cells": [
  {
   "cell_type": "code",
   "execution_count": 1,
   "id": "2d9cb1eb",
   "metadata": {},
   "outputs": [],
   "source": [
    "import matplotlib.pyplot as plt\n",
    "plt.rcParams['font.family'] = 'Malgun Gothic'\n",
    "plt.rcParams['axes.unicode_minus'] = False"
   ]
  },
  {
   "cell_type": "code",
   "execution_count": 2,
   "id": "636670c4",
   "metadata": {},
   "outputs": [],
   "source": [
    "import numpy as np\n",
    "import pandas as pd\n",
    "import re\n",
    "from konlpy.tag import Okt\n",
    "from tqdm import tqdm"
   ]
  },
  {
   "cell_type": "code",
   "execution_count": 3,
   "id": "bc460b3e",
   "metadata": {},
   "outputs": [],
   "source": [
    "data = pd.read_table('ratings.txt')"
   ]
  },
  {
   "cell_type": "code",
   "execution_count": 4,
   "id": "5a8a16ce",
   "metadata": {},
   "outputs": [
    {
     "data": {
      "text/plain": [
       "194543"
      ]
     },
     "execution_count": 4,
     "metadata": {},
     "output_type": "execute_result"
    }
   ],
   "source": [
    "data['document'].nunique()"
   ]
  },
  {
   "cell_type": "code",
   "execution_count": 5,
   "id": "540eb5dd",
   "metadata": {},
   "outputs": [],
   "source": [
    "# 중복 제거\n",
    "data.drop_duplicates(subset=['document'], inplace=True)"
   ]
  },
  {
   "cell_type": "code",
   "execution_count": 6,
   "id": "025cc823",
   "metadata": {},
   "outputs": [
    {
     "data": {
      "text/plain": [
       "194544"
      ]
     },
     "execution_count": 6,
     "metadata": {},
     "output_type": "execute_result"
    }
   ],
   "source": [
    "len(data)"
   ]
  },
  {
   "cell_type": "code",
   "execution_count": 7,
   "id": "f96500b1",
   "metadata": {},
   "outputs": [
    {
     "data": {
      "text/plain": [
       "<AxesSubplot:>"
      ]
     },
     "execution_count": 7,
     "metadata": {},
     "output_type": "execute_result"
    },
    {
     "data": {
      "image/png": "[encoded data removed]",
      "text/plain": [
       "<Figure size 432x288 with 1 Axes>"
      ]
     },
     "metadata": {
      "needs_background": "light"
     },
     "output_type": "display_data"
    }
   ],
   "source": [
    "data['label'].value_counts().plot(kind='bar')"
   ]
  },
  {
   "cell_type": "code",
   "execution_count": 8,
   "id": "debca5c2",
   "metadata": {},
   "outputs": [
    {
     "data": {
      "text/html": [
       "<div>\n",
       "<style scoped>\n",
       "    .dataframe tbody tr th:only-of-type {\n",
       "        vertical-align: middle;\n",
       "    }\n",
       "\n",
       "    .dataframe tbody tr th {\n",
       "        vertical-align: top;\n",
       "    }\n",
       "\n",
       "    .dataframe thead th {\n",
       "        text-align: right;\n",
       "    }\n",
       "</style>\n",
       "<table border=\"1\" class=\"dataframe\">\n",
       "  <thead>\n",
       "    <tr style=\"text-align: right;\">\n",
       "      <th></th>\n",
       "      <th>label</th>\n",
       "      <th>count</th>\n",
       "    </tr>\n",
       "  </thead>\n",
       "  <tbody>\n",
       "    <tr>\n",
       "      <th>0</th>\n",
       "      <td>0</td>\n",
       "      <td>97277</td>\n",
       "    </tr>\n",
       "    <tr>\n",
       "      <th>1</th>\n",
       "      <td>1</td>\n",
       "      <td>97267</td>\n",
       "    </tr>\n",
       "  </tbody>\n",
       "</table>\n",
       "</div>"
      ],
      "text/plain": [
       "   label  count\n",
       "0      0  97277\n",
       "1      1  97267"
      ]
     },
     "execution_count": 8,
     "metadata": {},
     "output_type": "execute_result"
    }
   ],
   "source": [
    "data.groupby('label').size().reset_index(name='count')"
   ]
  },
  {
   "cell_type": "code",
   "execution_count": 9,
   "id": "d6fbd5d3",
   "metadata": {},
   "outputs": [
    {
     "data": {
      "text/plain": [
       "True"
      ]
     },
     "execution_count": 9,
     "metadata": {},
     "output_type": "execute_result"
    }
   ],
   "source": [
    "data.isnull().values.any()"
   ]
  },
  {
   "cell_type": "code",
   "execution_count": 10,
   "id": "92c98715",
   "metadata": {},
   "outputs": [
    {
     "data": {
      "text/plain": [
       "id          0\n",
       "document    1\n",
       "label       0\n",
       "dtype: int64"
      ]
     },
     "execution_count": 10,
     "metadata": {},
     "output_type": "execute_result"
    }
   ],
   "source": [
    "data.isnull().sum()"
   ]
  },
  {
   "cell_type": "code",
   "execution_count": 11,
   "id": "813dff4e",
   "metadata": {},
   "outputs": [
    {
     "data": {
      "text/html": [
       "<div>\n",
       "<style scoped>\n",
       "    .dataframe tbody tr th:only-of-type {\n",
       "        vertical-align: middle;\n",
       "    }\n",
       "\n",
       "    .dataframe tbody tr th {\n",
       "        vertical-align: top;\n",
       "    }\n",
       "\n",
       "    .dataframe thead th {\n",
       "        text-align: right;\n",
       "    }\n",
       "</style>\n",
       "<table border=\"1\" class=\"dataframe\">\n",
       "  <thead>\n",
       "    <tr style=\"text-align: right;\">\n",
       "      <th></th>\n",
       "      <th>id</th>\n",
       "      <th>document</th>\n",
       "      <th>label</th>\n",
       "    </tr>\n",
       "  </thead>\n",
       "  <tbody>\n",
       "    <tr>\n",
       "      <th>46471</th>\n",
       "      <td>6369843</td>\n",
       "      <td>NaN</td>\n",
       "      <td>1</td>\n",
       "    </tr>\n",
       "  </tbody>\n",
       "</table>\n",
       "</div>"
      ],
      "text/plain": [
       "            id document  label\n",
       "46471  6369843      NaN      1"
      ]
     },
     "execution_count": 11,
     "metadata": {},
     "output_type": "execute_result"
    }
   ],
   "source": [
    "data.loc[data.document.isnull()]"
   ]
  },
  {
   "cell_type": "code",
   "execution_count": 12,
   "id": "99e97863",
   "metadata": {},
   "outputs": [],
   "source": [
    "data.dropna(inplace=True)"
   ]
  },
  {
   "cell_type": "code",
   "execution_count": 13,
   "id": "5493785b",
   "metadata": {},
   "outputs": [
    {
     "data": {
      "text/plain": [
       "id          0\n",
       "document    0\n",
       "label       0\n",
       "dtype: int64"
      ]
     },
     "execution_count": 13,
     "metadata": {},
     "output_type": "execute_result"
    }
   ],
   "source": [
    "data.isnull().sum()"
   ]
  },
  {
   "cell_type": "code",
   "execution_count": 14,
   "id": "bec9298e",
   "metadata": {},
   "outputs": [
    {
     "data": {
      "text/plain": [
       "194543"
      ]
     },
     "execution_count": 14,
     "metadata": {},
     "output_type": "execute_result"
    }
   ],
   "source": [
    "len(data)"
   ]
  },
  {
   "cell_type": "code",
   "execution_count": 15,
   "id": "ca4d0c65",
   "metadata": {},
   "outputs": [
    {
     "name": "stderr",
     "output_type": "stream",
     "text": [
      "C:\\Users\\USER2\\AppData\\Local\\Temp\\ipykernel_11724\\1238477456.py:1: FutureWarning: The default value of regex will change from True to False in a future version.\n",
      "  data['document'] = data['document'].str.replace('[^ㄱ-하-ㅣ가힣]',' ')\n"
     ]
    }
   ],
   "source": [
    "data['document'] = data['document'].str.replace('[^ㄱ-하-ㅣ가힣]',' ')"
   ]
  },
  {
   "cell_type": "code",
   "execution_count": 16,
   "id": "c03c7d7c",
   "metadata": {},
   "outputs": [
    {
     "data": {
      "text/html": [
       "<div>\n",
       "<style scoped>\n",
       "    .dataframe tbody tr th:only-of-type {\n",
       "        vertical-align: middle;\n",
       "    }\n",
       "\n",
       "    .dataframe tbody tr th {\n",
       "        vertical-align: top;\n",
       "    }\n",
       "\n",
       "    .dataframe thead th {\n",
       "        text-align: right;\n",
       "    }\n",
       "</style>\n",
       "<table border=\"1\" class=\"dataframe\">\n",
       "  <thead>\n",
       "    <tr style=\"text-align: right;\">\n",
       "      <th></th>\n",
       "      <th>id</th>\n",
       "      <th>document</th>\n",
       "      <th>label</th>\n",
       "    </tr>\n",
       "  </thead>\n",
       "  <tbody>\n",
       "    <tr>\n",
       "      <th>0</th>\n",
       "      <td>8112052</td>\n",
       "      <td>어릴때보고 지금다시봐도 재밌어요ㅋㅋ</td>\n",
       "      <td>1</td>\n",
       "    </tr>\n",
       "    <tr>\n",
       "      <th>1</th>\n",
       "      <td>8132799</td>\n",
       "      <td>디자인을 배우는  생으로  외국디자이너와 그들이 일군 전통을 통  발전 가는 문 산...</td>\n",
       "      <td>1</td>\n",
       "    </tr>\n",
       "    <tr>\n",
       "      <th>2</th>\n",
       "      <td>4655635</td>\n",
       "      <td>폴리스스토리 시리즈는  부터 뉴까지 버릴께 하나도 없음   최고</td>\n",
       "      <td>1</td>\n",
       "    </tr>\n",
       "    <tr>\n",
       "      <th>3</th>\n",
       "      <td>9251303</td>\n",
       "      <td>와   연기가 진짜 개쩔구나   지루 거라고 생각 는데 몰입 서 봤다   그래 이런...</td>\n",
       "      <td>1</td>\n",
       "    </tr>\n",
       "    <tr>\n",
       "      <th>4</th>\n",
       "      <td>10067386</td>\n",
       "      <td>안개 자욱  밤하늘에 떠 있는 초승달 같은 영</td>\n",
       "      <td>1</td>\n",
       "    </tr>\n",
       "    <tr>\n",
       "      <th>...</th>\n",
       "      <td>...</td>\n",
       "      <td>...</td>\n",
       "      <td>...</td>\n",
       "    </tr>\n",
       "    <tr>\n",
       "      <th>199995</th>\n",
       "      <td>8963373</td>\n",
       "      <td>포켓 몬스터 짜가 ㅡㅡ</td>\n",
       "      <td>0</td>\n",
       "    </tr>\n",
       "    <tr>\n",
       "      <th>199996</th>\n",
       "      <td>3302770</td>\n",
       "      <td>쓰 레 기</td>\n",
       "      <td>0</td>\n",
       "    </tr>\n",
       "    <tr>\n",
       "      <th>199997</th>\n",
       "      <td>5458175</td>\n",
       "      <td>완전 사이코영   마지막은 더욱더 이 영 의질을 떨어트린다</td>\n",
       "      <td>0</td>\n",
       "    </tr>\n",
       "    <tr>\n",
       "      <th>199998</th>\n",
       "      <td>6908648</td>\n",
       "      <td>왜난 재미없었지 ㅠㅠ 라따뚜이 보고나서 스머프 봐서 그런가 ㅋㅋ</td>\n",
       "      <td>0</td>\n",
       "    </tr>\n",
       "    <tr>\n",
       "      <th>199999</th>\n",
       "      <td>8548411</td>\n",
       "      <td>포풍저그가나가신다영차영차영차</td>\n",
       "      <td>0</td>\n",
       "    </tr>\n",
       "  </tbody>\n",
       "</table>\n",
       "<p>194543 rows × 3 columns</p>\n",
       "</div>"
      ],
      "text/plain": [
       "              id                                           document  label\n",
       "0        8112052                                어릴때보고 지금다시봐도 재밌어요ㅋㅋ      1\n",
       "1        8132799  디자인을 배우는  생으로  외국디자이너와 그들이 일군 전통을 통  발전 가는 문 산...      1\n",
       "2        4655635               폴리스스토리 시리즈는  부터 뉴까지 버릴께 하나도 없음   최고       1\n",
       "3        9251303  와   연기가 진짜 개쩔구나   지루 거라고 생각 는데 몰입 서 봤다   그래 이런...      1\n",
       "4       10067386                        안개 자욱  밤하늘에 떠 있는 초승달 같은 영        1\n",
       "...          ...                                                ...    ...\n",
       "199995   8963373                                     포켓 몬스터 짜가 ㅡㅡ        0\n",
       "199996   3302770                                              쓰 레 기      0\n",
       "199997   5458175                  완전 사이코영   마지막은 더욱더 이 영 의질을 떨어트린다       0\n",
       "199998   6908648                왜난 재미없었지 ㅠㅠ 라따뚜이 보고나서 스머프 봐서 그런가 ㅋㅋ      0\n",
       "199999   8548411                                    포풍저그가나가신다영차영차영차      0\n",
       "\n",
       "[194543 rows x 3 columns]"
      ]
     },
     "execution_count": 16,
     "metadata": {},
     "output_type": "execute_result"
    }
   ],
   "source": [
    "data"
   ]
  },
  {
   "cell_type": "code",
   "execution_count": 17,
   "id": "704d0c95",
   "metadata": {},
   "outputs": [
    {
     "data": {
      "text/html": [
       "<div>\n",
       "<style scoped>\n",
       "    .dataframe tbody tr th:only-of-type {\n",
       "        vertical-align: middle;\n",
       "    }\n",
       "\n",
       "    .dataframe tbody tr th {\n",
       "        vertical-align: top;\n",
       "    }\n",
       "\n",
       "    .dataframe thead th {\n",
       "        text-align: right;\n",
       "    }\n",
       "</style>\n",
       "<table border=\"1\" class=\"dataframe\">\n",
       "  <thead>\n",
       "    <tr style=\"text-align: right;\">\n",
       "      <th></th>\n",
       "      <th>id</th>\n",
       "      <th>document</th>\n",
       "      <th>label</th>\n",
       "    </tr>\n",
       "  </thead>\n",
       "  <tbody>\n",
       "    <tr>\n",
       "      <th>0</th>\n",
       "      <td>8112052</td>\n",
       "      <td>어릴때보고 지금다시봐도 재밌어요ㅋㅋ</td>\n",
       "      <td>1</td>\n",
       "    </tr>\n",
       "    <tr>\n",
       "      <th>1</th>\n",
       "      <td>8132799</td>\n",
       "      <td>디자인을 배우는  생으로  외국디자이너와 그들이 일군 전통을 통  발전 가는 문 산...</td>\n",
       "      <td>1</td>\n",
       "    </tr>\n",
       "    <tr>\n",
       "      <th>2</th>\n",
       "      <td>4655635</td>\n",
       "      <td>폴리스스토리 시리즈는  부터 뉴까지 버릴께 하나도 없음   최고</td>\n",
       "      <td>1</td>\n",
       "    </tr>\n",
       "    <tr>\n",
       "      <th>3</th>\n",
       "      <td>9251303</td>\n",
       "      <td>와   연기가 진짜 개쩔구나   지루 거라고 생각 는데 몰입 서 봤다   그래 이런...</td>\n",
       "      <td>1</td>\n",
       "    </tr>\n",
       "    <tr>\n",
       "      <th>4</th>\n",
       "      <td>10067386</td>\n",
       "      <td>안개 자욱  밤하늘에 떠 있는 초승달 같은 영</td>\n",
       "      <td>1</td>\n",
       "    </tr>\n",
       "    <tr>\n",
       "      <th>...</th>\n",
       "      <td>...</td>\n",
       "      <td>...</td>\n",
       "      <td>...</td>\n",
       "    </tr>\n",
       "    <tr>\n",
       "      <th>199995</th>\n",
       "      <td>8963373</td>\n",
       "      <td>포켓 몬스터 짜가 ㅡㅡ</td>\n",
       "      <td>0</td>\n",
       "    </tr>\n",
       "    <tr>\n",
       "      <th>199996</th>\n",
       "      <td>3302770</td>\n",
       "      <td>쓰 레 기</td>\n",
       "      <td>0</td>\n",
       "    </tr>\n",
       "    <tr>\n",
       "      <th>199997</th>\n",
       "      <td>5458175</td>\n",
       "      <td>완전 사이코영   마지막은 더욱더 이 영 의질을 떨어트린다</td>\n",
       "      <td>0</td>\n",
       "    </tr>\n",
       "    <tr>\n",
       "      <th>199998</th>\n",
       "      <td>6908648</td>\n",
       "      <td>왜난 재미없었지 ㅠㅠ 라따뚜이 보고나서 스머프 봐서 그런가 ㅋㅋ</td>\n",
       "      <td>0</td>\n",
       "    </tr>\n",
       "    <tr>\n",
       "      <th>199999</th>\n",
       "      <td>8548411</td>\n",
       "      <td>포풍저그가나가신다영차영차영차</td>\n",
       "      <td>0</td>\n",
       "    </tr>\n",
       "  </tbody>\n",
       "</table>\n",
       "<p>194543 rows × 3 columns</p>\n",
       "</div>"
      ],
      "text/plain": [
       "              id                                           document  label\n",
       "0        8112052                                어릴때보고 지금다시봐도 재밌어요ㅋㅋ      1\n",
       "1        8132799  디자인을 배우는  생으로  외국디자이너와 그들이 일군 전통을 통  발전 가는 문 산...      1\n",
       "2        4655635               폴리스스토리 시리즈는  부터 뉴까지 버릴께 하나도 없음   최고       1\n",
       "3        9251303  와   연기가 진짜 개쩔구나   지루 거라고 생각 는데 몰입 서 봤다   그래 이런...      1\n",
       "4       10067386                        안개 자욱  밤하늘에 떠 있는 초승달 같은 영        1\n",
       "...          ...                                                ...    ...\n",
       "199995   8963373                                     포켓 몬스터 짜가 ㅡㅡ        0\n",
       "199996   3302770                                              쓰 레 기      0\n",
       "199997   5458175                  완전 사이코영   마지막은 더욱더 이 영 의질을 떨어트린다       0\n",
       "199998   6908648                왜난 재미없었지 ㅠㅠ 라따뚜이 보고나서 스머프 봐서 그런가 ㅋㅋ      0\n",
       "199999   8548411                                    포풍저그가나가신다영차영차영차      0\n",
       "\n",
       "[194543 rows x 3 columns]"
      ]
     },
     "execution_count": 17,
     "metadata": {},
     "output_type": "execute_result"
    }
   ],
   "source": [
    "data"
   ]
  },
  {
   "cell_type": "code",
   "execution_count": 18,
   "id": "3378ff12",
   "metadata": {},
   "outputs": [
    {
     "data": {
      "text/plain": [
       "False"
      ]
     },
     "execution_count": 18,
     "metadata": {},
     "output_type": "execute_result"
    }
   ],
   "source": [
    "data.isnull().values.any()"
   ]
  },
  {
   "cell_type": "code",
   "execution_count": 19,
   "id": "9c39b475",
   "metadata": {},
   "outputs": [],
   "source": [
    "data['document'].replace('', np.nan, inplace=True)"
   ]
  },
  {
   "cell_type": "code",
   "execution_count": 20,
   "id": "79d01c60",
   "metadata": {},
   "outputs": [
    {
     "data": {
      "text/plain": [
       "id          0\n",
       "document    0\n",
       "label       0\n",
       "dtype: int64"
      ]
     },
     "execution_count": 20,
     "metadata": {},
     "output_type": "execute_result"
    }
   ],
   "source": [
    "data.isnull().sum()"
   ]
  },
  {
   "cell_type": "code",
   "execution_count": 21,
   "id": "985ee4b1",
   "metadata": {},
   "outputs": [],
   "source": [
    "from sklearn.model_selection import train_test_split\n",
    "x_train, x_test, y_train, y_test = train_test_split(data.document, data.label,\n",
    "                                                   random_state=1234)"
   ]
  },
  {
   "cell_type": "code",
   "execution_count": 22,
   "id": "78445761",
   "metadata": {},
   "outputs": [],
   "source": [
    "stopwords = ['의','가','이','은','들','는','좀','잘','걍','과','도','를','으로',\n",
    "             '자','에','와','한','하다']"
   ]
  },
  {
   "cell_type": "code",
   "execution_count": 23,
   "id": "a52cf4fd",
   "metadata": {},
   "outputs": [],
   "source": [
    "okt = Okt()"
   ]
  },
  {
   "cell_type": "code",
   "execution_count": 24,
   "id": "826ef09e",
   "metadata": {},
   "outputs": [
    {
     "data": {
      "text/plain": [
       "['오늘', '날씨', '가', '춥다', '기분', '이', '좋다', '않다']"
      ]
     },
     "execution_count": 24,
     "metadata": {},
     "output_type": "execute_result"
    }
   ],
   "source": [
    "okt.morphs('오늘 날씨가 추워서 기분이 좋지않다', stem=True)"
   ]
  },
  {
   "cell_type": "code",
   "execution_count": 25,
   "id": "d633dfb0",
   "metadata": {},
   "outputs": [],
   "source": [
    "x_train = x_train[:10000]\n",
    "x_test = x_test[:10000]\n",
    "y_train = y_train[:10000]\n",
    "y_test = y_test[:10000]"
   ]
  },
  {
   "cell_type": "code",
   "execution_count": 26,
   "id": "a8f5889a",
   "metadata": {},
   "outputs": [
    {
     "name": "stderr",
     "output_type": "stream",
     "text": [
      "100%|██████████| 10000/10000 [00:12<00:00, 821.56it/s]\n"
     ]
    }
   ],
   "source": [
    "train_x = []\n",
    "\n",
    "for s in tqdm(x_train):\n",
    "    temp_x = []\n",
    "    temp_x = okt.morphs(s, stem=True)\n",
    "    temp_x = [word for word in temp_x if not word in stopwords]\n",
    "    train_x.append(temp_x)"
   ]
  },
  {
   "cell_type": "code",
   "execution_count": 27,
   "id": "d2ded56c",
   "metadata": {},
   "outputs": [
    {
     "name": "stderr",
     "output_type": "stream",
     "text": [
      "100%|██████████| 10000/10000 [00:12<00:00, 811.35it/s]\n"
     ]
    }
   ],
   "source": [
    "test_x = []\n",
    "\n",
    "for s in tqdm(x_test):\n",
    "    temp_x = []\n",
    "    temp_x = okt.morphs(s, stem=True)\n",
    "    temp_x = [word for word in temp_x if not word in stopwords]\n",
    "    test_x.append(temp_x)"
   ]
  },
  {
   "cell_type": "code",
   "execution_count": 28,
   "id": "d73ef3dd",
   "metadata": {},
   "outputs": [
    {
     "data": {
      "text/plain": [
       "[['영', '자체', '재앙', '이다', 'ㅠㅠ'],\n",
       " ['정준영', '일박이일', '살리다', 'ㅋ'],\n",
       " ['양키',\n",
       "  '놈',\n",
       "  '도대체',\n",
       "  '왜',\n",
       "  '살인마',\n",
       "  '열광하다',\n",
       "  '이건',\n",
       "  '뭐',\n",
       "  '재미',\n",
       "  '없다',\n",
       "  '긴장도',\n",
       "  '안되다',\n",
       "  '졸라',\n",
       "  '뻔',\n",
       "  '서다',\n",
       "  '숨',\n",
       "  '만',\n",
       "  '나오다']]"
      ]
     },
     "execution_count": 28,
     "metadata": {},
     "output_type": "execute_result"
    }
   ],
   "source": [
    "train_x[:3]"
   ]
  },
  {
   "cell_type": "code",
   "execution_count": 29,
   "id": "d1aafcec",
   "metadata": {},
   "outputs": [
    {
     "data": {
      "text/plain": [
       "[['내', '본영', '중', '에서', '젤', '최악', '이다', '게영'],\n",
       " ['굿', '개잼', '꿀잼', '잼', '무', '추천'],\n",
       " ['인류', '멸망', '이라', '쓰다', '일', '본', '감염', '이라', '읽다', 'ㅁㅊ']]"
      ]
     },
     "execution_count": 29,
     "metadata": {},
     "output_type": "execute_result"
    }
   ],
   "source": [
    "test_x[:3]"
   ]
  },
  {
   "cell_type": "markdown",
   "id": "5b2d920d",
   "metadata": {},
   "source": [
    "### Word2Vec"
   ]
  },
  {
   "cell_type": "code",
   "execution_count": 30,
   "id": "d3341fb5",
   "metadata": {},
   "outputs": [],
   "source": [
    "from gensim.models import Word2Vec"
   ]
  },
  {
   "cell_type": "code",
   "execution_count": 31,
   "id": "2922eda0",
   "metadata": {},
   "outputs": [],
   "source": [
    "w2v = Word2Vec(train_x, vector_size = 300, window=3, min_count=3)"
   ]
  },
  {
   "cell_type": "code",
   "execution_count": 32,
   "id": "f319da7e",
   "metadata": {},
   "outputs": [],
   "source": [
    "word_vectors = w2v.wv"
   ]
  },
  {
   "cell_type": "code",
   "execution_count": 34,
   "id": "bd15ea81",
   "metadata": {},
   "outputs": [],
   "source": [
    "vocabs = word_vectors.key_to_index"
   ]
  },
  {
   "cell_type": "code",
   "execution_count": null,
   "id": "66f9ece9",
   "metadata": {},
   "outputs": [],
   "source": [
    "# !pip install gensim==3.8.3"
   ]
  },
  {
   "cell_type": "code",
   "execution_count": 35,
   "id": "5fed95ff",
   "metadata": {},
   "outputs": [],
   "source": [
    "word_vectors_list = [word_vectors[v] for v in vocabs]"
   ]
  },
  {
   "cell_type": "code",
   "execution_count": 36,
   "id": "7bbed42b",
   "metadata": {},
   "outputs": [
    {
     "name": "stdout",
     "output_type": "stream",
     "text": [
      "[array([ 1.09690115e-01,  4.16074634e-01, -1.59505792e-02,  1.51701495e-01,\n",
      "        2.36945078e-02, -3.64416957e-01,  2.24374384e-01,  6.74414098e-01,\n",
      "        1.03500754e-01, -4.12954725e-02,  4.91467565e-02, -2.25199208e-01,\n",
      "        4.91832010e-02,  4.23297174e-02, -1.86949417e-01, -1.84868366e-01,\n",
      "        1.83414742e-01, -5.73954470e-02, -1.96813117e-03, -6.02886900e-02,\n",
      "       -1.74276933e-01, -7.93588981e-02,  2.65420377e-01,  3.37240696e-02,\n",
      "        1.58897176e-01, -3.98508310e-02, -3.73483837e-01,  6.42362386e-02,\n",
      "       -1.58018291e-01, -2.26098567e-01,  8.47777277e-02, -1.19798742e-01,\n",
      "       -3.29605751e-02,  1.40769929e-02, -9.66914073e-02,  1.43453300e-01,\n",
      "        1.32782742e-01, -3.32686812e-01, -1.23475261e-01, -2.83320062e-02,\n",
      "       -1.54413715e-01, -1.06071569e-01,  3.05120107e-02, -2.97656953e-01,\n",
      "        1.43312156e-01,  3.58388186e-01,  9.45429951e-02,  1.70030415e-01,\n",
      "       -1.49222821e-01,  3.19415599e-01,  1.31317854e-01,  1.47873938e-01,\n",
      "       -1.47408277e-01,  2.65314076e-02, -7.26024732e-02,  3.54006559e-01,\n",
      "        8.59393999e-02,  3.88050862e-02,  4.45776917e-02, -1.37995973e-01,\n",
      "       -1.65865943e-01, -1.08471029e-01,  3.16403434e-03,  8.85002613e-02,\n",
      "        4.98645194e-02,  7.95271993e-02,  1.49224224e-02,  6.80338070e-02,\n",
      "       -1.51588649e-01, -8.72747600e-02,  1.25943730e-03,  2.44606927e-01,\n",
      "        2.37682298e-01, -2.10600913e-01, -8.76598954e-02,  1.08312786e-01,\n",
      "       -2.56695837e-01,  4.59183529e-02, -1.14679232e-01,  2.98566431e-01,\n",
      "       -1.77267730e-01, -2.63748854e-01,  8.33653361e-02,  4.63979453e-01,\n",
      "        1.06487632e-01,  3.24405245e-02, -1.94810569e-01,  2.28826683e-02,\n",
      "        3.58057976e-01,  1.42818615e-01,  2.93692201e-01, -1.91693127e-01,\n",
      "        1.03075825e-01,  3.27629000e-02,  3.35290164e-01,  3.08966726e-01,\n",
      "        1.91965923e-01, -6.38687313e-02, -1.90648258e-01,  2.20819533e-01,\n",
      "       -8.47268179e-02,  5.71399811e-04,  2.56657243e-01,  7.76409507e-02,\n",
      "        1.37297779e-01, -2.25125194e-01,  2.61682179e-02,  1.44660681e-01,\n",
      "       -2.21263081e-01,  1.23445071e-01, -3.51394117e-01, -1.26543894e-01,\n",
      "       -7.07403757e-03,  2.78310806e-01,  1.50992125e-01,  1.00306183e-01,\n",
      "       -2.60346313e-03,  1.25261266e-02,  3.66984665e-01, -2.98570126e-01,\n",
      "        2.30020091e-01,  2.19801962e-01,  2.47914642e-01, -9.19604003e-02,\n",
      "       -1.67525753e-01,  1.21984489e-01,  1.30750507e-01, -2.20128402e-01,\n",
      "       -9.22608841e-03,  1.34566367e-01,  1.05405688e-01,  3.27556849e-01,\n",
      "        1.46218449e-01, -3.37385923e-01,  1.90014735e-01,  2.21595585e-01,\n",
      "       -1.00107834e-01, -1.19406834e-01, -2.59501725e-01, -3.43670368e-01,\n",
      "        9.07282233e-02, -2.96681672e-01, -5.90035059e-02,  1.15537718e-01,\n",
      "        1.20849445e-01, -1.50275528e-01, -4.28723812e-01, -7.91286528e-02,\n",
      "        4.86640409e-02, -1.58095911e-01,  1.86118123e-03, -4.94447887e-01,\n",
      "       -2.22067237e-01, -1.19568892e-01,  6.09850101e-02,  1.38448671e-01,\n",
      "       -3.50842983e-01, -2.44990498e-01, -8.06838870e-02,  3.49173874e-01,\n",
      "        1.11363806e-01,  1.46973029e-01, -4.24445450e-01,  2.32033297e-01,\n",
      "       -2.70356387e-01,  2.86079757e-02,  1.15785733e-01,  4.79914201e-03,\n",
      "        8.48777369e-02,  4.47482109e-01, -1.44312680e-01, -6.99808225e-02,\n",
      "        1.04412302e-01,  9.16614532e-02, -4.43145819e-02,  1.20233029e-01,\n",
      "        2.19135731e-02, -2.76843458e-01, -2.43634470e-02, -2.73495503e-02,\n",
      "       -1.60430759e-01,  2.81162471e-01, -2.86428988e-01, -1.41066954e-01,\n",
      "       -1.08504102e-01,  5.02368286e-02,  3.71984363e-01,  3.33126783e-01,\n",
      "        1.38863444e-01, -2.89153248e-01,  3.17293815e-02, -1.04031987e-01,\n",
      "       -3.83512378e-01,  1.89259052e-02,  1.46883711e-01, -1.83956429e-01,\n",
      "        7.60345757e-02, -2.50782669e-01,  1.62962183e-01,  4.61885817e-02,\n",
      "       -2.03941226e-01,  9.65886340e-02, -1.37221348e-03, -1.43635586e-01,\n",
      "       -9.94961262e-02, -1.07269213e-01, -8.81895646e-02,  5.30174971e-02,\n",
      "       -1.54220229e-02, -1.00502908e-01,  3.96351330e-02, -1.73444420e-01,\n",
      "       -1.44301370e-01, -6.88020587e-02,  1.19200602e-01, -2.68460304e-01,\n",
      "       -1.59941331e-01, -5.70402384e-01, -4.24762160e-01, -1.63134053e-01,\n",
      "        2.44701624e-01,  1.31305801e-02, -2.57155776e-01, -1.17876813e-01,\n",
      "       -2.23149091e-01, -2.12478533e-01, -6.21324219e-03,  5.80308901e-04,\n",
      "       -3.06645900e-01,  1.69605851e-01,  2.30587527e-01, -7.27950558e-02,\n",
      "       -2.07005054e-01,  2.42006361e-01, -1.64679483e-01,  1.30601421e-01,\n",
      "       -9.50030424e-03,  5.42898849e-02,  1.70440867e-03, -5.39062440e-01,\n",
      "        9.73150432e-02, -1.40000612e-01, -2.16127500e-01,  9.57830474e-02,\n",
      "       -2.32314356e-02, -3.16351384e-01, -2.66321953e-02,  1.31280676e-01,\n",
      "       -1.36031024e-02,  1.49832860e-01,  5.74419722e-02,  6.28593564e-02,\n",
      "        1.01998299e-01, -5.74365072e-02, -3.89539719e-01, -2.24479750e-01,\n",
      "        3.87038916e-01,  1.22949935e-01, -4.69558835e-01, -1.94622472e-01,\n",
      "        1.50689468e-01,  2.36113042e-01,  9.96910259e-02, -4.42503273e-01,\n",
      "       -3.83011818e-01,  4.34752990e-04,  1.06471464e-01,  1.49458274e-01,\n",
      "       -3.25717181e-01, -4.61138878e-03, -2.58756518e-01,  5.35262972e-02,\n",
      "        5.07348925e-02, -4.48565856e-02,  3.58043671e-01,  1.06337860e-01,\n",
      "        2.93193638e-01,  4.65635471e-02, -3.26078266e-01, -4.13307734e-02,\n",
      "        8.39556903e-02, -7.36985505e-02, -1.30127743e-01,  1.73994392e-01,\n",
      "       -5.97971566e-02, -1.30456507e-01, -4.42189485e-01,  1.62750065e-01,\n",
      "        6.15568906e-02,  2.19466567e-01,  1.15020992e-02,  4.54204768e-01,\n",
      "        2.73598671e-01,  3.27155478e-02,  3.40651840e-01,  4.44349200e-01,\n",
      "       -2.47168951e-02, -1.72522321e-01,  2.74021119e-01, -6.66322112e-02],\n",
      "      dtype=float32)]\n"
     ]
    }
   ],
   "source": [
    "print(word_vectors_list[:1])"
   ]
  },
  {
   "cell_type": "code",
   "execution_count": 38,
   "id": "1e563f60",
   "metadata": {},
   "outputs": [
    {
     "data": {
      "text/plain": [
       "[('오', 0.9997957348823547),\n",
       " ('제', 0.999794602394104),\n",
       " ('라', 0.9997907280921936),\n",
       " ('살다', 0.9997889399528503),\n",
       " ('세', 0.9997885227203369),\n",
       " ('인간', 0.9997866749763489),\n",
       " ('그리고', 0.9997839331626892),\n",
       " ('지다', 0.9997835755348206),\n",
       " ('떨어지다', 0.999781608581543),\n",
       " ('우리', 0.9997814893722534)]"
      ]
     },
     "execution_count": 38,
     "metadata": {},
     "output_type": "execute_result"
    }
   ],
   "source": [
    "# 유사한 단어 뽑아봄\n",
    "w2v.wv.most_similar('관객')"
   ]
  },
  {
   "cell_type": "code",
   "execution_count": 39,
   "id": "bce86c45",
   "metadata": {},
   "outputs": [],
   "source": [
    "# 학습된 모델 저장\n",
    "w2v.save('w2v.bin')"
   ]
  },
  {
   "cell_type": "code",
   "execution_count": 40,
   "id": "23ac49b6",
   "metadata": {},
   "outputs": [
    {
     "name": "stdout",
     "output_type": "stream",
     "text": [
      "Word2Vec(vocab=3992, vector_size=300, alpha=0.025)\n"
     ]
    }
   ],
   "source": [
    "# 저장된 모델 불러오기\n",
    "saved_w2v = Word2Vec.load('w2v.bin')\n",
    "print(saved_w2v)"
   ]
  },
  {
   "cell_type": "code",
   "execution_count": null,
   "id": "7d423335",
   "metadata": {},
   "outputs": [],
   "source": []
  }
 ],
 "metadata": {
  "kernelspec": {
   "display_name": "Python 3 (ipykernel)",
   "language": "python",
   "name": "python3"
  },
  "language_info": {
   "codemirror_mode": {
    "name": "ipython",
    "version": 3
   },
   "file_extension": ".py",
   "mimetype": "text/x-python",
   "name": "python",
   "nbconvert_exporter": "python",
   "pygments_lexer": "ipython3",
   "version": "3.9.12"
  }
 },
 "nbformat": 4,
 "nbformat_minor": 5
}
