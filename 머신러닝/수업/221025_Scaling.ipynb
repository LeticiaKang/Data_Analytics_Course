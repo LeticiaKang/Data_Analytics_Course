{
 "cells": [
  {
   "cell_type": "code",
   "execution_count": 2,
   "metadata": {},
   "outputs": [],
   "source": [
    "from sklearn.datasets import load_breast_cancer\n",
    "from sklearn.model_selection import train_test_split"
   ]
  },
  {
   "cell_type": "code",
   "execution_count": 3,
   "metadata": {},
   "outputs": [
    {
     "data": {
      "text/plain": [
       "dict_keys(['data', 'target', 'frame', 'target_names', 'DESCR', 'feature_names', 'filename', 'data_module'])"
      ]
     },
     "execution_count": 3,
     "metadata": {},
     "output_type": "execute_result"
    }
   ],
   "source": [
    "cancer = load_breast_cancer()\n",
    "cancer.keys()"
   ]
  },
  {
   "cell_type": "code",
   "execution_count": 4,
   "metadata": {},
   "outputs": [],
   "source": [
    "X_train, X_test, y_train, y_test = train_test_split(cancer['data'], cancer['target'],\n",
    "                                                    random_state = 1234)"
   ]
  },
  {
   "cell_type": "markdown",
   "metadata": {},
   "source": [
    "### 1.StandardScaler\n",
    "- 각데이터의 feature들의 평균을 0, 분산을 1로 변경\n",
    "- 모든 feature들이 같은 스케일을 같게 만든다."
   ]
  },
  {
   "cell_type": "code",
   "execution_count": 5,
   "metadata": {},
   "outputs": [],
   "source": [
    "from sklearn.preprocessing import StandardScaler"
   ]
  },
  {
   "cell_type": "code",
   "execution_count": 6,
   "metadata": {},
   "outputs": [
    {
     "name": "stdout",
     "output_type": "stream",
     "text": [
      "스케일 조정 전\n",
      "Min :  [6.981e+00 1.038e+01 4.379e+01 1.435e+02 5.263e-02 1.938e-02 0.000e+00\n",
      " 0.000e+00 1.060e-01 4.996e-02 1.115e-01 3.602e-01 7.570e-01 7.228e+00\n",
      " 2.838e-03 2.252e-03 0.000e+00 0.000e+00 7.882e-03 8.948e-04 7.930e+00\n",
      " 1.249e+01 5.041e+01 1.852e+02 8.125e-02 3.432e-02 0.000e+00 0.000e+00\n",
      " 1.565e-01 5.504e-02]\n",
      "Max :  [2.811e+01 3.381e+01 1.885e+02 2.499e+03 1.447e-01 3.114e-01 4.268e-01\n",
      " 2.012e-01 3.040e-01 9.744e-02 2.873e+00 3.896e+00 2.198e+01 5.256e+02\n",
      " 3.113e-02 1.354e-01 3.960e-01 5.279e-02 6.146e-02 2.984e-02 3.313e+01\n",
      " 4.954e+01 2.293e+02 3.234e+03 2.226e-01 1.058e+00 1.252e+00 2.910e-01\n",
      " 6.638e-01 2.075e-01]\n",
      "\n",
      "스케일 조정 후\n",
      "Min :  [-2.05959418 -2.06007032 -2.01803061 -1.47906849 -3.11840193 -1.61914251\n",
      " -1.12209848 -1.26938777 -2.78192834 -1.81018812 -1.07589572 -1.56507334\n",
      " -1.05735035 -0.77526135 -1.37519266 -1.27269316 -1.00981927 -1.8540401\n",
      " -1.58069217 -1.08204572 -1.75802372 -2.12998626 -1.72206377 -1.25531716\n",
      " -2.2407888  -1.36335806 -1.2896095  -1.75499271 -2.19557829 -1.54350637]\n",
      "Max :  [ 3.983046    3.35284486  3.99659366  5.2755639   3.42419492  3.94256298\n",
      "  4.20261238  3.91312864  4.51510874  4.92100768  9.00399628  4.83781834\n",
      "  9.51423902 11.3763671   7.75293988  5.98025485 11.36998328  6.44619355\n",
      "  5.1657793   9.67511962  3.51968449  3.81326034  3.64761068  4.21809238\n",
      "  3.87029285  4.90322123  4.50512912  2.66376471  6.09134431  6.520511  ]\n"
     ]
    }
   ],
   "source": [
    "STscaler = StandardScaler()\n",
    "print(\"스케일 조정 전\")\n",
    "print(\"Min : \", X_train.min(axis=0))\n",
    "print(\"Max : \", X_train.max(axis=0))\n",
    "\n",
    "print(\"\")\n",
    "STscaler.fit(X_train)\n",
    "X_train_scaled1 = STscaler.transform(X_train)\n",
    "print(\"스케일 조정 후\")\n",
    "print(\"Min : \", X_train_scaled1.min(axis=0))\n",
    "print(\"Max : \", X_train_scaled1.max(axis=0))\n"
   ]
  },
  {
   "cell_type": "markdown",
   "metadata": {},
   "source": [
    "### 2.RobustScaler\n",
    "- 모든 feature가 같은 크기를 같는 점에서 StandardScaler와 비슷하다\n",
    "- 하지만, 평균이라 분산 대신에 median과 queartile을 사용한다.\n",
    "- 또한. 이상치에 크게 영향을 받지 않는다는 장점이 있다."
   ]
  },
  {
   "cell_type": "code",
   "execution_count": 7,
   "metadata": {},
   "outputs": [],
   "source": [
    "from sklearn.preprocessing import RobustScaler\n",
    "RBscaler = RobustScaler()"
   ]
  },
  {
   "cell_type": "code",
   "execution_count": 8,
   "metadata": {},
   "outputs": [
    {
     "name": "stdout",
     "output_type": "stream",
     "text": [
      "스케일 조정 전\n",
      "Min :  [6.981e+00 1.038e+01 4.379e+01 1.435e+02 5.263e-02 1.938e-02 0.000e+00\n",
      " 0.000e+00 1.060e-01 4.996e-02 1.115e-01 3.602e-01 7.570e-01 7.228e+00\n",
      " 2.838e-03 2.252e-03 0.000e+00 0.000e+00 7.882e-03 8.948e-04 7.930e+00\n",
      " 1.249e+01 5.041e+01 1.852e+02 8.125e-02 3.432e-02 0.000e+00 0.000e+00\n",
      " 1.565e-01 5.504e-02]\n",
      "Max :  [2.811e+01 3.381e+01 1.885e+02 2.499e+03 1.447e-01 3.114e-01 4.268e-01\n",
      " 2.012e-01 3.040e-01 9.744e-02 2.873e+00 3.896e+00 2.198e+01 5.256e+02\n",
      " 3.113e-02 1.354e-01 3.960e-01 5.279e-02 6.146e-02 2.984e-02 3.313e+01\n",
      " 4.954e+01 2.293e+02 3.234e+03 2.226e-01 1.058e+00 1.252e+00 2.910e-01\n",
      " 6.638e-01 2.075e-01]\n",
      "\n",
      "스케일 조정 후\n",
      "Min :  [-1.52323232 -1.45791972 -1.5151781  -1.1130184  -2.28221021 -1.11380456\n",
      " -0.58652639 -0.63066754 -2.19880419 -1.36804093 -0.83926429 -1.16877816\n",
      " -0.89078985 -0.61672241 -1.24414368 -0.92590898 -0.93494541 -1.54861731\n",
      " -1.38189958 -0.96715574 -1.23415493 -1.45464726 -1.14370424 -0.88014453\n",
      " -1.74412533 -0.94163238 -0.8543761  -1.03141523 -1.93474088 -1.23394269]\n",
      "Max :  [ 3.49851456  2.5869659   3.56325671  5.35635814  2.57444283  3.29670745\n",
      "  3.45887538  3.11572479  3.72047833  4.34727656 10.20231907  4.27740768\n",
      " 11.21243228 18.12582482  8.57435364  5.84490211 13.35721375  5.98608385\n",
      "  5.47169811 11.61634605  3.20246479  2.69428891  3.18593816  4.49361065\n",
      "  3.17667537  4.49263437  3.76427188  1.95611108  5.85489443  6.29866601]\n"
     ]
    }
   ],
   "source": [
    "print(\"스케일 조정 전\")\n",
    "print(\"Min : \", X_train.min(axis=0))\n",
    "print(\"Max : \", X_train.max(axis=0))\n",
    "\n",
    "print(\"\")\n",
    "RBscaler.fit(X_train)\n",
    "X_train_scaled2 = RBscaler.transform(X_train)\n",
    "print(\"스케일 조정 후\")\n",
    "print(\"Min : \", X_train_scaled2.min(axis=0))\n",
    "print(\"Max : \", X_train_scaled2.max(axis=0))"
   ]
  },
  {
   "cell_type": "code",
   "execution_count": null,
   "metadata": {},
   "outputs": [],
   "source": []
  },
  {
   "cell_type": "markdown",
   "metadata": {},
   "source": [
    "### 3.Min-Max Scaler\n",
    "- 모든 feature가 0과 1사이에 위치하게 만든다\n",
    "- 데이터가 2차원 셋일 경우, 모든 데이터는 x축의 0과 1 사이에 y축의 0과 1 사이에 위치하게 됨"
   ]
  },
  {
   "cell_type": "code",
   "execution_count": 9,
   "metadata": {},
   "outputs": [],
   "source": [
    "from sklearn.preprocessing import MinMaxScaler\n",
    "MMscaler = MinMaxScaler()"
   ]
  },
  {
   "cell_type": "code",
   "execution_count": 10,
   "metadata": {},
   "outputs": [
    {
     "name": "stdout",
     "output_type": "stream",
     "text": [
      "스케일 조정 전\n",
      "Min :  [6.981e+00 1.038e+01 4.379e+01 1.435e+02 5.263e-02 1.938e-02 0.000e+00\n",
      " 0.000e+00 1.060e-01 4.996e-02 1.115e-01 3.602e-01 7.570e-01 7.228e+00\n",
      " 2.838e-03 2.252e-03 0.000e+00 0.000e+00 7.882e-03 8.948e-04 7.930e+00\n",
      " 1.249e+01 5.041e+01 1.852e+02 8.125e-02 3.432e-02 0.000e+00 0.000e+00\n",
      " 1.565e-01 5.504e-02]\n",
      "Max :  [2.811e+01 3.381e+01 1.885e+02 2.499e+03 1.447e-01 3.114e-01 4.268e-01\n",
      " 2.012e-01 3.040e-01 9.744e-02 2.873e+00 3.896e+00 2.198e+01 5.256e+02\n",
      " 3.113e-02 1.354e-01 3.960e-01 5.279e-02 6.146e-02 2.984e-02 3.313e+01\n",
      " 4.954e+01 2.293e+02 3.234e+03 2.226e-01 1.058e+00 1.252e+00 2.910e-01\n",
      " 6.638e-01 2.075e-01]\n",
      "\n",
      "스케일 조정 후\n",
      "Min :  [0. 0. 0. 0. 0. 0. 0. 0. 0. 0. 0. 0. 0. 0. 0. 0. 0. 0. 0. 0. 0. 0. 0. 0.\n",
      " 0. 0. 0. 0. 0. 0.]\n",
      "Max :  [1. 1. 1. 1. 1. 1. 1. 1. 1. 1. 1. 1. 1. 1. 1. 1. 1. 1. 1. 1. 1. 1. 1. 1.\n",
      " 1. 1. 1. 1. 1. 1.]\n"
     ]
    }
   ],
   "source": [
    "print(\"스케일 조정 전\")\n",
    "print(\"Min : \", X_train.min(axis=0))\n",
    "print(\"Max : \", X_train.max(axis=0))\n",
    "\n",
    "print(\"\")\n",
    "MMscaler.fit(X_train)\n",
    "X_train_scaled3 = MMscaler.transform(X_train)\n",
    "print(\"스케일 조정 후\")\n",
    "print(\"Min : \", X_train_scaled3.min(axis=0))\n",
    "print(\"Max : \", X_train_scaled3.max(axis=0))"
   ]
  },
  {
   "cell_type": "code",
   "execution_count": null,
   "metadata": {},
   "outputs": [],
   "source": []
  },
  {
   "cell_type": "markdown",
   "metadata": {},
   "source": [
    "### 4.Normalizer\n",
    "- 다른 것보다 컬럼별로 스케일을 조절하는 것이 아니라 행별로 정규화한다.\n",
    "- 빠르게 학습할 수 있다."
   ]
  },
  {
   "cell_type": "code",
   "execution_count": 11,
   "metadata": {},
   "outputs": [
    {
     "name": "stdout",
     "output_type": "stream",
     "text": [
      "스케일 조정 전\n",
      "Min :  [6.981e+00 1.038e+01 4.379e+01 1.435e+02 5.263e-02 1.938e-02 0.000e+00\n",
      " 0.000e+00 1.060e-01 4.996e-02 1.115e-01 3.602e-01 7.570e-01 7.228e+00\n",
      " 2.838e-03 2.252e-03 0.000e+00 0.000e+00 7.882e-03 8.948e-04 7.930e+00\n",
      " 1.249e+01 5.041e+01 1.852e+02 8.125e-02 3.432e-02 0.000e+00 0.000e+00\n",
      " 1.565e-01 5.504e-02]\n",
      "\n",
      "스케일 조정 후\n",
      "Min :  [6.16997567e-03 4.56825580e-03 4.00437389e-02 3.76233264e-01\n",
      " 2.66693006e-05 2.37805701e-05 0.00000000e+00 0.00000000e+00\n",
      " 4.57096286e-05 1.43634533e-05 1.38230416e-04 2.22630519e-04\n",
      " 8.95949678e-04 1.14342671e-02 1.17600717e-06 2.76335624e-06\n",
      " 0.00000000e+00 0.00000000e+00 3.33747542e-06 5.12412074e-07\n",
      " 7.84471206e-03 5.15445862e-03 5.26050595e-02 6.96047105e-01\n",
      " 3.18700148e-05 4.21129601e-05 0.00000000e+00 0.00000000e+00\n",
      " 4.59910547e-05 1.54187243e-05]\n"
     ]
    }
   ],
   "source": [
    "from sklearn.preprocessing import Normalizer\n",
    "Normscaler = Normalizer()\n",
    "\n",
    "print(\"스케일 조정 전\")\n",
    "print(\"Min : \", X_train.min(axis=0))\n",
    "\n",
    "print(\"\")\n",
    "Normscaler.fit(X_train)\n",
    "X_train_scaled4 = Normscaler.transform(X_train)\n",
    "print(\"스케일 조정 후\")\n",
    "print(\"Min : \", X_train_scaled4.min(axis=0))"
   ]
  },
  {
   "cell_type": "markdown",
   "metadata": {},
   "source": [
    "### 4.머신러닝 모델"
   ]
  },
  {
   "cell_type": "code",
   "execution_count": 12,
   "metadata": {},
   "outputs": [],
   "source": [
    "from sklearn.svm import SVC"
   ]
  },
  {
   "cell_type": "code",
   "execution_count": 13,
   "metadata": {},
   "outputs": [
    {
     "name": "stdout",
     "output_type": "stream",
     "text": [
      "========== 스케일러 적용 전 ==========\n",
      "학습데이터 정확도 : 0.9154929577464789\n",
      "테스트데이터 정확도 : 0.916083916083916\n",
      "\n",
      "========== 스케일러 적용 후 ==========\n",
      "======== Standard 스케일러 =========\n",
      "학습데이터 정확도 : 0.6314553990610329\n",
      "테스트데이터 정확도 : 0.6153846153846154 \n",
      "\n",
      "======== Robust 스케일러 =========\n",
      "학습데이터 정확도 : 0.6314553990610329\n",
      "테스트데이터 정확도 : 0.6153846153846154 \n",
      "\n",
      "======== MinMax 스케일러 =========\n",
      "학습데이터 정확도 : 0.6314553990610329\n",
      "테스트데이터 정확도 : 0.6153846153846154 \n",
      "\n",
      "======== Normalization 스케일러 =========\n",
      "학습데이터 정확도 : 0.6314553990610329\n",
      "테스트데이터 정확도 : 0.6153846153846154 \n",
      "\n"
     ]
    }
   ],
   "source": [
    "svc = SVC()\n",
    "svc.fit(X_train, y_train)\n",
    "\n",
    "print(\"========== 스케일러 적용 전 ==========\")\n",
    "print(\"학습데이터 정확도 :\", svc.score(X_train, y_train))\n",
    "print(\"테스트데이터 정확도 :\", svc.score(X_test, y_test))\n",
    "\n",
    "print(\"\")\n",
    "\n",
    "print(\"========== 스케일러 적용 후 ==========\")\n",
    "print(\"======== Standard 스케일러 =========\")\n",
    "print(\"학습데이터 정확도 :\", svc.score(STscaler.transform(X_train), y_train))\n",
    "print(\"테스트데이터 정확도 :\", svc.score(STscaler.transform(X_test), y_test), \"\\n\")\n",
    "\n",
    "print(\"======== Robust 스케일러 =========\")\n",
    "print(\"학습데이터 정확도 :\", svc.score(RBscaler.transform(X_train), y_train))\n",
    "print(\"테스트데이터 정확도 :\", svc.score(RBscaler.transform(X_test), y_test), \"\\n\")\n",
    "\n",
    "print(\"======== MinMax 스케일러 =========\")\n",
    "print(\"학습데이터 정확도 :\", svc.score(MMscaler.transform(X_train), y_train))\n",
    "print(\"테스트데이터 정확도 :\", svc.score(MMscaler.transform(X_test), y_test), \"\\n\")\n",
    "\n",
    "print(\"======== Normalization 스케일러 =========\")\n",
    "print(\"학습데이터 정확도 :\", svc.score(Normscaler.transform(X_train), y_train))\n",
    "print(\"테스트데이터 정확도 :\", svc.score(Normscaler.transform(X_test), y_test), \"\\n\")\n",
    "\n",
    "\n",
    "\n",
    "    "
   ]
  },
  {
   "cell_type": "code",
   "execution_count": 15,
   "metadata": {},
   "outputs": [
    {
     "name": "stdout",
     "output_type": "stream",
     "text": [
      "============== Normalizer() 스케일러 ===============\n",
      "학습데이터 정확도 : 0.8873239436619719\n",
      "테스트데이터 정확도 : 0.8811188811188811\n",
      "\n",
      "============== RobustScaler() 스케일러 ===============\n",
      "학습데이터 정확도 : 0.9929577464788732\n",
      "테스트데이터 정확도 : 0.951048951048951\n",
      "\n",
      "============== MinMaxScaler() 스케일러 ===============\n",
      "학습데이터 정확도 : 0.9882629107981221\n",
      "테스트데이터 정확도 : 0.951048951048951\n",
      "\n",
      "============== Normalizer() 스케일러 ===============\n",
      "학습데이터 정확도 : 0.8873239436619719\n",
      "테스트데이터 정확도 : 0.8811188811188811\n",
      "\n"
     ]
    }
   ],
   "source": [
    "import module_Score as sc\n",
    "\n",
    "sc.Score(X_train, y_train, X_test, y_test)"
   ]
  },
  {
   "cell_type": "code",
   "execution_count": null,
   "metadata": {},
   "outputs": [],
   "source": []
  },
  {
   "cell_type": "code",
   "execution_count": null,
   "metadata": {},
   "outputs": [],
   "source": []
  },
  {
   "cell_type": "code",
   "execution_count": null,
   "metadata": {},
   "outputs": [],
   "source": []
  },
  {
   "cell_type": "code",
   "execution_count": null,
   "metadata": {},
   "outputs": [],
   "source": []
  },
  {
   "cell_type": "code",
   "execution_count": null,
   "metadata": {},
   "outputs": [],
   "source": []
  },
  {
   "cell_type": "code",
   "execution_count": null,
   "metadata": {},
   "outputs": [],
   "source": []
  },
  {
   "cell_type": "code",
   "execution_count": null,
   "metadata": {},
   "outputs": [],
   "source": []
  },
  {
   "cell_type": "code",
   "execution_count": null,
   "metadata": {},
   "outputs": [],
   "source": []
  },
  {
   "cell_type": "code",
   "execution_count": null,
   "metadata": {},
   "outputs": [],
   "source": []
  },
  {
   "cell_type": "code",
   "execution_count": null,
   "metadata": {},
   "outputs": [],
   "source": []
  },
  {
   "cell_type": "code",
   "execution_count": null,
   "metadata": {},
   "outputs": [],
   "source": []
  },
  {
   "cell_type": "code",
   "execution_count": null,
   "metadata": {},
   "outputs": [],
   "source": []
  },
  {
   "cell_type": "code",
   "execution_count": null,
   "metadata": {},
   "outputs": [],
   "source": []
  },
  {
   "cell_type": "code",
   "execution_count": null,
   "metadata": {},
   "outputs": [],
   "source": []
  },
  {
   "cell_type": "code",
   "execution_count": null,
   "metadata": {},
   "outputs": [],
   "source": []
  },
  {
   "cell_type": "code",
   "execution_count": null,
   "metadata": {},
   "outputs": [],
   "source": []
  },
  {
   "cell_type": "code",
   "execution_count": null,
   "metadata": {},
   "outputs": [],
   "source": []
  }
 ],
 "metadata": {
  "kernelspec": {
   "display_name": "Python 3.9.12 ('base')",
   "language": "python",
   "name": "python3"
  },
  "language_info": {
   "codemirror_mode": {
    "name": "ipython",
    "version": 3
   },
   "file_extension": ".py",
   "mimetype": "text/x-python",
   "name": "python",
   "nbconvert_exporter": "python",
   "pygments_lexer": "ipython3",
   "version": "3.9.12"
  },
  "orig_nbformat": 4,
  "vscode": {
   "interpreter": {
    "hash": "a077222d77dfe082b8f1dd562ad70e458ac2ab76993a0b248ab0476e32e9e8dd"
   }
  }
 },
 "nbformat": 4,
 "nbformat_minor": 2
}
