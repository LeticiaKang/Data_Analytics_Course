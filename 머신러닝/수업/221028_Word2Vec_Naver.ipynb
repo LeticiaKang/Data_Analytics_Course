{
 "cells": [
  {
   "cell_type": "code",
   "execution_count": 1,
   "metadata": {},
   "outputs": [],
   "source": [
    "# 필요한 패키지와 라이브러리를 가져옴\n",
    "import matplotlib.pyplot as plt\n",
    "import re\n",
    "from konlpy.tag import Okt\n",
    "import numpy as np\n",
    "import pandas as pd\n"
   ]
  },
  {
   "cell_type": "code",
   "execution_count": 3,
   "metadata": {},
   "outputs": [
    {
     "name": "stdout",
     "output_type": "stream",
     "text": [
      "데이터 길이 : 200000\n"
     ]
    },
    {
     "data": {
      "text/plain": [
       "(194543, 2)"
      ]
     },
     "execution_count": 3,
     "metadata": {},
     "output_type": "execute_result"
    }
   ],
   "source": [
    "data = pd.read_table('221028_ratings.txt')\n",
    "\n",
    "# 데이터 파악\n",
    "# data.head()\n",
    "print('중복 제거 전 데이터 길이 :' ,  len(data))\n",
    "# document의 nunique값과 label의 nunique값을 확인해서\n",
    "# len길이와 다르면 중복값이 있다는 거다.\n",
    "data['document'].nunique(), data['label'].nunique() \n",
    "# 출력값을 통해 document에는 중복값이 있고, \n",
    "# label에는 2개의 값이 있다는 것을 알 수 있다."
   ]
  },
  {
   "cell_type": "code",
   "execution_count": 5,
   "metadata": {},
   "outputs": [
    {
     "name": "stdout",
     "output_type": "stream",
     "text": [
      "중복 제거 후 데이터 길이 : 194544\n"
     ]
    },
    {
     "data": {
      "text/plain": [
       "(194543, 2)"
      ]
     },
     "execution_count": 5,
     "metadata": {},
     "output_type": "execute_result"
    }
   ],
   "source": [
    "# document의 중복값을 없애준다. (원본 대체)\n",
    "# data.drop_duplicates(subset=['document'], inplace=True)\n",
    "data = data.drop_duplicates(subset=['document'])\n",
    "\n",
    "# 중복값을 제거한 후 길이를 확인해보자!\n",
    "print('중복 제거 후 데이터 길이 :' ,  len(data))\n",
    "data['document'].nunique(), data['label'].nunique() "
   ]
  },
  {
   "cell_type": "code",
   "execution_count": 8,
   "metadata": {},
   "outputs": [
    {
     "data": {
      "text/plain": [
       "array([1, 0], dtype=int64)"
      ]
     },
     "execution_count": 8,
     "metadata": {},
     "output_type": "execute_result"
    }
   ],
   "source": [
    "data['label'].unique()"
   ]
  },
  {
   "cell_type": "code",
   "execution_count": null,
   "metadata": {},
   "outputs": [
    {
     "data": {
      "text/plain": [
       "<AxesSubplot:>"
      ]
     },
     "execution_count": 24,
     "metadata": {},
     "output_type": "execute_result"
    },
    {
     "data": {
      "image/png": "[encoded data removed]",
      "text/plain": [
       "<Figure size 640x480 with 1 Axes>"
      ]
     },
     "metadata": {},
     "output_type": "display_data"
    }
   ],
   "source": [
    "# 각각의 레이블 값을 시각화해서 보기(? 왜 ??)\n",
    "data['label'].value_counts().plot(kind = 'bar')"
   ]
  },
  {
   "cell_type": "markdown",
   "metadata": {},
   "source": [
    "https://blog.naver.com/PostView.nhn?blogId=youji4ever&logNo=222405683851  \n",
    "##### size와 count의 차이  \n",
    "- size는 호출된 객체의 크기 또는 길이를 반환한다  \n",
    "- size는 NaN이 있는 부분도 \"포함\"해서 계사하지만.  \n",
    "- count는 NaN 값을 \"무시\"하고 계산한다."
   ]
  },
  {
   "cell_type": "code",
   "execution_count": 22,
   "metadata": {},
   "outputs": [],
   "source": [
    "# data.groupby('label').size()\n",
    "# data.groupby('label').count()"
   ]
  },
  {
   "cell_type": "code",
   "execution_count": null,
   "metadata": {},
   "outputs": [
    {
     "name": "stdout",
     "output_type": "stream",
     "text": [
      "   label  count\n",
      "0      0  97277\n",
      "1      1  97267\n"
     ]
    }
   ],
   "source": [
    "print(data.groupby('label').size().reset_index(name = 'count'))"
   ]
  },
  {
   "cell_type": "code",
   "execution_count": null,
   "metadata": {},
   "outputs": [
    {
     "name": "stdout",
     "output_type": "stream",
     "text": [
      "True\n"
     ]
    }
   ],
   "source": [
    "print(data.isnull().values.any())"
   ]
  },
  {
   "cell_type": "code",
   "execution_count": null,
   "metadata": {},
   "outputs": [
    {
     "name": "stdout",
     "output_type": "stream",
     "text": [
      "id          0\n",
      "document    1\n",
      "label       0\n",
      "dtype: int64\n"
     ]
    }
   ],
   "source": [
    "print(data.isnull().sum())"
   ]
  },
  {
   "cell_type": "code",
   "execution_count": null,
   "metadata": {},
   "outputs": [
    {
     "data": {
      "text/html": [
       "<div>\n",
       "<style scoped>\n",
       "    .dataframe tbody tr th:only-of-type {\n",
       "        vertical-align: middle;\n",
       "    }\n",
       "\n",
       "    .dataframe tbody tr th {\n",
       "        vertical-align: top;\n",
       "    }\n",
       "\n",
       "    .dataframe thead th {\n",
       "        text-align: right;\n",
       "    }\n",
       "</style>\n",
       "<table border=\"1\" class=\"dataframe\">\n",
       "  <thead>\n",
       "    <tr style=\"text-align: right;\">\n",
       "      <th></th>\n",
       "      <th>id</th>\n",
       "      <th>document</th>\n",
       "      <th>label</th>\n",
       "    </tr>\n",
       "  </thead>\n",
       "  <tbody>\n",
       "    <tr>\n",
       "      <th>46471</th>\n",
       "      <td>6369843</td>\n",
       "      <td>NaN</td>\n",
       "      <td>1</td>\n",
       "    </tr>\n",
       "  </tbody>\n",
       "</table>\n",
       "</div>"
      ],
      "text/plain": [
       "            id document  label\n",
       "46471  6369843      NaN      1"
      ]
     },
     "execution_count": 28,
     "metadata": {},
     "output_type": "execute_result"
    }
   ],
   "source": [
    "data.loc[data.document.isnull()]"
   ]
  },
  {
   "cell_type": "code",
   "execution_count": null,
   "metadata": {},
   "outputs": [
    {
     "name": "stdout",
     "output_type": "stream",
     "text": [
      "False\n"
     ]
    }
   ],
   "source": [
    "data = data.dropna(how = 'any')\n",
    "print(data.isnull().values.any())"
   ]
  },
  {
   "cell_type": "code",
   "execution_count": null,
   "metadata": {},
   "outputs": [
    {
     "name": "stdout",
     "output_type": "stream",
     "text": [
      "194543\n"
     ]
    }
   ],
   "source": [
    "print(len(data))"
   ]
  },
  {
   "cell_type": "code",
   "execution_count": null,
   "metadata": {},
   "outputs": [
    {
     "name": "stderr",
     "output_type": "stream",
     "text": [
      "C:\\Users\\user\\AppData\\Local\\Temp\\ipykernel_23360\\4230409944.py:1: FutureWarning: The default value of regex will change from True to False in a future version.\n",
      "  data['document'] = data['document'].str.replace(\"[^ㄱ-하-ㅣ가힣]\",\" \")\n"
     ]
    },
    {
     "data": {
      "text/plain": [
       "False"
      ]
     },
     "execution_count": 32,
     "metadata": {},
     "output_type": "execute_result"
    }
   ],
   "source": [
    "data['document'] = data['document'].str.replace(\"[^ㄱ-하-ㅣ가힣]\",\" \")\n",
    "data.isnull().values.any()"
   ]
  },
  {
   "cell_type": "code",
   "execution_count": null,
   "metadata": {},
   "outputs": [
    {
     "name": "stdout",
     "output_type": "stream",
     "text": [
      "id          0\n",
      "document    0\n",
      "label       0\n",
      "dtype: int64\n"
     ]
    }
   ],
   "source": [
    "data['document'].replace('',np.nan,inplace=True)\n",
    "print(data.isnull().sum())"
   ]
  },
  {
   "cell_type": "code",
   "execution_count": null,
   "metadata": {},
   "outputs": [
    {
     "data": {
      "text/html": [
       "<div>\n",
       "<style scoped>\n",
       "    .dataframe tbody tr th:only-of-type {\n",
       "        vertical-align: middle;\n",
       "    }\n",
       "\n",
       "    .dataframe tbody tr th {\n",
       "        vertical-align: top;\n",
       "    }\n",
       "\n",
       "    .dataframe thead th {\n",
       "        text-align: right;\n",
       "    }\n",
       "</style>\n",
       "<table border=\"1\" class=\"dataframe\">\n",
       "  <thead>\n",
       "    <tr style=\"text-align: right;\">\n",
       "      <th></th>\n",
       "      <th>id</th>\n",
       "      <th>document</th>\n",
       "      <th>label</th>\n",
       "    </tr>\n",
       "  </thead>\n",
       "  <tbody>\n",
       "  </tbody>\n",
       "</table>\n",
       "</div>"
      ],
      "text/plain": [
       "Empty DataFrame\n",
       "Columns: [id, document, label]\n",
       "Index: []"
      ]
     },
     "execution_count": 35,
     "metadata": {},
     "output_type": "execute_result"
    }
   ],
   "source": [
    "data.loc[data.document.isnull()]"
   ]
  },
  {
   "cell_type": "code",
   "execution_count": null,
   "metadata": {},
   "outputs": [
    {
     "name": "stdout",
     "output_type": "stream",
     "text": [
      "194543\n"
     ]
    }
   ],
   "source": [
    "data = data.dropna(how='any')\n",
    "print(len(data))\n"
   ]
  },
  {
   "cell_type": "markdown",
   "metadata": {},
   "source": [
    "토큰화"
   ]
  },
  {
   "cell_type": "code",
   "execution_count": null,
   "metadata": {},
   "outputs": [
    {
     "ename": "ValueError",
     "evalue": "not enough values to unpack (expected 4, got 2)",
     "output_type": "error",
     "traceback": [
      "\u001b[1;31m---------------------------------------------------------------------------\u001b[0m",
      "\u001b[1;31mValueError\u001b[0m                                Traceback (most recent call last)",
      "Cell \u001b[1;32mIn [44], line 2\u001b[0m\n\u001b[0;32m      1\u001b[0m \u001b[39mfrom\u001b[39;00m \u001b[39msklearn\u001b[39;00m\u001b[39m.\u001b[39;00m\u001b[39mmodel_selection\u001b[39;00m \u001b[39mimport\u001b[39;00m train_test_split\n\u001b[1;32m----> 2\u001b[0m x_train, X_test, y_train, y_test \u001b[39m=\u001b[39m train_test_split(\u001b[39mlist\u001b[39m(data[\u001b[39m'\u001b[39m\u001b[39mdocument\u001b[39m\u001b[39m'\u001b[39m]))\n",
      "\u001b[1;31mValueError\u001b[0m: not enough values to unpack (expected 4, got 2)"
     ]
    }
   ],
   "source": [
    "from sklearn.model_selection import train_test_split\n",
    "x_train, X_test, y_train, y_test = train_test_split(list(data['document']))"
   ]
  },
  {
   "cell_type": "code",
   "execution_count": null,
   "metadata": {},
   "outputs": [],
   "source": [
    "#불용어 정의(조사나 접속사 등)\n",
    "stopwords = ['의','가','이','은','들',\n",
    "             '는','좀','잘','걍','과',\n",
    "             '도','를','으로','자','에',\n",
    "             '와','한','하다']"
   ]
  },
  {
   "cell_type": "code",
   "execution_count": null,
   "metadata": {},
   "outputs": [],
   "source": []
  },
  {
   "cell_type": "code",
   "execution_count": null,
   "metadata": {},
   "outputs": [
    {
     "data": {
      "text/plain": [
       "['오다', '이렇다', '것', '도', '영화', '라고', '차라리', '뮤직비디오', '를', '만들다', '게', '나다', '뻔']"
      ]
     },
     "execution_count": 40,
     "metadata": {},
     "output_type": "execute_result"
    }
   ],
   "source": [
    "okt = Okt()\n",
    "okt.morphs('와 이런 것도 영화라고 차라리 뮤직비디오를 만드는 게 나을 뻔',\n",
    "           stem = True) # 어간추출\n",
    "\n",
    "# 결과값 \n",
    "# ['오다', '이렇다', '것', '도', '영화', '라고', '차라리', '뮤직비디오', '를', '만들다', '게', '나다', '뻔']"
   ]
  },
  {
   "cell_type": "code",
   "execution_count": null,
   "metadata": {},
   "outputs": [
    {
     "name": "stderr",
     "output_type": "stream",
     "text": [
      " 35%|███▌      | 68621/194543 [01:28<02:41, 777.62it/s]\n"
     ]
    },
    {
     "ename": "KeyboardInterrupt",
     "evalue": "",
     "output_type": "error",
     "traceback": [
      "\u001b[1;31m---------------------------------------------------------------------------\u001b[0m",
      "\u001b[1;31mKeyboardInterrupt\u001b[0m                         Traceback (most recent call last)",
      "Cell \u001b[1;32mIn [48], line 6\u001b[0m\n\u001b[0;32m      3\u001b[0m \u001b[39mfor\u001b[39;00m sentence \u001b[39min\u001b[39;00m tqdm(data[\u001b[39m'\u001b[39m\u001b[39mdocument\u001b[39m\u001b[39m'\u001b[39m]):\n\u001b[0;32m      4\u001b[0m \u001b[39m# for sentence in tqdm(train_x):\u001b[39;00m\n\u001b[0;32m      5\u001b[0m     temp_X \u001b[39m=\u001b[39m []\n\u001b[1;32m----> 6\u001b[0m     temp_X \u001b[39m=\u001b[39m okt\u001b[39m.\u001b[39;49mmorphs(sentence, stem \u001b[39m=\u001b[39;49m \u001b[39mTrue\u001b[39;49;00m)\n\u001b[0;32m      7\u001b[0m     temp_X \u001b[39m=\u001b[39m [word \u001b[39mfor\u001b[39;00m word \u001b[39min\u001b[39;00m temp_X \u001b[39mif\u001b[39;00m \u001b[39mnot\u001b[39;00m word \u001b[39min\u001b[39;00m stopwords]\n\u001b[0;32m      8\u001b[0m     train_x\u001b[39m.\u001b[39mappend(temp_X)\n",
      "File \u001b[1;32mc:\\Users\\user\\anaconda3\\lib\\site-packages\\konlpy\\tag\\_okt.py:89\u001b[0m, in \u001b[0;36mOkt.morphs\u001b[1;34m(self, phrase, norm, stem)\u001b[0m\n\u001b[0;32m     86\u001b[0m \u001b[39mdef\u001b[39;00m \u001b[39mmorphs\u001b[39m(\u001b[39mself\u001b[39m, phrase, norm\u001b[39m=\u001b[39m\u001b[39mFalse\u001b[39;00m, stem\u001b[39m=\u001b[39m\u001b[39mFalse\u001b[39;00m):\n\u001b[0;32m     87\u001b[0m     \u001b[39m\"\"\"Parse phrase to morphemes.\"\"\"\u001b[39;00m\n\u001b[1;32m---> 89\u001b[0m     \u001b[39mreturn\u001b[39;00m [s \u001b[39mfor\u001b[39;00m s, t \u001b[39min\u001b[39;00m \u001b[39mself\u001b[39;49m\u001b[39m.\u001b[39;49mpos(phrase, norm\u001b[39m=\u001b[39;49mnorm, stem\u001b[39m=\u001b[39;49mstem)]\n",
      "File \u001b[1;32mc:\\Users\\user\\anaconda3\\lib\\site-packages\\konlpy\\tag\\_okt.py:73\u001b[0m, in \u001b[0;36mOkt.pos\u001b[1;34m(self, phrase, norm, stem, join)\u001b[0m\n\u001b[0;32m     59\u001b[0m \u001b[39m\"\"\"POS tagger.\u001b[39;00m\n\u001b[0;32m     60\u001b[0m \u001b[39mIn contrast to other classes in this subpackage,\u001b[39;00m\n\u001b[0;32m     61\u001b[0m \u001b[39mthis POS tagger doesn't have a `flatten` option,\u001b[39;00m\n\u001b[1;32m   (...)\u001b[0m\n\u001b[0;32m     67\u001b[0m \u001b[39m:param join: If True, returns joined sets of morph and tag.\u001b[39;00m\n\u001b[0;32m     68\u001b[0m \u001b[39m\"\"\"\u001b[39;00m\n\u001b[0;32m     69\u001b[0m validate_phrase_inputs(phrase)\n\u001b[0;32m     71\u001b[0m tokens \u001b[39m=\u001b[39m \u001b[39mself\u001b[39m\u001b[39m.\u001b[39mjki\u001b[39m.\u001b[39mtokenize(\n\u001b[0;32m     72\u001b[0m             phrase,\n\u001b[1;32m---> 73\u001b[0m             jpype\u001b[39m.\u001b[39;49mjava\u001b[39m.\u001b[39;49mlang\u001b[39m.\u001b[39;49mBoolean(norm),\n\u001b[0;32m     74\u001b[0m             jpype\u001b[39m.\u001b[39mjava\u001b[39m.\u001b[39mlang\u001b[39m.\u001b[39mBoolean(stem))\u001b[39m.\u001b[39mtoArray()\n\u001b[0;32m     75\u001b[0m \u001b[39mif\u001b[39;00m join:\n\u001b[0;32m     76\u001b[0m     \u001b[39mreturn\u001b[39;00m [t \u001b[39mfor\u001b[39;00m t \u001b[39min\u001b[39;00m tokens]\n",
      "\u001b[1;31mKeyboardInterrupt\u001b[0m: "
     ]
    }
   ],
   "source": [
    "train_x = []\n",
    "from tqdm import tqdm\n",
    "for sentence in tqdm(data['document']):\n",
    "# for sentence in tqdm(train_x):\n",
    "    temp_X = []\n",
    "    temp_X = okt.morphs(sentence, stem = True)\n",
    "    temp_X = [word for word in temp_X if not word in stopwords]\n",
    "    train_x.append(temp_X)\n",
    "    \n",
    "print(train_x[:5])\n",
    "    "
   ]
  },
  {
   "cell_type": "code",
   "execution_count": null,
   "metadata": {},
   "outputs": [
    {
     "ename": "SyntaxError",
     "evalue": "unexpected EOF while parsing (2178374066.py, line 4)",
     "output_type": "error",
     "traceback": [
      "\u001b[1;36m  Cell \u001b[1;32mIn [55], line 4\u001b[1;36m\u001b[0m\n\u001b[1;33m    y_test = y_test[:10000\u001b[0m\n\u001b[1;37m                          ^\u001b[0m\n\u001b[1;31mSyntaxError\u001b[0m\u001b[1;31m:\u001b[0m unexpected EOF while parsing\n"
     ]
    }
   ],
   "source": [
    "x_train = x_train[:10000]\n",
    "x_test = x_test[:10000]\n",
    "y_train = y_train[:10000]\n",
    "y_test = y_test[:10000]"
   ]
  },
  {
   "cell_type": "code",
   "execution_count": null,
   "metadata": {},
   "outputs": [],
   "source": [
    "test_x = []\n",
    "from tqdm import tqdm\n",
    "for sentence in tqdm(test_x):\n",
    "    temp_X = []\n",
    "    temp_X = okt.morphs(sentence, stem = True)\n",
    "    temp_X = [word for word in temp_X if not word in stopwords]\n",
    "    test_x.append(temp_X)\n",
    "    \n",
    "print(test_x[:5])"
   ]
  },
  {
   "cell_type": "markdown",
   "metadata": {},
   "source": [
    "### Word3vec"
   ]
  },
  {
   "cell_type": "code",
   "execution_count": null,
   "metadata": {},
   "outputs": [],
   "source": [
    "from gensim.models import Word2Vec"
   ]
  },
  {
   "cell_type": "code",
   "execution_count": null,
   "metadata": {},
   "outputs": [],
   "source": [
    "model = Word2Vec(train_x, \n",
    "                 vector_size=300, #한국어의 경우 50~300으로 설정하는데, 보통 100,200,300으로 설정한다. \n",
    "                 window=3, #앞뒤로 파악할 단어의 개수\n",
    "                 min_count = 5, #단어가 적어도 몇 번 이상 나와야 한다\n",
    "                 workers=1) #"
   ]
  },
  {
   "cell_type": "code",
   "execution_count": null,
   "metadata": {},
   "outputs": [],
   "source": [
    "w2v = Word2Vec(train_x, vector_size=300, window=3, min_count=3)\n",
    "word_vectors = w2v.wv\n",
    "vocabs = word_vectors.key_to_index"
   ]
  },
  {
   "cell_type": "code",
   "execution_count": null,
   "metadata": {},
   "outputs": [
    {
     "name": "stdout",
     "output_type": "stream",
     "text": [
      "[array([-0.17505096,  0.99550366,  0.18243499,  0.41333696, -0.7469492 ,\n",
      "       -0.6732836 ,  0.6777745 ,  0.64380765, -0.6159085 ,  0.01536939,\n",
      "        0.09890989, -0.31112748, -0.26538336, -0.23237836, -0.58124286,\n",
      "       -0.45147076,  0.3985237 ,  0.32010597, -0.41843826, -1.0339732 ,\n",
      "       -0.09756855,  0.44465283,  0.31440642,  0.12516032, -0.15300004,\n",
      "       -0.15379216, -0.23072235,  0.10854387, -0.2545466 ,  0.06001792,\n",
      "       -0.29317278, -0.08067669,  0.78245693, -0.3420989 , -0.32050815,\n",
      "       -0.08398137,  1.0530604 , -0.8494907 ,  0.12695312, -0.35127592,\n",
      "       -0.32216674,  0.09097853, -0.31835824, -0.83307284,  0.56743354,\n",
      "        0.5425456 , -0.7088776 ,  0.28738043,  0.00447714, -0.10223973,\n",
      "       -0.048563  ,  0.3353039 , -0.14862606,  0.0762733 ,  0.5004262 ,\n",
      "       -0.69617635,  0.06200235, -0.19435872,  0.21993418,  0.593289  ,\n",
      "        0.02333567, -0.21509868, -0.4223263 , -0.1393692 ,  0.2533309 ,\n",
      "       -0.18678693, -0.02579919, -0.00337286, -0.10716166,  0.28151867,\n",
      "        0.49918175, -0.31123263,  0.24148557, -0.09437976, -0.20410116,\n",
      "        0.09664033,  0.5067925 , -0.04038212, -0.03564402,  0.309316  ,\n",
      "        0.09968482, -0.19359994,  0.24068563,  0.7390736 , -0.45341945,\n",
      "        0.8143399 , -0.09567019, -0.4216138 , -0.40276212,  0.5959591 ,\n",
      "        0.5738017 , -0.18812245,  0.22357614,  0.15250798,  0.6101839 ,\n",
      "        0.21731687, -0.12384726, -0.93880177, -0.29586205,  0.35365137,\n",
      "       -0.54785013, -0.053677  , -0.10004548,  0.02309125,  0.42181778,\n",
      "       -0.53246444,  0.26901257,  0.38903686, -0.20854211, -0.0413585 ,\n",
      "       -0.94608575, -0.09764273, -0.3153679 ,  0.12458922,  0.23974419,\n",
      "        0.09332506,  0.13732333,  0.5699593 ,  0.22884417, -0.46821097,\n",
      "        0.2769809 , -0.08075708,  0.5116883 , -0.42535165, -0.07604289,\n",
      "        0.46624112, -0.45818397,  0.15376979, -0.5839457 ,  0.5134727 ,\n",
      "        0.6340588 ,  0.5355622 , -0.5992579 , -0.6247228 ,  0.6021653 ,\n",
      "        0.66645443, -0.39736962,  0.55755246,  0.37005612,  0.1464049 ,\n",
      "        0.8066099 , -0.3994177 , -0.7021032 , -0.22693004, -0.3273972 ,\n",
      "        0.22120215,  0.24411191, -0.05993587,  0.6738618 ,  0.09299786,\n",
      "        0.2583394 , -0.45727962,  0.69678205,  0.02851525, -0.4102504 ,\n",
      "        0.1417653 ,  0.09749223,  0.40028605, -0.05395306,  0.61456853,\n",
      "       -0.17933396,  0.35008606, -0.85186875, -0.2141276 ,  0.12987956,\n",
      "        0.57861155,  0.47711927,  0.00231781,  0.40019524,  0.7664632 ,\n",
      "       -0.40783966, -0.27660576,  0.03572704,  0.4521981 , -0.03468428,\n",
      "       -0.5588729 , -0.53902006, -0.24272905,  0.70021355,  0.02058745,\n",
      "       -0.19448313,  0.22434713,  0.04310667, -0.0850438 , -0.6578644 ,\n",
      "       -0.20078142,  0.11376347, -0.13491362, -0.5199539 , -0.6625662 ,\n",
      "        0.2652728 , -0.0404318 ,  0.26366505, -0.43224925,  0.29772308,\n",
      "       -0.16707352,  0.5127348 , -0.60887927, -0.7210023 ,  0.34265867,\n",
      "       -0.08945851,  0.4483102 , -0.2985805 , -0.321293  ,  0.21446592,\n",
      "        0.15237166, -0.08804799, -0.02109466, -0.20170657,  0.08032226,\n",
      "       -0.48519215, -0.21911392, -0.0915923 , -0.3244955 ,  0.44307867,\n",
      "       -0.8812323 , -0.09777133, -0.10367959, -0.46803662, -0.1797544 ,\n",
      "        0.02854472, -0.16664511, -0.13381247, -0.03244803,  0.48760572,\n",
      "        0.0252025 ,  0.36139852, -0.2222454 , -0.44032142,  0.6346643 ,\n",
      "        0.14282747, -0.09058854, -0.34625995,  0.14511125, -0.3159827 ,\n",
      "        0.04783132, -0.15457813,  0.4521302 ,  0.27248958, -0.7899281 ,\n",
      "       -0.5924633 ,  0.10084294,  0.19192858,  0.16266619,  0.0395868 ,\n",
      "       -0.27703056,  0.31932786,  0.18422519,  0.08623073,  0.18393874,\n",
      "       -0.49612585, -0.01302874, -0.39807427, -0.3538122 , -0.5662682 ,\n",
      "       -0.29049385,  0.1569977 , -0.4710219 , -0.43273935, -0.6780517 ,\n",
      "        0.33241785, -0.03279864, -0.31137666,  0.30832553, -0.40099207,\n",
      "        0.27992845,  0.6108218 ,  0.24429916, -0.07334134,  0.76642156,\n",
      "       -0.5428491 , -0.24245818,  0.24797519, -0.09391682, -0.5635602 ,\n",
      "        0.23152125,  0.8499597 ,  0.48793885, -0.23995993,  0.18384032,\n",
      "        0.5658807 , -0.32875615, -0.15747444,  0.05516336,  0.7195143 ,\n",
      "       -0.64066166, -0.14203192,  0.06356592,  0.6510099 ,  0.40840507,\n",
      "       -0.20306897,  0.6457894 , -0.23919767,  0.3171456 ,  0.93615204,\n",
      "        0.48878044,  0.59592277, -0.0060167 ,  0.34149572, -0.8473819 ],\n",
      "      dtype=float32), array([-0.0259319 ,  0.04008099, -0.0226797 ,  0.3049957 ,  0.26324275,\n",
      "       -0.44548059,  0.20197941,  0.86877835, -0.17681825, -0.24772273,\n",
      "       -0.04189498,  0.3569255 ,  0.29558012,  0.0040523 ,  0.39675808,\n",
      "        0.15804787,  0.483624  , -0.5362485 , -0.32185924,  0.31128925,\n",
      "       -0.15422136,  0.12832846,  0.46044526,  0.73085105, -0.35468057,\n",
      "       -0.05392253,  0.19769472,  0.00225631, -0.2945897 ,  0.47999945,\n",
      "        0.33080742, -0.26430565, -0.30269662,  0.5212682 ,  0.4856918 ,\n",
      "        0.5705856 ,  0.5435854 , -0.55007696, -0.15671499,  0.43217415,\n",
      "        0.1825729 ,  0.06638682,  0.18417493, -0.10187231,  0.3196117 ,\n",
      "        0.53188497, -0.3261598 , -0.01262824,  0.1955655 , -0.18683483,\n",
      "        0.6971131 ,  0.2967233 , -0.37142798, -0.4856843 , -0.55971277,\n",
      "       -0.02206485, -0.08310067,  0.6536478 ,  0.5574811 , -0.15988961,\n",
      "       -0.07115825,  0.41680303,  0.313701  ,  0.26865265, -0.37440172,\n",
      "       -0.20407976,  0.14299144,  0.33386198, -0.14728636, -0.38781935,\n",
      "        0.2660986 , -0.493822  ,  0.12336702,  0.50899845, -0.6142506 ,\n",
      "       -0.19520876,  0.09060894,  0.5921019 , -0.9214249 ,  0.7240318 ,\n",
      "       -0.22980644,  0.32115263,  0.46176577,  0.03878145,  0.1592782 ,\n",
      "        0.5580728 ,  0.14922282,  0.14810354,  0.36585507, -0.46493256,\n",
      "        0.48028177, -0.15995021,  0.39485583, -0.2133674 ,  0.47099003,\n",
      "        0.6634786 ,  0.6196177 , -0.562651  , -0.22671933, -0.44220784,\n",
      "       -0.34305567,  0.48416537, -0.36523405,  0.09911024,  0.3277908 ,\n",
      "       -0.11868121,  0.43652442,  0.12133393, -0.24152902, -0.0586146 ,\n",
      "       -0.85887045,  0.24850452, -0.36219364,  0.02723801, -0.1595636 ,\n",
      "        0.04363545,  0.02906315,  0.4652439 ,  0.30003712, -0.21609855,\n",
      "        0.11840498, -0.34615448,  0.6215518 ,  0.32420692, -0.22819072,\n",
      "       -0.0104988 , -0.31379724, -0.06886791, -0.23606756,  0.22694334,\n",
      "        0.02993107,  0.5519005 , -0.12576553, -0.50473964,  0.84380704,\n",
      "       -0.18205348, -0.26828203,  0.63910085, -0.12840144, -0.3037848 ,\n",
      "       -0.03408455, -0.2045845 , -0.553479  ,  0.01504881,  0.12245993,\n",
      "       -0.24584535,  0.15637317, -0.27958947,  0.5190259 , -0.2819941 ,\n",
      "        0.19461125, -0.05723806,  0.52532923, -0.28626558,  0.03921518,\n",
      "       -0.50632834, -0.36048648, -0.28832227, -0.15555653,  0.2914563 ,\n",
      "        0.39090714, -0.267393  , -0.2874807 ,  0.20242268, -0.56928813,\n",
      "       -0.29654792,  0.3103696 ,  0.52201945, -0.0014226 ,  1.2828485 ,\n",
      "       -0.23501459, -0.00801462, -0.22991017,  0.50630414,  0.23726921,\n",
      "        0.12884498, -0.35886797, -0.03676463,  0.46004006, -0.4960024 ,\n",
      "       -0.29155117,  0.02977688, -0.022558  , -0.10876064, -0.63489705,\n",
      "       -0.16597031,  0.52915287,  0.37210527, -0.28234637, -0.66724056,\n",
      "        0.3800143 , -0.6122315 , -0.04859896, -0.5794201 ,  0.49709183,\n",
      "       -0.6828596 ,  0.21667309,  0.12165871,  0.06756376, -0.27631012,\n",
      "       -0.05163539, -0.04264524, -0.44912812, -0.48357433, -0.792053  ,\n",
      "       -0.32820803, -0.154953  , -0.0471149 , -0.22133502, -0.65529627,\n",
      "        0.03519693,  0.02761935, -0.5619932 , -0.7738224 , -0.30295873,\n",
      "       -0.8112748 , -0.6179746 , -0.7739529 , -0.64788735, -0.2734709 ,\n",
      "       -0.33611286,  0.10506105,  0.4192363 ,  0.4301472 , -0.69870216,\n",
      "       -0.5577161 ,  0.21657291, -0.67188144,  0.00318038,  0.30457774,\n",
      "        0.32395795, -0.14543825, -0.7329882 ,  0.0629371 , -0.17712846,\n",
      "        0.42829782,  0.09828755,  0.44571623, -0.08633007, -0.32848656,\n",
      "        0.32562318,  0.0478115 , -0.43445125,  0.5902743 , -0.34469274,\n",
      "       -0.01937718, -0.40706807,  0.9173128 , -0.01213476, -0.23127832,\n",
      "       -0.14821328, -0.38449982,  0.11650201,  0.64027214, -1.1882321 ,\n",
      "        0.09951515,  0.5673499 , -0.5056602 , -0.2887454 , -0.58637863,\n",
      "        0.7085766 ,  0.11112867,  0.17010005, -0.6195453 , -0.14232017,\n",
      "        0.1342896 ,  0.23135887, -0.01866547, -0.80516845, -0.5982562 ,\n",
      "       -0.29350516, -0.04785648,  0.14483045,  0.27011114, -0.11109246,\n",
      "        0.3500822 ,  0.03273067, -0.01214125, -0.5871918 ,  0.65432084,\n",
      "        0.2549408 ,  0.19063087,  0.23330529, -0.52626604, -0.19107439,\n",
      "       -0.4462264 , -0.35120347,  0.5905497 , -0.12439218, -0.22399339,\n",
      "        0.74171984,  0.6174926 , -0.6269531 ,  0.16727933,  0.9489052 ,\n",
      "        0.9681328 ,  0.06115589, -0.44874877, -0.05299261, -0.8466177 ],\n",
      "      dtype=float32), array([ 2.77299453e-02, -2.41920993e-01,  3.00355144e-02,  2.44628191e-01,\n",
      "       -7.13475406e-01,  2.11730614e-01,  4.28613394e-01, -1.74187377e-01,\n",
      "        2.80305613e-02,  4.06549603e-01,  1.06969349e-01, -4.97205019e-01,\n",
      "        1.09537438e-01,  3.00605898e-03, -8.58145952e-01, -3.37446094e-01,\n",
      "        4.14100230e-01,  2.82432079e-01,  1.84146985e-01, -7.25467563e-01,\n",
      "       -1.49795249e-01,  5.09431362e-01,  6.48233175e-01,  2.56289452e-01,\n",
      "        1.59653440e-01,  4.17701870e-01,  2.81970888e-01, -3.87525171e-01,\n",
      "       -1.25138327e-01,  3.00150365e-01, -2.12380633e-01, -1.88760474e-01,\n",
      "       -7.11737126e-02,  4.49050754e-01, -5.49425900e-01, -2.11632654e-01,\n",
      "       -1.97728977e-01, -1.22463703e+00, -3.17325383e-01, -4.26146358e-01,\n",
      "        4.32648957e-01, -4.74062800e-01,  5.67345582e-02, -9.41299379e-01,\n",
      "        2.42673442e-01,  1.31336510e+00, -2.33534157e-01, -1.00354123e+00,\n",
      "       -2.37538964e-01, -5.65763056e-01, -2.98617512e-01, -4.71828759e-01,\n",
      "       -6.40407503e-01, -9.66207907e-02, -7.00875223e-01, -4.74137068e-01,\n",
      "        2.65819542e-02, -5.59492469e-01,  2.39109725e-01,  1.01877756e-01,\n",
      "        9.12916288e-02, -2.52241582e-01, -7.29135349e-02,  4.10287023e-01,\n",
      "        6.40499592e-01,  9.44757238e-02, -2.20908925e-01, -8.16572607e-02,\n",
      "       -2.45256081e-01, -4.39826697e-02, -5.63908815e-01, -1.60880372e-01,\n",
      "        1.05886519e-01,  5.73618531e-01, -6.68516338e-01,  4.91897285e-01,\n",
      "        2.21150249e-01,  2.49699891e-01, -2.67462522e-01,  7.77105570e-01,\n",
      "        2.39364877e-01, -2.72740901e-01, -6.52529836e-01, -1.56639442e-01,\n",
      "        2.55417824e-01,  7.44162858e-01, -3.97198588e-01, -3.13307375e-01,\n",
      "       -1.27937257e+00, -5.44393174e-02, -1.44766897e-01, -3.00789595e-01,\n",
      "       -7.55629361e-01, -7.98001766e-01, -8.71430850e-04, -2.39871368e-01,\n",
      "        3.57429355e-01, -2.58298665e-01, -1.52854219e-01, -5.76443155e-04,\n",
      "        6.91371560e-01, -2.93017417e-01, -9.45725739e-02,  3.76226544e-01,\n",
      "        6.10650241e-01, -6.25524446e-02,  8.27480201e-03,  2.47655660e-01,\n",
      "       -4.40674484e-01, -1.71072930e-01, -5.84977865e-01, -1.86481461e-01,\n",
      "       -1.38350636e-01,  1.72141954e-01, -2.63715565e-01,  3.34726095e-01,\n",
      "       -6.16249859e-01,  7.65793845e-02, -4.74894941e-01, -8.38843763e-01,\n",
      "        4.86490548e-01,  8.73093724e-01,  9.24203038e-01, -2.07275927e-01,\n",
      "        2.82558709e-01, -8.22997764e-02,  6.52689397e-01,  3.89288694e-01,\n",
      "       -7.28551567e-01,  4.89740729e-01, -9.38798487e-01,  1.39061689e-01,\n",
      "       -6.13340676e-01,  2.05190014e-02,  9.33255792e-01,  1.62512183e-01,\n",
      "       -8.56121540e-01, -5.42196989e-01, -1.67699978e-01, -2.99342304e-01,\n",
      "        5.55274427e-01, -2.69328982e-01, -4.36837882e-01,  5.24450660e-01,\n",
      "        4.19588208e-01, -3.47137272e-01, -1.03722322e+00,  1.31850570e-01,\n",
      "        1.28591716e+00, -6.39649108e-03,  1.15271531e-01, -1.50929704e-01,\n",
      "        1.29105842e+00, -5.68887532e-01, -2.62961417e-01,  5.32379448e-01,\n",
      "       -7.91891634e-01, -1.17811859e-01, -3.57476503e-01,  3.46305668e-01,\n",
      "        7.84188390e-01,  4.04129237e-01, -6.46954715e-01,  1.36122239e+00,\n",
      "       -4.44970012e-01,  7.34273255e-01, -8.16082239e-01,  8.82987738e-01,\n",
      "       -1.27307087e-01, -7.59097934e-02,  3.37595761e-01, -5.25266975e-02,\n",
      "        5.36105454e-01, -5.65732419e-01, -6.17321432e-02, -5.51767588e-01,\n",
      "        3.46715450e-01, -2.31531516e-01,  8.92394781e-01, -7.21853077e-01,\n",
      "        1.81342781e-01,  4.61131521e-02, -6.63241327e-01,  2.91992992e-01,\n",
      "        1.48257107e-01,  1.60737038e-01,  2.85890639e-01,  4.52385634e-01,\n",
      "       -5.81035376e-01, -2.67517954e-01,  4.06060070e-02, -4.44465518e-01,\n",
      "       -1.68833360e-01,  3.25279653e-01,  9.69618484e-02,  2.38703087e-01,\n",
      "       -6.77336872e-01, -4.49458688e-01, -3.50707114e-01, -6.29946738e-02,\n",
      "       -9.81042266e-01,  8.37109745e-01,  1.06824011e-01, -1.79608967e-02,\n",
      "        5.93835235e-01, -1.22087136e-01,  7.98165679e-01, -8.80135417e-01,\n",
      "        2.94151396e-01,  4.43064064e-01,  2.03649364e-02, -2.50128448e-01,\n",
      "        3.73572439e-01,  1.63393870e-01,  9.93459523e-01, -4.89381790e-01,\n",
      "       -3.08862120e-01, -1.19413234e-01, -2.99664170e-01, -2.13412464e-01,\n",
      "        2.85836458e-01,  8.93437862e-01,  2.59548724e-01, -3.46892565e-01,\n",
      "        2.68079042e-01,  1.39655828e-01, -3.43397766e-01, -6.75096333e-01,\n",
      "        1.12352416e-01, -1.16536224e+00,  6.80649728e-02,  1.16889262e+00,\n",
      "       -1.92224398e-01,  8.15440297e-01,  8.64516497e-02, -1.10356323e-01,\n",
      "       -1.07905173e+00,  6.88555896e-01,  1.64796039e-01, -1.04323208e+00,\n",
      "       -3.92127901e-01,  1.02493055e-01, -1.50923878e-01, -3.35003346e-01,\n",
      "       -2.64675349e-01, -3.92411262e-01, -6.00142121e-01,  1.06296396e+00,\n",
      "       -5.71157515e-01,  5.69451213e-01,  1.79268911e-01,  4.25807565e-01,\n",
      "        3.83020341e-01, -1.79921493e-01,  9.07778680e-01, -2.38199919e-01,\n",
      "        7.35273123e-01, -9.06716436e-02,  2.95795709e-01, -3.09056342e-01,\n",
      "        1.30608723e-01, -3.84670347e-01, -7.48589694e-01,  2.59907991e-01,\n",
      "       -2.70306587e-01, -1.12063801e+00, -6.30841434e-01,  2.81986088e-01,\n",
      "       -6.78197592e-02,  2.07671940e-01, -8.27353776e-01, -3.53309005e-01,\n",
      "        3.21396828e-01,  1.33382097e-01, -5.12261629e-01, -9.57270980e-01,\n",
      "        1.60120323e-01, -2.36335844e-01, -3.51022571e-01, -4.70778763e-01,\n",
      "        8.72892320e-01, -3.27189565e-01,  1.62437186e-02,  9.07181948e-02,\n",
      "        4.32109326e-01, -2.94088155e-01,  7.47870207e-01, -2.51519799e-01,\n",
      "        1.19033694e-01,  2.94301122e-01,  3.23404789e-01,  3.08296949e-01,\n",
      "        8.74554396e-01,  5.10513127e-01,  1.72174037e-01,  1.14972579e+00,\n",
      "        4.07591522e-01, -7.12920964e-01,  3.36592138e-01, -5.58782458e-01],\n",
      "      dtype=float32), array([ 3.71176191e-02,  4.39426228e-02, -5.70237488e-02,  8.27629983e-01,\n",
      "       -1.49712726e-01, -3.68826240e-01, -1.14591867e-01,  1.17505622e+00,\n",
      "        5.88655518e-03, -3.17165628e-02,  2.05202147e-01,  8.63492042e-02,\n",
      "        1.08408034e-02,  2.18414649e-01, -2.12112695e-01, -1.57156914e-01,\n",
      "        5.26554644e-01, -7.78448582e-01,  2.07492173e-01,  2.65754968e-01,\n",
      "       -7.05306411e-01,  2.12269232e-01, -1.99688464e-01,  6.75134242e-01,\n",
      "        5.26033223e-01, -7.07217038e-01, -5.37458181e-01, -1.19175762e-01,\n",
      "       -1.79599121e-01,  1.21986410e-02,  3.40511739e-01,  2.76073813e-01,\n",
      "        2.68004775e-01,  6.20168805e-01, -5.96489385e-02,  1.25944301e-01,\n",
      "        5.12434065e-01, -7.95112610e-01,  9.66683403e-02,  3.43987912e-01,\n",
      "        3.28602493e-01,  6.61284745e-01, -1.21097378e-01, -6.52980149e-01,\n",
      "       -4.55402136e-02,  5.23726344e-01, -5.17337799e-01,  4.04891163e-01,\n",
      "        3.70639451e-02,  3.33247602e-01,  6.00239076e-02,  1.12170570e-01,\n",
      "       -6.71917737e-01,  3.31891447e-01, -1.22106604e-01, -4.52468097e-01,\n",
      "        2.28109717e-01, -3.80201489e-01,  3.79742444e-01,  3.32951508e-02,\n",
      "       -6.21260583e-01, -8.50968957e-02,  2.66665339e-01, -4.20966279e-03,\n",
      "       -2.55760014e-01,  1.55399308e-01, -2.42702365e-02, -1.93038255e-01,\n",
      "       -4.96223569e-01, -3.11217159e-01,  2.18766168e-01, -7.90098961e-03,\n",
      "       -2.13264883e-01, -7.99507916e-01, -3.42518389e-01, -5.19721091e-01,\n",
      "        3.02725434e-01,  7.47574940e-02, -9.86422691e-03,  2.45950624e-01,\n",
      "       -3.29781175e-01, -5.64818382e-01,  3.30529670e-04,  8.58305454e-01,\n",
      "        3.89136493e-01, -5.48096187e-02, -1.56408817e-01,  2.85288781e-01,\n",
      "        7.05361307e-01,  5.46000183e-01,  2.42260322e-02,  1.05308838e-01,\n",
      "       -4.65918593e-02,  2.72163689e-01,  3.40553880e-01,  4.71596777e-01,\n",
      "       -6.66465580e-01,  4.82983649e-01, -2.79151559e-01,  1.46980464e-01,\n",
      "        1.44085035e-01, -3.89959425e-01,  2.12613016e-01, -3.16262811e-01,\n",
      "       -1.51603699e-01, -1.25842884e-01, -6.58283979e-02,  1.08343326e-02,\n",
      "        8.34602043e-02, -6.31240785e-01, -2.66473293e-01, -1.49887398e-01,\n",
      "        2.54840463e-01, -7.09399953e-02,  5.11345506e-01, -6.85827732e-02,\n",
      "       -8.49714354e-02,  1.30642265e-01,  9.67364788e-01, -4.81654197e-01,\n",
      "       -4.38157231e-01,  3.55445057e-01,  4.53094870e-01, -3.39086652e-01,\n",
      "       -3.01692009e-01,  1.47332817e-01, -6.50019228e-01, -6.01575434e-01,\n",
      "        1.35952502e-01, -2.61741914e-02,  8.72052461e-02,  7.06497848e-01,\n",
      "        1.01944339e+00, -3.57270867e-01,  4.78753805e-01, -1.01750404e-01,\n",
      "        1.40385538e-01,  1.58430971e-02, -3.32831860e-01,  4.76630479e-02,\n",
      "        6.84739590e-01,  1.40168905e-01, -6.18980289e-01, -6.85136616e-02,\n",
      "       -4.27384943e-01, -2.45341673e-01, -1.59973755e-01, -2.49761999e-01,\n",
      "        1.15131080e-01, -2.52023667e-01, -6.53134167e-01, -9.56992507e-02,\n",
      "        2.89835811e-01,  1.80760846e-01,  1.65179551e-01,  6.21787429e-01,\n",
      "       -1.28238678e-01,  2.21269026e-01,  1.38249993e-01,  2.34359816e-01,\n",
      "       -9.97252092e-02, -3.64784524e-02, -7.75688812e-02,  1.14759386e-01,\n",
      "       -6.67366147e-01,  3.27029288e-01, -1.09704220e+00, -3.06801081e-01,\n",
      "        2.70973712e-01,  2.48004481e-01,  2.78187871e-01,  3.82446796e-01,\n",
      "        4.40909415e-01,  6.94321215e-01,  4.40321565e-01, -1.73610717e-01,\n",
      "        4.77285326e-01, -7.71882892e-01, -6.56233072e-01,  2.38628149e-01,\n",
      "        2.75259733e-01,  1.71310350e-01,  2.32070997e-01,  5.12516461e-02,\n",
      "       -4.40186590e-01, -2.69880146e-01, -9.67824087e-02,  2.85554737e-01,\n",
      "        8.51575613e-01,  1.08749181e-01,  7.94290483e-01, -1.11605547e-01,\n",
      "       -1.20937817e-01,  4.08572435e-01,  6.77875802e-02, -3.72936875e-01,\n",
      "        5.00276983e-01, -5.43624699e-01,  1.78266093e-01,  5.44774756e-02,\n",
      "        1.21959962e-01,  2.26224840e-01,  4.55415756e-01, -1.07885770e-01,\n",
      "        4.12881076e-01, -2.96897382e-01,  8.01150277e-02,  7.80089721e-02,\n",
      "       -3.91667247e-01, -3.53985190e-01, -3.68562862e-02, -2.45795950e-01,\n",
      "       -8.30478966e-02, -4.96200889e-01,  5.00531614e-01, -4.87228334e-01,\n",
      "       -8.34143877e-01, -6.55905545e-01, -4.23237592e-01, -4.60994124e-01,\n",
      "       -3.64731908e-01, -8.63206163e-02, -7.56098151e-01, -1.31722286e-01,\n",
      "       -9.72882360e-02, -2.97093958e-01, -1.84181422e-01, -1.55145712e-02,\n",
      "       -1.96986511e-01, -9.19778049e-02, -2.45219693e-01, -2.89959997e-01,\n",
      "       -5.81135690e-01,  7.77354836e-02,  2.55237371e-01,  2.92278200e-01,\n",
      "       -2.58661211e-01,  5.94599724e-01, -1.05232969e-01, -7.97867239e-01,\n",
      "       -4.49168056e-01, -6.44920319e-02, -1.06229082e-01,  8.26514482e-01,\n",
      "        2.01650383e-03, -3.67964208e-01, -5.04844002e-02,  1.07612960e-01,\n",
      "        5.61990663e-02,  3.65386963e-01,  4.34016079e-01, -1.79206446e-01,\n",
      "       -7.42206350e-02,  1.91026106e-02, -6.75479949e-01, -4.09335166e-01,\n",
      "        4.13039416e-01,  4.66601729e-01, -5.28458953e-01, -4.92450921e-03,\n",
      "        3.46383452e-01,  6.31023645e-02, -2.26355180e-01, -6.06790543e-01,\n",
      "       -7.88417280e-01,  2.67140746e-01,  2.92553693e-01,  6.87426388e-01,\n",
      "       -1.92199886e-01,  3.16978484e-01, -2.17604265e-01,  4.55884069e-01,\n",
      "        2.20950574e-01,  1.11671455e-01, -1.84285622e-02,  4.83395606e-01,\n",
      "       -1.25677750e-01,  4.21175420e-01, -7.80742466e-01,  2.27840856e-01,\n",
      "       -3.11917830e-02,  2.46107087e-01,  5.08792996e-01, -4.93771285e-02,\n",
      "        1.06140703e-01,  2.02420503e-01,  3.57330710e-01, -1.38177380e-01,\n",
      "        3.52058381e-01,  4.92591828e-01,  4.59873736e-01,  1.58119276e-01,\n",
      "       -5.32656133e-01,  3.85856867e-01,  1.15827751e+00,  5.70887566e-01,\n",
      "       -6.92039430e-02, -1.97787821e-01, -4.26014334e-01, -2.70909399e-01],\n",
      "      dtype=float32), array([-6.37919828e-02,  1.35411620e-01,  2.37053800e-02, -6.26730919e-01,\n",
      "        1.59311444e-01,  5.47134578e-01,  1.35771800e-02,  7.02757299e-01,\n",
      "        2.40521729e-02,  4.12533656e-02,  1.55624365e-02, -1.85953602e-02,\n",
      "       -4.33289766e-01,  7.86031261e-02,  1.26042679e-01, -4.38010782e-01,\n",
      "        4.23184365e-01,  2.17473909e-01,  4.87821966e-01, -6.04693830e-01,\n",
      "       -3.50827366e-01,  3.70809108e-01,  2.81245828e-01,  9.35263813e-01,\n",
      "        4.71355766e-01, -3.11484098e-01, -3.83821458e-01, -1.66142598e-01,\n",
      "        1.06726095e-01,  3.60439181e-01, -2.78254896e-01, -1.39145836e-01,\n",
      "        3.01071972e-01, -9.75528508e-02,  3.56973149e-02, -1.33780733e-01,\n",
      "       -1.75060883e-01, -5.18801093e-01, -5.15509903e-01,  3.48033398e-01,\n",
      "       -1.39190480e-01,  2.82208353e-01, -3.94842448e-03, -8.72807726e-02,\n",
      "       -2.70993799e-01,  2.93506533e-01,  2.60604203e-01, -2.33293697e-01,\n",
      "       -1.18965216e-01, -2.07723975e-01,  8.84593651e-02,  5.68020679e-02,\n",
      "       -9.62377340e-02, -2.34097883e-01,  2.33601555e-01, -4.90938984e-02,\n",
      "        2.51108497e-01,  3.32760811e-01,  3.35272759e-01,  4.84932840e-01,\n",
      "       -3.70509848e-02,  6.72184154e-02,  3.73450756e-01, -1.76762238e-01,\n",
      "       -5.14952660e-01,  3.66857350e-02,  4.28915143e-01, -2.66121805e-01,\n",
      "       -5.02150536e-01,  3.96913625e-02, -1.82268620e-02,  2.82153003e-02,\n",
      "        1.74071923e-01,  2.38973111e-01,  1.47210419e-01, -1.12659007e-01,\n",
      "       -4.05294806e-01, -2.64294356e-01, -7.17114389e-01,  5.39306760e-01,\n",
      "       -2.42336899e-01,  1.56503156e-01,  5.10252595e-01,  4.94738132e-01,\n",
      "       -2.28770465e-01,  5.40106595e-01,  2.18610153e-01, -2.08218575e-01,\n",
      "        1.17738076e-01,  1.56704020e-02,  3.33388120e-01,  9.15036723e-02,\n",
      "        1.99681193e-01, -6.49711609e-01,  2.40411967e-01, -1.18165120e-01,\n",
      "        8.21636558e-01, -3.05118617e-02, -1.98666111e-01,  1.67798743e-01,\n",
      "       -2.58452356e-01,  1.04458109e-01,  1.18006550e-01, -3.26513588e-01,\n",
      "        4.34640765e-01,  3.42986733e-02,  3.80118401e-03,  7.50365257e-02,\n",
      "       -5.38181186e-01, -2.00427592e-01, -6.90690637e-01,  5.69284298e-02,\n",
      "        1.29580513e-01,  2.66832978e-01, -2.06435904e-01,  4.20769215e-01,\n",
      "       -5.10441773e-02,  3.23503792e-01,  4.06225771e-01, -4.57971781e-01,\n",
      "        6.12870872e-01,  2.27834303e-02, -2.79837921e-02,  7.07876444e-01,\n",
      "       -3.78811695e-02,  8.70135336e-05, -3.28466237e-01, -5.16032934e-01,\n",
      "       -1.26985401e-01,  4.03081477e-01,  1.56863108e-01,  4.39462870e-01,\n",
      "        6.06375873e-01, -9.01973128e-01,  2.59492338e-01, -2.66871098e-02,\n",
      "       -4.01883483e-01, -5.88701405e-02, -2.47709230e-01, -3.32897693e-01,\n",
      "       -5.73739372e-02, -4.69038904e-01, -2.81348471e-02,  1.67674329e-02,\n",
      "        2.24708363e-01, -2.97489852e-01, -4.31783259e-01,  3.19366634e-01,\n",
      "        4.56213355e-01, -2.14867011e-01,  3.81576806e-01, -1.78428277e-01,\n",
      "       -1.67400032e-01,  7.83668220e-01,  1.91056337e-02, -1.30793929e-01,\n",
      "        8.55842605e-02, -2.71162480e-01,  8.83601010e-02,  7.73943007e-01,\n",
      "       -1.48274213e-01,  3.98818284e-01,  1.82046443e-02,  2.01006800e-01,\n",
      "       -6.59304261e-02,  3.99621606e-01,  4.81057316e-02,  2.29801461e-01,\n",
      "        1.29118413e-01,  6.92779839e-01, -3.32223982e-01,  3.50731581e-01,\n",
      "        1.44742370e-01,  5.83101586e-02,  2.44141638e-01,  1.75643310e-01,\n",
      "       -2.81907618e-02, -3.66675347e-01,  3.19213718e-01, -2.01963723e-01,\n",
      "        1.84261113e-01, -5.60606539e-01,  3.17466676e-01, -3.58176142e-01,\n",
      "       -2.00017974e-01,  3.49104494e-01,  4.76282656e-01,  1.08837271e+00,\n",
      "       -8.07262808e-02, -4.38789576e-01,  2.20619380e-01,  1.63001567e-01,\n",
      "       -4.39210013e-02,  4.59424764e-01, -8.79211351e-02, -1.26580045e-01,\n",
      "        1.29379869e-01, -3.63124311e-01,  1.71223115e-02,  3.18085600e-04,\n",
      "       -4.86021966e-01,  2.01325312e-01, -3.21316808e-01, -1.18868709e-01,\n",
      "        1.73291583e-02, -1.70303509e-01, -3.46205831e-02,  1.47485984e-02,\n",
      "       -2.04356667e-02, -7.47861043e-02, -2.03478247e-01, -5.41821122e-01,\n",
      "       -2.77879447e-01, -4.57238071e-02, -1.40100718e-01, -1.46554321e-01,\n",
      "        1.91793501e-01, -5.21378517e-01, -6.69689849e-02, -4.70423251e-01,\n",
      "        6.43328011e-01,  4.79277998e-01, -6.75922990e-01, -1.99577421e-01,\n",
      "       -2.95620948e-01,  1.21535115e-01,  1.82882603e-02, -8.56314123e-01,\n",
      "        2.12609783e-01, -3.40502560e-02,  2.30346769e-02,  2.89353915e-02,\n",
      "       -2.73027569e-01, -3.11897248e-01, -5.37517846e-01,  3.61638032e-02,\n",
      "       -3.39384884e-01,  3.73809606e-01,  4.09379415e-02, -5.46820402e-01,\n",
      "        3.65864515e-01,  3.93032022e-02,  3.89652193e-01, -1.22142278e-01,\n",
      "       -6.52748048e-02, -4.94509220e-01, -2.50195593e-01,  2.54320204e-01,\n",
      "        7.61592109e-03,  8.10969342e-03,  1.54953018e-01,  2.27697100e-02,\n",
      "        1.30066067e-01, -1.99691430e-01, -6.88951090e-02, -9.60967224e-03,\n",
      "        4.15495187e-01, -1.45851746e-01, -5.91711104e-01,  8.68758280e-03,\n",
      "        2.35903367e-01,  1.49943635e-01,  3.15326303e-01, -4.64906871e-01,\n",
      "       -3.44397902e-01,  3.01420867e-01,  2.85308715e-02,  1.84312910e-01,\n",
      "       -2.48901054e-01, -3.53321761e-01, -6.78975061e-02, -6.34692460e-02,\n",
      "        4.94259363e-03,  1.70145407e-01,  1.75948724e-01, -4.61364627e-01,\n",
      "        1.75361007e-01,  8.35289732e-02, -5.29473603e-01,  2.90106624e-01,\n",
      "       -1.21198133e-01,  1.58456922e-01, -1.86243042e-01, -3.23430836e-01,\n",
      "        6.88004196e-01,  2.32923329e-01,  1.49081901e-01,  4.48482446e-02,\n",
      "       -5.03286898e-01,  1.92318723e-01,  2.55201906e-01,  5.70736766e-01,\n",
      "       -8.36765021e-02, -2.74087429e-01,  2.96449542e-01,  3.41908544e-01,\n",
      "        6.14719018e-02,  3.59233975e-01,  2.78233856e-01,  2.82303184e-01],\n",
      "      dtype=float32)]\n"
     ]
    }
   ],
   "source": [
    "word_vectors_list = [word_vectors[v] for v in vocabs]\n",
    "print(word_vectors_list[:5])"
   ]
  },
  {
   "cell_type": "code",
   "execution_count": null,
   "metadata": {},
   "outputs": [
    {
     "data": {
      "text/plain": [
       "[('스스로', 0.9006479382514954),\n",
       " ('그것', 0.8897421360015869),\n",
       " ('영역', 0.8885618448257446),\n",
       " ('법', 0.8871834874153137),\n",
       " ('질문', 0.8866530656814575),\n",
       " ('편견', 0.8862565755844116),\n",
       " ('자기', 0.8848274350166321),\n",
       " ('다물다', 0.8816104531288147),\n",
       " ('자존감', 0.8799077868461609),\n",
       " ('비난', 0.8798646330833435)]"
      ]
     },
     "execution_count": 76,
     "metadata": {},
     "output_type": "execute_result"
    }
   ],
   "source": [
    "# 유사한 단어 뽑아보기\n",
    "w2v.wv.most_similar('관객')"
   ]
  },
  {
   "cell_type": "code",
   "execution_count": null,
   "metadata": {},
   "outputs": [],
   "source": [
    "# 학습된 모델 설정\n",
    "w2v.save('w2v.bin')\n"
   ]
  },
  {
   "cell_type": "code",
   "execution_count": null,
   "metadata": {},
   "outputs": [],
   "source": [
    "# 저장된 모델 불러오기 \n",
    "saved_w2v = Word2Vec.load('w2v.bin')\n",
    "print(saved_w2v)"
   ]
  },
  {
   "cell_type": "code",
   "execution_count": null,
   "metadata": {},
   "outputs": [],
   "source": []
  }
 ],
 "metadata": {
  "kernelspec": {
   "display_name": "Python 3.9.12 ('base')",
   "language": "python",
   "name": "python3"
  },
  "language_info": {
   "codemirror_mode": {
    "name": "ipython",
    "version": 3
   },
   "file_extension": ".py",
   "mimetype": "text/x-python",
   "name": "python",
   "nbconvert_exporter": "python",
   "pygments_lexer": "ipython3",
   "version": "3.9.12"
  },
  "orig_nbformat": 4,
  "vscode": {
   "interpreter": {
    "hash": "a077222d77dfe082b8f1dd562ad70e458ac2ab76993a0b248ab0476e32e9e8dd"
   }
  }
 },
 "nbformat": 4,
 "nbformat_minor": 2
}
