{
 "cells": [
  {
   "cell_type": "markdown",
   "metadata": {},
   "source": [
    "#### 1.목적\n",
    "- iris데이터를 활용하여 그리드 서치를 적용할 수 있다"
   ]
  },
  {
   "cell_type": "code",
   "execution_count": 1,
   "metadata": {},
   "outputs": [],
   "source": [
    "import warnings\n",
    "warnings.filterwarnings('ignore')"
   ]
  },
  {
   "cell_type": "code",
   "execution_count": 2,
   "metadata": {},
   "outputs": [],
   "source": [
    "import pandas as pd\n",
    "import numpy as np\n",
    "from sklearn.datasets import load_iris\n",
    "from sklearn.model_selection import train_test_split\n",
    "from sklearn.preprocessing import StandardScaler\n",
    "from sklearn.model_selection import GridSearchCV\n",
    "from sklearn.neighbors import KNeighborsClassifier\n",
    "from sklearn.svm import SVC"
   ]
  },
  {
   "cell_type": "markdown",
   "metadata": {},
   "source": [
    "#### 데이터수집"
   ]
  },
  {
   "cell_type": "code",
   "execution_count": 3,
   "metadata": {},
   "outputs": [],
   "source": [
    "iris = load_iris()\n",
    "x = iris.data\n",
    "y = iris.target"
   ]
  },
  {
   "cell_type": "markdown",
   "metadata": {},
   "source": [
    "#### 데이터 전처리(편집, 생성, 스케일링)"
   ]
  },
  {
   "cell_type": "code",
   "execution_count": 4,
   "metadata": {},
   "outputs": [],
   "source": [
    "# 만든 module로 스케일링 후 훈련셋, 테스트셋 나누기\n",
    "import module_Score as MS\n",
    "\n",
    "\n",
    "X_train, X_test, y_train, y_test = MS.ND_Standard(X=x, y=y, want_randomtate=0)\n",
    "\n",
    "X_scaled =  np.concatenate((X_train, X_test))"
   ]
  },
  {
   "cell_type": "code",
   "execution_count": 5,
   "metadata": {},
   "outputs": [
    {
     "name": "stdout",
     "output_type": "stream",
     "text": [
      "(150, 4)\n",
      "(112, 4) (112,)\n",
      "(38, 4) (38,)\n"
     ]
    }
   ],
   "source": [
    "print(X_scaled.shape)\n",
    "print(X_train.shape, y_train.shape)\n",
    "print(X_test.shape, y_test.shape)"
   ]
  },
  {
   "cell_type": "markdown",
   "metadata": {},
   "source": [
    "#### EDA"
   ]
  },
  {
   "cell_type": "markdown",
   "metadata": {},
   "source": [
    "#### 모델링(모델학습, 평가)"
   ]
  },
  {
   "cell_type": "code",
   "execution_count": 6,
   "metadata": {},
   "outputs": [
    {
     "data": {
      "text/plain": [
       "{'n_neighbors': range(1, 10)}"
      ]
     },
     "execution_count": 6,
     "metadata": {},
     "output_type": "execute_result"
    }
   ],
   "source": [
    "param_knn = {'n_neighbors': range(1,10)}\n",
    "param_knn"
   ]
  },
  {
   "cell_type": "code",
   "execution_count": 7,
   "metadata": {},
   "outputs": [],
   "source": [
    "knn = GridSearchCV(KNeighborsClassifier(), param_knn, cv=5)\n",
    "# GridSearchCV안에 cv로 교차검증이 내장되어 있음"
   ]
  },
  {
   "cell_type": "code",
   "execution_count": 8,
   "metadata": {},
   "outputs": [
    {
     "data": {
      "text/plain": [
       "GridSearchCV(cv=5, estimator=KNeighborsClassifier(),\n",
       "             param_grid={'n_neighbors': range(1, 10)})"
      ]
     },
     "execution_count": 8,
     "metadata": {},
     "output_type": "execute_result"
    }
   ],
   "source": [
    "knn.fit(X_train, y_train)"
   ]
  },
  {
   "cell_type": "code",
   "execution_count": 9,
   "metadata": {},
   "outputs": [
    {
     "name": "stdout",
     "output_type": "stream",
     "text": [
      "\n",
      "최적의 파라미터는?{'n_neighbors': 6}\n",
      "최고의 교차검증 점수?0.9557312252964426\n",
      "최고 성능 모델?KNeighborsClassifier(n_neighbors=6)\n",
      "       \n"
     ]
    }
   ],
   "source": [
    "print(f'''\n",
    "최적의 파라미터는?{knn.best_params_}\n",
    "최고의 교차검증 점수?{knn.best_score_}\n",
    "최고 성능 모델?{knn.best_estimator_}\n",
    "       ''')"
   ]
  },
  {
   "cell_type": "code",
   "execution_count": 10,
   "metadata": {},
   "outputs": [
    {
     "data": {
      "text/plain": [
       "(array([2, 1, 0, 2, 0, 2, 0, 1, 1, 1, 2, 1, 1, 1, 1, 0, 1, 1, 0, 0, 2, 1,\n",
       "        0, 0, 2, 0, 0, 1, 1, 0, 2, 1, 0, 2, 2, 1, 0, 2]),\n",
       " 0.9736842105263158)"
      ]
     },
     "execution_count": 10,
     "metadata": {},
     "output_type": "execute_result"
    }
   ],
   "source": [
    "knn.predict(X_test), knn.score(X_test, y_test)"
   ]
  },
  {
   "cell_type": "markdown",
   "metadata": {},
   "source": [
    "decision tree"
   ]
  },
  {
   "cell_type": "code",
   "execution_count": 14,
   "metadata": {},
   "outputs": [
    {
     "name": "stdout",
     "output_type": "stream",
     "text": [
      "\n",
      "최적의 파라미터는? {'max_depth': 3, 'max_leaf_nodes': 4, 'min_samples_leaf': 3}\n",
      "최고의 교차검증 점수? 0.9278701527841491\n",
      "최고 성능 모델? DecisionTreeRegressor(max_depth=3, max_leaf_nodes=4, min_samples_leaf=3,\n",
      "                      random_state=0)\n",
      "       \n"
     ]
    },
    {
     "data": {
      "text/plain": [
       "(array([1.97435897, 1.        , 0.        , 1.97435897, 0.        ,\n",
       "        1.97435897, 0.        , 1.        , 1.        , 1.        ,\n",
       "        1.97435897, 1.        , 1.        , 1.        , 1.        ,\n",
       "        0.        , 1.        , 1.        , 0.        , 0.        ,\n",
       "        1.75      , 1.        , 0.        , 0.        , 1.75      ,\n",
       "        0.        , 0.        , 1.        , 1.        , 0.        ,\n",
       "        1.97435897, 1.        , 0.        , 1.75      , 1.97435897,\n",
       "        1.        , 0.        , 1.97435897]),\n",
       " 0.9471327231763442)"
      ]
     },
     "execution_count": 14,
     "metadata": {},
     "output_type": "execute_result"
    }
   ],
   "source": [
    "from sklearn.tree import DecisionTreeRegressor\n",
    "\n",
    " param_dt = {'max_depth':range(1,10),\n",
    "             'max_leaf_nodes': [1,2,3,4,5,6,7,8,9,10],\n",
    "             'min_samples_leaf': range(1,10)\n",
    "             }\n",
    " \n",
    "DT = GridSearchCV(DecisionTreeRegressor(random_state=0), param_dt, cv=5)\n",
    "# GridSearchCV안에 cv로 교차검증이 내장되어 있음\n",
    "# DT.get_params().keys()\n",
    "DT.fit(X_train, y_train)\n",
    "\n",
    "print(f'''\n",
    "최적의 파라미터는? {DT.best_params_}\n",
    "최고의 교차검증 점수? {DT.best_score_}\n",
    "최고 성능 모델? {DT.best_estimator_}\n",
    "       ''')\n",
    "\n",
    "DT.predict(X_test), DT.score(X_test, y_test)"
   ]
  },
  {
   "cell_type": "markdown",
   "metadata": {},
   "source": [
    "Support Vector Machine"
   ]
  },
  {
   "cell_type": "code",
   "execution_count": 21,
   "metadata": {},
   "outputs": [
    {
     "name": "stdout",
     "output_type": "stream",
     "text": [
      "\n",
      "최적의 파라미터는? {'C': 0.5, 'gamma': 0.0001, 'kernel': 'linear'}\n",
      "최고의 교차검증 점수? 0.9640316205533598\n",
      "최고 성능 모델? SVC(C=0.5, gamma=0.0001, kernel='linear')\n",
      "       \n"
     ]
    },
    {
     "data": {
      "text/plain": [
       "(array([2, 1, 0, 2, 0, 2, 0, 1, 1, 1, 2, 1, 1, 1, 1, 0, 1, 1, 0, 0, 2, 1,\n",
       "        0, 0, 2, 0, 0, 1, 1, 0, 2, 1, 0, 2, 2, 1, 0, 2]),\n",
       " 0.9736842105263158)"
      ]
     },
     "execution_count": 21,
     "metadata": {},
     "output_type": "execute_result"
    }
   ],
   "source": [
    "from sklearn.svm import SVC\n",
    "\n",
    "param_svc = {'C':[0.0001, 0.001, 0.1, 0.5, 1, 10, 20, 30, 40, 50, 60],\n",
    "             'gamma': [0.0001, 0.001, 0.1, 0.5, 1, 10, 20, 30, 40, 50, 60],\n",
    "             'kernel': ['linear']\n",
    "             }\n",
    " \n",
    "SVC = GridSearchCV(SVC(), param_svc, cv=5)\n",
    "# GridSearchCV안에 cv로 교차검증이 내장되어 있음\n",
    "SVC.fit(X_train, y_train)\n",
    "\n",
    "print(f'''\n",
    "최적의 파라미터는? {SVC.best_params_}\n",
    "최고의 교차검증 점수? {SVC.best_score_}\n",
    "최고 성능 모델? {SVC.best_estimator_}\n",
    "       ''')\n",
    "\n",
    "SVC.predict(X_test), SVC.score(X_test, y_test)"
   ]
  },
  {
   "cell_type": "code",
   "execution_count": null,
   "metadata": {},
   "outputs": [],
   "source": []
  },
  {
   "cell_type": "code",
   "execution_count": null,
   "metadata": {},
   "outputs": [],
   "source": []
  }
 ],
 "metadata": {
  "kernelspec": {
   "display_name": "Python 3.9.12 ('base')",
   "language": "python",
   "name": "python3"
  },
  "language_info": {
   "codemirror_mode": {
    "name": "ipython",
    "version": 3
   },
   "file_extension": ".py",
   "mimetype": "text/x-python",
   "name": "python",
   "nbconvert_exporter": "python",
   "pygments_lexer": "ipython3",
   "version": "3.9.12"
  },
  "orig_nbformat": 4,
  "vscode": {
   "interpreter": {
    "hash": "a077222d77dfe082b8f1dd562ad70e458ac2ab76993a0b248ab0476e32e9e8dd"
   }
  }
 },
 "nbformat": 4,
 "nbformat_minor": 2
}
