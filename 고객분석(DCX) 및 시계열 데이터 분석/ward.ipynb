{
 "cells": [
  {
   "cell_type": "code",
   "execution_count": 1,
   "id": "5fc2a3cf",
   "metadata": {},
   "outputs": [
    {
     "name": "stderr",
     "output_type": "stream",
     "text": [
      "C:\\Users\\USER2\\AppData\\Local\\Temp\\ipykernel_3600\\3342763137.py:31: DeprecationWarning: `import kerastuner` is deprecated, please use `import keras_tuner`.\n",
      "  from kerastuner.tuners import RandomSearch # 랜덤서치를 합니다\n"
     ]
    }
   ],
   "source": [
    "%matplotlib inline\n",
    "\n",
    "import os\n",
    "import pandas as pd\n",
    "from pandas import DataFrame\n",
    "from pandas import Series\n",
    "import numpy as np\n",
    "import matplotlib.pyplot as plt\n",
    "import string\n",
    "import re\n",
    "\n",
    "from konlpy.tag import Okt\n",
    "# from konlpy.tag import Mecab \n",
    "\n",
    "#pip install kss\n",
    "from kss import split_sentences   \n",
    "#from pykospacing import spacing\n",
    "\n",
    "from gensim.models import Word2Vec\n",
    "\n",
    "from tensorflow.keras.preprocessing.text import Tokenizer\n",
    "from tensorflow.keras.preprocessing.sequence import pad_sequences\n",
    "\n",
    "from tensorflow.keras.layers import Embedding, Dense,GRU,Flatten, LSTM,Conv1D, GlobalMaxPooling1D, Embedding, Dropout, GlobalAveragePooling1D\n",
    "\n",
    "from tensorflow.keras.models import Sequential\n",
    "from tensorflow.keras.models import load_model\n",
    "from tensorflow.keras.callbacks import EarlyStopping, ModelCheckpoint\n",
    "from tensorflow.keras.optimizers import Adam\n",
    "\n",
    "from kerastuner.tuners import RandomSearch # 랜덤서치를 합니다\n",
    "\n",
    "from gensim .models import Word2Vec\n",
    "from sklearn.manifold import TSNE\n",
    "from matplotlib import font_manager as fm\n",
    "from matplotlib import rc\n",
    "from tqdm import tqdm"
   ]
  },
  {
   "cell_type": "markdown",
   "id": "430e4175",
   "metadata": {},
   "source": [
    "### Ward clustering 군집 덴드로그램 "
   ]
  },
  {
   "cell_type": "code",
   "execution_count": 5,
   "id": "ad0d0ba1",
   "metadata": {},
   "outputs": [],
   "source": [
    "from scipy.cluster.hierarchy import dendrogram, linkage\n",
    "from matplotlib import pyplot as plt\n",
    "from sklearn.cluster import AgglomerativeClustering\n",
    "from sklearn.metrics.cluster import silhouette_score"
   ]
  },
  {
   "cell_type": "code",
   "execution_count": 6,
   "id": "9d8b0a40",
   "metadata": {},
   "outputs": [],
   "source": [
    "# 실루엣 계수 뽑는 함수\n",
    "# data = 워드 임베딩된 데이터\n",
    "# num_cluster = 뽑고 싶은 클러스터 개수\n",
    "def visualize_silhouette_layer1(data, num_cluster):\n",
    "    clusters_range = range(2,int(num_cluster))\n",
    "    results = []\n",
    "\n",
    "    for i in clusters_range:\n",
    "        clusterer = AgglomerativeClustering(n_clusters=i,linkage='ward')\n",
    "        cluster_labels = clusterer.fit_predict(data)\n",
    "        silhouette_avg = silhouette_score(data, cluster_labels)\n",
    "        results.append([i, silhouette_avg])\n",
    "\n",
    "    result = pd.DataFrame(results, columns=[\"n_clusters\", \"silhouette_score\"])\n",
    "    pivot_ac = pd.pivot_table(result, index=\"n_clusters\", values=\"silhouette_score\")\n",
    "\n",
    "    return result, pivot_ac"
   ]
  },
  {
   "cell_type": "code",
   "execution_count": 16,
   "id": "8ddf6ca3",
   "metadata": {},
   "outputs": [
    {
     "data": {
      "text/html": [
       "<div>\n",
       "<style scoped>\n",
       "    .dataframe tbody tr th:only-of-type {\n",
       "        vertical-align: middle;\n",
       "    }\n",
       "\n",
       "    .dataframe tbody tr th {\n",
       "        vertical-align: top;\n",
       "    }\n",
       "\n",
       "    .dataframe thead th {\n",
       "        text-align: right;\n",
       "    }\n",
       "</style>\n",
       "<table border=\"1\" class=\"dataframe\">\n",
       "  <thead>\n",
       "    <tr style=\"text-align: right;\">\n",
       "      <th></th>\n",
       "      <th>token</th>\n",
       "      <th>review vector</th>\n",
       "    </tr>\n",
       "  </thead>\n",
       "  <tbody>\n",
       "    <tr>\n",
       "      <th>0</th>\n",
       "      <td>[차량, 기준, 짐, 양, 또는, 무게, 기준, 동일, 차량, 동일, 박스, 갯수,...</td>\n",
       "      <td>[-0.24247675, -0.3832933, -0.65480703, 0.53034...</td>\n",
       "    </tr>\n",
       "    <tr>\n",
       "      <th>1</th>\n",
       "      <td>[가끔, 집, 초파리, 씽, 크다, 쪽, 초파리, 잡늠, 트랩, 보다, 이사, 원룸...</td>\n",
       "      <td>[-0.2212786, -0.36489442, -0.53280455, 0.03410...</td>\n",
       "    </tr>\n",
       "    <tr>\n",
       "      <th>2</th>\n",
       "      <td>[수돗물, 끊다, 보리차, 말다, 부산, 낙동강, 물이, 식수, 녹조, 관련, 기사...</td>\n",
       "      <td>[-0.47978452, -0.5407626, -0.48259103, 0.20468...</td>\n",
       "    </tr>\n",
       "    <tr>\n",
       "      <th>3</th>\n",
       "      <td>[전, 먼지, 항상, 집, 돌아오다, 청소기, 먼저, 켜다, 코, 먼지, 바닥, 뭔...</td>\n",
       "      <td>[-0.16076118, -0.5236053, -0.6171309, 0.112681...</td>\n",
       "    </tr>\n",
       "    <tr>\n",
       "      <th>4</th>\n",
       "      <td>[오피스텔, 살다, 관리, 실, 전화, 옆집, 너무, 해달라다, 말좀, 전, 정도,...</td>\n",
       "      <td>[-0.34533203, -0.44942692, -0.31203076, 0.3374...</td>\n",
       "    </tr>\n",
       "    <tr>\n",
       "      <th>...</th>\n",
       "      <td>...</td>\n",
       "      <td>...</td>\n",
       "    </tr>\n",
       "    <tr>\n",
       "      <th>27713</th>\n",
       "      <td>[달, 간장게장, 밀, 키트, 자취, 생, 메뉴, 추천, 루비, 복사, 이웃, 추가...</td>\n",
       "      <td>[-0.3765098, -0.3454816, -0.5698355, 0.2057069...</td>\n",
       "    </tr>\n",
       "    <tr>\n",
       "      <th>27714</th>\n",
       "      <td>[제주, 여행, 이야기, 제주도, 여행, 즐기다, 방법, 제주, 여행, 혼족, 여행...</td>\n",
       "      <td>[-0.34583157, 0.14726967, -0.34356228, 0.55983...</td>\n",
       "    </tr>\n",
       "    <tr>\n",
       "      <th>27715</th>\n",
       "      <td>[사용, 세척, 가성, 비, 크다, 세제, 에코, 후, 레쉬, 스파클링, 세탁, 세...</td>\n",
       "      <td>[-0.49821508, -0.5254435, -0.77649206, 0.11396...</td>\n",
       "    </tr>\n",
       "    <tr>\n",
       "      <th>27716</th>\n",
       "      <td>[상품, 소개, 휴대, 용, 신발, 건조기, 살균, 건조, 신화, 기프트, 복사, ...</td>\n",
       "      <td>[-0.36073, -0.34368798, -0.72656566, 0.1559081...</td>\n",
       "    </tr>\n",
       "    <tr>\n",
       "      <th>27717</th>\n",
       "      <td>[블챌, 주간, 일기, 채다, 린지, 숙제, 제출, 김민지, 복사, 이웃, 추가, ...</td>\n",
       "      <td>[-0.31549126, -0.32641113, -0.28825375, 0.1549...</td>\n",
       "    </tr>\n",
       "  </tbody>\n",
       "</table>\n",
       "<p>27718 rows × 2 columns</p>\n",
       "</div>"
      ],
      "text/plain": [
       "                                                   token  \\\n",
       "0      [차량, 기준, 짐, 양, 또는, 무게, 기준, 동일, 차량, 동일, 박스, 갯수,...   \n",
       "1      [가끔, 집, 초파리, 씽, 크다, 쪽, 초파리, 잡늠, 트랩, 보다, 이사, 원룸...   \n",
       "2      [수돗물, 끊다, 보리차, 말다, 부산, 낙동강, 물이, 식수, 녹조, 관련, 기사...   \n",
       "3      [전, 먼지, 항상, 집, 돌아오다, 청소기, 먼저, 켜다, 코, 먼지, 바닥, 뭔...   \n",
       "4      [오피스텔, 살다, 관리, 실, 전화, 옆집, 너무, 해달라다, 말좀, 전, 정도,...   \n",
       "...                                                  ...   \n",
       "27713  [달, 간장게장, 밀, 키트, 자취, 생, 메뉴, 추천, 루비, 복사, 이웃, 추가...   \n",
       "27714  [제주, 여행, 이야기, 제주도, 여행, 즐기다, 방법, 제주, 여행, 혼족, 여행...   \n",
       "27715  [사용, 세척, 가성, 비, 크다, 세제, 에코, 후, 레쉬, 스파클링, 세탁, 세...   \n",
       "27716  [상품, 소개, 휴대, 용, 신발, 건조기, 살균, 건조, 신화, 기프트, 복사, ...   \n",
       "27717  [블챌, 주간, 일기, 채다, 린지, 숙제, 제출, 김민지, 복사, 이웃, 추가, ...   \n",
       "\n",
       "                                           review vector  \n",
       "0      [-0.24247675, -0.3832933, -0.65480703, 0.53034...  \n",
       "1      [-0.2212786, -0.36489442, -0.53280455, 0.03410...  \n",
       "2      [-0.47978452, -0.5407626, -0.48259103, 0.20468...  \n",
       "3      [-0.16076118, -0.5236053, -0.6171309, 0.112681...  \n",
       "4      [-0.34533203, -0.44942692, -0.31203076, 0.3374...  \n",
       "...                                                  ...  \n",
       "27713  [-0.3765098, -0.3454816, -0.5698355, 0.2057069...  \n",
       "27714  [-0.34583157, 0.14726967, -0.34356228, 0.55983...  \n",
       "27715  [-0.49821508, -0.5254435, -0.77649206, 0.11396...  \n",
       "27716  [-0.36073, -0.34368798, -0.72656566, 0.1559081...  \n",
       "27717  [-0.31549126, -0.32641113, -0.28825375, 0.1549...  \n",
       "\n",
       "[27718 rows x 2 columns]"
      ]
     },
     "execution_count": 16,
     "metadata": {},
     "output_type": "execute_result"
    }
   ],
   "source": [
    "df = df[[\"token\", \"review vector\"]]\n",
    "df = df.dropna()\n",
    "df"
   ]
  },
  {
   "cell_type": "code",
   "execution_count": 18,
   "id": "360c2c69",
   "metadata": {},
   "outputs": [
    {
     "name": "stdout",
     "output_type": "stream",
     "text": [
      "0        [-0.24247675, -0.3832933, -0.65480703, 0.53034...\n",
      "1        [-0.2212786, -0.36489442, -0.53280455, 0.03410...\n",
      "2        [-0.47978452, -0.5407626, -0.48259103, 0.20468...\n",
      "3        [-0.16076118, -0.5236053, -0.6171309, 0.112681...\n",
      "4        [-0.34533203, -0.44942692, -0.31203076, 0.3374...\n",
      "                               ...                        \n",
      "27713    [-0.3765098, -0.3454816, -0.5698355, 0.2057069...\n",
      "27714    [-0.34583157, 0.14726967, -0.34356228, 0.55983...\n",
      "27715    [-0.49821508, -0.5254435, -0.77649206, 0.11396...\n",
      "27716    [-0.36073, -0.34368798, -0.72656566, 0.1559081...\n",
      "27717    [-0.31549126, -0.32641113, -0.28825375, 0.1549...\n",
      "Name: review vector, Length: 27718, dtype: object\n"
     ]
    }
   ],
   "source": [
    "df[\"review vector\"] = np.array(df[\"review vector\"],dtype=object)\n",
    "print(df[\"review vector\"])"
   ]
  },
  {
   "cell_type": "code",
   "execution_count": 26,
   "id": "3426e3e9",
   "metadata": {},
   "outputs": [
    {
     "name": "stdout",
     "output_type": "stream",
     "text": [
      "27693\n",
      "25\n"
     ]
    },
    {
     "data": {
      "text/plain": [
       "[3742,\n",
       " 4017,\n",
       " 4813,\n",
       " 4952,\n",
       " 4968,\n",
       " 4971,\n",
       " 4974,\n",
       " 4988,\n",
       " 5013,\n",
       " 5014,\n",
       " 5015,\n",
       " 5016,\n",
       " 5017,\n",
       " 5317,\n",
       " 5326,\n",
       " 5327,\n",
       " 5328,\n",
       " 5916,\n",
       " 17823,\n",
       " 18210,\n",
       " 22670,\n",
       " 25486,\n",
       " 26755,\n",
       " 27349,\n",
       " 27529]"
      ]
     },
     "execution_count": 26,
     "metadata": {},
     "output_type": "execute_result"
    }
   ],
   "source": [
    "rv = []\n",
    "ul = []\n",
    "for a, i in enumerate(df[\"review vector\"]):\n",
    "    if type(i) != int:\n",
    "        rv.append(i)\n",
    "    else:\n",
    "        ul.append(a)\n",
    "print(len(rv))\n",
    "print(len(ul))\n",
    "ul"
   ]
  },
  {
   "cell_type": "code",
   "execution_count": 28,
   "id": "5cf2f080",
   "metadata": {},
   "outputs": [
    {
     "data": {
      "text/html": [
       "<div>\n",
       "<style scoped>\n",
       "    .dataframe tbody tr th:only-of-type {\n",
       "        vertical-align: middle;\n",
       "    }\n",
       "\n",
       "    .dataframe tbody tr th {\n",
       "        vertical-align: top;\n",
       "    }\n",
       "\n",
       "    .dataframe thead th {\n",
       "        text-align: right;\n",
       "    }\n",
       "</style>\n",
       "<table border=\"1\" class=\"dataframe\">\n",
       "  <thead>\n",
       "    <tr style=\"text-align: right;\">\n",
       "      <th></th>\n",
       "      <th>token</th>\n",
       "      <th>review vector</th>\n",
       "    </tr>\n",
       "  </thead>\n",
       "  <tbody>\n",
       "    <tr>\n",
       "      <th>0</th>\n",
       "      <td>[차량, 기준, 짐, 양, 또는, 무게, 기준, 동일, 차량, 동일, 박스, 갯수,...</td>\n",
       "      <td>[-0.24247675, -0.3832933, -0.65480703, 0.53034...</td>\n",
       "    </tr>\n",
       "    <tr>\n",
       "      <th>1</th>\n",
       "      <td>[가끔, 집, 초파리, 씽, 크다, 쪽, 초파리, 잡늠, 트랩, 보다, 이사, 원룸...</td>\n",
       "      <td>[-0.2212786, -0.36489442, -0.53280455, 0.03410...</td>\n",
       "    </tr>\n",
       "    <tr>\n",
       "      <th>2</th>\n",
       "      <td>[수돗물, 끊다, 보리차, 말다, 부산, 낙동강, 물이, 식수, 녹조, 관련, 기사...</td>\n",
       "      <td>[-0.47978452, -0.5407626, -0.48259103, 0.20468...</td>\n",
       "    </tr>\n",
       "    <tr>\n",
       "      <th>3</th>\n",
       "      <td>[전, 먼지, 항상, 집, 돌아오다, 청소기, 먼저, 켜다, 코, 먼지, 바닥, 뭔...</td>\n",
       "      <td>[-0.16076118, -0.5236053, -0.6171309, 0.112681...</td>\n",
       "    </tr>\n",
       "    <tr>\n",
       "      <th>4</th>\n",
       "      <td>[오피스텔, 살다, 관리, 실, 전화, 옆집, 너무, 해달라다, 말좀, 전, 정도,...</td>\n",
       "      <td>[-0.34533203, -0.44942692, -0.31203076, 0.3374...</td>\n",
       "    </tr>\n",
       "    <tr>\n",
       "      <th>...</th>\n",
       "      <td>...</td>\n",
       "      <td>...</td>\n",
       "    </tr>\n",
       "    <tr>\n",
       "      <th>27688</th>\n",
       "      <td>[달, 간장게장, 밀, 키트, 자취, 생, 메뉴, 추천, 루비, 복사, 이웃, 추가...</td>\n",
       "      <td>[-0.3765098, -0.3454816, -0.5698355, 0.2057069...</td>\n",
       "    </tr>\n",
       "    <tr>\n",
       "      <th>27689</th>\n",
       "      <td>[제주, 여행, 이야기, 제주도, 여행, 즐기다, 방법, 제주, 여행, 혼족, 여행...</td>\n",
       "      <td>[-0.34583157, 0.14726967, -0.34356228, 0.55983...</td>\n",
       "    </tr>\n",
       "    <tr>\n",
       "      <th>27690</th>\n",
       "      <td>[사용, 세척, 가성, 비, 크다, 세제, 에코, 후, 레쉬, 스파클링, 세탁, 세...</td>\n",
       "      <td>[-0.49821508, -0.5254435, -0.77649206, 0.11396...</td>\n",
       "    </tr>\n",
       "    <tr>\n",
       "      <th>27691</th>\n",
       "      <td>[상품, 소개, 휴대, 용, 신발, 건조기, 살균, 건조, 신화, 기프트, 복사, ...</td>\n",
       "      <td>[-0.36073, -0.34368798, -0.72656566, 0.1559081...</td>\n",
       "    </tr>\n",
       "    <tr>\n",
       "      <th>27692</th>\n",
       "      <td>[블챌, 주간, 일기, 채다, 린지, 숙제, 제출, 김민지, 복사, 이웃, 추가, ...</td>\n",
       "      <td>[-0.31549126, -0.32641113, -0.28825375, 0.1549...</td>\n",
       "    </tr>\n",
       "  </tbody>\n",
       "</table>\n",
       "<p>27693 rows × 2 columns</p>\n",
       "</div>"
      ],
      "text/plain": [
       "                                                   token  \\\n",
       "0      [차량, 기준, 짐, 양, 또는, 무게, 기준, 동일, 차량, 동일, 박스, 갯수,...   \n",
       "1      [가끔, 집, 초파리, 씽, 크다, 쪽, 초파리, 잡늠, 트랩, 보다, 이사, 원룸...   \n",
       "2      [수돗물, 끊다, 보리차, 말다, 부산, 낙동강, 물이, 식수, 녹조, 관련, 기사...   \n",
       "3      [전, 먼지, 항상, 집, 돌아오다, 청소기, 먼저, 켜다, 코, 먼지, 바닥, 뭔...   \n",
       "4      [오피스텔, 살다, 관리, 실, 전화, 옆집, 너무, 해달라다, 말좀, 전, 정도,...   \n",
       "...                                                  ...   \n",
       "27688  [달, 간장게장, 밀, 키트, 자취, 생, 메뉴, 추천, 루비, 복사, 이웃, 추가...   \n",
       "27689  [제주, 여행, 이야기, 제주도, 여행, 즐기다, 방법, 제주, 여행, 혼족, 여행...   \n",
       "27690  [사용, 세척, 가성, 비, 크다, 세제, 에코, 후, 레쉬, 스파클링, 세탁, 세...   \n",
       "27691  [상품, 소개, 휴대, 용, 신발, 건조기, 살균, 건조, 신화, 기프트, 복사, ...   \n",
       "27692  [블챌, 주간, 일기, 채다, 린지, 숙제, 제출, 김민지, 복사, 이웃, 추가, ...   \n",
       "\n",
       "                                           review vector  \n",
       "0      [-0.24247675, -0.3832933, -0.65480703, 0.53034...  \n",
       "1      [-0.2212786, -0.36489442, -0.53280455, 0.03410...  \n",
       "2      [-0.47978452, -0.5407626, -0.48259103, 0.20468...  \n",
       "3      [-0.16076118, -0.5236053, -0.6171309, 0.112681...  \n",
       "4      [-0.34533203, -0.44942692, -0.31203076, 0.3374...  \n",
       "...                                                  ...  \n",
       "27688  [-0.3765098, -0.3454816, -0.5698355, 0.2057069...  \n",
       "27689  [-0.34583157, 0.14726967, -0.34356228, 0.55983...  \n",
       "27690  [-0.49821508, -0.5254435, -0.77649206, 0.11396...  \n",
       "27691  [-0.36073, -0.34368798, -0.72656566, 0.1559081...  \n",
       "27692  [-0.31549126, -0.32641113, -0.28825375, 0.1549...  \n",
       "\n",
       "[27693 rows x 2 columns]"
      ]
     },
     "execution_count": 28,
     "metadata": {},
     "output_type": "execute_result"
    }
   ],
   "source": [
    "for i in ul:\n",
    "    df = df.drop(df.index[i])\n",
    "df = df.reset_index(drop = True)\n",
    "df"
   ]
  },
  {
   "cell_type": "code",
   "execution_count": 21,
   "id": "23cbf8dc",
   "metadata": {},
   "outputs": [
    {
     "data": {
      "image/png": "[encoded data removed]",
      "text/plain": [
       "<Figure size 1500x900 with 1 Axes>"
      ]
     },
     "metadata": {},
     "output_type": "display_data"
    }
   ],
   "source": [
    "linked = linkage(rv, 'ward')\n",
    "\n",
    "plt.figure(figsize=(15, 9))\n",
    "dendrogram(linked,\n",
    "            orientation='top',\n",
    "            distance_sort='descending',\n",
    "            show_leaf_counts=True)\n",
    "plt.show()"
   ]
  },
  {
   "cell_type": "markdown",
   "id": "07f1471f",
   "metadata": {},
   "source": [
    "### 실루엣 계수 조정"
   ]
  },
  {
   "cell_type": "code",
   "execution_count": 32,
   "id": "fba48051",
   "metadata": {},
   "outputs": [
    {
     "name": "stderr",
     "output_type": "stream",
     "text": [
      "100%|██████████| 3/3 [01:17<00:00, 25.87s/it]\n"
     ]
    }
   ],
   "source": [
    "for i in tqdm(range(6,9)):\n",
    "    model = AgglomerativeClustering(n_clusters=i,linkage='ward')\n",
    "    label = model.fit_predict(rv)\n",
    "    df[\"cluster {0}\".format(i)] = label"
   ]
  }
 ],
 "metadata": {
  "kernelspec": {
   "display_name": "Python 3 (ipykernel)",
   "language": "python",
   "name": "python3"
  },
  "language_info": {
   "codemirror_mode": {
    "name": "ipython",
    "version": 3
   },
   "file_extension": ".py",
   "mimetype": "text/x-python",
   "name": "python",
   "nbconvert_exporter": "python",
   "pygments_lexer": "ipython3",
   "version": "3.9.13"
  }
 },
 "nbformat": 4,
 "nbformat_minor": 5
}
