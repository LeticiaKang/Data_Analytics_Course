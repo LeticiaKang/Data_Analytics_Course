{
 "cells": [
  {
   "cell_type": "code",
   "execution_count": 1,
   "id": "b7ec4dd9",
   "metadata": {},
   "outputs": [
    {
     "data": {
      "text/plain": [
       "'melon'"
      ]
     },
     "execution_count": 1,
     "metadata": {},
     "output_type": "execute_result"
    }
   ],
   "source": [
    "a = \"watermelon\"\n",
    "a[-5:]"
   ]
  },
  {
   "cell_type": "code",
   "execution_count": 2,
   "id": "1d9a8650",
   "metadata": {},
   "outputs": [
    {
     "data": {
      "text/plain": [
       "'water'"
      ]
     },
     "execution_count": 2,
     "metadata": {},
     "output_type": "execute_result"
    }
   ],
   "source": [
    "fruit = [[\"mango\", \"grape\"], [\"apple\", \"banana\" , [\"melon\" , \"watermelon\"]]]\n",
    "\n",
    "fruit[1][2][1][:5]"
   ]
  },
  {
   "cell_type": "code",
   "execution_count": 3,
   "id": "d4b6e8d3",
   "metadata": {},
   "outputs": [
    {
     "data": {
      "text/plain": [
       "[['mango', 'grape'], ['pineapple', 'banana', ['melon', 'watermelon']]]"
      ]
     },
     "execution_count": 3,
     "metadata": {},
     "output_type": "execute_result"
    }
   ],
   "source": [
    "fruit[1][0] = \"pineapple\"\n",
    "fruit"
   ]
  },
  {
   "cell_type": "code",
   "execution_count": null,
   "id": "dd744de9",
   "metadata": {},
   "outputs": [],
   "source": []
  },
  {
   "cell_type": "code",
   "execution_count": 4,
   "id": "3cadd263",
   "metadata": {},
   "outputs": [
    {
     "name": "stdout",
     "output_type": "stream",
     "text": [
      "있음. 제목을 가사에서 지웠습니다.\n"
     ]
    }
   ],
   "source": [
    "song = \"\"\"\n",
    "너도 날 좋아할 줄은 몰랐어\n",
    "어쩌면 좋아 너무나 좋아\n",
    "꿈만 같아서 나\n",
    "내 자신을 자꾸 꼬집어 봐 너무나 좋아\n",
    "니가 날 혹시 안 좋아할까봐\n",
    "혼자 얼마나 애 태운지 몰라\n",
    "그런데 니가 날 사랑한다니\n",
    "어머나, 다시 한 번 말해봐\n",
    "Tell me tell me\n",
    "Tell tell tell tell tell tell me\n",
    "나를 사랑한다고 날 기다려 왔다고\n",
    "Tell me tell me\n",
    "Tell tell tell tell tell tell me\n",
    "내가 필요하다 말해, 말해줘요\n",
    "Tell me tell me\n",
    "Tell tell tell tell tell tell me\n",
    "자꾸만 듣고 싶어 계속 내게 말해줘\n",
    "Tell me tell me\n",
    "Tell tell tell tell tell tell me\n",
    "꿈이 아니라고 말해, 말해줘요\n",
    "어쩜 내 가슴이 이렇게 뛰니\n",
    "가슴이 정말 터질 것 같아\n",
    "니가 날 볼 때면\n",
    "전기에 감전된 사람처럼 전기가 올라\n",
    "얼마나 오래 기다린지 몰라\n",
    "얼마나 오래 꿈 꿨는지 몰라\n",
    "그런데 니가 날 사랑한다니 어머나\n",
    "다시 한 번 말해봐\n",
    "Tell me tell me\n",
    "Tell tell tell tell tell tell me\n",
    "나를 사랑한다고 날 기다려 왔다고\n",
    "Tell me tell me\n",
    "Tell tell tell tell tell tell me\n",
    "내가 필요하다 말해, 말해줘요\n",
    "Tell me tell me\n",
    "Tell tell tell tell tell tell me\n",
    "자꾸만 듣고 싶어 계속 내게 말해줘\n",
    "Tell me tell me\n",
    "Tell tell tell tell tell tell me\n",
    "꿈이 아니라고 말해, 말해줘요\n",
    "Slave to the moon, slave to the moon (I know you got)\n",
    "Slave to the moon, slave to the moon (I know you)\n",
    "Tell me tell me tell me you\n",
    "Want me want me want me, too\n",
    "Tell me tell me tell me you\n",
    "Love me too, love me too\n",
    "얼마나 오래 기다린지 몰라\n",
    "얼마나 오래 꿈 꿨는지 몰라\n",
    "그런데 니가 날 사랑한다니\n",
    "어머나, 다시 한 번 말해봐\n",
    "Tell me tell me\n",
    "Tell tell tell tell tell tell me\n",
    "나를 사랑한다고 날 기다려 왔다고\n",
    "Tell me tell me\n",
    "Tell tell tell tell tell tell me\n",
    "내가 필요하다 말해, 말해줘요\n",
    "Tell me tell me\n",
    "Tell tell tell tell tell tell me\n",
    "자꾸만 듣고 싶어 계속 내게 말해줘\n",
    "Tell me tell me\n",
    "Tell tell tell tell tell tell me\n",
    "꿈이 아니라고 말해, 말해줘요\n",
    "Tell me tell me\n",
    "Tell tell tell tell tell tell me\n",
    "Tell tell tell tell tell tell me\n",
    "Tell me (tell me)\"\"\"\n",
    "\n",
    "# song = \"ㄴ\"\n",
    "word = \"tell me\"\n",
    "\n",
    "song = song.lower()\n",
    "# if (word or word.title() or word.upper()) in song:\n",
    "if word in song:\n",
    "    print(\"있음. 제목을 가사에서 지웠습니다.\")\n",
    "    song_change = song.replace(\"\\n\", \" \").replace(word, \"(   )\")\n",
    "else:\n",
    "    print(\"없음\")"
   ]
  },
  {
   "cell_type": "code",
   "execution_count": 5,
   "id": "f38d9537",
   "metadata": {},
   "outputs": [
    {
     "data": {
      "text/plain": [
       "' 너도 날 좋아할 줄은 몰랐어 어쩌면 좋아 너무나 좋아 꿈만 같아서 나 내 자신을 자꾸 꼬집어 봐 너무나 좋아 니가 날 혹시 안 좋아할까봐 혼자 얼마나 애 태운지 몰라 그런데 니가 날 사랑한다니 어머나, 다시 한 번 말해봐 (   ) (   ) tell tell tell tell tell (   ) 나를 사랑한다고 날 기다려 왔다고 (   ) (   ) tell tell tell tell tell (   ) 내가 필요하다 말해, 말해줘요 (   ) (   ) tell tell tell tell tell (   ) 자꾸만 듣고 싶어 계속 내게 말해줘 (   ) (   ) tell tell tell tell tell (   ) 꿈이 아니라고 말해, 말해줘요 어쩜 내 가슴이 이렇게 뛰니 가슴이 정말 터질 것 같아 니가 날 볼 때면 전기에 감전된 사람처럼 전기가 올라 얼마나 오래 기다린지 몰라 얼마나 오래 꿈 꿨는지 몰라 그런데 니가 날 사랑한다니 어머나 다시 한 번 말해봐 (   ) (   ) tell tell tell tell tell (   ) 나를 사랑한다고 날 기다려 왔다고 (   ) (   ) tell tell tell tell tell (   ) 내가 필요하다 말해, 말해줘요 (   ) (   ) tell tell tell tell tell (   ) 자꾸만 듣고 싶어 계속 내게 말해줘 (   ) (   ) tell tell tell tell tell (   ) 꿈이 아니라고 말해, 말해줘요 slave to the moon, slave to the moon (i know you got) slave to the moon, slave to the moon (i know you) (   ) (   ) (   ) you want me want me want me, too (   ) (   ) (   ) you love me too, love me too 얼마나 오래 기다린지 몰라 얼마나 오래 꿈 꿨는지 몰라 그런데 니가 날 사랑한다니 어머나, 다시 한 번 말해봐 (   ) (   ) tell tell tell tell tell (   ) 나를 사랑한다고 날 기다려 왔다고 (   ) (   ) tell tell tell tell tell (   ) 내가 필요하다 말해, 말해줘요 (   ) (   ) tell tell tell tell tell (   ) 자꾸만 듣고 싶어 계속 내게 말해줘 (   ) (   ) tell tell tell tell tell (   ) 꿈이 아니라고 말해, 말해줘요 (   ) (   ) tell tell tell tell tell (   ) tell tell tell tell tell (   ) (   ) ((   ))'"
      ]
     },
     "execution_count": 5,
     "metadata": {},
     "output_type": "execute_result"
    }
   ],
   "source": [
    "song_change"
   ]
  },
  {
   "cell_type": "code",
   "execution_count": 6,
   "id": "9d3d45eb",
   "metadata": {},
   "outputs": [],
   "source": [
    "ab = \"abdkfskjsdf\"\n",
    "ab = ab.replace(\"a\", \"      \")"
   ]
  },
  {
   "cell_type": "code",
   "execution_count": 7,
   "id": "3c887bb9",
   "metadata": {},
   "outputs": [
    {
     "name": "stdout",
     "output_type": "stream",
     "text": [
      "      Bdkfskjsdf\n"
     ]
    }
   ],
   "source": [
    "print(ab.title())"
   ]
  },
  {
   "cell_type": "code",
   "execution_count": 8,
   "id": "9cdeb04c",
   "metadata": {},
   "outputs": [
    {
     "data": {
      "text/plain": [
       "[1, '3333', 2, 3, 4, 5, 6]"
      ]
     },
     "execution_count": 8,
     "metadata": {},
     "output_type": "execute_result"
    }
   ],
   "source": [
    "a = [1, 2, 3, 4, 5, 6]\n",
    "a.insert(1, \"3333\")\n",
    "a"
   ]
  },
  {
   "cell_type": "code",
   "execution_count": 9,
   "id": "cb8031a5",
   "metadata": {},
   "outputs": [
    {
     "name": "stdout",
     "output_type": "stream",
     "text": [
      "1032\n"
     ]
    }
   ],
   "source": [
    "num = 0\n",
    "while True:\n",
    "    num += 1\n",
    "    if  (num % 43 == 0) and (num > 1000):\n",
    "        print(num)\n",
    "        break\n",
    "\n",
    "            \n",
    "\n",
    "            "
   ]
  },
  {
   "cell_type": "code",
   "execution_count": 10,
   "id": "b8bcb771",
   "metadata": {},
   "outputs": [
    {
     "name": "stdout",
     "output_type": "stream",
     "text": [
      "1032\n"
     ]
    }
   ],
   "source": [
    "num = 0\n",
    "\n",
    "while (num * 43 < 1000):\n",
    "    num += 1\n",
    "print(num*43)\n",
    "\n"
   ]
  },
  {
   "cell_type": "code",
   "execution_count": 11,
   "id": "b12475a2",
   "metadata": {},
   "outputs": [
    {
     "name": "stdout",
     "output_type": "stream",
     "text": [
      "1032\n"
     ]
    }
   ],
   "source": [
    "num = 1\n",
    "\n",
    "while (num % 43 != 0) or (num < 1000):\n",
    "    num += 1\n",
    "    \n",
    "    if (num % 43 == 0) and (num > 1000):\n",
    "        print(num)\n",
    "        "
   ]
  },
  {
   "cell_type": "markdown",
   "id": "2ed99f50",
   "metadata": {},
   "source": [
    "# < 10000보다 큰 43과 67의 공배수 구하기>"
   ]
  },
  {
   "cell_type": "markdown",
   "id": "37858de4",
   "metadata": {},
   "source": [
    "# 방법 1 : while True / if 조건"
   ]
  },
  {
   "cell_type": "code",
   "execution_count": 12,
   "id": "19aa0082",
   "metadata": {},
   "outputs": [
    {
     "name": "stdout",
     "output_type": "stream",
     "text": [
      "11524\n"
     ]
    }
   ],
   "source": [
    "# num = 0\n",
    "num = 10000\n",
    "while True:\n",
    "    num += 1\n",
    "\n",
    "#     if (num % 43 == 0) and (num % 67 == 0) and (num > 10000):\n",
    "    if (num % 43 == 0) and (num % 67 == 0):\n",
    "        print(num)\n",
    "        break"
   ]
  },
  {
   "cell_type": "markdown",
   "id": "c5f68934",
   "metadata": {},
   "source": [
    "# 방법 2 : while 조건, 기본값을 10000으로 설정"
   ]
  },
  {
   "cell_type": "code",
   "execution_count": 13,
   "id": "66bbd2c3",
   "metadata": {},
   "outputs": [
    {
     "name": "stdout",
     "output_type": "stream",
     "text": [
      "11524\n"
     ]
    }
   ],
   "source": [
    "n = 10000\n",
    "\n",
    "while (n % 43 != 0) or (n % 67 != 0):\n",
    "    n += 1\n",
    "print(n)"
   ]
  },
  {
   "cell_type": "markdown",
   "id": "8bef64d8",
   "metadata": {},
   "source": [
    "# < 최대 공약수 구하기 >"
   ]
  },
  {
   "cell_type": "code",
   "execution_count": 14,
   "id": "e7d11bb6",
   "metadata": {},
   "outputs": [
    {
     "name": "stdout",
     "output_type": "stream",
     "text": [
      "30 2\n"
     ]
    },
    {
     "ename": "ValueError",
     "evalue": "invalid literal for int() with base 10: '30 2'",
     "output_type": "error",
     "traceback": [
      "\u001b[1;31m---------------------------------------------------------------------------\u001b[0m",
      "\u001b[1;31mValueError\u001b[0m                                Traceback (most recent call last)",
      "Input \u001b[1;32mIn [14]\u001b[0m, in \u001b[0;36m<cell line: 25>\u001b[1;34m()\u001b[0m\n\u001b[0;32m     22\u001b[0m         result \u001b[38;5;241m=\u001b[39m r_list[::\u001b[38;5;241m-\u001b[39m\u001b[38;5;241m1\u001b[39m][\u001b[38;5;241m0\u001b[39m]\n\u001b[0;32m     23\u001b[0m     \u001b[38;5;28mprint\u001b[39m(result)\n\u001b[1;32m---> 25\u001b[0m \u001b[43mGCD\u001b[49m\u001b[43m(\u001b[49m\u001b[43m)\u001b[49m\n",
      "Input \u001b[1;32mIn [14]\u001b[0m, in \u001b[0;36mGCD\u001b[1;34m()\u001b[0m\n\u001b[0;32m      3\u001b[0m \u001b[38;5;28;01mdef\u001b[39;00m \u001b[38;5;21mGCD\u001b[39m():\n\u001b[1;32m----> 4\u001b[0m     a, b \u001b[38;5;241m=\u001b[39m \u001b[38;5;28mmap\u001b[39m(\u001b[38;5;28mint\u001b[39m, \u001b[38;5;28minput\u001b[39m()\u001b[38;5;241m.\u001b[39msplit(\u001b[38;5;124m\"\u001b[39m\u001b[38;5;124m,\u001b[39m\u001b[38;5;124m\"\u001b[39m))\n\u001b[0;32m      5\u001b[0m     big \u001b[38;5;241m=\u001b[39m small\u001b[38;5;241m=\u001b[39m\u001b[38;5;241m0\u001b[39m \n\u001b[0;32m      6\u001b[0m     r_list \u001b[38;5;241m=\u001b[39m []\n",
      "\u001b[1;31mValueError\u001b[0m: invalid literal for int() with base 10: '30 2'"
     ]
    }
   ],
   "source": [
    "# a, b = map(int, input().split(\",\"))\n",
    "\n",
    "def GCD():\n",
    "    a, b = map(int, input().split(\",\"))\n",
    "    big = small=0 \n",
    "    r_list = []\n",
    "    \n",
    "    if a > b :\n",
    "        big = a\n",
    "        small = b\n",
    "        remain = big % small\n",
    "    else:\n",
    "        big = b\n",
    "        small = a\n",
    "        remain = big % small\n",
    "    \n",
    "    while remain != 0:\n",
    "        r_list.append(remain)\n",
    "        rest = small % remain\n",
    "        remain = rest\n",
    "        \n",
    "        result = r_list[::-1][0]\n",
    "    print(result)\n",
    "\n",
    "GCD()\n",
    "        \n",
    "        \n",
    "        \n",
    "     "
   ]
  },
  {
   "cell_type": "markdown",
   "id": "f57069bd",
   "metadata": {},
   "source": [
    "# <구구단>"
   ]
  },
  {
   "cell_type": "code",
   "execution_count": null,
   "id": "72aa4daf",
   "metadata": {},
   "outputs": [],
   "source": [
    "number = int(input(\"몇 단? \"))\n",
    "\n",
    "for x in range(1,10):\n",
    "    result = x * number\n",
    "    print(f\"{number} x {x} = {result}\")"
   ]
  },
  {
   "cell_type": "code",
   "execution_count": null,
   "id": "451f83e6",
   "metadata": {},
   "outputs": [],
   "source": [
    "n = 0\n",
    "a = [1,2,3,4,5,6,77,7,7]\n",
    "b = [2,4,3,6, 5,3,7,7,7,7,7,7]\n",
    "same = []\n",
    "\n",
    "# if len(a) > len(b):\n",
    "#     length = len(b)\n",
    "# else:\n",
    "#     length = len(a)\n",
    "    \n",
    "for x in range(len(a)):\n",
    "    if a[x] == b[x]:\n",
    "        same.append(a[x])\n",
    "        print(\"같은 수:\", a[x])\n",
    "    else:\n",
    "         pass\n",
    "\n",
    "        \n",
    "print(same)\n",
    "    \n"
   ]
  },
  {
   "cell_type": "markdown",
   "id": "d2a6bb6d",
   "metadata": {},
   "source": [
    "# <구구단2>"
   ]
  },
  {
   "cell_type": "code",
   "execution_count": null,
   "id": "94cf1f68",
   "metadata": {},
   "outputs": [],
   "source": [
    "for first in range(1,10):\n",
    "    print(f\"\\\"{first}단\\\" 입니다~~!!!\")\n",
    "    for second in range(1,10):\n",
    "        print(f\"{first} X {second} = {first*second}\")"
   ]
  },
  {
   "cell_type": "code",
   "execution_count": null,
   "id": "02b295d4",
   "metadata": {},
   "outputs": [],
   "source": [
    "n = 0\n",
    "a = [1,2,3,4,5,6,77,7,7]\n",
    "b = [2,4,3,6, 5,3,7,7,7,7,7,7]\n",
    "same = []\n",
    "\n",
    "# if len(a) > len(b):\n",
    "#     length = len(b)\n",
    "# else:\n",
    "#     length = len(a)\n",
    "    \n",
    "for position, content in enumerate(a):\n",
    "    if content == b[position]:\n",
    "        same.append(content)\n",
    "        print(\"같은 수:\", content)\n",
    "    else:\n",
    "         pass\n",
    "        \n",
    "print(same)\n",
    "    "
   ]
  },
  {
   "cell_type": "markdown",
   "id": "3ea26b22",
   "metadata": {},
   "source": [
    "# https://euler.synap.co.kr/problem=6\n",
    "# 제곱의 합과 합의 제곱"
   ]
  },
  {
   "cell_type": "code",
   "execution_count": 15,
   "id": "a909c06e",
   "metadata": {},
   "outputs": [
    {
     "name": "stdout",
     "output_type": "stream",
     "text": [
      "차이: 25164150\n"
     ]
    }
   ],
   "source": [
    "sum_after = 0\n",
    "sum_first = 0\n",
    "\n",
    "for x in range(1,101):\n",
    "    sum_after += x ** 2\n",
    "    sum_first += x\n",
    "    \n",
    "sum_first = sum_first ** 2 \n",
    "\n",
    "result = sum_first - sum_after\n",
    "    \n",
    "print(\"차이:\",result)"
   ]
  },
  {
   "cell_type": "markdown",
   "id": "86575bb2",
   "metadata": {},
   "source": [
    "# 물가가 10% 올랐\n",
    "- gg 딕셔너리의 각 과일의 가격을 10% 올려줘"
   ]
  },
  {
   "cell_type": "code",
   "execution_count": 16,
   "id": "5b586e85",
   "metadata": {},
   "outputs": [
    {
     "data": {
      "text/plain": [
       "{'사과': 880, '바나나': 1100, '포도': 8800}"
      ]
     },
     "execution_count": 16,
     "metadata": {},
     "output_type": "execute_result"
    }
   ],
   "source": [
    "gg = {\"사과\": 800, \"바나나\" : 1000, \"포도\": 8000}\n",
    "\n",
    "for x in gg:\n",
    "    gg[x] = int(gg[x] * 1.1)\n",
    "        \n",
    "gg\n",
    "    "
   ]
  },
  {
   "cell_type": "code",
   "execution_count": 54,
   "id": "5a1f5a2a",
   "metadata": {},
   "outputs": [],
   "source": [
    "ggg = {\"서울점\" : {\"사과\": 800, \"바나나\" : 1000, \"포도\": 800, \"딸기\" : 300},\n",
    "       \"부산점\" : {\"사과\": 700, \"바나나\" : 900, \"포도\": 900},\n",
    "       \"대구점\" : {\"사과\": 750, \"바나나\" : 800, \"포도\": 1000}  }\n"
   ]
  },
  {
   "cell_type": "code",
   "execution_count": 55,
   "id": "270041c7",
   "metadata": {},
   "outputs": [
    {
     "name": "stdout",
     "output_type": "stream",
     "text": [
      "750.0\n"
     ]
    }
   ],
   "source": [
    "n = 0\n",
    "for x in ggg:\n",
    "    n += ggg[x][\"사과\"]\n",
    "    aver = round(n /(len(ggg[x])), 1)\n",
    "\n",
    "print(aver)"
   ]
  },
  {
   "cell_type": "code",
   "execution_count": 67,
   "id": "35c04c36",
   "metadata": {},
   "outputs": [
    {
     "data": {
      "text/plain": [
       "800"
      ]
     },
     "execution_count": 67,
     "metadata": {},
     "output_type": "execute_result"
    }
   ],
   "source": [
    "ggg[\"서울점\"][\"사과\"]"
   ]
  },
  {
   "cell_type": "code",
   "execution_count": 91,
   "id": "5a65f3cf",
   "metadata": {},
   "outputs": [
    {
     "ename": "SyntaxError",
     "evalue": "unexpected EOF while parsing (2808807024.py, line 20)",
     "output_type": "error",
     "traceback": [
      "\u001b[1;36m  Input \u001b[1;32mIn [91]\u001b[1;36m\u001b[0m\n\u001b[1;33m    # print(a_l)\u001b[0m\n\u001b[1;37m                  ^\u001b[0m\n\u001b[1;31mSyntaxError\u001b[0m\u001b[1;31m:\u001b[0m unexpected EOF while parsing\n"
     ]
    }
   ],
   "source": [
    "p = [len(ggg[x]) for x in ggg]\n",
    "price_sum = 0\n",
    "a_l = []\n",
    "\n",
    "for x in ggg:\n",
    "    if len(ggg[x]) == max(p):\n",
    "#         print(ggg[x])\n",
    "        fruit_name = list(ggg[x].keys())\n",
    "        print(fruit_name)\n",
    "try:\n",
    "    for x in ggg:\n",
    "        print(x)\n",
    "        for name in fruit_name:\n",
    "            print(name)\n",
    "            print(ggg[x][name])\n",
    "            price_sum += ggg[x][name]\n",
    "            average = round(price_sum /(len(ggg[x])), 1)\n",
    "            a_l += [average]\n",
    "# except Exception\n",
    "# print(a_l)  "
   ]
  },
  {
   "cell_type": "code",
   "execution_count": null,
   "id": "c256375e",
   "metadata": {},
   "outputs": [],
   "source": []
  }
 ],
 "metadata": {
  "kernelspec": {
   "display_name": "Python 3 (ipykernel)",
   "language": "python",
   "name": "python3"
  },
  "language_info": {
   "codemirror_mode": {
    "name": "ipython",
    "version": 3
   },
   "file_extension": ".py",
   "mimetype": "text/x-python",
   "name": "python",
   "nbconvert_exporter": "python",
   "pygments_lexer": "ipython3",
   "version": "3.9.12"
  }
 },
 "nbformat": 4,
 "nbformat_minor": 5
}
