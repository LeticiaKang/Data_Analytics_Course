{
 "cells": [
  {
   "cell_type": "code",
   "execution_count": null,
   "id": "aabccafb",
   "metadata": {},
   "outputs": [],
   "source": [
    "import re\n",
    "\n",
    "def weather_info():\n",
    "    \n",
    "        date = re.match(r\"(^\\d+)\", a, re.I)\n",
    "        year = a[0:4]\n",
    "        month = a[4:6]\n",
    "        day = a[6:8]\n",
    "        weather = a[8:]\n",
    "\n",
    "\n",
    "        if True:\n",
    "            items = str(date.groups()[0])\n",
    "\n",
    "            if len(items) == 8:\n",
    "                print(f\"연도: {year}\\n월: {month}\\n일: {day}\\n날씨: {weather}\")\n",
    "\n",
    "            elif len(items) != 8:\n",
    "                print(\"날짜를 다시 입력하세요. ex)20220101\")\n",
    "            \n",
    "def input_info():\n",
    "    a = input()\n",
    "    return weather_info()\n",
    "            \n",
    "        \n",
    "input_info()\n"
   ]
  },
  {
   "cell_type": "code",
   "execution_count": 49,
   "id": "0ebe037d",
   "metadata": {},
   "outputs": [
    {
     "name": "stdout",
     "output_type": "stream",
     "text": [
      "오늘의 메뉴는 곱창볶음입니다.\n"
     ]
    }
   ],
   "source": [
    "lunch_menu = \"곱창볶음\"\n",
    "# lunch_menu = \"꽈배기\"\n",
    "# lunch_menu = \"짬뽕\"\n",
    "\n",
    "print(f\"오늘의 메뉴는 {lunch_menu}입니다.\")"
   ]
  },
  {
   "cell_type": "code",
   "execution_count": 100,
   "id": "42661e67",
   "metadata": {},
   "outputs": [
    {
     "name": "stdout",
     "output_type": "stream",
     "text": [
      "100과 200의 합은 300입니다.\n"
     ]
    }
   ],
   "source": [
    "x, y, add = 100, 200, x + y\n",
    "\n",
    "print(f\"{x}과 {y}의 합은 {add}입니다.\")"
   ]
  },
  {
   "cell_type": "code",
   "execution_count": 103,
   "id": "d04d065e",
   "metadata": {},
   "outputs": [
    {
     "name": "stdout",
     "output_type": "stream",
     "text": [
      "20 50\n",
      "20과 50의 합은 70입니다.\n"
     ]
    }
   ],
   "source": [
    "c, d = map(int, input().split())\n",
    "print(f\"{c}과 {d}의 합은 {c+d}입니다.\")"
   ]
  },
  {
   "cell_type": "code",
   "execution_count": 114,
   "id": "df14b1fb",
   "metadata": {},
   "outputs": [
    {
     "name": "stdout",
     "output_type": "stream",
     "text": [
      "['tell', 'me', 'tell', 'me', 'tetetete', 'tell', 'me']\n",
      "tell me tell me tetetete tell me\n"
     ]
    }
   ],
   "source": [
    "song = \"tell me tell me tetetete tell me\"\n",
    "song.count(\"tell me\")\n",
    "song.find(\"tetetete\")\n",
    "song.upper()  # 변수 song에 들어가는 것은 아님\n",
    "song.lower() \n",
    "song.title()  # 맨 앞, 띄어쓰기 다음에 오는 문자를 대문자로 바꿈\n",
    "song.replace(\"t\", \"y\")  # 변수 song에 들어가는 것은 아님\n",
    "song.split()   #  어떤 기준을 잡아 분리시켜 리스트로 반환\n",
    "                # 자료를 분리할 때 사용!\n",
    "    \n",
    "print(song.split())\n",
    "print(song)"
   ]
  },
  {
   "cell_type": "code",
   "execution_count": 119,
   "id": "c6dccf14",
   "metadata": {},
   "outputs": [
    {
     "name": "stdout",
     "output_type": "stream",
     "text": [
      "telll\n",
      "      telll\n",
      "telll      \n",
      "      telll      \n"
     ]
    }
   ],
   "source": [
    "sentence = \"      telll      \"\n",
    "\n",
    "print(sentence.strip())   # 양쪽의 공백을 없앰\n",
    "print(sentence.rstrip())   # 오른쪽의 공백을 없앰\n",
    "print(sentence.lstrip())   # 왼쪽의 공백을 없앰\n",
    "print(sentence)   # 원래 변수는 변함없음\n",
    "\n"
   ]
  },
  {
   "cell_type": "code",
   "execution_count": null,
   "id": "0ca7a9d8",
   "metadata": {},
   "outputs": [],
   "source": []
  }
 ],
 "metadata": {
  "kernelspec": {
   "display_name": "Python 3 (ipykernel)",
   "language": "python",
   "name": "python3"
  },
  "language_info": {
   "codemirror_mode": {
    "name": "ipython",
    "version": 3
   },
   "file_extension": ".py",
   "mimetype": "text/x-python",
   "name": "python",
   "nbconvert_exporter": "python",
   "pygments_lexer": "ipython3",
   "version": "3.9.12"
  }
 },
 "nbformat": 4,
 "nbformat_minor": 5
}
