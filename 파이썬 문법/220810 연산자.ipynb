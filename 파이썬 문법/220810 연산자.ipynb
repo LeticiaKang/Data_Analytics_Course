{
 "cells": [
  {
   "cell_type": "markdown",
   "id": "8dea16b4",
   "metadata": {},
   "source": [
    "### 제곱 : **"
   ]
  },
  {
   "cell_type": "code",
   "execution_count": 1,
   "id": "e54a12d8",
   "metadata": {},
   "outputs": [
    {
     "data": {
      "text/plain": [
       "27"
      ]
     },
     "execution_count": 1,
     "metadata": {},
     "output_type": "execute_result"
    }
   ],
   "source": [
    "3 ** 3 "
   ]
  },
  {
   "cell_type": "markdown",
   "id": "f80404ee",
   "metadata": {},
   "source": [
    "### 몫 출력 : //\n",
    "### 나머지 출력 : %"
   ]
  },
  {
   "cell_type": "code",
   "execution_count": 2,
   "id": "546ef511",
   "metadata": {},
   "outputs": [
    {
     "data": {
      "text/plain": [
       "2"
      ]
     },
     "execution_count": 2,
     "metadata": {},
     "output_type": "execute_result"
    }
   ],
   "source": [
    "7 //3"
   ]
  },
  {
   "cell_type": "code",
   "execution_count": 3,
   "id": "38e792b1",
   "metadata": {},
   "outputs": [
    {
     "data": {
      "text/plain": [
       "1"
      ]
     },
     "execution_count": 3,
     "metadata": {},
     "output_type": "execute_result"
    }
   ],
   "source": [
    "7%3"
   ]
  },
  {
   "cell_type": "markdown",
   "id": "1d169198",
   "metadata": {},
   "source": [
    "### str끼리는 +만 가능\n",
    "### int와 str은 *만 가능"
   ]
  },
  {
   "cell_type": "code",
   "execution_count": 10,
   "id": "15d7693a",
   "metadata": {},
   "outputs": [
    {
     "data": {
      "text/plain": [
       "'안녕안녕안녕'"
      ]
     },
     "execution_count": 10,
     "metadata": {},
     "output_type": "execute_result"
    }
   ],
   "source": [
    "a = \"안녕\"\n",
    "\n",
    "a*3"
   ]
  },
  {
   "cell_type": "code",
   "execution_count": 32,
   "id": "3d4324ca",
   "metadata": {},
   "outputs": [
    {
     "name": "stdout",
     "output_type": "stream",
     "text": [
      "3\n",
      "4\n",
      "5\n",
      "6\n",
      "5보다 큽니다\n"
     ]
    }
   ],
   "source": [
    "while True:\n",
    "    a = int(input())\n",
    "    if a > 5:\n",
    "        print(\"5보다 큽니다\")\n",
    "        break\n",
    "    if a <= 5:\n",
    "        continue"
   ]
  },
  {
   "cell_type": "markdown",
   "id": "a6a4892d",
   "metadata": {},
   "source": [
    "### 시간 파싱하기"
   ]
  },
  {
   "cell_type": "code",
   "execution_count": 46,
   "id": "bab12d76",
   "metadata": {},
   "outputs": [
    {
     "data": {
      "text/plain": [
       "'2022-08-10 14:45:46'"
      ]
     },
     "execution_count": 46,
     "metadata": {},
     "output_type": "execute_result"
    }
   ],
   "source": [
    "import datetime\n",
    "datetime.datetime.now().strftime(\"%Y-%m-%d %H:%M:%S\")\n",
    "\n",
    "# datetime.datetime.now().strftime(f\"%Y년 %m월 %d일 %H시 %M분 %S초\")"
   ]
  },
  {
   "cell_type": "code",
   "execution_count": 47,
   "id": "44421036",
   "metadata": {},
   "outputs": [],
   "source": [
    "now = datetime.datetime.now().strftime(\"%Y-%m-%d %H:%M:%S\")"
   ]
  },
  {
   "cell_type": "code",
   "execution_count": 48,
   "id": "37a7c9f3",
   "metadata": {},
   "outputs": [
    {
     "name": "stdout",
     "output_type": "stream",
     "text": [
      "2022년 08월 10일 14시 45분 46초\n"
     ]
    }
   ],
   "source": [
    "year = now[:4]\n",
    "month = now[5:7]\n",
    "day = now[8:10]\n",
    "hour = now[11:13]\n",
    "minu = now[14:16]\n",
    "sec = now[17:19]\n",
    "\n",
    "print(f\"{year}년 {month}월 {day}일 {hour}시 {minu}분 {sec}초\")"
   ]
  },
  {
   "cell_type": "code",
   "execution_count": 51,
   "id": "3b8b79ac",
   "metadata": {},
   "outputs": [
    {
     "name": "stdout",
     "output_type": "stream",
     "text": [
      "36555\n",
      "10시간 9분 15초 입니다.\n"
     ]
    }
   ],
   "source": [
    "a = int(input())\n",
    "\n",
    "# 1분 = 60초\n",
    "# 60분 = 1시간 = 3600초\n",
    "\n",
    "hour = a//3600\n",
    "min = (a % 3600)//60\n",
    "# sec = a - hour * 3600 - min * 60\n",
    "sec = a % 60\n",
    "\n",
    "\n",
    "print(f\"{hour}시간 {min}분 {sec}초 입니다.\")"
   ]
  },
  {
   "cell_type": "code",
   "execution_count": 57,
   "id": "ebaaa74f",
   "metadata": {},
   "outputs": [
    {
     "name": "stdout",
     "output_type": "stream",
     "text": [
      "6\n"
     ]
    }
   ],
   "source": [
    "num = 3\n",
    "num += 3\n",
    "print(num)"
   ]
  },
  {
   "cell_type": "code",
   "execution_count": null,
   "id": "11e4620f",
   "metadata": {},
   "outputs": [],
   "source": []
  },
  {
   "cell_type": "code",
   "execution_count": 70,
   "id": "56a27ec4",
   "metadata": {},
   "outputs": [
    {
     "name": "stdout",
     "output_type": "stream",
     "text": [
      "6\n"
     ]
    },
    {
     "data": {
      "text/plain": [
       "True"
      ]
     },
     "execution_count": 70,
     "metadata": {},
     "output_type": "execute_result"
    }
   ],
   "source": [
    "num = int(input())\n",
    "\n",
    "num % 2 == 0 and num % 3 == 0"
   ]
  },
  {
   "cell_type": "code",
   "execution_count": 74,
   "id": "9bb4f58f",
   "metadata": {},
   "outputs": [
    {
     "name": "stdout",
     "output_type": "stream",
     "text": [
      "23\n"
     ]
    },
    {
     "data": {
      "text/plain": [
       "False"
      ]
     },
     "execution_count": 74,
     "metadata": {},
     "output_type": "execute_result"
    }
   ],
   "source": [
    "num = int(input())\n",
    "\n",
    "num % 2 == 0 or num % 3 == 0"
   ]
  },
  {
   "cell_type": "code",
   "execution_count": null,
   "id": "3be2dcc4",
   "metadata": {},
   "outputs": [],
   "source": []
  },
  {
   "cell_type": "code",
   "execution_count": null,
   "id": "c8a81313",
   "metadata": {},
   "outputs": [],
   "source": []
  },
  {
   "cell_type": "code",
   "execution_count": null,
   "id": "ebad35e8",
   "metadata": {},
   "outputs": [],
   "source": []
  },
  {
   "cell_type": "code",
   "execution_count": null,
   "id": "ae770c42",
   "metadata": {},
   "outputs": [],
   "source": []
  },
  {
   "cell_type": "code",
   "execution_count": null,
   "id": "adce97e7",
   "metadata": {},
   "outputs": [],
   "source": []
  },
  {
   "cell_type": "code",
   "execution_count": null,
   "id": "1d797c2d",
   "metadata": {},
   "outputs": [],
   "source": []
  },
  {
   "cell_type": "code",
   "execution_count": 58,
   "id": "5b451c46",
   "metadata": {},
   "outputs": [
    {
     "ename": "SyntaxError",
     "evalue": "invalid syntax (4227553271.py, line 24)",
     "output_type": "error",
     "traceback": [
      "\u001b[1;36m  Input \u001b[1;32mIn [58]\u001b[1;36m\u001b[0m\n\u001b[1;33m    if\u001b[0m\n\u001b[1;37m       ^\u001b[0m\n\u001b[1;31mSyntaxError\u001b[0m\u001b[1;31m:\u001b[0m invalid syntax\n"
     ]
    }
   ],
   "source": [
    "\n",
    "def check_if(a):\n",
    "    a = input(\"주민번호를 입력하세요. \\na = \").replace(\"\\\"\", \"\")\n",
    "    hypen = a.find(\"-\")\n",
    "    year = a[0:2]\n",
    "    month = a[2:4]\n",
    "\n",
    "    if len(a) != 14 or hypen == -1:  # 14자리가 아니라면 또는 하이픈이 없는 경우\n",
    "        print(\"잘못된 번호입니다.\\n올바른 번호를 넣어주세요.\")\n",
    "\n",
    "    elif len(a) == 14 & hypen == 1:  # 입력한 번호가 14자리 맞는 경우\n",
    "        if int(a[hypen + 1]) == 1 or 3:\n",
    "            print(f\"{year}년{month}월 남자\")\n",
    "        elif int(a[hypen + 1]) == 2 or 4:\n",
    "            print(f\"{year}년{month}월 여자\")\n",
    "    else:\n",
    "        print(\"잘못된 번호입니다.\\n올바른 번호를 넣어주세요.\")\n",
    "\n",
    "\n",
    "\n",
    "def generation():\n",
    "    if int(a[0:1]) >= 0 and int(a[0:1]) <= 21: #00~21 사이 수로 시작하는 경우\n",
    "        genr = input(\"2000년 이후 출생자 입니까? 맞으면 o 아니면x : \")\n",
    "        if genr == \"o\":\n",
    "            if \n",
    "        elif genr == \"x\":\n",
    "            print(\"잘못된 번호입니다. 주민번호 앞자리를 확인하세요.\")\n",
    "        else:\n",
    "            print(\"o 또는 x로 다시 입력하세요!\")\n",
    "\n",
    "    else:\n",
    "        if int(a[hypen + 1]) == 1 or 3:\n",
    "            print(f\"{year}년{month}월 남자\")\n",
    "        elif int(a[hypen + 1]) == 2 or 4:\n",
    "            print(f\"{year}년{month}월 여자\")\n",
    "        else:\n",
    "            print(\"잘못된 번호입니다.\\n 주민번호 앞자리를 확인해주세요.\")\n"
   ]
  },
  {
   "cell_type": "code",
   "execution_count": null,
   "id": "1ed0997b",
   "metadata": {},
   "outputs": [],
   "source": []
  }
 ],
 "metadata": {
  "kernelspec": {
   "display_name": "Python 3 (ipykernel)",
   "language": "python",
   "name": "python3"
  },
  "language_info": {
   "codemirror_mode": {
    "name": "ipython",
    "version": 3
   },
   "file_extension": ".py",
   "mimetype": "text/x-python",
   "name": "python",
   "nbconvert_exporter": "python",
   "pygments_lexer": "ipython3",
   "version": "3.9.12"
  }
 },
 "nbformat": 4,
 "nbformat_minor": 5
}
