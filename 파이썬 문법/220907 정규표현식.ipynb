{
 "cells": [
  {
   "cell_type": "code",
   "execution_count": 1,
   "id": "115ea6f4",
   "metadata": {},
   "outputs": [],
   "source": [
    "import re"
   ]
  },
  {
   "cell_type": "code",
   "execution_count": 2,
   "id": "f6374748",
   "metadata": {},
   "outputs": [
    {
     "data": {
      "text/plain": [
       "re.compile(r'가나다', re.UNICODE)"
      ]
     },
     "execution_count": 2,
     "metadata": {},
     "output_type": "execute_result"
    }
   ],
   "source": [
    "a = re.compile(\"가나다\")\n",
    "a"
   ]
  },
  {
   "cell_type": "code",
   "execution_count": 3,
   "id": "6e06e224",
   "metadata": {},
   "outputs": [],
   "source": [
    "a.match(\"가나\")"
   ]
  },
  {
   "cell_type": "markdown",
   "id": "4ea1f0d3",
   "metadata": {},
   "source": [
    "### Dot(.) : 줄바꿈을 제외한 모든 문자와 매치"
   ]
  },
  {
   "cell_type": "code",
   "execution_count": 4,
   "id": "e1529eb9",
   "metadata": {},
   "outputs": [
    {
     "name": "stdout",
     "output_type": "stream",
     "text": [
      "<re.Match object; span=(0, 3), match='가나라'>\n",
      "<re.Match object; span=(0, 3), match='가다라'>\n"
     ]
    }
   ],
   "source": [
    "a = re.compile(\"가.라\")\n",
    "print(a.match(\"가나라\"))\n",
    "print(a.match(\"가다라\"))"
   ]
  },
  {
   "cell_type": "markdown",
   "id": "9c5dad47",
   "metadata": {},
   "source": [
    "### Findall : 해당하는 문자를 추출하여 리스트로 반환"
   ]
  },
  {
   "cell_type": "code",
   "execution_count": 5,
   "id": "e2720614",
   "metadata": {
    "scrolled": true
   },
   "outputs": [
    {
     "data": {
      "text/plain": [
       "['가다라', '가나라']"
      ]
     },
     "execution_count": 5,
     "metadata": {},
     "output_type": "execute_result"
    }
   ],
   "source": [
    "a.findall(\"가나다 가다라 가나라 가바\")"
   ]
  },
  {
   "cell_type": "markdown",
   "id": "bf972477",
   "metadata": {},
   "source": [
    "### search : 해당하는 맨 앞 문자를 반환, 위치까지"
   ]
  },
  {
   "cell_type": "code",
   "execution_count": 6,
   "id": "25812adf",
   "metadata": {},
   "outputs": [
    {
     "data": {
      "text/plain": [
       "<re.Match object; span=(4, 7), match='가다라'>"
      ]
     },
     "execution_count": 6,
     "metadata": {},
     "output_type": "execute_result"
    }
   ],
   "source": [
    "a.search(\"가나다 가다라 가나라 가바\")"
   ]
  },
  {
   "cell_type": "markdown",
   "id": "3ad6e443",
   "metadata": {},
   "source": [
    "### 1. Dot(.) : 한 글자만, 줄바꿈 제외한 모든 문자 가능\n",
    "### 2. 반복(*) : n번 반복 가능(n>=0)\n",
    "### 3. 반복(+) : n번 반복 가능(n>=1)\n",
    "### 4. 중괄호 반복({m,n}) : m이상 n이하 반복\n",
    "### 5. 물음표(?) : {0,1}"
   ]
  },
  {
   "cell_type": "code",
   "execution_count": 7,
   "id": "c35c41aa",
   "metadata": {},
   "outputs": [
    {
     "name": "stdout",
     "output_type": "stream",
     "text": [
      "None\n",
      "<re.Match object; span=(0, 4), match='가나다라'>\n"
     ]
    }
   ],
   "source": [
    "a = re.compile(\"가.라\")\n",
    "print(a.match(\"가나다라\"))\n",
    "\n",
    "a = re.compile(\"가..라\")\n",
    "print(a.match(\"가나다라\"))"
   ]
  },
  {
   "cell_type": "code",
   "execution_count": 8,
   "id": "fed99add",
   "metadata": {},
   "outputs": [
    {
     "name": "stdout",
     "output_type": "stream",
     "text": [
      "<re.Match object; span=(0, 9), match='가나다다다다다다라'>\n",
      "<re.Match object; span=(0, 3), match='가나라'>\n"
     ]
    }
   ],
   "source": [
    "a = re.compile(\"가나다*라\")\n",
    "print(a.match(\"가나다다다다다다라\"))\n",
    "\n",
    "a = re.compile(\"가나다*라\")\n",
    "print(a.match(\"가나라\"))"
   ]
  },
  {
   "cell_type": "code",
   "execution_count": 9,
   "id": "7b54c115",
   "metadata": {},
   "outputs": [
    {
     "name": "stdout",
     "output_type": "stream",
     "text": [
      "None\n"
     ]
    }
   ],
   "source": [
    "a = re.compile(\"가나다+라\")\n",
    "print(a.match(\"가나라\"))"
   ]
  },
  {
   "cell_type": "code",
   "execution_count": 10,
   "id": "d467e8e6",
   "metadata": {},
   "outputs": [
    {
     "name": "stdout",
     "output_type": "stream",
     "text": [
      "None\n",
      "<re.Match object; span=(0, 5), match='가나다다라'>\n",
      "None\n"
     ]
    }
   ],
   "source": [
    "a = re.compile(\"가나다{2}라\")\n",
    "print(a.match(\"가나다라\"))\n",
    "\n",
    "a = re.compile(\"가나다{2}라\")\n",
    "print(a.match(\"가나다다라\"))\n",
    "\n",
    "a = re.compile(\"가나다{2}라\")\n",
    "print(a.match(\"가나다다다라\"))"
   ]
  },
  {
   "cell_type": "code",
   "execution_count": 11,
   "id": "2f8c9324",
   "metadata": {},
   "outputs": [
    {
     "name": "stdout",
     "output_type": "stream",
     "text": [
      "<re.Match object; span=(0, 6), match='가나다다다라'>\n",
      "None\n"
     ]
    }
   ],
   "source": [
    "a = re.compile(\"가나다{2,4}라\")\n",
    "print(a.match(\"가나다다다라\"))\n",
    "\n",
    "a = re.compile(\"가나다{2,4}라\")\n",
    "print(a.match(\"가나다라\"))"
   ]
  },
  {
   "cell_type": "code",
   "execution_count": 12,
   "id": "ec4271fd",
   "metadata": {},
   "outputs": [
    {
     "name": "stdout",
     "output_type": "stream",
     "text": [
      "<re.Match object; span=(0, 3), match='가나라'>\n",
      "<re.Match object; span=(0, 4), match='가나하라'>\n",
      "None\n"
     ]
    }
   ],
   "source": [
    "a = re.compile(\"가나하?라\")\n",
    "print(a.match(\"가나라\"))\n",
    "print(a.match(\"가나하라\"))\n",
    "print(a.match(\"가나하하라\"))"
   ]
  },
  {
   "cell_type": "code",
   "execution_count": 13,
   "id": "bd06b246",
   "metadata": {},
   "outputs": [
    {
     "name": "stdout",
     "output_type": "stream",
     "text": [
      "<re.Match object; span=(0, 7), match='밥을 먹었다ㅎ'>\n"
     ]
    }
   ],
   "source": [
    "b = re.compile(\"밥을 먹었다.\")\n",
    "print(b.match(\"밥을 먹었다ㅎ\"))\n",
    "\n",
    "# . 이 정규표현식에 들어감. 해결하기 위해선 \\ 사용"
   ]
  },
  {
   "cell_type": "code",
   "execution_count": 14,
   "id": "c78d75e4",
   "metadata": {},
   "outputs": [
    {
     "name": "stdout",
     "output_type": "stream",
     "text": [
      "None\n"
     ]
    }
   ],
   "source": [
    "b = re.compile(\"밥을 먹었다\\.\")\n",
    "print(b.match(\"밥을 먹었다ㅎ\"))"
   ]
  },
  {
   "cell_type": "markdown",
   "id": "54fe4acf",
   "metadata": {},
   "source": [
    "### 괄호의 사용"
   ]
  },
  {
   "cell_type": "code",
   "execution_count": 15,
   "id": "a3514fbd",
   "metadata": {},
   "outputs": [
    {
     "name": "stdout",
     "output_type": "stream",
     "text": [
      "None\n",
      "<re.Match object; span=(0, 4), match='가나하라'>\n",
      "<re.Match object; span=(0, 6), match='가나하나하라'>\n",
      "None\n"
     ]
    }
   ],
   "source": [
    "a = re.compile(\"가(나하)+라\")\n",
    "print(a.match(\"가나라\"))\n",
    "print(a.match(\"가나하라\"))\n",
    "print(a.match(\"가나하나하라\"))\n",
    "print(a.match(\"가나하하라\"))"
   ]
  },
  {
   "cell_type": "code",
   "execution_count": 16,
   "id": "018f1627",
   "metadata": {},
   "outputs": [
    {
     "name": "stdout",
     "output_type": "stream",
     "text": [
      "<re.Match object; span=(0, 3), match='가나라'>\n",
      "<re.Match object; span=(0, 3), match='가하라'>\n",
      "None\n",
      "None\n"
     ]
    }
   ],
   "source": [
    "a = re.compile(\"가[나하]라\")\n",
    "print(a.match(\"가나라\"))\n",
    "print(a.match(\"가하라\"))\n",
    "print(a.match(\"가나하라\"))\n",
    "print(a.match(\"가나하나라\"))"
   ]
  },
  {
   "cell_type": "code",
   "execution_count": 17,
   "id": "307aa1fc",
   "metadata": {},
   "outputs": [
    {
     "name": "stdout",
     "output_type": "stream",
     "text": [
      "<re.Match object; span=(0, 3), match='가나라'>\n",
      "<re.Match object; span=(0, 3), match='가하라'>\n",
      "<re.Match object; span=(0, 4), match='가나하라'>\n",
      "<re.Match object; span=(0, 5), match='가나하나라'>\n"
     ]
    }
   ],
   "source": [
    "a = re.compile(\"가[나하]+라\")\n",
    "print(a.match(\"가나라\"))\n",
    "print(a.match(\"가하라\"))\n",
    "print(a.match(\"가나하라\"))\n",
    "print(a.match(\"가나하나라\"))"
   ]
  },
  {
   "cell_type": "code",
   "execution_count": 18,
   "id": "bfd433bd",
   "metadata": {},
   "outputs": [
    {
     "name": "stdout",
     "output_type": "stream",
     "text": [
      "None\n"
     ]
    }
   ],
   "source": [
    "c = re.compile(\"[여남공외]고\")\n",
    "print(c.match(\"남공고\"))"
   ]
  },
  {
   "cell_type": "code",
   "execution_count": 19,
   "id": "4586c8b5",
   "metadata": {},
   "outputs": [
    {
     "name": "stdout",
     "output_type": "stream",
     "text": [
      "<re.Match object; span=(0, 7), match='외국어고등학교'>\n"
     ]
    }
   ],
   "source": [
    "c = re.compile(\"(여자|외국어|남자|공업)고등학교\")\n",
    "print(c.match(\"외국어고등학교\"))"
   ]
  },
  {
   "cell_type": "code",
   "execution_count": 20,
   "id": "53cea5de",
   "metadata": {},
   "outputs": [
    {
     "name": "stdout",
     "output_type": "stream",
     "text": [
      "None\n",
      "<re.Match object; span=(0, 13), match='010-1111-1111'>\n"
     ]
    }
   ],
   "source": [
    "c = re.compile(\"[0-9]{3}-[0-9]{4}-[0-9]{4}\")\n",
    "print(c.match(\"0101-1111-1111\"))\n",
    "print(c.match(\"010-1111-1111\"))"
   ]
  },
  {
   "cell_type": "code",
   "execution_count": 21,
   "id": "92810adc",
   "metadata": {},
   "outputs": [
    {
     "name": "stdout",
     "output_type": "stream",
     "text": [
      "<re.Match object; span=(0, 1), match='2'>\n"
     ]
    }
   ],
   "source": [
    "c = re.compile(\"[a-zA-Z0-9]\")\n",
    "print(c.match(\"2\"))"
   ]
  },
  {
   "cell_type": "code",
   "execution_count": 22,
   "id": "26a5d54f",
   "metadata": {},
   "outputs": [
    {
     "name": "stdout",
     "output_type": "stream",
     "text": [
      "None\n",
      "<re.Match object; span=(0, 1), match='d'>\n"
     ]
    }
   ],
   "source": [
    "c = re.compile(\"[^0-9]+\")\n",
    "print(c.match(\"2\"))\n",
    "print(c.match(\"d\"))"
   ]
  },
  {
   "cell_type": "markdown",
   "id": "ccecbfeb",
   "metadata": {},
   "source": [
    "### 정규표현식 특수문법"
   ]
  },
  {
   "cell_type": "code",
   "execution_count": 23,
   "id": "260d6759",
   "metadata": {},
   "outputs": [
    {
     "name": "stdout",
     "output_type": "stream",
     "text": [
      "비숫자D: ['가z_* ']\n",
      "숫자d: ['9', '22']\n",
      "비공백S: ['9가z_*']\n",
      "공백s: [' ']\n",
      "비문자W: ['* ']\n",
      "문자w: ['9가z_']\n"
     ]
    }
   ],
   "source": [
    "d = re.compile(\"\\D+\")\n",
    "e = re.compile(\"\\d+\")\n",
    "f = re.compile(\"\\S+\")\n",
    "g = re.compile(\"\\s+\")\n",
    "h = re.compile(\"\\W+\")\n",
    "i = re.compile(\"\\w+\")\n",
    "\n",
    "print(\"비숫자D:\", d.findall(\"9가z_* \"))\n",
    "print(\"숫자d:\", e.findall(\"9w22가z_* \"))\n",
    "print(\"비공백S:\", f.findall(\"9가z_* \"))\n",
    "print(\"공백s:\", g.findall(\"9가z_* \"))\n",
    "print(\"비문자W:\", h.findall(\"9가z_* \"))\n",
    "print(\"문자w:\", i.findall(\"9가z_* \"))"
   ]
  },
  {
   "cell_type": "markdown",
   "id": "514ff16b",
   "metadata": {},
   "source": [
    "### 이메일 지칭하기\n",
    "- abcdefg@gmail.com\n",
    "- abcdefg@daum.net\n",
    "- abcdefg@yahoo.co.kr"
   ]
  },
  {
   "cell_type": "code",
   "execution_count": 24,
   "id": "890e14d2",
   "metadata": {},
   "outputs": [
    {
     "name": "stdout",
     "output_type": "stream",
     "text": [
      "<re.Match object; span=(0, 17), match='abcdefg@gmail.com'>\n",
      "<re.Match object; span=(0, 16), match='abcdefg@daum.net'>\n",
      "<re.Match object; span=(0, 19), match='abcdefg@yahoo.co.kr'>\n",
      "<re.Match object; span=(0, 17), match='abcdefg@naver.com'>\n"
     ]
    }
   ],
   "source": [
    "email = re.compile(\"\\w+@[A-Za-z]+\\.(com|net|co.kr)\")\n",
    "\n",
    "print(email.match(\"abcdefg@gmail.com\"))\n",
    "print(email.match(\"abcdefg@daum.net\"))\n",
    "print(email.match(\"abcdefg@yahoo.co.kr\"))\n",
    "print(email.match(\"abcdefg@naver.com\"))"
   ]
  },
  {
   "cell_type": "markdown",
   "id": "9e6ef712",
   "metadata": {},
   "source": [
    "### 전화번호 지칭하기\n",
    "- 010-1234-1234\n",
    "- 02-123-1234\n",
    "- 031)1234567\n",
    "- 112\n",
    "- 1566-5588"
   ]
  },
  {
   "cell_type": "code",
   "execution_count": 25,
   "id": "08bd11f6",
   "metadata": {
    "scrolled": true
   },
   "outputs": [
    {
     "name": "stdout",
     "output_type": "stream",
     "text": [
      "<re.Match object; span=(0, 13), match='010-1234-1234'>\n",
      "<re.Match object; span=(0, 11), match='02-123-1234'>\n",
      "<re.Match object; span=(0, 11), match='031)1234567'>\n",
      "<re.Match object; span=(0, 3), match='112'>\n",
      "<re.Match object; span=(0, 9), match='1566-5588'>\n",
      "<re.Match object; span=(0, 13), match='010)2222-2222'>\n"
     ]
    }
   ],
   "source": [
    "ph_num = re.compile(\"\\d+-?\\)?\\d+-?\\d+\")\n",
    "\n",
    "print(ph_num.match(\"010-1234-1234\"))\n",
    "print(ph_num.match(\"02-123-1234\"))\n",
    "print(ph_num.match(\"031)1234567\"))\n",
    "print(ph_num.match(\"112\"))\n",
    "print(ph_num.match(\"1566-5588\"))\n",
    "print(ph_num.match(\"010)2222-2222ㅇㅇㅇㅇㅇㅇㅇㅇㅇ\"))"
   ]
  },
  {
   "cell_type": "code",
   "execution_count": 29,
   "id": "7d3ba326",
   "metadata": {},
   "outputs": [],
   "source": [
    "article = \"\"\"애플이 9월 8일(한국시간) 하반기 기대작인 '아이폰14 시리즈'를 세상에 공개한다. 이번 행사에서 4가지의 신형 아이폰이 나올 것으로 예측된다. 문제는 시장 상황이다. 환율 인상 영향으로 국내 출고가가 높아질 가능성이 커졌고, 경쟁사인 삼성전자에서 지난달 출시한 갤럭시Z플립 등은 글로벌 시장에서 긍정적인 평가를 받고 있다.010-1234-1234이에 아이폰14 시리즈가 흥행에 성공할 수 있을지 관심이 쏠린다.\"\"\""
   ]
  },
  {
   "cell_type": "code",
   "execution_count": 30,
   "id": "8094d025",
   "metadata": {},
   "outputs": [
    {
     "data": {
      "text/plain": [
       "['010-1234-1234']"
      ]
     },
     "execution_count": 30,
     "metadata": {},
     "output_type": "execute_result"
    }
   ],
   "source": [
    "ph_num.findall(article)"
   ]
  },
  {
   "cell_type": "code",
   "execution_count": null,
   "id": "8eefc659",
   "metadata": {},
   "outputs": [],
   "source": []
  },
  {
   "cell_type": "code",
   "execution_count": null,
   "id": "1b67dbcc",
   "metadata": {},
   "outputs": [],
   "source": []
  }
 ],
 "metadata": {
  "kernelspec": {
   "display_name": "Python 3 (ipykernel)",
   "language": "python",
   "name": "python3"
  },
  "language_info": {
   "codemirror_mode": {
    "name": "ipython",
    "version": 3
   },
   "file_extension": ".py",
   "mimetype": "text/x-python",
   "name": "python",
   "nbconvert_exporter": "python",
   "pygments_lexer": "ipython3",
   "version": "3.9.12"
  }
 },
 "nbformat": 4,
 "nbformat_minor": 5
}
