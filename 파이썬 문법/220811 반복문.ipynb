{
 "cells": [
  {
   "cell_type": "code",
   "execution_count": 1,
   "id": "614ea9c9",
   "metadata": {},
   "outputs": [
    {
     "name": "stdout",
     "output_type": "stream",
     "text": [
      "['C:\\\\Users\\\\user\\\\Python_Jupyter', 'C:\\\\Users\\\\user\\\\anaconda3\\\\python39.zip', 'C:\\\\Users\\\\user\\\\anaconda3\\\\DLLs', 'C:\\\\Users\\\\user\\\\anaconda3\\\\lib', 'C:\\\\Users\\\\user\\\\anaconda3', '', 'C:\\\\Users\\\\user\\\\anaconda3\\\\lib\\\\site-packages', 'C:\\\\Users\\\\user\\\\anaconda3\\\\lib\\\\site-packages\\\\win32', 'C:\\\\Users\\\\user\\\\anaconda3\\\\lib\\\\site-packages\\\\win32\\\\lib', 'C:\\\\Users\\\\user\\\\anaconda3\\\\lib\\\\site-packages\\\\Pythonwin']\n"
     ]
    }
   ],
   "source": [
    "import sys\n",
    "print(sys.path)"
   ]
  },
  {
   "cell_type": "code",
   "execution_count": 26,
   "id": "6903ccd4",
   "metadata": {},
   "outputs": [
    {
     "ename": "UnicodeDecodeError",
     "evalue": "'cp949' codec can't decode byte 0xeb in position 0: illegal multibyte sequence",
     "output_type": "error",
     "traceback": [
      "\u001b[1;31m---------------------------------------------------------------------------\u001b[0m",
      "\u001b[1;31mUnicodeDecodeError\u001b[0m                        Traceback (most recent call last)",
      "Input \u001b[1;32mIn [26]\u001b[0m, in \u001b[0;36m<cell line: 3>\u001b[1;34m()\u001b[0m\n\u001b[0;32m      1\u001b[0m file \u001b[38;5;241m=\u001b[39m \u001b[38;5;28mopen\u001b[39m(\u001b[38;5;124m\"\u001b[39m\u001b[38;5;124mC:/Users/user/Python_Jupyter/read_ex_1.txt\u001b[39m\u001b[38;5;124m\"\u001b[39m, \u001b[38;5;124m\"\u001b[39m\u001b[38;5;124mr\u001b[39m\u001b[38;5;124m\"\u001b[39m)\n\u001b[1;32m----> 3\u001b[0m line \u001b[38;5;241m=\u001b[39m \u001b[43mfile\u001b[49m\u001b[38;5;241;43m.\u001b[39;49m\u001b[43mreadline\u001b[49m\u001b[43m(\u001b[49m\u001b[43m)\u001b[49m\n\u001b[0;32m      5\u001b[0m file\u001b[38;5;241m.\u001b[39mclosed()\n\u001b[0;32m      7\u001b[0m \u001b[38;5;28mprint\u001b[39m(line)\n",
      "\u001b[1;31mUnicodeDecodeError\u001b[0m: 'cp949' codec can't decode byte 0xeb in position 0: illegal multibyte sequence"
     ]
    }
   ],
   "source": [
    "file = open(\"C:/Users/user/Python_Jupyter/read_ex_1.txt\", \"r\")\n",
    "\n",
    "line = file.readline()\n",
    "\n",
    "file.closed()\n",
    "\n",
    "print(line)\n"
   ]
  },
  {
   "cell_type": "code",
   "execution_count": 11,
   "id": "04097992",
   "metadata": {},
   "outputs": [],
   "source": [
    "a = [1, 2, 3, 4, 5, 6]"
   ]
  },
  {
   "cell_type": "code",
   "execution_count": 12,
   "id": "55cc776d",
   "metadata": {},
   "outputs": [
    {
     "data": {
      "text/plain": [
       "[2, 3, 4, 5, 6]"
      ]
     },
     "execution_count": 12,
     "metadata": {},
     "output_type": "execute_result"
    }
   ],
   "source": [
    "a.remove(1)\n",
    "a"
   ]
  },
  {
   "cell_type": "code",
   "execution_count": 18,
   "id": "1125a4f2",
   "metadata": {},
   "outputs": [
    {
     "data": {
      "text/plain": [
       "[0, 3, 4]"
      ]
     },
     "execution_count": 18,
     "metadata": {},
     "output_type": "execute_result"
    }
   ],
   "source": [
    "a[0] = 0\n",
    "a"
   ]
  },
  {
   "cell_type": "code",
   "execution_count": 19,
   "id": "ac7cfad3",
   "metadata": {},
   "outputs": [
    {
     "data": {
      "text/plain": [
       "[0, 3]"
      ]
     },
     "execution_count": 19,
     "metadata": {},
     "output_type": "execute_result"
    }
   ],
   "source": [
    "a.pop()\n",
    "a"
   ]
  },
  {
   "cell_type": "code",
   "execution_count": 21,
   "id": "e8790ac5",
   "metadata": {},
   "outputs": [
    {
     "data": {
      "text/plain": [
       "[6, 5, 4, 3, 2, 1, 14, 11]"
      ]
     },
     "execution_count": 21,
     "metadata": {},
     "output_type": "execute_result"
    }
   ],
   "source": [
    "a = [11, 14, 1, 2, 3, 4, 5, 6]\n",
    "a.reverse()\n",
    "a"
   ]
  },
  {
   "cell_type": "code",
   "execution_count": 22,
   "id": "9f0767b1",
   "metadata": {},
   "outputs": [
    {
     "data": {
      "text/plain": [
       "[1, 2, 3, 4, 5, 6, 11, 14]"
      ]
     },
     "execution_count": 22,
     "metadata": {},
     "output_type": "execute_result"
    }
   ],
   "source": [
    "a.sort()\n",
    "a"
   ]
  },
  {
   "cell_type": "code",
   "execution_count": 24,
   "id": "3634d95c",
   "metadata": {},
   "outputs": [
    {
     "data": {
      "text/plain": [
       "[14, 11, 6, 5, 4, 3, 2, 1]"
      ]
     },
     "execution_count": 24,
     "metadata": {},
     "output_type": "execute_result"
    }
   ],
   "source": [
    "a.sort(reverse = -1)\n",
    "a"
   ]
  },
  {
   "cell_type": "markdown",
   "id": "d4a63942",
   "metadata": {},
   "source": [
    "# 문제 : 아이템 강화\n",
    "- 플레이어로부터 아이템의 강화 등급을 입력받음\n",
    "- 강화 등급은 최대 10\n",
    "- 강화 성공률은 0 ~ 10\n",
    "- 강화성공률\n",
    "  0 - 70% / 1 = 65%\n",
    "  1등급씩 올라갈 때마다 5%씩 내려감\n",
    "- 강화 실패 시 50% 확률로 아이템이 파괴됨\n",
    "- 강화 성공 시 \"강화 성공\"\n",
    "- 아이템 파괴시 \"아이템 파괴\" 출력"
   ]
  },
  {
   "cell_type": "code",
   "execution_count": 87,
   "id": "c2693485",
   "metadata": {},
   "outputs": [
    {
     "name": "stdout",
     "output_type": "stream",
     "text": [
      "아이템 강화 등급을 입력하세요 : 4\n",
      "강화 성공\n",
      "아이템 강화 등급을 입력하세요 : 11\n",
      "0과 10 사이 정수만 입력하세요.\n",
      "아이템 강화 등급을 입력하세요 : d\n",
      "다시 입력하세요\n",
      "아이템 강화 등급을 입력하세요 : 끝\n",
      "다시 입력하세요\n"
     ]
    },
    {
     "ename": "KeyboardInterrupt",
     "evalue": "Interrupted by user",
     "output_type": "error",
     "traceback": [
      "\u001b[1;31m---------------------------------------------------------------------------\u001b[0m",
      "\u001b[1;31mKeyboardInterrupt\u001b[0m                         Traceback (most recent call last)",
      "Input \u001b[1;32mIn [87]\u001b[0m, in \u001b[0;36m<cell line: 8>\u001b[1;34m()\u001b[0m\n\u001b[0;32m      6\u001b[0m \u001b[38;5;28;01mwhile\u001b[39;00m \u001b[38;5;28;01mTrue\u001b[39;00m:\n\u001b[0;32m      8\u001b[0m     \u001b[38;5;28;01mtry\u001b[39;00m:\n\u001b[1;32m----> 9\u001b[0m         grade \u001b[38;5;241m=\u001b[39m \u001b[38;5;28mint\u001b[39m(\u001b[38;5;28;43minput\u001b[39;49m\u001b[43m(\u001b[49m\u001b[38;5;124;43m\"\u001b[39;49m\u001b[38;5;124;43m아이템 강화 등급을 입력하세요 : \u001b[39;49m\u001b[38;5;124;43m\"\u001b[39;49m\u001b[43m)\u001b[49m)\n\u001b[0;32m     10\u001b[0m         prob \u001b[38;5;241m=\u001b[39m random\u001b[38;5;241m.\u001b[39mrandom()\n\u001b[0;32m     11\u001b[0m         prob_dest \u001b[38;5;241m=\u001b[39m random\u001b[38;5;241m.\u001b[39mrandom()\n",
      "File \u001b[1;32m~\\anaconda3\\lib\\site-packages\\ipykernel\\kernelbase.py:1075\u001b[0m, in \u001b[0;36mKernel.raw_input\u001b[1;34m(self, prompt)\u001b[0m\n\u001b[0;32m   1071\u001b[0m \u001b[38;5;28;01mif\u001b[39;00m \u001b[38;5;129;01mnot\u001b[39;00m \u001b[38;5;28mself\u001b[39m\u001b[38;5;241m.\u001b[39m_allow_stdin:\n\u001b[0;32m   1072\u001b[0m     \u001b[38;5;28;01mraise\u001b[39;00m StdinNotImplementedError(\n\u001b[0;32m   1073\u001b[0m         \u001b[38;5;124m\"\u001b[39m\u001b[38;5;124mraw_input was called, but this frontend does not support input requests.\u001b[39m\u001b[38;5;124m\"\u001b[39m\n\u001b[0;32m   1074\u001b[0m     )\n\u001b[1;32m-> 1075\u001b[0m \u001b[38;5;28;01mreturn\u001b[39;00m \u001b[38;5;28;43mself\u001b[39;49m\u001b[38;5;241;43m.\u001b[39;49m\u001b[43m_input_request\u001b[49m\u001b[43m(\u001b[49m\n\u001b[0;32m   1076\u001b[0m \u001b[43m    \u001b[49m\u001b[38;5;28;43mstr\u001b[39;49m\u001b[43m(\u001b[49m\u001b[43mprompt\u001b[49m\u001b[43m)\u001b[49m\u001b[43m,\u001b[49m\n\u001b[0;32m   1077\u001b[0m \u001b[43m    \u001b[49m\u001b[38;5;28;43mself\u001b[39;49m\u001b[38;5;241;43m.\u001b[39;49m\u001b[43m_parent_ident\u001b[49m\u001b[43m[\u001b[49m\u001b[38;5;124;43m\"\u001b[39;49m\u001b[38;5;124;43mshell\u001b[39;49m\u001b[38;5;124;43m\"\u001b[39;49m\u001b[43m]\u001b[49m\u001b[43m,\u001b[49m\n\u001b[0;32m   1078\u001b[0m \u001b[43m    \u001b[49m\u001b[38;5;28;43mself\u001b[39;49m\u001b[38;5;241;43m.\u001b[39;49m\u001b[43mget_parent\u001b[49m\u001b[43m(\u001b[49m\u001b[38;5;124;43m\"\u001b[39;49m\u001b[38;5;124;43mshell\u001b[39;49m\u001b[38;5;124;43m\"\u001b[39;49m\u001b[43m)\u001b[49m\u001b[43m,\u001b[49m\n\u001b[0;32m   1079\u001b[0m \u001b[43m    \u001b[49m\u001b[43mpassword\u001b[49m\u001b[38;5;241;43m=\u001b[39;49m\u001b[38;5;28;43;01mFalse\u001b[39;49;00m\u001b[43m,\u001b[49m\n\u001b[0;32m   1080\u001b[0m \u001b[43m\u001b[49m\u001b[43m)\u001b[49m\n",
      "File \u001b[1;32m~\\anaconda3\\lib\\site-packages\\ipykernel\\kernelbase.py:1120\u001b[0m, in \u001b[0;36mKernel._input_request\u001b[1;34m(self, prompt, ident, parent, password)\u001b[0m\n\u001b[0;32m   1117\u001b[0m             \u001b[38;5;28;01mbreak\u001b[39;00m\n\u001b[0;32m   1118\u001b[0m \u001b[38;5;28;01mexcept\u001b[39;00m \u001b[38;5;167;01mKeyboardInterrupt\u001b[39;00m:\n\u001b[0;32m   1119\u001b[0m     \u001b[38;5;66;03m# re-raise KeyboardInterrupt, to truncate traceback\u001b[39;00m\n\u001b[1;32m-> 1120\u001b[0m     \u001b[38;5;28;01mraise\u001b[39;00m \u001b[38;5;167;01mKeyboardInterrupt\u001b[39;00m(\u001b[38;5;124m\"\u001b[39m\u001b[38;5;124mInterrupted by user\u001b[39m\u001b[38;5;124m\"\u001b[39m) \u001b[38;5;28;01mfrom\u001b[39;00m \u001b[38;5;28mNone\u001b[39m\n\u001b[0;32m   1121\u001b[0m \u001b[38;5;28;01mexcept\u001b[39;00m \u001b[38;5;167;01mException\u001b[39;00m:\n\u001b[0;32m   1122\u001b[0m     \u001b[38;5;28mself\u001b[39m\u001b[38;5;241m.\u001b[39mlog\u001b[38;5;241m.\u001b[39mwarning(\u001b[38;5;124m\"\u001b[39m\u001b[38;5;124mInvalid Message:\u001b[39m\u001b[38;5;124m\"\u001b[39m, exc_info\u001b[38;5;241m=\u001b[39m\u001b[38;5;28;01mTrue\u001b[39;00m)\n",
      "\u001b[1;31mKeyboardInterrupt\u001b[0m: Interrupted by user"
     ]
    }
   ],
   "source": [
    "import random\n",
    "\n",
    "grade_list = [0, 1, 2, 3, 4, 5, 6, 7, 8, 9, 10]\n",
    "#  70 65 60 55 50 45 40 35 30 25 20\n",
    "\n",
    "while True:\n",
    "    \n",
    "    try:\n",
    "        grade = int(input(\"아이템 강화 등급을 입력하세요 : \"))\n",
    "        \n",
    "        prob = random.random()\n",
    "        prob_dest = random.random()\n",
    "        \n",
    "        if grade in grade_list:\n",
    "            if prob <= (0.7 - 0.05 * grade):\n",
    "                print(\"강화 성공\")\n",
    "\n",
    "            elif prob > (0.7 - 0.05*grade) and prob <= 1:\n",
    "                if prob_dest < 0.5:\n",
    "                    print(\"강화 실패~!!! 아이템이 파괴되었습니다!\")\n",
    "                else:\n",
    "                    print(\"강화 실패~!!!\")\n",
    "                    \n",
    "        else:\n",
    "            print(\"0과 10 사이 정수만 입력하세요.\")\n",
    "                    \n",
    "    except Exception as e:\n",
    "        if grade == \"끝\":\n",
    "            break\n",
    "        else:\n",
    "            print(\"다시 입력하세요\")\n"
   ]
  },
  {
   "cell_type": "code",
   "execution_count": 92,
   "id": "c5c6f5a7",
   "metadata": {},
   "outputs": [
    {
     "name": "stdout",
     "output_type": "stream",
     "text": [
      "아이템 강화 등급을 입력하세요 : 1\n",
      "강화 실패~!!! 아이템이 파괴되었습니다!\n",
      "아이템 강화 등급을 입력하세요 : 2\n",
      "강화 실패~!!! 아이템이 파괴되었습니다!\n",
      "아이템 강화 등급을 입력하세요 : ㅇ\n",
      "숫자만 입력하세요! 0과 10 사이 정수만 입력하세요.\n",
      "아이템 강화 등급을 입력하세요 : 종료\n",
      "종료합니다!\n"
     ]
    }
   ],
   "source": [
    "import random\n",
    "\n",
    "while True:\n",
    "    grade = input(\"아이템 강화 등급을 입력하세요 : \")\n",
    "    \n",
    "    #끝이라고 입력하면 종료하기\n",
    "    if grade == \"종료\":\n",
    "        print(\"종료합니다!\")\n",
    "        break\n",
    "        \n",
    "    else:\n",
    "        try: #원하는 코드를 실행시킨다.\n",
    "            # grade의 type을 int로 변형시킨다.\n",
    "            grade = int(grade)\n",
    "            \n",
    "            prob = random.random()\n",
    "            prob_dest = random.random()\n",
    "\n",
    "            if grade in grade_list:\n",
    "                if prob <= (0.7 - 0.05 * grade):\n",
    "                    print(\"강화 성공\")\n",
    "\n",
    "                elif prob > (0.7 - 0.05*grade) and prob <= 1:\n",
    "                    if prob_dest < 0.5:\n",
    "                        print(\"강화 실패~!!! 아이템이 파괴되었습니다!\")\n",
    "                    else:\n",
    "                        print(\"강화 실패~!!!\")\n",
    "\n",
    "            else:  # 0과 10 사이 정수가 아닌 다른 수를 입력하는 경우 강조하기 - 이후 반봅\n",
    "                print(\"0과 10 사이 정수만 입력하세요.\")\n",
    "\n",
    "        except Exception as e: #정수와 끝 이외의 문자를 입력하는 경우 숫자만 입력하라고 강조하기 - 이후 반복\n",
    "            print(\"숫자만 입력하세요! 0과 10 사이 정수만 입력하세요.\")"
   ]
  },
  {
   "cell_type": "code",
   "execution_count": 47,
   "id": "c33a263f",
   "metadata": {},
   "outputs": [
    {
     "name": "stdout",
     "output_type": "stream",
     "text": [
      "출력 1\n",
      "출력 2\n",
      "출력 3\n"
     ]
    }
   ],
   "source": [
    "n = 0\n",
    "while n < 3:\n",
    "    n += 1\n",
    "    print(\"출력\", n)"
   ]
  },
  {
   "cell_type": "code",
   "execution_count": 60,
   "id": "44e69e89",
   "metadata": {},
   "outputs": [
    {
     "name": "stdout",
     "output_type": "stream",
     "text": [
      "1 출력\n",
      "2 출력\n",
      "3 출력\n",
      "메롱\n"
     ]
    }
   ],
   "source": [
    "n = 0\n",
    "for n in range(0,4):\n",
    "    if n < 3:\n",
    "        n += 1\n",
    "        print(n,\"출력\")\n",
    "    else:\n",
    "        print(\"메롱\")"
   ]
  },
  {
   "cell_type": "code",
   "execution_count": 57,
   "id": "167d290f",
   "metadata": {},
   "outputs": [
    {
     "name": "stdout",
     "output_type": "stream",
     "text": [
      "1 Hello Python\n",
      "2 Hello Python\n",
      "3 Hello Python\n",
      "4 Hello Python\n",
      "5 Hello Python\n",
      "6 Hello Python\n",
      "7 Hello Python\n",
      "8 Hello Python\n",
      "9 Hello Python\n",
      "10 Hello Python\n"
     ]
    }
   ],
   "source": [
    "n = 0\n",
    "while n < 10:\n",
    "    n += 1\n",
    "    print(n ,\"Hello Python\")"
   ]
  },
  {
   "cell_type": "code",
   "execution_count": 64,
   "id": "fc610df3",
   "metadata": {},
   "outputs": [],
   "source": [
    "n = 1\n",
    "\n",
    "#### 1번째 방법\n",
    "\n",
    "# while True:\n",
    "#     print(n)\n",
    "#     if n < 100:\n",
    "#         n += 1\n",
    "#     else:\n",
    "#         break\n",
    "\n",
    "#### 2째 방법\n",
    "\n",
    "# while n < 101:\n",
    "#     print(n)\n",
    "#     n += 1\n"
   ]
  },
  {
   "cell_type": "markdown",
   "id": "5883719d",
   "metadata": {},
   "source": [
    "- 두개의 정수를 입력받음\n",
    "- 입력받은 두 정수의 합을 출력\n",
    "- 두개의 정수로 0과 0을 입력받은 경우 반복문 이탈"
   ]
  },
  {
   "cell_type": "code",
   "execution_count": 82,
   "id": "15b1c6b5",
   "metadata": {},
   "outputs": [
    {
     "name": "stdout",
     "output_type": "stream",
     "text": [
      "두 수를 입력하세요.(예: 2 3) :  0 0\n",
      "종료되었습니다.\n"
     ]
    }
   ],
   "source": [
    " \n",
    "while True:\n",
    "    a, b = map(int, input(\"두 수를 입력하세요.(예: 2 3) : \").split())\n",
    "\n",
    "    if a == b == 0:\n",
    "        print(\"종료되었습니다.\")\n",
    "        break\n",
    "    else:\n",
    "        print(a+b)\n"
   ]
  },
  {
   "cell_type": "markdown",
   "id": "b3d1b9e8",
   "metadata": {},
   "source": [
    "## 다이어트 관리 프로그램\n",
    "\n",
    "- 목표 몸무게 입력\n",
    "- 현재 몸무게 입력\n",
    "- 매 주 감량한 몸무게 입력 후 \n",
    "  -현재 몸무게에서 목표 몸무계보다 적어지면, 종료\n",
    "- 출력 값은 \"축하합니다!__주 걸렸습니다\""
   ]
  },
  {
   "cell_type": "code",
   "execution_count": 90,
   "id": "79c39467",
   "metadata": {},
   "outputs": [
    {
     "name": "stdout",
     "output_type": "stream",
     "text": [
      "목표 몸무게: 50\n",
      "현재 몸무게: 30\n",
      "축하합니다!1주 걸렸습니다\n",
      "\n"
     ]
    }
   ],
   "source": [
    "n = 0\n",
    "purpose = int(input(\"목표 몸무게: \"))\n",
    "\n",
    "while True:\n",
    "    present = int(input(\"현재 몸무게: \"))\n",
    "    n+=1\n",
    "   \n",
    "    if present < purpose:\n",
    "        print(f\"축하합니다!{n}주 걸렸습니다\\n\")\n",
    "        break\n",
    "    \n",
    "    else:\n",
    "        print(\"힘내세요!!\\n\")\n",
    "    "
   ]
  },
  {
   "cell_type": "markdown",
   "id": "b44aec28",
   "metadata": {},
   "source": [
    "# 1에서 100사이 중 3의 배수인 값들의 합을 구하세요\n",
    "1683\n"
   ]
  },
  {
   "cell_type": "code",
   "execution_count": 101,
   "id": "eb6f3dce",
   "metadata": {},
   "outputs": [
    {
     "name": "stdout",
     "output_type": "stream",
     "text": [
      "1683\n"
     ]
    }
   ],
   "source": [
    "a = 0\n",
    "\n",
    "for n in range(100):\n",
    "    if n % 3 == 0:\n",
    "        a += n\n",
    "print(a)"
   ]
  },
  {
   "cell_type": "code",
   "execution_count": 135,
   "id": "270f4ae2",
   "metadata": {},
   "outputs": [
    {
     "name": "stdout",
     "output_type": "stream",
     "text": [
      "해당 소수 : [2, 3, 5, 7, 11, 13, 17, 19, 23, 29, 31, 37, 41, 43, 47, 53, 59, 61, 67, 71, 73, 79, 83, 89, 97]\n",
      "소수의 개수 : 25\n",
      "소수의 합 : 1060\n"
     ]
    }
   ],
   "source": [
    "prime_list = []\n",
    "result = 0\n",
    "\n",
    "for prime in range(101):\n",
    "    \n",
    "    # 1은 소수가 아니다.\n",
    "    if prime == 1 or prime == 0:\n",
    "        pass\n",
    "    \n",
    "    # 2부터 다음 조건을 실행한다.    \n",
    "    else:\n",
    "        \n",
    "        for i in range(2, prime):\n",
    "        \n",
    "            # 해당수가 1과 자기 자신이 아닌 다른 수로 나눠지면 break\n",
    "            if prime % i == 0:\n",
    "                break\n",
    "                \n",
    "        # 1과 자기 자신이 아닌 다른 수로 나눠지 않는 수에 대해서 prime_list에 추가한다\n",
    "        else:\n",
    "            prime_list.append(prime)\n",
    "            result += prime\n",
    "            \n",
    "print(f\"해당 소수 : {prime_list}\")       \n",
    "print(f\"소수의 개수 : {len(prime_list)}\")    \n",
    "print(f\"소수의 합 : {result}\")"
   ]
  },
  {
   "cell_type": "markdown",
   "id": "6bb782af",
   "metadata": {},
   "source": [
    "# 구구단 출력"
   ]
  },
  {
   "cell_type": "code",
   "execution_count": 152,
   "id": "903d16f6",
   "metadata": {},
   "outputs": [
    {
     "name": "stdout",
     "output_type": "stream",
     "text": [
      "3단 입니다!\n",
      "3 x 1 = 3\n",
      "3 x 2 = 6\n",
      "3 x 3 = 9\n",
      "3 x 4 = 12\n",
      "3 x 5 = 15\n",
      "3 x 6 = 18\n",
      "3 x 7 = 21\n",
      "3 x 8 = 24\n",
      "3 x 9 = 27\n",
      "4단 입니다!\n",
      "4 x 1 = 4\n",
      "4 x 2 = 8\n",
      "4 x 3 = 12\n",
      "4 x 4 = 16\n",
      "4 x 5 = 20\n",
      "4 x 6 = 24\n",
      "4 x 7 = 28\n",
      "4 x 8 = 32\n",
      "4 x 9 = 36\n",
      "5단 입니다!\n",
      "5 x 1 = 5\n",
      "5 x 2 = 10\n",
      "5 x 3 = 15\n",
      "5 x 4 = 20\n",
      "5 x 5 = 25\n",
      "5 x 6 = 30\n",
      "5 x 7 = 35\n",
      "5 x 8 = 40\n",
      "5 x 9 = 45\n",
      "6단 입니다!\n",
      "6 x 1 = 6\n",
      "6 x 2 = 12\n",
      "6 x 3 = 18\n",
      "6 x 4 = 24\n",
      "6 x 5 = 30\n",
      "6 x 6 = 36\n",
      "6 x 7 = 42\n",
      "6 x 8 = 48\n",
      "6 x 9 = 54\n",
      "7단 입니다!\n",
      "7 x 1 = 7\n",
      "7 x 2 = 14\n",
      "7 x 3 = 21\n",
      "7 x 4 = 28\n",
      "7 x 5 = 35\n",
      "7 x 6 = 42\n",
      "7 x 7 = 49\n",
      "7 x 8 = 56\n",
      "7 x 9 = 63\n",
      "8단 입니다!\n",
      "8 x 1 = 8\n",
      "8 x 2 = 16\n",
      "8 x 3 = 24\n",
      "8 x 4 = 32\n",
      "8 x 5 = 40\n",
      "8 x 6 = 48\n",
      "8 x 7 = 56\n",
      "8 x 8 = 64\n",
      "8 x 9 = 72\n",
      "9단 입니다!\n",
      "9 x 1 = 9\n",
      "9 x 2 = 18\n",
      "9 x 3 = 27\n",
      "9 x 4 = 36\n",
      "9 x 5 = 45\n",
      "9 x 6 = 54\n",
      "9 x 7 = 63\n",
      "9 x 8 = 72\n",
      "9 x 9 = 81\n",
      "10단 입니다!\n",
      "10 x 1 = 10\n",
      "10 x 2 = 20\n",
      "10 x 3 = 30\n",
      "10 x 4 = 40\n",
      "10 x 5 = 50\n",
      "10 x 6 = 60\n",
      "10 x 7 = 70\n",
      "10 x 8 = 80\n",
      "10 x 9 = 90\n",
      "11단 입니다!\n",
      "11 x 1 = 11\n",
      "11 x 2 = 22\n",
      "11 x 3 = 33\n",
      "11 x 4 = 44\n",
      "11 x 5 = 55\n",
      "11 x 6 = 66\n",
      "11 x 7 = 77\n",
      "11 x 8 = 88\n",
      "11 x 9 = 99\n",
      "12단 입니다!\n",
      "12 x 1 = 12\n",
      "12 x 2 = 24\n",
      "12 x 3 = 36\n",
      "12 x 4 = 48\n",
      "12 x 5 = 60\n",
      "12 x 6 = 72\n",
      "12 x 7 = 84\n",
      "12 x 8 = 96\n",
      "12 x 9 = 108\n",
      "13단 입니다!\n",
      "13 x 1 = 13\n",
      "13 x 2 = 26\n",
      "13 x 3 = 39\n",
      "13 x 4 = 52\n",
      "13 x 5 = 65\n",
      "13 x 6 = 78\n",
      "13 x 7 = 91\n",
      "13 x 8 = 104\n",
      "13 x 9 = 117\n",
      "14단 입니다!\n",
      "14 x 1 = 14\n",
      "14 x 2 = 28\n",
      "14 x 3 = 42\n",
      "14 x 4 = 56\n",
      "14 x 5 = 70\n",
      "14 x 6 = 84\n",
      "14 x 7 = 98\n",
      "14 x 8 = 112\n",
      "14 x 9 = 126\n",
      "15단 입니다!\n",
      "15 x 1 = 15\n",
      "15 x 2 = 30\n",
      "15 x 3 = 45\n",
      "15 x 4 = 60\n",
      "15 x 5 = 75\n",
      "15 x 6 = 90\n",
      "15 x 7 = 105\n",
      "15 x 8 = 120\n",
      "15 x 9 = 135\n",
      "16단 입니다!\n",
      "16 x 1 = 16\n",
      "16 x 2 = 32\n",
      "16 x 3 = 48\n",
      "16 x 4 = 64\n",
      "16 x 5 = 80\n",
      "16 x 6 = 96\n",
      "16 x 7 = 112\n",
      "16 x 8 = 128\n",
      "16 x 9 = 144\n",
      "17단 입니다!\n",
      "17 x 1 = 17\n",
      "17 x 2 = 34\n",
      "17 x 3 = 51\n",
      "17 x 4 = 68\n",
      "17 x 5 = 85\n",
      "17 x 6 = 102\n",
      "17 x 7 = 119\n",
      "17 x 8 = 136\n",
      "17 x 9 = 153\n",
      "18단 입니다!\n",
      "18 x 1 = 18\n",
      "18 x 2 = 36\n",
      "18 x 3 = 54\n",
      "18 x 4 = 72\n",
      "18 x 5 = 90\n",
      "18 x 6 = 108\n",
      "18 x 7 = 126\n",
      "18 x 8 = 144\n",
      "18 x 9 = 162\n",
      "19단 입니다!\n",
      "19 x 1 = 19\n",
      "19 x 2 = 38\n",
      "19 x 3 = 57\n",
      "19 x 4 = 76\n",
      "19 x 5 = 95\n",
      "19 x 6 = 114\n",
      "19 x 7 = 133\n",
      "19 x 8 = 152\n",
      "19 x 9 = 171\n"
     ]
    }
   ],
   "source": [
    "# number = input(\"몇 단? \")\n",
    "\n",
    "for x in range(3,20):\n",
    "    print(f\"{x}단 입니다!\")\n",
    "    \n",
    "    for n in range(1,10):\n",
    "        result = n * x\n",
    "        print(f\"{x} x {n} = {result}\")\n",
    "        \n",
    "    "
   ]
  },
  {
   "cell_type": "markdown",
   "id": "2d0a8860",
   "metadata": {},
   "source": [
    "# 업다운 게임\n",
    "- 컴퓨터 1~100 사이 자연수 생각\n",
    "- 플레이어는 1부터 100 사이의 임의의 자연수를 input\n",
    "- 컴퓨터가 생각한 수가 플레이어가 입력한 수보다 크다면 up, 반대면down\n",
    "- 플레이어가 입력한 수가 컴퓨터가 생각한 수와 일치하면 \n",
    "    - 몇 번만에 맞췄는지\n",
    "    "
   ]
  },
  {
   "cell_type": "code",
   "execution_count": 158,
   "id": "7bc59364",
   "metadata": {},
   "outputs": [
    {
     "name": "stdout",
     "output_type": "stream",
     "text": [
      "원하는 수를 입력하세요! : 10\n",
      "Up 84\n",
      "원하는 수를 입력하세요! : 84\n",
      "축하합니다! 시도 횟수 : 2번\n"
     ]
    }
   ],
   "source": [
    "import random\n",
    "\n",
    "count = 0\n",
    "computer = random.randint(1,101)\n",
    "\n",
    "while True:\n",
    "    player = int(input(\"원하는 수를 입력하세요! : \"))\n",
    "    count += 1\n",
    "    \n",
    "    if player == computer:\n",
    "        print(f\"축하합니다! 시도 횟수 : {count}번\")\n",
    "        break\n",
    "        \n",
    "    elif player > computer:\n",
    "        print(\"Down\", computer)\n",
    "    \n",
    "    else:\n",
    "        print(\"Up\", computer)        "
   ]
  },
  {
   "cell_type": "markdown",
   "id": "c40fa88b",
   "metadata": {},
   "source": [
    "# 카카오 진수 문제"
   ]
  },
  {
   "cell_type": "code",
   "execution_count": 199,
   "id": "8137bcc2",
   "metadata": {},
   "outputs": [],
   "source": [
    "# n , k = map(int, input(\"n과 k를 입력하세요.\").split())\n",
    "\n",
    "base = 0\n",
    "n = 50\n",
    "k = 6\n",
    "\n",
    "while True:\n",
    "# for x in range(0,1000):\n",
    "    share = n // k     # 20 // 3 = 6\n",
    "    remain = n - (k)      # 20 % 3 = 2\n",
    "    \n",
    "    if  remain > n:    # 2 > 20\n",
    "        print(remain)\n",
    "        remain = share % k\n",
    "        share = n // k \n",
    "      \n",
    "    else:\n",
    "        break\n"
   ]
  },
  {
   "cell_type": "markdown",
   "id": "e563b1dc",
   "metadata": {},
   "source": [
    "### class1의 \"이름\" key에 할당된 value를 전부 성을 뺀 이름으로 출력하고 싶음"
   ]
  },
  {
   "cell_type": "code",
   "execution_count": 201,
   "id": "15791ec9",
   "metadata": {},
   "outputs": [
    {
     "data": {
      "text/plain": [
       "{'이름': ['길동', '철수', '영희'], '나이': [11, 20, 40]}"
      ]
     },
     "execution_count": 201,
     "metadata": {},
     "output_type": "execute_result"
    }
   ],
   "source": [
    "class1 = {\"이름\": [\"홍길동\", \"김철수\", \"김영희\"], \"나이\": [11, 20, 40]}\n",
    "\n",
    "want = class1[\"이름\"]\n",
    "n_name = []\n",
    "\n",
    "for x in want:\n",
    "    n_name.append(x[1:])\n",
    "#     print(f\"{x} > {x[1:]}\")\n",
    "\n",
    "class1[\"이름\"] = n_name\n",
    "\n",
    "class1"
   ]
  },
  {
   "cell_type": "code",
   "execution_count": 203,
   "id": "a8c8b680",
   "metadata": {},
   "outputs": [
    {
     "data": {
      "text/plain": [
       "[1, 4, 9, 16, 25, 36, 49, 64, 81]"
      ]
     },
     "execution_count": 203,
     "metadata": {},
     "output_type": "execute_result"
    }
   ],
   "source": [
    "a = [ i**2 for i in range(1,10)]\n",
    "a"
   ]
  },
  {
   "cell_type": "code",
   "execution_count": 204,
   "id": "12517499",
   "metadata": {},
   "outputs": [],
   "source": [
    "\n",
    "\n",
    "# 평균 저장 새로운 항목\n",
    "# 성적을 기록한 새로우 항목 "
   ]
  },
  {
   "cell_type": "code",
   "execution_count": null,
   "id": "7de4f14b",
   "metadata": {},
   "outputs": [],
   "source": []
  },
  {
   "cell_type": "code",
   "execution_count": 257,
   "id": "b2d6cfa6",
   "metadata": {},
   "outputs": [
    {
     "name": "stdout",
     "output_type": "stream",
     "text": [
      "dict_keys(['수학', '영어', '국어'])\n"
     ]
    },
    {
     "data": {
      "text/plain": [
       "{'홍길동': {'수학': 99, '영어': 80, '국어': 75},\n",
       " '김미정': {'영어': 67, '국어': 87, '수학': 55},\n",
       " '정수진': {'수학': 67, '국어': 41, '영어': 23},\n",
       " '강은정': {'수학': 67, '국어': 41, '영어': 23},\n",
       " '이미정': {'수학': 67, '국어': 41, '영어': 23},\n",
       " '성적 평균': {'수학': 71.0, '영어': 51.8, '국어': 68.4}}"
      ]
     },
     "execution_count": 257,
     "metadata": {},
     "output_type": "execute_result"
    }
   ],
   "source": [
    "scores = {'홍길동':{'수학':99,'영어':80,'국어':75},\n",
    "          '김미정':{'영어':67,'국어':87,'수학':55},\n",
    "          '정수진':{'수학':67,'국어':41,'영어':23},\n",
    "         '강은정':{'수학':67,'국어':41,'영어':23},\n",
    "         '이미정':{'수학':67,'국어':41,'영어':23}}\n",
    "\n",
    "subject = list(scores.values())[0].keys()\n",
    "\n",
    "# subject = scores.values.keys()\n",
    "person_score = scores.values()\n",
    "person_names = scores.keys()\n",
    "\n",
    "average_dict = {}\n",
    "\n",
    "print(subject)\n",
    "\n",
    "# 원하는 과복에 대해 반복할거야\n",
    "for y in subject:\n",
    "    sum_score = 0\n",
    "    \n",
    "    for x in person_names:\n",
    "        # 이름별 y과목의 성적 추출하기\n",
    "        s = scores[x][y]\n",
    "        \n",
    "        # 추출한 점수 더하기\n",
    "        sum_score += s\n",
    "        \n",
    "        #평균값구하기\n",
    "        average = round(sum_score/len(key),1)\n",
    "        \n",
    "        #평균값 추가하기\n",
    "        average_dict[y] = average\n",
    "    \n",
    "    # 평균이라는 항목을 scores에 추가하기\n",
    "    scores[\"성적 평균\"] = average_dict\n",
    "        \n",
    "scores\n"
   ]
  },
  {
   "cell_type": "code",
   "execution_count": 256,
   "id": "9ac69e73",
   "metadata": {},
   "outputs": [
    {
     "data": {
      "text/plain": [
       "{'홍길동': {'수학': 99, '영어': 80, '국어': 75},\n",
       " '김미정': {'영어': 67, '국어': 87, '수학': 55},\n",
       " '정수진': {'수학': 67, '국어': 41, '영어': 23},\n",
       " '평균 점수': {'국어': 67.66666666666667,\n",
       "  ' 수학': 73.66666666666667,\n",
       "  '영어': 56.666666666666664}}"
      ]
     },
     "execution_count": 256,
     "metadata": {},
     "output_type": "execute_result"
    }
   ],
   "source": [
    "scores_2 = {'홍길동':{'수학':99,'영어':80,'국어':75},\n",
    "          '김미정':{'영어':67,'국어':87,'수학':55},\n",
    "          '정수진':{'수학':67,'국어':41,'영어':23}}\n",
    "math = eng = kor = 0\n",
    "\n",
    "for i in scores_2:\n",
    "    math += scores_2[i][\"수학\"]\n",
    "    eng += scores_2[i][\"영어\"]    \n",
    "    kor += scores_2[i][\"국어\"]\n",
    "    num = len(scores_2)\n",
    "scores_2[\"평균 점수\"] = {\"국어\": kor/num, \" 수학\": math/num, \"영어\": eng/num}\n",
    "\n",
    "scores_2"
   ]
  },
  {
   "cell_type": "code",
   "execution_count": 267,
   "id": "e90f1690",
   "metadata": {},
   "outputs": [
    {
     "name": "stdout",
     "output_type": "stream",
     "text": [
      "절상: 74\n",
      "절사: 73\n",
      "반내림: 73\n",
      "반올림: 74\n",
      "소수점 2번째 자리에서 반올림: 73.78\n"
     ]
    }
   ],
   "source": [
    "print(\"절상:\", round(73.7))\n",
    "print(\"절사:\",int(73.7))\n",
    "\n",
    "import math\n",
    "\n",
    "print(\"반내림:\", math.floor(73.7))\n",
    "print(\"반올림:\", math.ceil(73.7))\n",
    "print(\"소수점 2번째 자리에서 반올림:\", round(73.7822, 2))\n"
   ]
  },
  {
   "cell_type": "markdown",
   "id": "26de72fd",
   "metadata": {},
   "source": [
    "# 카카오 ID문제"
   ]
  },
  {
   "cell_type": "code",
   "execution_count": null,
   "id": "078dc730",
   "metadata": {},
   "outputs": [],
   "source": [
    "# 아이디를 입력받는다\n",
    "# new_id = input(\"아이디를 입력하세요: \")\n",
    "new_id = \"abcdefghijklmn.p\"\n",
    "possible = ['a', 'b', 'c', 'd', 'e', 'f', 'g', 'h', 'i', 'j', 'k', 'l', 'm', 'n', 'o', 'p' ,'q', 'r', 's', 't', 'u', 'v', 'w', 'x', 'y', 'z', \"0\", \"1\", \"2\", \"3\", \"4\", \"5\", \"6\", \"7\", \"8\", \"9\", \"0\",  \"-\", \"_\", \".\"]\n",
    "\n",
    "# 2. 소문자, 숫자, 빼기, 밑줄, 마침표를 제외한 모든 문자를 제거한다.\n",
    "new_id = new_id.lower()\n",
    "\n",
    "# for ch in possible:\n",
    "\n",
    "# 아이디를 리스트화 해서 하나 뽑는다.\n",
    "for x in new_id:\n",
    "    \n",
    "    # 뽑은 문자에 대해 리스트 안에 그 문자가 있지 않다면\n",
    "    if x not in possible:\n",
    "        \n",
    "        # 아이디에서 그 문자를 제거한다.\n",
    "        new_id = new_id.replace(x, \"\")\n",
    "        \n",
    "    else:\n",
    "        continue\n",
    "\n",
    "# 3. 마침표가 2번이상 반복된 부분은 하나로 치환\n",
    "while True:\n",
    "    if new_id.count(\"..\") == 0:\n",
    "        break\n",
    "    else:\n",
    "        new_id = new_id.replace(\"..\", \".\") \n",
    "\n",
    "while True:\n",
    "\n",
    "    # 4. new_id에서 마침표(.)가 처음이나 끝에 위치한다면 제거\n",
    "    if (new_id.endswith(\".\") == True) or (new_id.startswith(\".\") == True):\n",
    "        new_id = new_id.strip(\".\")\n",
    "        \n",
    "    elif len(new_id) <= 2 and len(new_id) >= 0:\n",
    "        # 5. new_id가 빈 문자열이라면, new_id에 \"a\"를 대입\n",
    "        if len(new_id) == 0:\n",
    "            new_id = \"a\"\n",
    "        else:\n",
    "            while len(new_id) <= 3:\n",
    "#                 print(new_id, type(new_id), len(new_id))\n",
    "                new_id = new_id + new_id[len(new_id)-1]\n",
    "                break\n",
    "    # 6. new_id의 길이가 16자 이상이면, new_id의 첫 15개의 문자를 제외한 나머지 문자들을 모두 제거\n",
    "    elif len(new_id) > 15:\n",
    "        new_id = new_id[0:16]\n",
    "    \n",
    "    else:\n",
    "        break\n",
    "\n",
    "\n",
    "\n",
    "print(new_id, len(new_id))"
   ]
  },
  {
   "cell_type": "code",
   "execution_count": 324,
   "id": "8515de40",
   "metadata": {},
   "outputs": [
    {
     "name": "stdout",
     "output_type": "stream",
     "text": [
      "dddddaa\n",
      "6\n"
     ]
    }
   ],
   "source": [
    "a = \"ddddda\"\n",
    "\n",
    "print(a + a[len(a)-1])\n",
    "\n",
    "print(len(a))\n",
    "# print(a + a[len(a)])\n"
   ]
  },
  {
   "cell_type": "code",
   "execution_count": null,
   "id": "df9a542e",
   "metadata": {},
   "outputs": [],
   "source": []
  }
 ],
 "metadata": {
  "kernelspec": {
   "display_name": "Python 3 (ipykernel)",
   "language": "python",
   "name": "python3"
  },
  "language_info": {
   "codemirror_mode": {
    "name": "ipython",
    "version": 3
   },
   "file_extension": ".py",
   "mimetype": "text/x-python",
   "name": "python",
   "nbconvert_exporter": "python",
   "pygments_lexer": "ipython3",
   "version": "3.9.12"
  }
 },
 "nbformat": 4,
 "nbformat_minor": 5
}
