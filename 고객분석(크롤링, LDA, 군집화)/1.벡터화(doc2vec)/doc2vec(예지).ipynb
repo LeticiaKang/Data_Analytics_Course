{
 "cells": [
  {
   "cell_type": "markdown",
   "metadata": {},
   "source": [
    "##### doc2vec"
   ]
  },
  {
   "cell_type": "code",
   "execution_count": 1,
   "metadata": {},
   "outputs": [],
   "source": [
    "import matplotlib.pyplot as plt\n",
    "plt.rcParams[\"font.family\"] = \"Malgun Gothic\"\n",
    "plt.rcParams[\"axes.unicode_minus\"] = False\n",
    "\n",
    "import numpy as np\n",
    "import pandas as pd\n",
    "import re\n",
    "from konlpy.tag import Okt\n",
    "from tqdm import tqdm"
   ]
  },
  {
   "cell_type": "code",
   "execution_count": 2,
   "metadata": {},
   "outputs": [
    {
     "data": {
      "text/html": [
       "<div>\n",
       "<style scoped>\n",
       "    .dataframe tbody tr th:only-of-type {\n",
       "        vertical-align: middle;\n",
       "    }\n",
       "\n",
       "    .dataframe tbody tr th {\n",
       "        vertical-align: top;\n",
       "    }\n",
       "\n",
       "    .dataframe thead th {\n",
       "        text-align: right;\n",
       "    }\n",
       "</style>\n",
       "<table border=\"1\" class=\"dataframe\">\n",
       "  <thead>\n",
       "    <tr style=\"text-align: right;\">\n",
       "      <th></th>\n",
       "      <th>Unnamed: 0</th>\n",
       "      <th>회사</th>\n",
       "      <th>doc</th>\n",
       "      <th>token</th>\n",
       "      <th>text_noun</th>\n",
       "    </tr>\n",
       "  </thead>\n",
       "  <tbody>\n",
       "    <tr>\n",
       "      <th>0</th>\n",
       "      <td>0</td>\n",
       "      <td>네이버</td>\n",
       "      <td>커리어 경력 쌓고 싶은 사람에게 추천 수평적 사무실 분위기와 복지가 다른 곳 보다는...</td>\n",
       "      <td>['커리어', '경력', '사람', '추천', '수평', '사무실', '분위기', ...</td>\n",
       "      <td>['커리어', '경력', '사람', '추천', '수평', '사무실', '분위기', ...</td>\n",
       "    </tr>\n",
       "    <tr>\n",
       "      <th>1</th>\n",
       "      <td>1</td>\n",
       "      <td>네이버</td>\n",
       "      <td>자유로운 복장 분위기가 일단 편해서 좋았어요 물론 업무는 당연히 강도가 있어야 할 ...</td>\n",
       "      <td>['자유롭다', '복장', '분위기', '편하다', '좋다', '업무', '당연하다...</td>\n",
       "      <td>['복장', '분위기', '업무', '강도', '부분', '분위기', '근무', '...</td>\n",
       "    </tr>\n",
       "    <tr>\n",
       "      <th>2</th>\n",
       "      <td>2</td>\n",
       "      <td>네이버</td>\n",
       "      <td>워라밸과 성장을 동시에 챙길 수 있는 몇 안되는 기업 앞으로도 가장 전망이 좋은 플...</td>\n",
       "      <td>['워', '밸', '성장', '동시', '수', '안되다', '기업', '앞', ...</td>\n",
       "      <td>['워', '밸', '성장', '동시', '수', '기업', '앞', '가장', '...</td>\n",
       "    </tr>\n",
       "    <tr>\n",
       "      <th>3</th>\n",
       "      <td>3</td>\n",
       "      <td>네이버</td>\n",
       "      <td>개발자가 영향력을 좀 발휘하며 일할수 있는곳 it업계 1위 개발에만 집중하며 일할 ...</td>\n",
       "      <td>['개발자', '영향력', '발휘', '곳', '업계', '위', '개발', '집중...</td>\n",
       "      <td>['개발자', '영향력', '발휘', '곳', '업계', '위', '개발', '집중...</td>\n",
       "    </tr>\n",
       "    <tr>\n",
       "      <th>4</th>\n",
       "      <td>4</td>\n",
       "      <td>네이버</td>\n",
       "      <td>아르바이트 생이었지만 꿈의 직장이란게 이런 것이구나 느낄 수 있었다 휴가 연차 등 ...</td>\n",
       "      <td>['아르바이트', '생', '꿈', '직장', '이란', '이렇다', '수', '휴...</td>\n",
       "      <td>['아르바이트', '생', '꿈', '직장', '이란', '수', '휴가', '연차...</td>\n",
       "    </tr>\n",
       "  </tbody>\n",
       "</table>\n",
       "</div>"
      ],
      "text/plain": [
       "   Unnamed: 0   회사                                                doc  \\\n",
       "0           0  네이버  커리어 경력 쌓고 싶은 사람에게 추천 수평적 사무실 분위기와 복지가 다른 곳 보다는...   \n",
       "1           1  네이버  자유로운 복장 분위기가 일단 편해서 좋았어요 물론 업무는 당연히 강도가 있어야 할 ...   \n",
       "2           2  네이버  워라밸과 성장을 동시에 챙길 수 있는 몇 안되는 기업 앞으로도 가장 전망이 좋은 플...   \n",
       "3           3  네이버  개발자가 영향력을 좀 발휘하며 일할수 있는곳 it업계 1위 개발에만 집중하며 일할 ...   \n",
       "4           4  네이버  아르바이트 생이었지만 꿈의 직장이란게 이런 것이구나 느낄 수 있었다 휴가 연차 등 ...   \n",
       "\n",
       "                                               token  \\\n",
       "0  ['커리어', '경력', '사람', '추천', '수평', '사무실', '분위기', ...   \n",
       "1  ['자유롭다', '복장', '분위기', '편하다', '좋다', '업무', '당연하다...   \n",
       "2  ['워', '밸', '성장', '동시', '수', '안되다', '기업', '앞', ...   \n",
       "3  ['개발자', '영향력', '발휘', '곳', '업계', '위', '개발', '집중...   \n",
       "4  ['아르바이트', '생', '꿈', '직장', '이란', '이렇다', '수', '휴...   \n",
       "\n",
       "                                           text_noun  \n",
       "0  ['커리어', '경력', '사람', '추천', '수평', '사무실', '분위기', ...  \n",
       "1  ['복장', '분위기', '업무', '강도', '부분', '분위기', '근무', '...  \n",
       "2  ['워', '밸', '성장', '동시', '수', '기업', '앞', '가장', '...  \n",
       "3  ['개발자', '영향력', '발휘', '곳', '업계', '위', '개발', '집중...  \n",
       "4  ['아르바이트', '생', '꿈', '직장', '이란', '수', '휴가', '연차...  "
      ]
     },
     "execution_count": 2,
     "metadata": {},
     "output_type": "execute_result"
    }
   ],
   "source": [
    "data = pd.read_csv(\"data_토큰화(doc,token,text_noun).csv\", encoding='utf-8-sig')\n",
    "data.head()"
   ]
  },
  {
   "cell_type": "code",
   "execution_count": 3,
   "metadata": {},
   "outputs": [
    {
     "name": "stdout",
     "output_type": "stream",
     "text": [
      "<class 'pandas.core.frame.DataFrame'>\n",
      "RangeIndex: 60573 entries, 0 to 60572\n",
      "Data columns (total 4 columns):\n",
      " #   Column     Non-Null Count  Dtype \n",
      "---  ------     --------------  ----- \n",
      " 0   회사         60573 non-null  object\n",
      " 1   doc        60573 non-null  object\n",
      " 2   token      60573 non-null  object\n",
      " 3   text_noun  60573 non-null  object\n",
      "dtypes: object(4)\n",
      "memory usage: 1.8+ MB\n"
     ]
    }
   ],
   "source": [
    "#필요없는 컬럼 삭제\n",
    "del data['Unnamed: 0']\n",
    "data.info()"
   ]
  },
  {
   "cell_type": "code",
   "execution_count": 4,
   "metadata": {},
   "outputs": [],
   "source": [
    "from gensim.models.doc2vec import Doc2Vec, TaggedDocument\n",
    "from sklearn.cluster import KMeans\n",
    "from gensim.test.utils import common_texts"
   ]
  },
  {
   "cell_type": "code",
   "execution_count": 6,
   "metadata": {},
   "outputs": [],
   "source": [
    "import ast\n",
    "token = []\n",
    "token_noun = []\n",
    "for i in range(len(data['token'])):\n",
    "    token.append(ast.literal_eval(data['token'][i]))\n",
    "    token_noun.append(ast.literal_eval(data['text_noun'][i]))"
   ]
  },
  {
   "cell_type": "code",
   "execution_count": 7,
   "metadata": {},
   "outputs": [],
   "source": [
    "data['token'] = token\n",
    "data['text_noun'] = token_noun"
   ]
  },
  {
   "cell_type": "code",
   "execution_count": 8,
   "metadata": {},
   "outputs": [],
   "source": [
    "documents = [TaggedDocument(word, [i]) for i, word in enumerate(data['token'])]"
   ]
  },
  {
   "cell_type": "code",
   "execution_count": 9,
   "metadata": {},
   "outputs": [
    {
     "name": "stdout",
     "output_type": "stream",
     "text": [
      "iteration 0\n",
      "iteration 1\n",
      "iteration 2\n",
      "iteration 3\n",
      "iteration 4\n",
      "iteration 5\n",
      "iteration 6\n",
      "iteration 7\n",
      "iteration 8\n",
      "iteration 9\n"
     ]
    }
   ],
   "source": [
    "max_epochs = 10\n",
    "vec_size = 20\n",
    "alpha = 0.025\n",
    "\n",
    "model = Doc2Vec(vector_size=20,\n",
    "                alpha=alpha, \n",
    "                min_alpha=0.00025,\n",
    "                min_count=3,\n",
    "                dm =1)\n",
    "  \n",
    "model.build_vocab(documents)\n",
    "\n",
    "for epoch in range(max_epochs):\n",
    "    print('iteration {0}'.format(epoch))\n",
    "    model.train(documents,\n",
    "                total_examples=model.corpus_count,\n",
    "                epochs=10)\n",
    "    # decrease the learning rate\n",
    "    model.alpha -= 0.002\n",
    "    # fix the learning rate, no decay\n",
    "    model.min_alpha = model.alpha"
   ]
  },
  {
   "cell_type": "code",
   "execution_count": 10,
   "metadata": {},
   "outputs": [
    {
     "data": {
      "text/plain": [
       "['커리어',\n",
       " '경력',\n",
       " '사람',\n",
       " '추천',\n",
       " '수평',\n",
       " '사무실',\n",
       " '분위기',\n",
       " '복지',\n",
       " '곳',\n",
       " '편',\n",
       " '회사',\n",
       " '시스템',\n",
       " '비',\n",
       " '효율',\n",
       " '부분',\n",
       " '업',\n",
       " '무량',\n",
       " '많다',\n",
       " '편이',\n",
       " '그냥',\n",
       " '간단하다',\n",
       " '더',\n",
       " '소통',\n",
       " '좋다']"
      ]
     },
     "execution_count": 10,
     "metadata": {},
     "output_type": "execute_result"
    }
   ],
   "source": [
    "data['token'][0]"
   ]
  },
  {
   "cell_type": "code",
   "execution_count": 11,
   "metadata": {},
   "outputs": [],
   "source": [
    "vector = model.infer_vector(data['token'][0])"
   ]
  },
  {
   "cell_type": "code",
   "execution_count": 12,
   "metadata": {},
   "outputs": [
    {
     "data": {
      "text/plain": [
       "60573"
      ]
     },
     "execution_count": 12,
     "metadata": {},
     "output_type": "execute_result"
    }
   ],
   "source": [
    "len(data['token'])"
   ]
  },
  {
   "cell_type": "code",
   "execution_count": 13,
   "metadata": {},
   "outputs": [
    {
     "name": "stderr",
     "output_type": "stream",
     "text": [
      "100%|██████████| 60573/60573 [00:18<00:00, 3232.26it/s]\n"
     ]
    }
   ],
   "source": [
    "model.random.seed(9999)\n",
    "rv = []\n",
    "for i in tqdm(data['token']):\n",
    "    vector = model.infer_vector(i)\n",
    "    rv.append(vector)"
   ]
  },
  {
   "cell_type": "code",
   "execution_count": 14,
   "metadata": {},
   "outputs": [
    {
     "data": {
      "text/plain": [
       "60573"
      ]
     },
     "execution_count": 14,
     "metadata": {},
     "output_type": "execute_result"
    }
   ],
   "source": [
    "len(rv)"
   ]
  },
  {
   "cell_type": "code",
   "execution_count": 15,
   "metadata": {},
   "outputs": [],
   "source": [
    "data['review_vec'] = rv"
   ]
  },
  {
   "cell_type": "code",
   "execution_count": 16,
   "metadata": {},
   "outputs": [],
   "source": [
    "data.rename(columns = {'Unnamed: 0': 'doc_num'}, inplace=True)"
   ]
  },
  {
   "cell_type": "code",
   "execution_count": 19,
   "metadata": {},
   "outputs": [],
   "source": [
    "#data.drop(['Unnamed: 0.3','Unnamed: 0.2','Unnamed: 0.1'], axis=1, inplace=True)"
   ]
  },
  {
   "cell_type": "code",
   "execution_count": 18,
   "metadata": {},
   "outputs": [
    {
     "data": {
      "text/html": [
       "<div>\n",
       "<style scoped>\n",
       "    .dataframe tbody tr th:only-of-type {\n",
       "        vertical-align: middle;\n",
       "    }\n",
       "\n",
       "    .dataframe tbody tr th {\n",
       "        vertical-align: top;\n",
       "    }\n",
       "\n",
       "    .dataframe thead th {\n",
       "        text-align: right;\n",
       "    }\n",
       "</style>\n",
       "<table border=\"1\" class=\"dataframe\">\n",
       "  <thead>\n",
       "    <tr style=\"text-align: right;\">\n",
       "      <th></th>\n",
       "      <th>회사</th>\n",
       "      <th>doc</th>\n",
       "      <th>token</th>\n",
       "      <th>text_noun</th>\n",
       "      <th>review_vec</th>\n",
       "    </tr>\n",
       "  </thead>\n",
       "  <tbody>\n",
       "    <tr>\n",
       "      <th>0</th>\n",
       "      <td>네이버</td>\n",
       "      <td>커리어 경력 쌓고 싶은 사람에게 추천 수평적 사무실 분위기와 복지가 다른 곳 보다는...</td>\n",
       "      <td>[커리어, 경력, 사람, 추천, 수평, 사무실, 분위기, 복지, 곳, 편, 회사, ...</td>\n",
       "      <td>[커리어, 경력, 사람, 추천, 수평, 사무실, 분위기, 복지, 곳, 편, 회사, ...</td>\n",
       "      <td>[-0.3265629, -0.20540974, 0.1888582, 0.1315793...</td>\n",
       "    </tr>\n",
       "    <tr>\n",
       "      <th>1</th>\n",
       "      <td>네이버</td>\n",
       "      <td>자유로운 복장 분위기가 일단 편해서 좋았어요 물론 업무는 당연히 강도가 있어야 할 ...</td>\n",
       "      <td>[자유롭다, 복장, 분위기, 편하다, 좋다, 업무, 당연하다, 강도, 부분, 편하다...</td>\n",
       "      <td>[복장, 분위기, 업무, 강도, 부분, 분위기, 근무, 환경, 중요시, 생각, 물리...</td>\n",
       "      <td>[-0.4096759, 0.10019315, -0.03808209, -0.01951...</td>\n",
       "    </tr>\n",
       "    <tr>\n",
       "      <th>2</th>\n",
       "      <td>네이버</td>\n",
       "      <td>워라밸과 성장을 동시에 챙길 수 있는 몇 안되는 기업 앞으로도 가장 전망이 좋은 플...</td>\n",
       "      <td>[워, 밸, 성장, 동시, 수, 안되다, 기업, 앞, 가장, 전망, 좋다, 플랫폼,...</td>\n",
       "      <td>[워, 밸, 성장, 동시, 수, 기업, 앞, 가장, 전망, 플랫폼, 임밸류, 문화,...</td>\n",
       "      <td>[-0.36782032, -0.23058303, 0.074808866, -0.011...</td>\n",
       "    </tr>\n",
       "    <tr>\n",
       "      <th>3</th>\n",
       "      <td>네이버</td>\n",
       "      <td>개발자가 영향력을 좀 발휘하며 일할수 있는곳 it업계 1위 개발에만 집중하며 일할 ...</td>\n",
       "      <td>[개발자, 영향력, 발휘, 곳, 업계, 위, 개발, 집중, 수, 보상, 복지, 좋다...</td>\n",
       "      <td>[개발자, 영향력, 발휘, 곳, 업계, 위, 개발, 집중, 수, 보상, 복지, 케바...</td>\n",
       "      <td>[-0.33013007, -0.117650464, 0.10383661, -0.015...</td>\n",
       "    </tr>\n",
       "    <tr>\n",
       "      <th>4</th>\n",
       "      <td>네이버</td>\n",
       "      <td>아르바이트 생이었지만 꿈의 직장이란게 이런 것이구나 느낄 수 있었다 휴가 연차 등 ...</td>\n",
       "      <td>[아르바이트, 생, 꿈, 직장, 이란, 이렇다, 수, 휴가, 연차, 복지, 눈치, ...</td>\n",
       "      <td>[아르바이트, 생, 꿈, 직장, 이란, 수, 휴가, 연차, 복지, 눈치, 전혀, 자...</td>\n",
       "      <td>[-0.22602941, -0.14391607, 0.14934903, 0.08710...</td>\n",
       "    </tr>\n",
       "    <tr>\n",
       "      <th>...</th>\n",
       "      <td>...</td>\n",
       "      <td>...</td>\n",
       "      <td>...</td>\n",
       "      <td>...</td>\n",
       "      <td>...</td>\n",
       "    </tr>\n",
       "    <tr>\n",
       "      <th>60568</th>\n",
       "      <td>여기어때</td>\n",
       "      <td>돈은 있다 성장을 원한다 높은 보상을 원한다면 도전해보라 조직원 평균연령이 젊음(그...</td>\n",
       "      <td>[돈, 성장, 원하다, 높다, 보상, 원하다, 도전, 직원, 평균연령, 젊음, 사고...</td>\n",
       "      <td>[돈, 성장, 보상, 도전, 직원, 평균연령, 젊음, 사고, 분위기, 자체, 열정,...</td>\n",
       "      <td>[-0.43693778, -0.34135696, 0.12423124, -0.0626...</td>\n",
       "    </tr>\n",
       "    <tr>\n",
       "      <th>60569</th>\n",
       "      <td>여기어때</td>\n",
       "      <td>자율적인 분위기 깨어있는 조직문화 안정적인 회사를 원하면 지원해도됨 경영진의 마인드...</td>\n",
       "      <td>[자율, 분위기, 조직, 문화, 안정, 회사, 원하다, 지원, 경영, 진의, 마인드...</td>\n",
       "      <td>[자율, 분위기, 조직, 문화, 안정, 회사, 지원, 경영, 진의, 마인드, 후, ...</td>\n",
       "      <td>[-0.42883778, -0.39161068, 0.2860069, 0.329696...</td>\n",
       "    </tr>\n",
       "    <tr>\n",
       "      <th>60570</th>\n",
       "      <td>여기어때</td>\n",
       "      <td>BEST 일에 대한 열정이 있고 대인관계에 자신이 있는 자는 쉽게 높은 연봉과 직급...</td>\n",
       "      <td>[대한, 열정, 대인관계, 높다, 연봉, 직급, 수, 젊다, 분위기, 분위기, 좋다...</td>\n",
       "      <td>[대한, 열정, 대인관계, 연봉, 직급, 수, 분위기, 분위기, 거, 인사, 시스템...</td>\n",
       "      <td>[-0.29673645, -0.22056107, 0.20917991, 0.06296...</td>\n",
       "    </tr>\n",
       "    <tr>\n",
       "      <th>60571</th>\n",
       "      <td>여기어때</td>\n",
       "      <td>젊은 분위기 야근 많고 주말근무도 많음 월급은 적음 작은 규모이지만 비전을 가지고 ...</td>\n",
       "      <td>[젊다, 분위기, 야근, 많다, 주말, 근무, 많다, 월급, 작다, 규모, 가지, ...</td>\n",
       "      <td>[분위기, 야근, 주말, 근무, 월급, 규모, 가지, 움직, 미래, 사장, 마인드,...</td>\n",
       "      <td>[-0.33322313, -0.300865, 0.05103625, -0.124771...</td>\n",
       "    </tr>\n",
       "    <tr>\n",
       "      <th>60572</th>\n",
       "      <td>여기어때</td>\n",
       "      <td>완벽하지는 않지만 계속해서 발전해 나가는 회사 임원진의 결단이 빠르고 신속하게 진행...</td>\n",
       "      <td>[완벽하다, 계속, 발전, 회사, 임원진, 결단, 빠르다, 신속하다, 진행, 많다,...</td>\n",
       "      <td>[계속, 발전, 회사, 임원진, 결단, 진행, 사업, 생기, 그로, 업무, 경험, ...</td>\n",
       "      <td>[-0.21479578, -0.10290742, 0.04783873, 0.14692...</td>\n",
       "    </tr>\n",
       "  </tbody>\n",
       "</table>\n",
       "<p>60573 rows × 5 columns</p>\n",
       "</div>"
      ],
      "text/plain": [
       "         회사                                                doc  \\\n",
       "0       네이버  커리어 경력 쌓고 싶은 사람에게 추천 수평적 사무실 분위기와 복지가 다른 곳 보다는...   \n",
       "1       네이버  자유로운 복장 분위기가 일단 편해서 좋았어요 물론 업무는 당연히 강도가 있어야 할 ...   \n",
       "2       네이버  워라밸과 성장을 동시에 챙길 수 있는 몇 안되는 기업 앞으로도 가장 전망이 좋은 플...   \n",
       "3       네이버  개발자가 영향력을 좀 발휘하며 일할수 있는곳 it업계 1위 개발에만 집중하며 일할 ...   \n",
       "4       네이버  아르바이트 생이었지만 꿈의 직장이란게 이런 것이구나 느낄 수 있었다 휴가 연차 등 ...   \n",
       "...     ...                                                ...   \n",
       "60568  여기어때  돈은 있다 성장을 원한다 높은 보상을 원한다면 도전해보라 조직원 평균연령이 젊음(그...   \n",
       "60569  여기어때  자율적인 분위기 깨어있는 조직문화 안정적인 회사를 원하면 지원해도됨 경영진의 마인드...   \n",
       "60570  여기어때  BEST 일에 대한 열정이 있고 대인관계에 자신이 있는 자는 쉽게 높은 연봉과 직급...   \n",
       "60571  여기어때  젊은 분위기 야근 많고 주말근무도 많음 월급은 적음 작은 규모이지만 비전을 가지고 ...   \n",
       "60572  여기어때  완벽하지는 않지만 계속해서 발전해 나가는 회사 임원진의 결단이 빠르고 신속하게 진행...   \n",
       "\n",
       "                                                   token  \\\n",
       "0      [커리어, 경력, 사람, 추천, 수평, 사무실, 분위기, 복지, 곳, 편, 회사, ...   \n",
       "1      [자유롭다, 복장, 분위기, 편하다, 좋다, 업무, 당연하다, 강도, 부분, 편하다...   \n",
       "2      [워, 밸, 성장, 동시, 수, 안되다, 기업, 앞, 가장, 전망, 좋다, 플랫폼,...   \n",
       "3      [개발자, 영향력, 발휘, 곳, 업계, 위, 개발, 집중, 수, 보상, 복지, 좋다...   \n",
       "4      [아르바이트, 생, 꿈, 직장, 이란, 이렇다, 수, 휴가, 연차, 복지, 눈치, ...   \n",
       "...                                                  ...   \n",
       "60568  [돈, 성장, 원하다, 높다, 보상, 원하다, 도전, 직원, 평균연령, 젊음, 사고...   \n",
       "60569  [자율, 분위기, 조직, 문화, 안정, 회사, 원하다, 지원, 경영, 진의, 마인드...   \n",
       "60570  [대한, 열정, 대인관계, 높다, 연봉, 직급, 수, 젊다, 분위기, 분위기, 좋다...   \n",
       "60571  [젊다, 분위기, 야근, 많다, 주말, 근무, 많다, 월급, 작다, 규모, 가지, ...   \n",
       "60572  [완벽하다, 계속, 발전, 회사, 임원진, 결단, 빠르다, 신속하다, 진행, 많다,...   \n",
       "\n",
       "                                               text_noun  \\\n",
       "0      [커리어, 경력, 사람, 추천, 수평, 사무실, 분위기, 복지, 곳, 편, 회사, ...   \n",
       "1      [복장, 분위기, 업무, 강도, 부분, 분위기, 근무, 환경, 중요시, 생각, 물리...   \n",
       "2      [워, 밸, 성장, 동시, 수, 기업, 앞, 가장, 전망, 플랫폼, 임밸류, 문화,...   \n",
       "3      [개발자, 영향력, 발휘, 곳, 업계, 위, 개발, 집중, 수, 보상, 복지, 케바...   \n",
       "4      [아르바이트, 생, 꿈, 직장, 이란, 수, 휴가, 연차, 복지, 눈치, 전혀, 자...   \n",
       "...                                                  ...   \n",
       "60568  [돈, 성장, 보상, 도전, 직원, 평균연령, 젊음, 사고, 분위기, 자체, 열정,...   \n",
       "60569  [자율, 분위기, 조직, 문화, 안정, 회사, 지원, 경영, 진의, 마인드, 후, ...   \n",
       "60570  [대한, 열정, 대인관계, 연봉, 직급, 수, 분위기, 분위기, 거, 인사, 시스템...   \n",
       "60571  [분위기, 야근, 주말, 근무, 월급, 규모, 가지, 움직, 미래, 사장, 마인드,...   \n",
       "60572  [계속, 발전, 회사, 임원진, 결단, 진행, 사업, 생기, 그로, 업무, 경험, ...   \n",
       "\n",
       "                                              review_vec  \n",
       "0      [-0.3265629, -0.20540974, 0.1888582, 0.1315793...  \n",
       "1      [-0.4096759, 0.10019315, -0.03808209, -0.01951...  \n",
       "2      [-0.36782032, -0.23058303, 0.074808866, -0.011...  \n",
       "3      [-0.33013007, -0.117650464, 0.10383661, -0.015...  \n",
       "4      [-0.22602941, -0.14391607, 0.14934903, 0.08710...  \n",
       "...                                                  ...  \n",
       "60568  [-0.43693778, -0.34135696, 0.12423124, -0.0626...  \n",
       "60569  [-0.42883778, -0.39161068, 0.2860069, 0.329696...  \n",
       "60570  [-0.29673645, -0.22056107, 0.20917991, 0.06296...  \n",
       "60571  [-0.33322313, -0.300865, 0.05103625, -0.124771...  \n",
       "60572  [-0.21479578, -0.10290742, 0.04783873, 0.14692...  \n",
       "\n",
       "[60573 rows x 5 columns]"
      ]
     },
     "execution_count": 18,
     "metadata": {},
     "output_type": "execute_result"
    }
   ],
   "source": [
    "data"
   ]
  },
  {
   "cell_type": "code",
   "execution_count": 20,
   "metadata": {},
   "outputs": [],
   "source": [
    "data.to_pickle('data_벡터화(토큰).pkl')\n",
    "data.to_csv(\"data_벡터화(토큰).csv\", encoding='utf-8-sig')"
   ]
  }
 ],
 "metadata": {
  "kernelspec": {
   "display_name": "Python 3.9.12 ('base')",
   "language": "python",
   "name": "python3"
  },
  "language_info": {
   "codemirror_mode": {
    "name": "ipython",
    "version": 3
   },
   "file_extension": ".py",
   "mimetype": "text/x-python",
   "name": "python",
   "nbconvert_exporter": "python",
   "pygments_lexer": "ipython3",
   "version": "3.9.12"
  },
  "orig_nbformat": 4,
  "vscode": {
   "interpreter": {
    "hash": "a077222d77dfe082b8f1dd562ad70e458ac2ab76993a0b248ab0476e32e9e8dd"
   }
  }
 },
 "nbformat": 4,
 "nbformat_minor": 2
}
