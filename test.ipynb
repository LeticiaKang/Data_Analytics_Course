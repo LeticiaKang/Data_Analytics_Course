{
 "cells": [
  {
   "cell_type": "code",
   "execution_count": 16,
   "metadata": {},
   "outputs": [],
   "source": [
    "# from selenium.webdriver.chrome.options import Options\n",
    "# from selenium.webdriver.chrome.service import Service\n",
    "# import pandas as pd #엑셀화 판다스\n",
    "# from selenium.webdriver.common.action_chains import ActionChains\n",
    "from webdriver_manager.chrome import ChromeDriverManager\n",
    "from selenium.webdriver.common.keys import Keys #키보드\n",
    "from selenium.webdriver.common.by import By\n",
    "from selenium import webdriver\n",
    "from bs4 import BeautifulSoup as bs\n",
    "import pyperclip\n",
    "import time\n",
    "\n",
    "class \n",
    "options = webdriver.ChromeOptions()\n",
    "options.add_experimental_option('excludeSwitches', ['enable-logging']) # usb에러\n",
    "# options.add_argument(\"headless\") # 브라우저 없이 실행\n",
    "driver = webdriver.Chrome(options=options, executable_path=r\"C:\\Developes\\python\\chromedriver\")\n",
    "    \n",
    "# 페이지 이동\n",
    "def move(url):\n",
    "    driver.get(url)\n",
    "    driver.implicitly_wait(2)\n",
    "\n",
    "# 로그인 입력\n",
    "def login(id, pw):\n",
    "    # 아이디 및 비밀번호 입력\n",
    "    pyperclip.copy(id)\n",
    "    driver.find_element(By.ID, \"id\").click()\n",
    "    driver.find_element(By.ID, \"id\").send_keys(Keys.CONTROL, 'v')\n",
    "    pyperclip.copy(pw)\n",
    "    driver.find_element(By.ID, 'pw').click()\n",
    "    driver.find_element(By.ID, 'pw').send_keys(Keys.CONTROL, 'v')\n",
    "    # 로그인 클릭\n",
    "    driver.find_element(By.ID, 'log.login').click()\n",
    "    time.sleep(1)\n",
    "\n",
    "# 카페 검색창에 검색\n",
    "def search(item):\n",
    "    pyperclip.copy(item)\n",
    "    search = driver.find_element(By.NAME, \"query\")\n",
    "    search.click()\n",
    "    search.send_keys(Keys.CONTROL, 'v')\n",
    "    driver.find_element(By.XPATH, '//*[@id=\"info-search\"]/form/button').click()\n",
    "    driver.implicitly_wait(5)\n",
    "    \n",
    "# 뉴스 크롤링하기(제목, url)\n",
    "def C_News(url_list,title_list ):\n",
    "    try:\n",
    "        # 페이지의 소스를 가져와서 페이지마다 이동하는 url을 바로 저장\n",
    "        soup = bs(driver.page_source, \"lxml\")\n",
    "        s_page = soup.select('a.press_edit_news_link._es_pc_link') # 뉴스페이지 가져오기\n",
    "        s_title = soup.select('span.press_edit_news_title') # 뉴스제목 가져오기\n",
    "        # print(news) # 확인용\n",
    "\n",
    "        # 해당 태그에서 한개씩 url만 가져오기\n",
    "        for n,t in zip(s_page, s_title):\n",
    "            url = n['href']\n",
    "            url_list.append(url) # url_list에 추가하기\n",
    "            # 제목 추가하기\n",
    "            title_list.append(t.text)\n",
    "            # print(t.text) # 확인용\n",
    "    except Exception as e:\n",
    "        print(e)\n",
    "        print(\"뉴스 크롤링 중 오류 발생\")\n",
    "\n",
    "def crawling(url, id, pw):\n",
    "    # 1. 로그인하기\n",
    "    login_url = url \n",
    "    # 1-1. 로그인 페이지로 이동\n",
    "    move(login_url)\n",
    "    # 1-2. 아이디와 비밀번호 입력하기\n",
    "    login('dmswjd_14', '1q2w3e1004!'); time.sleep(5)\n",
    "    # 2. 뉴스 크롤링하기\n",
    "    hankuk_url = 'https://media.naver.com/press/015?sid=101'\n",
    "    move(hankuk_url) # 한국경제 뉴스버튼을 클릭하면 페이지로 이동함\n",
    "\n",
    "    url_list = []\n",
    "    title_list = []\n",
    "    # 2-1. 뉴스 페이지와 제목 크롤링하여 리스트에 저장\n",
    "    C_News(url_list, title_list)\n",
    "    # 2-2. 뉴스 페이지마다 들어가서 기사내용, 날짜, 내용 크롤링해서 저장\n",
    "\n",
    "    # 웹 종료\n",
    "    driver.close()\n",
    "\n",
    "    return url_list, title_list\n"
   ]
  },
  {
   "cell_type": "code",
   "execution_count": 17,
   "metadata": {},
   "outputs": [
    {
     "ename": "NoSuchWindowException",
     "evalue": "Message: no such window: target window already closed\nfrom unknown error: web view not found\n  (Session info: chrome=107.0.5304.107)\n",
     "output_type": "error",
     "traceback": [
      "\u001b[1;31m---------------------------------------------------------------------------\u001b[0m",
      "\u001b[1;31mNoSuchWindowException\u001b[0m                     Traceback (most recent call last)",
      "Cell \u001b[1;32mIn [17], line 5\u001b[0m\n\u001b[0;32m      2\u001b[0m \u001b[39mid\u001b[39m \u001b[39m=\u001b[39m  \u001b[39m'\u001b[39m\u001b[39mdmswjd_14\u001b[39m\u001b[39m'\u001b[39m\n\u001b[0;32m      3\u001b[0m pw \u001b[39m=\u001b[39m \u001b[39m'\u001b[39m\u001b[39m1q2w3e1004\u001b[39m\u001b[39m'\u001b[39m\n\u001b[1;32m----> 5\u001b[0m crawling(url, \u001b[39mid\u001b[39;49m, pw)\n",
      "Cell \u001b[1;32mIn [16], line 71\u001b[0m, in \u001b[0;36mcrawling\u001b[1;34m(url, id, pw)\u001b[0m\n\u001b[0;32m     69\u001b[0m login_url \u001b[39m=\u001b[39m url \n\u001b[0;32m     70\u001b[0m \u001b[39m# 1-1. 로그인 페이지로 이동\u001b[39;00m\n\u001b[1;32m---> 71\u001b[0m move(login_url)\n\u001b[0;32m     72\u001b[0m \u001b[39m# 1-2. 아이디와 비밀번호 입력하기\u001b[39;00m\n\u001b[0;32m     73\u001b[0m login(\u001b[39m'\u001b[39m\u001b[39mdmswjd_14\u001b[39m\u001b[39m'\u001b[39m, \u001b[39m'\u001b[39m\u001b[39m1q2w3e1004!\u001b[39m\u001b[39m'\u001b[39m); time\u001b[39m.\u001b[39msleep(\u001b[39m5\u001b[39m)\n",
      "Cell \u001b[1;32mIn [16], line 21\u001b[0m, in \u001b[0;36mmove\u001b[1;34m(url)\u001b[0m\n\u001b[0;32m     20\u001b[0m \u001b[39mdef\u001b[39;00m \u001b[39mmove\u001b[39m(url):\n\u001b[1;32m---> 21\u001b[0m     driver\u001b[39m.\u001b[39;49mget(url)\n\u001b[0;32m     22\u001b[0m     driver\u001b[39m.\u001b[39mimplicitly_wait(\u001b[39m2\u001b[39m)\n",
      "File \u001b[1;32mc:\\Users\\user\\anaconda3\\lib\\site-packages\\selenium\\webdriver\\remote\\webdriver.py:324\u001b[0m, in \u001b[0;36mWebDriver.get\u001b[1;34m(self, url)\u001b[0m\n\u001b[0;32m    320\u001b[0m \u001b[39mdef\u001b[39;00m \u001b[39mget\u001b[39m(\u001b[39mself\u001b[39m, url):\n\u001b[0;32m    321\u001b[0m     \u001b[39m\"\"\"\u001b[39;00m\n\u001b[0;32m    322\u001b[0m \u001b[39m    Loads a web page in the current browser session.\u001b[39;00m\n\u001b[0;32m    323\u001b[0m \u001b[39m    \"\"\"\u001b[39;00m\n\u001b[1;32m--> 324\u001b[0m     \u001b[39mself\u001b[39;49m\u001b[39m.\u001b[39;49mexecute(Command\u001b[39m.\u001b[39;49mGET, {\u001b[39m'\u001b[39;49m\u001b[39murl\u001b[39;49m\u001b[39m'\u001b[39;49m: url})\n",
      "File \u001b[1;32mc:\\Users\\user\\anaconda3\\lib\\site-packages\\selenium\\webdriver\\remote\\webdriver.py:312\u001b[0m, in \u001b[0;36mWebDriver.execute\u001b[1;34m(self, driver_command, params)\u001b[0m\n\u001b[0;32m    310\u001b[0m response \u001b[39m=\u001b[39m \u001b[39mself\u001b[39m\u001b[39m.\u001b[39mcommand_executor\u001b[39m.\u001b[39mexecute(driver_command, params)\n\u001b[0;32m    311\u001b[0m \u001b[39mif\u001b[39;00m response:\n\u001b[1;32m--> 312\u001b[0m     \u001b[39mself\u001b[39;49m\u001b[39m.\u001b[39;49merror_handler\u001b[39m.\u001b[39;49mcheck_response(response)\n\u001b[0;32m    313\u001b[0m     response[\u001b[39m'\u001b[39m\u001b[39mvalue\u001b[39m\u001b[39m'\u001b[39m] \u001b[39m=\u001b[39m \u001b[39mself\u001b[39m\u001b[39m.\u001b[39m_unwrap_value(\n\u001b[0;32m    314\u001b[0m         response\u001b[39m.\u001b[39mget(\u001b[39m'\u001b[39m\u001b[39mvalue\u001b[39m\u001b[39m'\u001b[39m, \u001b[39mNone\u001b[39;00m))\n\u001b[0;32m    315\u001b[0m     \u001b[39mreturn\u001b[39;00m response\n",
      "File \u001b[1;32mc:\\Users\\user\\anaconda3\\lib\\site-packages\\selenium\\webdriver\\remote\\errorhandler.py:242\u001b[0m, in \u001b[0;36mErrorHandler.check_response\u001b[1;34m(self, response)\u001b[0m\n\u001b[0;32m    240\u001b[0m         alert_text \u001b[39m=\u001b[39m value[\u001b[39m'\u001b[39m\u001b[39malert\u001b[39m\u001b[39m'\u001b[39m]\u001b[39m.\u001b[39mget(\u001b[39m'\u001b[39m\u001b[39mtext\u001b[39m\u001b[39m'\u001b[39m)\n\u001b[0;32m    241\u001b[0m     \u001b[39mraise\u001b[39;00m exception_class(message, screen, stacktrace, alert_text)\n\u001b[1;32m--> 242\u001b[0m \u001b[39mraise\u001b[39;00m exception_class(message, screen, stacktrace)\n",
      "\u001b[1;31mNoSuchWindowException\u001b[0m: Message: no such window: target window already closed\nfrom unknown error: web view not found\n  (Session info: chrome=107.0.5304.107)\n"
     ]
    }
   ],
   "source": [
    " url = \"https://nid.naver.com/nidlogin.login\"\n",
    " id =  'dmswjd_14'\n",
    " pw = '1q2w3e1004'\n",
    " \n",
    "crawling(url, id, pw)"
   ]
  }
 ],
 "metadata": {
  "kernelspec": {
   "display_name": "Python 3.8.13 ('base')",
   "language": "python",
   "name": "python3"
  },
  "language_info": {
   "codemirror_mode": {
    "name": "ipython",
    "version": 3
   },
   "file_extension": ".py",
   "mimetype": "text/x-python",
   "name": "python",
   "nbconvert_exporter": "python",
   "pygments_lexer": "ipython3",
   "version": "3.8.13"
  },
  "orig_nbformat": 4,
  "vscode": {
   "interpreter": {
    "hash": "a077222d77dfe082b8f1dd562ad70e458ac2ab76993a0b248ab0476e32e9e8dd"
   }
  }
 },
 "nbformat": 4,
 "nbformat_minor": 2
}
