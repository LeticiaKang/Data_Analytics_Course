{
 "cells": [
  {
   "cell_type": "code",
   "execution_count": 5,
   "metadata": {},
   "outputs": [],
   "source": [
    "from selenium import webdriver\n",
    "from webdriver_manager.chrome import ChromeDriverManager\n",
    "from selenium.webdriver.common.action_chains import ActionChains\n",
    "import pandas as pd #엑셀화 판다스\n",
    "import time\n",
    "from selenium.webdriver.common.keys import Keys #키보드\n",
    "from bs4 import BeautifulSoup as bs"
   ]
  },
  {
   "cell_type": "markdown",
   "metadata": {},
   "source": [
    "soup객체화해서 페이지 소스 가져오기"
   ]
  },
  {
   "cell_type": "markdown",
   "metadata": {},
   "source": [
    "기존 방법 대로 soup select하기"
   ]
  },
  {
   "cell_type": "code",
   "execution_count": 104,
   "metadata": {},
   "outputs": [],
   "source": [
    "\n",
    "# for i in news:\n",
    "#     print('https://news.sbs.co.kr/' + i['href'])"
   ]
  },
  {
   "cell_type": "code",
   "execution_count": null,
   "metadata": {},
   "outputs": [],
   "source": []
  },
  {
   "cell_type": "code",
   "execution_count": 2,
   "metadata": {},
   "outputs": [
    {
     "name": "stdout",
     "output_type": "stream",
     "text": [
      "더 이상 기사가 없어서 크롤링을 중단합니다.\n"
     ]
    }
   ],
   "source": [
    "title_list = []\n",
    "person_list = []\n",
    "\n",
    "url_list = []\n",
    "\n",
    "driver = webdriver.Chrome(ChromeDriverManager().install())\n",
    "driver.get(\"https://news.sbs.co.kr/news/newsflash.do?plink=NEW&cooper=SBSNEWSMAIN\")\n",
    "# 창 최대화 하기\n",
    "driver.maximize_window()\n",
    "\n",
    "try:\n",
    "    for y in range(3,13):\n",
    "        # 페이지 이동하기 : xpathe의 규칙을 이용해서 이동함\n",
    "        page = driver.find_element_by_xpath(f'//*[@id=\"container\"]/div/div[3]/div/a[{y}]')    \n",
    "        page.click()\n",
    "\n",
    "        # 페이지의 소스를 가져와서 페이지마다 이동하는 url을 바로 저장한다.\n",
    "        soup = bs(driver.page_source, \"lxml\")\n",
    "        news = soup.select('a.news') # 뉴스페이지 가져오기\n",
    "\n",
    "        for x in news:\n",
    "            news_url = 'https://news.sbs.co.kr/' + x['href']\n",
    "            url_list.append(news_url)\n",
    "\n",
    "except:\n",
    "    print(\"더 이상 기사가 없어서 크롤링을 중단합니다.\")\n"
   ]
  },
  {
   "cell_type": "code",
   "execution_count": 3,
   "metadata": {},
   "outputs": [
    {
     "data": {
      "text/plain": [
       "76"
      ]
     },
     "execution_count": 3,
     "metadata": {},
     "output_type": "execute_result"
    }
   ],
   "source": [
    "len(url_list)"
   ]
  },
  {
   "cell_type": "code",
   "execution_count": 4,
   "metadata": {},
   "outputs": [
    {
     "name": "stdout",
     "output_type": "stream",
     "text": [
      "0번째 기자 없음.\n",
      "0번째 기자 없음.\n",
      "0번째 기자 없음.\n",
      "0번째 기자 없음.\n",
      "0번째 기자 없음.\n",
      "0번째 기자 없음.\n",
      "0번째 기자 없음.\n",
      "0번째 기자 없음.\n",
      "0번째 기자 없음.\n",
      "0번째 기자 없음.\n",
      "0번째 기자 없음.\n"
     ]
    },
    {
     "ename": "KeyboardInterrupt",
     "evalue": "",
     "output_type": "error",
     "traceback": [
      "\u001b[1;31m---------------------------------------------------------------------------\u001b[0m",
      "\u001b[1;31mKeyboardInterrupt\u001b[0m                         Traceback (most recent call last)",
      "Cell \u001b[1;32mIn [4], line 5\u001b[0m\n\u001b[0;32m      3\u001b[0m \u001b[39mfor\u001b[39;00m x \u001b[39min\u001b[39;00m url_list[\u001b[39m0\u001b[39m:\u001b[39m30\u001b[39m]:\n\u001b[0;32m      4\u001b[0m     driver\u001b[39m.\u001b[39mget(x)\n\u001b[1;32m----> 5\u001b[0m     time\u001b[39m.\u001b[39;49msleep(\u001b[39m1\u001b[39;49m)\n\u001b[0;32m      6\u001b[0m     news_soup \u001b[39m=\u001b[39m bs(driver\u001b[39m.\u001b[39mpage_source, \u001b[39m\"\u001b[39m\u001b[39mlxml\u001b[39m\u001b[39m\"\u001b[39m)\n\u001b[0;32m      7\u001b[0m     driver\u001b[39m.\u001b[39mback()     \n",
      "\u001b[1;31mKeyboardInterrupt\u001b[0m: "
     ]
    }
   ],
   "source": [
    "url_list = list(url_list)\n",
    "\n",
    "for x in url_list[0:30]:\n",
    "    driver.get(x)\n",
    "    time.sleep(1)\n",
    "    news_soup = bs(driver.page_source, \"lxml\")\n",
    "    driver.back()     \n",
    "    time.sleep(1)\n",
    "\n",
    "    title = news_soup.select('h2.blind.ir') # 제목 가져오기\n",
    "    person = news_soup.select('a.name') # 기자 가져오기\n",
    "    content = news_soup.select('div.text_area')\n",
    "\n",
    "\n",
    "    for i in range(len(title)):\n",
    "        try:\n",
    "            title_list.append(title[i].text)\n",
    "            person_list.append(person[i].text)\n",
    "            content_list.append(content[i].text)\n",
    "        except:\n",
    "            person_list.append(\"\")\n",
    "            print(f\"{i}번째 기자 없음.\")\n",
    "        \n",
    "        \n",
    "    # 페이지 넘기기(1~10) # 다음 버튼 누르기(>)(i = 12)\n",
    "\n",
    "\n"
   ]
  },
  {
   "cell_type": "code",
   "execution_count": 118,
   "metadata": {},
   "outputs": [],
   "source": [
    "import pickle\n",
    "\n",
    "with open(\"news_data_title_2.pkl\", \"wb\") as f: #as f : 파일로 저장한다\n",
    "    pickle.dump(title_list, f)\n",
    "    \n",
    "with open(\"news_data_content_2.pkl\", \"wb\") as f: #as f : 파일로 저장한다\n",
    "    pickle.dump(content_list, f)\n",
    "    \n",
    "with open(\"news_data_person_2.pkl\", \"wb\") as f: #as f : 파일로 저장한다\n",
    "    pickle.dump(person_list, f)"
   ]
  },
  {
   "cell_type": "code",
   "execution_count": 6,
   "metadata": {},
   "outputs": [
    {
     "data": {
      "text/plain": [
       "(['윤 대통령, 명동성당 추모 미사 참석…연단에 서지는 않아',\n",
       "  '중국 신규 감염자 4천 명 넘어서…6개월 만에 최다',\n",
       "  '한국체육기자연맹 선정 올해의 선수에 우상혁…감독상은 홍명보',\n",
       "  '정진석 \"대한민국 4개의 북에 포위\"…북중러에 윤미향까지 겨냥',\n",
       "  '휴스턴, 5년 만에 월드시리즈 정상 등극',\n",
       "  \"판 · 검사에 의원까지…김성태의 '인의 장막' 사외이사\",\n",
       "  '행안부 \"서울시 · 용산구에 밤 10시 53분 상황관리 지시\"',\n",
       "  '겨울철 대설 · 한파 대비…7∼11일 중앙합동점검',\n",
       "  '중대재해처벌법 이후 산재 사망 오히려 늘어…1∼9월 510명',\n",
       "  '[날씨] 맑고 건조한 날씨…내일 늦은 오후 중부지방 비',\n",
       "  '유엔 \"일본, 위안부 해결 진척 없어 유감\"…사과 재차 촉구'],\n",
       " 11)"
      ]
     },
     "execution_count": 6,
     "metadata": {},
     "output_type": "execute_result"
    }
   ],
   "source": [
    "title_list, len(title_list)"
   ]
  },
  {
   "cell_type": "code",
   "execution_count": 7,
   "metadata": {},
   "outputs": [
    {
     "data": {
      "text/plain": [
       "(['최고운 기자',\n",
       "  '',\n",
       "  '김영아 기자',\n",
       "  '',\n",
       "  '이성훈 기자',\n",
       "  '',\n",
       "  '이현영 기자',\n",
       "  '',\n",
       "  '이성훈 기자',\n",
       "  '',\n",
       "  '고정현 기자',\n",
       "  '',\n",
       "  '임상범 기자',\n",
       "  '',\n",
       "  '임상범 기자',\n",
       "  '',\n",
       "  '임상범 기자',\n",
       "  '',\n",
       "  '',\n",
       "  '김영아 기자',\n",
       "  ''],\n",
       " 21)"
      ]
     },
     "execution_count": 7,
     "metadata": {},
     "output_type": "execute_result"
    }
   ],
   "source": [
    "person_list, len(person_list)"
   ]
  },
  {
   "cell_type": "code",
   "execution_count": 8,
   "metadata": {},
   "outputs": [
    {
     "ename": "NameError",
     "evalue": "name 'content_list' is not defined",
     "output_type": "error",
     "traceback": [
      "\u001b[1;31m---------------------------------------------------------------------------\u001b[0m",
      "\u001b[1;31mNameError\u001b[0m                                 Traceback (most recent call last)",
      "Cell \u001b[1;32mIn [8], line 1\u001b[0m\n\u001b[1;32m----> 1\u001b[0m content_list, \u001b[39mlen\u001b[39m(content_list)\n",
      "\u001b[1;31mNameError\u001b[0m: name 'content_list' is not defined"
     ]
    }
   ],
   "source": [
    "content_list, len(content_list)"
   ]
  },
  {
   "cell_type": "markdown",
   "metadata": {},
   "source": [
    "Find_all 사용"
   ]
  },
  {
   "cell_type": "code",
   "execution_count": 110,
   "metadata": {},
   "outputs": [],
   "source": [
    "# news_2 = soup.find_all('a', class_ = 'news')\n",
    "# for i in news_2:\n",
    "#     print('https://news.sbs.co.kr/' + i['href'])"
   ]
  },
  {
   "cell_type": "code",
   "execution_count": 14,
   "metadata": {},
   "outputs": [
    {
     "name": "stdout",
     "output_type": "stream",
     "text": [
      "a 1, b ㅁ\n",
      "a 2, b ㅇ\n",
      "a 3, b ㄴ\n",
      "a 4, b ㄱ\n",
      "a 5, b ㅎ\n",
      "a 6, b ㅂ\n",
      "a 7, b ㅍ\n"
     ]
    }
   ],
   "source": [
    "a = [1,2,3,4,5,6,7]\n",
    "b = ['ㅁ', 'ㅇ', 'ㄴ', 'ㄱ', 'ㅎ', 'ㅂ', 'ㅍ']\n",
    "\n",
    "for n,k in zip(a,b):\n",
    "    print(f\"a {n}, b {k}\")"
   ]
  }
 ],
 "metadata": {
  "kernelspec": {
   "display_name": "Python 3.9.12 ('base')",
   "language": "python",
   "name": "python3"
  },
  "language_info": {
   "codemirror_mode": {
    "name": "ipython",
    "version": 3
   },
   "file_extension": ".py",
   "mimetype": "text/x-python",
   "name": "python",
   "nbconvert_exporter": "python",
   "pygments_lexer": "ipython3",
   "version": "3.9.12"
  },
  "orig_nbformat": 4,
  "vscode": {
   "interpreter": {
    "hash": "a077222d77dfe082b8f1dd562ad70e458ac2ab76993a0b248ab0476e32e9e8dd"
   }
  }
 },
 "nbformat": 4,
 "nbformat_minor": 2
}
