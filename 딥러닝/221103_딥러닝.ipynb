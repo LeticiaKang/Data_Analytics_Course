{
 "cells": [
  {
   "cell_type": "code",
   "execution_count": 210,
   "metadata": {},
   "outputs": [
    {
     "name": "stdout",
     "output_type": "stream",
     "text": [
      "2.10.0\n"
     ]
    }
   ],
   "source": [
    "import tensorflow as tf\n",
    "print(tf.__version__)"
   ]
  },
  {
   "cell_type": "code",
   "execution_count": 211,
   "metadata": {},
   "outputs": [
    {
     "name": "stdout",
     "output_type": "stream",
     "text": [
      "2.10.0\n"
     ]
    }
   ],
   "source": [
    "import keras\n",
    "print(keras.__version__)"
   ]
  },
  {
   "cell_type": "code",
   "execution_count": 213,
   "metadata": {},
   "outputs": [
    {
     "name": "stdout",
     "output_type": "stream",
     "text": [
      "<class 'keras.engine.sequential.Sequential'>\n"
     ]
    }
   ],
   "source": [
    "# 케라스의 인공 신경망 모델 만들기\n",
    "# 1. keras.models 모듈의 Sequential객체를 통한 순차 모델을 사용하는 방법\n",
    "#   - layer를 순차적으로 추가해나가는 방법임\n",
    "#   - 간단하고 쉽게 모델을 만들 수 있음\n",
    "# 2. keras.models 모듈의 Model객체를 통한 functional API를 사용하여 만드는 방법\n",
    "#   - 훨씬 다양한 모델을 만들 수 있음\n",
    "\n",
    "model = keras.models.Sequential()\n",
    "print(type(model))\n",
    "\n",
    "# 케라스의 층(layer)에는 여러 종류가 있는데,\n",
    "# 지금은 이전 layer와 현재 layer의 모든 유닛이 다 연결되어 있는 keras.layers모듈의 Dense layer를 사용할 거임\n",
    "# keras.layer.Dense(유닛의수, 입력자료의 차원모양)\n",
    "# "
   ]
  },
  {
   "cell_type": "markdown",
   "metadata": {},
   "source": [
    "---\n",
    "#### 모델을 구축 및 학습하는 프로세스"
   ]
  },
  {
   "cell_type": "code",
   "execution_count": 216,
   "metadata": {},
   "outputs": [],
   "source": [
    "# 1. 모델 학습과정 설정\n",
    "#   - 손실함수 및 최적화 방법을 정의함\n",
    "#   - keras에서는 compile()함수 사용함\n",
    "# 2. 모델 학습시키기\n",
    "#   - 훈련셋 & fit() 사용\n",
    "# 3. 학습 과정 살펴보기\n",
    "#   - 모델 학습 시 훈련셋과 검증셋의 손실 및 정확도 측정하기\n",
    "#   - 반복횟수에 따른 손실 및 정확도 추이를 보면서 학습상황 판단\n",
    "# 4. 모델 평가\n",
    "#   - 테스트 셋으로 평가 & evaluate()사용\n",
    "# 5. 모델 사용\n",
    "#   - 새로운 데이터 입력 & predict() 사용\n"
   ]
  },
  {
   "cell_type": "markdown",
   "metadata": {},
   "source": [
    "---\n",
    "### 모델의 종류\n",
    "- Sequential모델\n",
    "- functional모델\n"
   ]
  },
  {
   "cell_type": "markdown",
   "metadata": {},
   "source": [
    "---\n",
    "#### 1.Sequential모델\n",
    "#### Dense Layer를 이용한 Sequential모델 구축"
   ]
  },
  {
   "cell_type": "markdown",
   "metadata": {},
   "source": [
    "![image](https://user-images.githubusercontent.com/87592790/199675628-33cf09df-c704-4ec4-95c4-dbe86c5bcbe7.png)"
   ]
  },
  {
   "cell_type": "markdown",
   "metadata": {},
   "source": [
    "- Dense layer란? 입력과 출력이 모두 연결된 layer/ 노드로 구성된 리스트\n",
    "- 위 그림을 통해 아래 코드를 이해해보자\n",
    "- 우리는 총 3개의 layer를 추가하는 코드를 작성했다.(3개인가 4개인가?)"
   ]
  },
  {
   "cell_type": "code",
   "execution_count": 223,
   "metadata": {},
   "outputs": [
    {
     "name": "stdout",
     "output_type": "stream",
     "text": [
      "Model: \"sequential_34\"\n",
      "_________________________________________________________________\n",
      " Layer (type)                Output Shape              Param #   \n",
      "=================================================================\n",
      " dense_101 (Dense)           (None, 5)                 10        \n",
      "                                                                 \n",
      " dense_102 (Dense)           (None, 3)                 18        \n",
      "                                                                 \n",
      " dense_103 (Dense)           (None, 1)                 4         \n",
      "                                                                 \n",
      "=================================================================\n",
      "Total params: 32\n",
      "Trainable params: 32\n",
      "Non-trainable params: 0\n",
      "_________________________________________________________________\n"
     ]
    }
   ],
   "source": [
    "# 선형회귀모델의 hypotheses와 cost\n",
    "# H(x) = Wx + b\n",
    "# Cost(W,b) = (1/m) (m시그마i=1)(H(x^i) - y^i)^2\n",
    "# 우리는 선형회귀 모델을 사용해서 학습을 시킬건데, \n",
    "# 입력데이터 x와 출력레이블 y를 주고 학습하는데 이것 과정은 W와 b를 구하는 과정이라고 할 수 있다.\n",
    "\n",
    "from keras.models import Sequential\n",
    "from keras.layers import Dense\n",
    "from keras.utils import plot_model\n",
    "import numpy as np \n",
    "\n",
    "# 1.데이터 준비\n",
    "x = np.array([1,2,3,4,5])\n",
    "y = np.array([1,2,3,4,5])\n",
    "x_pred = np.array([6,7,8,9,10])\n",
    "\n",
    "# 2.모델 구축\n",
    "# ? 활성함수란\n",
    "    \n",
    "# sequential모델 구축 방법1\n",
    "    # 층을 만들어가는 과정 : add()는 레이어를 추가해줌 / Dense(출력노드 갯수, input_dim(입력노드 갯수), activation(활성화함수))\n",
    "# model = Sequential() \n",
    "# model.add(Dense(units=5, input_dim = 1, activation = 'relu'))\n",
    "# model.add(Dense(units=3)) # 출력노드가 3개\n",
    "# model.add(Dense(units=1)) # 출력노드가 1개\n",
    "\n",
    "# sequential모델 구축 방법2\n",
    "model = keras.Sequential([\n",
    "    keras.layers.Dense(units=5, input_dim = 1, activation = 'relu'),\n",
    "    keras.layers.Dense(units=3),\n",
    "    keras.layers.Dense(units=1)\n",
    "])\n",
    " \n",
    "\n",
    "# 모델 확인\n",
    "model.summary()\n",
    "    # ?? \n",
    "    # 트레이닝 데이터 여러 개를 동시에 학습을 시키기 때문에 Output Shape의 차원 수는 input_shape 으로 지정한 것보다 하나가 더 많고\n",
    "    # 몇 개를 동시에 학습시킬 것인지는 현재 알 수 없으므로 None으로 출력된다 "
   ]
  },
  {
   "cell_type": "code",
   "execution_count": 218,
   "metadata": {},
   "outputs": [
    {
     "name": "stdout",
     "output_type": "stream",
     "text": [
      "You must install pydot (`pip install pydot`) and install graphviz (see instructions at https://graphviz.gitlab.io/download/) for plot_model to work.\n"
     ]
    }
   ],
   "source": [
    "# 이미지로 확인\n",
    "plot_model(model, show_shapes=True, dpi=80 ) # 왜 안되는거얌...--"
   ]
  },
  {
   "cell_type": "code",
   "execution_count": 219,
   "metadata": {},
   "outputs": [
    {
     "name": "stdout",
     "output_type": "stream",
     "text": [
      "평가값\n",
      "5/5 [==============================] - 0s 629us/step - loss: 4.8513e-11\n",
      "예측값\n",
      "1/1 [==============================] - 0s 31ms/step\n"
     ]
    },
    {
     "data": {
      "text/plain": [
       "array([[5.999984 ],\n",
       "       [6.9999785],\n",
       "       [7.999974 ],\n",
       "       [8.9999695],\n",
       "       [9.999965 ]], dtype=float32)"
      ]
     },
     "execution_count": 219,
     "metadata": {},
     "output_type": "execute_result"
    }
   ],
   "source": [
    "# 3.모델 준비\n",
    "# 손실함수, 최적화방법, 평가지표\n",
    "# model.compile(loss='mse', optimizer='sgd', metrics=['accuracy'])\n",
    "model.compile(loss='mse', optimizer='sgd')\n",
    "\n",
    "# 4.모델 학습\n",
    "model.fit(x, y, epochs=100, batch_size=1, verbose=0) \n",
    "    # epoch : x데이터를 100번 사용해서 훈련\n",
    "    # batchsize :  한 번 훈련할 때 나누는 범위\n",
    "    # verbose = 0 :  학습하는 동안 중간에 log를 출력하지 않는다는 뜻\n",
    "    # loss의 값을 보면 점점 줄어드는 것을 알 수 있는데, 맞추는 확률이 늘고있다는 의미이다.\n",
    "    \n",
    "# 5.모델 평가\n",
    "print(\"평가값\")\n",
    "model.evaluate(x,y, batch_size=1)\\\n",
    "    \n",
    "# 6.예측\n",
    "print(\"예측값\")\n",
    "model.predict(x_pred)\n",
    "# [6,7,8,9,10]을 넣었을 때 값이 비슷하게 나오지만 손실함수가 0이 아니라 약간의 오차가 발생함을 알 수 있다."
   ]
  },
  {
   "cell_type": "markdown",
   "metadata": {},
   "source": [
    "---"
   ]
  },
  {
   "cell_type": "markdown",
   "metadata": {},
   "source": [
    "## 2.Functional(함수형) 모델!"
   ]
  },
  {
   "cell_type": "markdown",
   "metadata": {},
   "source": [
    "#### 단순 functional 모델 : functional API사용해 구축\n",
    "- 특징\n",
    "    - sequential모델에 비해 더 자유롭게 만들 수 있다.\n",
    "    - 입력크기(shape)를 명시한 입력층을 앞에서 정의해줘야 한다.\n",
    "    "
   ]
  },
  {
   "cell_type": "code",
   "execution_count": 240,
   "metadata": {},
   "outputs": [
    {
     "name": "stdout",
     "output_type": "stream",
     "text": [
      "모델 학습 전\n",
      "1/1 [==============================] - 0s 31ms/step\n",
      "[0.03701413 0.07402827 0.1110424  0.14805654 0.18507066]\n",
      "[1 2 3 4 5] \n",
      "\n",
      "모델 학습 후\n",
      "1/1 [==============================] - 0s 30ms/step\n",
      "[1.0000356 2.0000222 3.0000088 3.9999952 4.999982 ]\n",
      "[1 2 3 4 5]\n"
     ]
    }
   ],
   "source": [
    "# 1.데이터 준비\n",
    "x = np.array([1,2,3,4,5])\n",
    "y = np.array([1,2,3,4,5])\n",
    "x_pred = np.array([6,7,8,9,10])\n",
    "\n",
    "# 2.모델 구축\n",
    "    # 입력층, 은닉층, 출력층 정의하기\n",
    "input = keras.layers.Input( shape=(1,) )  # 입력노드 생성\n",
    "hidden1 = keras.layers.Dense(5, activation='relu')(input)  # 다음 노드를 생성 f(x) = h라고 생각하면 됨\n",
    "hidden2 = keras.layers.Dense(3, activation='relu')(hidden1)  # 다음 노드를 생성 f(x) = h라고 생각하면 됨\n",
    "output = keras.layers.Dense(1)(hidden2)  # g(h) = y\n",
    " \n",
    "# 참고\n",
    "# print(type(input)) #<class 'keras.engine.keras_tensor.KerasTensor'>로 아직 유닛과 연결되지 않은 상태임을 알 수 있다.\n",
    "# print(type(keras.layers.Dense(2))) #<class 'keras.layers.core.dense.Dense'>로 layer과 유닛이 연결된 상태이다.\n",
    "# Dense layer가 된 keras.layers.Dense(2)를 d라고 한다면 \n",
    "# y = d(x)처럼 layer객체를 함수처럼 사용할 수 있다.(Dense layer는 call메소드가 정의되어 있는 callable객체임)\n",
    "    # 모델에 입력,출력을 정의해줌\n",
    "model = keras.models.Model(input, output) \n",
    "# model.summary()\n",
    "\n",
    "print(\"모델 학습 전\")\n",
    "y_predict = model.predict( x ) \n",
    "print( y_predict.flatten() ) # [0.03701413 0.07402827 0.1110424  0.14805654 0.18507066]\n",
    "print(y, '\\n')\n",
    "# 결과를 보면 거의 맞추지 못했다는 것을 알 수 있다.\n",
    "\n",
    "model.compile( 'SGD', 'mse' ) \n",
    "model.fit( x, y, epochs = 1000, verbose = 0 )\n",
    " \n",
    "print(\"모델 학습 후\")\n",
    "y_predict = model.predict( x ) \n",
    "print( y_predict.flatten() ) # [1.0000356 2.0000222 3.0000088 3.9999952 4.999982 ]\n",
    "print( y )\n",
    "# compile과 fit을 거쳐 오차를 줄여갔다."
   ]
  },
  {
   "cell_type": "markdown",
   "metadata": {},
   "source": [
    "---\n",
    "#### 3.Class로 이루어진 모델"
   ]
  },
  {
   "cell_type": "markdown",
   "metadata": {},
   "source": [
    "---"
   ]
  },
  {
   "cell_type": "code",
   "execution_count": 16,
   "metadata": {},
   "outputs": [
    {
     "name": "stdout",
     "output_type": "stream",
     "text": [
      "Note: you may need to restart the kernel to use updated packages.\n"
     ]
    },
    {
     "name": "stderr",
     "output_type": "stream",
     "text": [
      "  WARNING: The scripts estimator_ckpt_converter.exe, import_pb_to_tensorboard.exe, saved_model_cli.exe, tensorboard.exe, tf_upgrade_v2.exe, tflite_convert.exe, toco.exe and toco_from_protos.exe are installed in 'c:\\Users\\user\\AppData\\Local\\Programs\\Python\\Python39\\Scripts' which is not on PATH.\n",
      "  Consider adding this directory to PATH or, if you prefer to suppress this warning, use --no-warn-script-location.\n",
      "WARNING: You are using pip version 22.0.4; however, version 22.3 is available.\n",
      "You should consider upgrading via the 'c:\\Users\\user\\AppData\\Local\\Programs\\Python\\Python39\\python.exe -m pip install --upgrade pip' command.\n"
     ]
    }
   ],
   "source": [
    "pip install tensorflow-gpu >= 2.0"
   ]
  },
  {
   "cell_type": "code",
   "execution_count": null,
   "metadata": {},
   "outputs": [],
   "source": []
  },
  {
   "cell_type": "code",
   "execution_count": 22,
   "metadata": {},
   "outputs": [
    {
     "data": {
      "text/plain": [
       "[name: \"/device:CPU:0\"\n",
       " device_type: \"CPU\"\n",
       " memory_limit: 268435456\n",
       " locality {\n",
       " }\n",
       " incarnation: 9516777893934929595\n",
       " xla_global_id: -1]"
      ]
     },
     "execution_count": 22,
     "metadata": {},
     "output_type": "execute_result"
    }
   ],
   "source": [
    "import tensorflow as tf\n",
    "\n",
    "tf.__version__\n",
    "\n",
    "from tensorflow.python.client import device_lib\n",
    "device_lib.list_local_devices()"
   ]
  },
  {
   "cell_type": "code",
   "execution_count": 2,
   "metadata": {},
   "outputs": [
    {
     "name": "stdout",
     "output_type": "stream",
     "text": [
      "0\n",
      "11\n",
      "1\n",
      "17\n",
      "2\n",
      "18\n"
     ]
    }
   ],
   "source": [
    "for a, b  in zip(range(3), [11,17,18,19,10]):\n",
    "    print(a); print(b)"
   ]
  }
 ],
 "metadata": {
  "kernelspec": {
   "display_name": "Python 3.8.9 64-bit",
   "language": "python",
   "name": "python3"
  },
  "language_info": {
   "codemirror_mode": {
    "name": "ipython",
    "version": 3
   },
   "file_extension": ".py",
   "mimetype": "text/x-python",
   "name": "python",
   "nbconvert_exporter": "python",
   "pygments_lexer": "ipython3",
   "version": "3.8.9 (tags/v3.8.9:a743f81, Apr  6 2021, 14:02:34) [MSC v.1928 64 bit (AMD64)]"
  },
  "orig_nbformat": 4,
  "vscode": {
   "interpreter": {
    "hash": "6a926afa313b26ae1264fdcf81c726a97e69f6ba2ba780f6aa901948710f8d6e"
   }
  }
 },
 "nbformat": 4,
 "nbformat_minor": 2
}
